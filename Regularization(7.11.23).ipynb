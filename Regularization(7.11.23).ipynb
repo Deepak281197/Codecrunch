{
 "cells": [
  {
   "cell_type": "code",
   "execution_count": 21,
   "id": "7d3b98f0",
   "metadata": {},
   "outputs": [],
   "source": [
    "import pandas as pd\n",
    "from sklearn.linear_model import Lasso,Ridge,ElasticNet\n",
    "from sklearn.model_selection import train_test_split,GridSearchCV\n",
    "import seaborn as sns"
   ]
  },
  {
   "cell_type": "code",
   "execution_count": 5,
   "id": "63428105",
   "metadata": {},
   "outputs": [],
   "source": [
    "df= pd.read_csv('Advertising.csv',index_col=0)"
   ]
  },
  {
   "cell_type": "code",
   "execution_count": 6,
   "id": "b505ba52",
   "metadata": {},
   "outputs": [
    {
     "data": {
      "text/html": [
       "<div>\n",
       "<style scoped>\n",
       "    .dataframe tbody tr th:only-of-type {\n",
       "        vertical-align: middle;\n",
       "    }\n",
       "\n",
       "    .dataframe tbody tr th {\n",
       "        vertical-align: top;\n",
       "    }\n",
       "\n",
       "    .dataframe thead th {\n",
       "        text-align: right;\n",
       "    }\n",
       "</style>\n",
       "<table border=\"1\" class=\"dataframe\">\n",
       "  <thead>\n",
       "    <tr style=\"text-align: right;\">\n",
       "      <th></th>\n",
       "      <th>TV</th>\n",
       "      <th>radio</th>\n",
       "      <th>newspaper</th>\n",
       "      <th>sales</th>\n",
       "    </tr>\n",
       "  </thead>\n",
       "  <tbody>\n",
       "    <tr>\n",
       "      <th>1</th>\n",
       "      <td>230.1</td>\n",
       "      <td>37.8</td>\n",
       "      <td>69.2</td>\n",
       "      <td>22.1</td>\n",
       "    </tr>\n",
       "    <tr>\n",
       "      <th>2</th>\n",
       "      <td>44.5</td>\n",
       "      <td>39.3</td>\n",
       "      <td>45.1</td>\n",
       "      <td>10.4</td>\n",
       "    </tr>\n",
       "    <tr>\n",
       "      <th>3</th>\n",
       "      <td>17.2</td>\n",
       "      <td>45.9</td>\n",
       "      <td>69.3</td>\n",
       "      <td>9.3</td>\n",
       "    </tr>\n",
       "    <tr>\n",
       "      <th>4</th>\n",
       "      <td>151.5</td>\n",
       "      <td>41.3</td>\n",
       "      <td>58.5</td>\n",
       "      <td>18.5</td>\n",
       "    </tr>\n",
       "    <tr>\n",
       "      <th>5</th>\n",
       "      <td>180.8</td>\n",
       "      <td>10.8</td>\n",
       "      <td>58.4</td>\n",
       "      <td>12.9</td>\n",
       "    </tr>\n",
       "    <tr>\n",
       "      <th>...</th>\n",
       "      <td>...</td>\n",
       "      <td>...</td>\n",
       "      <td>...</td>\n",
       "      <td>...</td>\n",
       "    </tr>\n",
       "    <tr>\n",
       "      <th>196</th>\n",
       "      <td>38.2</td>\n",
       "      <td>3.7</td>\n",
       "      <td>13.8</td>\n",
       "      <td>7.6</td>\n",
       "    </tr>\n",
       "    <tr>\n",
       "      <th>197</th>\n",
       "      <td>94.2</td>\n",
       "      <td>4.9</td>\n",
       "      <td>8.1</td>\n",
       "      <td>9.7</td>\n",
       "    </tr>\n",
       "    <tr>\n",
       "      <th>198</th>\n",
       "      <td>177.0</td>\n",
       "      <td>9.3</td>\n",
       "      <td>6.4</td>\n",
       "      <td>12.8</td>\n",
       "    </tr>\n",
       "    <tr>\n",
       "      <th>199</th>\n",
       "      <td>283.6</td>\n",
       "      <td>42.0</td>\n",
       "      <td>66.2</td>\n",
       "      <td>25.5</td>\n",
       "    </tr>\n",
       "    <tr>\n",
       "      <th>200</th>\n",
       "      <td>232.1</td>\n",
       "      <td>8.6</td>\n",
       "      <td>8.7</td>\n",
       "      <td>13.4</td>\n",
       "    </tr>\n",
       "  </tbody>\n",
       "</table>\n",
       "<p>200 rows × 4 columns</p>\n",
       "</div>"
      ],
      "text/plain": [
       "        TV  radio  newspaper  sales\n",
       "1    230.1   37.8       69.2   22.1\n",
       "2     44.5   39.3       45.1   10.4\n",
       "3     17.2   45.9       69.3    9.3\n",
       "4    151.5   41.3       58.5   18.5\n",
       "5    180.8   10.8       58.4   12.9\n",
       "..     ...    ...        ...    ...\n",
       "196   38.2    3.7       13.8    7.6\n",
       "197   94.2    4.9        8.1    9.7\n",
       "198  177.0    9.3        6.4   12.8\n",
       "199  283.6   42.0       66.2   25.5\n",
       "200  232.1    8.6        8.7   13.4\n",
       "\n",
       "[200 rows x 4 columns]"
      ]
     },
     "execution_count": 6,
     "metadata": {},
     "output_type": "execute_result"
    }
   ],
   "source": [
    "df"
   ]
  },
  {
   "cell_type": "code",
   "execution_count": 7,
   "id": "99151f0f",
   "metadata": {},
   "outputs": [],
   "source": [
    "features= df.drop('sales',axis=1)\n",
    "target= df[['sales']]"
   ]
  },
  {
   "cell_type": "code",
   "execution_count": 10,
   "id": "df2ba471",
   "metadata": {},
   "outputs": [],
   "source": [
    "x_train,x_test,y_train,y_test= train_test_split(features,target, train_size=0.75,random_state=100)"
   ]
  },
  {
   "cell_type": "code",
   "execution_count": 15,
   "id": "3af50c97",
   "metadata": {},
   "outputs": [
    {
     "name": "stdout",
     "output_type": "stream",
     "text": [
      "(150, 3)\n",
      "(150, 1)\n",
      "(50, 3)\n",
      "(50, 1)\n"
     ]
    }
   ],
   "source": [
    "print(x_train.shape)\n",
    "print(y_train.shape)\n",
    "print(x_test.shape)\n",
    "print(y_test.shape)"
   ]
  },
  {
   "cell_type": "code",
   "execution_count": 74,
   "id": "e87be523",
   "metadata": {},
   "outputs": [],
   "source": [
    "lasso= Lasso(alpha=0)"
   ]
  },
  {
   "cell_type": "code",
   "execution_count": 75,
   "id": "5972fc6f",
   "metadata": {},
   "outputs": [
    {
     "name": "stderr",
     "output_type": "stream",
     "text": [
      "C:\\Users\\excel\\anaconda3\\Lib\\site-packages\\sklearn\\base.py:1151: UserWarning: With alpha=0, this algorithm does not converge well. You are advised to use the LinearRegression estimator\n",
      "  return fit_method(estimator, *args, **kwargs)\n",
      "C:\\Users\\excel\\anaconda3\\Lib\\site-packages\\sklearn\\linear_model\\_coordinate_descent.py:628: UserWarning: Coordinate descent with no regularization may lead to unexpected results and is discouraged.\n",
      "  model = cd_fast.enet_coordinate_descent(\n",
      "C:\\Users\\excel\\anaconda3\\Lib\\site-packages\\sklearn\\linear_model\\_coordinate_descent.py:628: ConvergenceWarning: Objective did not converge. You might want to increase the number of iterations, check the scale of the features or consider increasing regularisation. Duality gap: 2.324e+02, tolerance: 4.400e-01 Linear regression models with null weight for the l1 regularization term are more efficiently fitted using one of the solvers implemented in sklearn.linear_model.Ridge/RidgeCV instead.\n",
      "  model = cd_fast.enet_coordinate_descent(\n"
     ]
    },
    {
     "data": {
      "text/html": [
       "<style>#sk-container-id-10 {color: black;}#sk-container-id-10 pre{padding: 0;}#sk-container-id-10 div.sk-toggleable {background-color: white;}#sk-container-id-10 label.sk-toggleable__label {cursor: pointer;display: block;width: 100%;margin-bottom: 0;padding: 0.3em;box-sizing: border-box;text-align: center;}#sk-container-id-10 label.sk-toggleable__label-arrow:before {content: \"▸\";float: left;margin-right: 0.25em;color: #696969;}#sk-container-id-10 label.sk-toggleable__label-arrow:hover:before {color: black;}#sk-container-id-10 div.sk-estimator:hover label.sk-toggleable__label-arrow:before {color: black;}#sk-container-id-10 div.sk-toggleable__content {max-height: 0;max-width: 0;overflow: hidden;text-align: left;background-color: #f0f8ff;}#sk-container-id-10 div.sk-toggleable__content pre {margin: 0.2em;color: black;border-radius: 0.25em;background-color: #f0f8ff;}#sk-container-id-10 input.sk-toggleable__control:checked~div.sk-toggleable__content {max-height: 200px;max-width: 100%;overflow: auto;}#sk-container-id-10 input.sk-toggleable__control:checked~label.sk-toggleable__label-arrow:before {content: \"▾\";}#sk-container-id-10 div.sk-estimator input.sk-toggleable__control:checked~label.sk-toggleable__label {background-color: #d4ebff;}#sk-container-id-10 div.sk-label input.sk-toggleable__control:checked~label.sk-toggleable__label {background-color: #d4ebff;}#sk-container-id-10 input.sk-hidden--visually {border: 0;clip: rect(1px 1px 1px 1px);clip: rect(1px, 1px, 1px, 1px);height: 1px;margin: -1px;overflow: hidden;padding: 0;position: absolute;width: 1px;}#sk-container-id-10 div.sk-estimator {font-family: monospace;background-color: #f0f8ff;border: 1px dotted black;border-radius: 0.25em;box-sizing: border-box;margin-bottom: 0.5em;}#sk-container-id-10 div.sk-estimator:hover {background-color: #d4ebff;}#sk-container-id-10 div.sk-parallel-item::after {content: \"\";width: 100%;border-bottom: 1px solid gray;flex-grow: 1;}#sk-container-id-10 div.sk-label:hover label.sk-toggleable__label {background-color: #d4ebff;}#sk-container-id-10 div.sk-serial::before {content: \"\";position: absolute;border-left: 1px solid gray;box-sizing: border-box;top: 0;bottom: 0;left: 50%;z-index: 0;}#sk-container-id-10 div.sk-serial {display: flex;flex-direction: column;align-items: center;background-color: white;padding-right: 0.2em;padding-left: 0.2em;position: relative;}#sk-container-id-10 div.sk-item {position: relative;z-index: 1;}#sk-container-id-10 div.sk-parallel {display: flex;align-items: stretch;justify-content: center;background-color: white;position: relative;}#sk-container-id-10 div.sk-item::before, #sk-container-id-10 div.sk-parallel-item::before {content: \"\";position: absolute;border-left: 1px solid gray;box-sizing: border-box;top: 0;bottom: 0;left: 50%;z-index: -1;}#sk-container-id-10 div.sk-parallel-item {display: flex;flex-direction: column;z-index: 1;position: relative;background-color: white;}#sk-container-id-10 div.sk-parallel-item:first-child::after {align-self: flex-end;width: 50%;}#sk-container-id-10 div.sk-parallel-item:last-child::after {align-self: flex-start;width: 50%;}#sk-container-id-10 div.sk-parallel-item:only-child::after {width: 0;}#sk-container-id-10 div.sk-dashed-wrapped {border: 1px dashed gray;margin: 0 0.4em 0.5em 0.4em;box-sizing: border-box;padding-bottom: 0.4em;background-color: white;}#sk-container-id-10 div.sk-label label {font-family: monospace;font-weight: bold;display: inline-block;line-height: 1.2em;}#sk-container-id-10 div.sk-label-container {text-align: center;}#sk-container-id-10 div.sk-container {/* jupyter's `normalize.less` sets `[hidden] { display: none; }` but bootstrap.min.css set `[hidden] { display: none !important; }` so we also need the `!important` here to be able to override the default hidden behavior on the sphinx rendered scikit-learn.org. See: https://github.com/scikit-learn/scikit-learn/issues/21755 */display: inline-block !important;position: relative;}#sk-container-id-10 div.sk-text-repr-fallback {display: none;}</style><div id=\"sk-container-id-10\" class=\"sk-top-container\"><div class=\"sk-text-repr-fallback\"><pre>Lasso(alpha=0)</pre><b>In a Jupyter environment, please rerun this cell to show the HTML representation or trust the notebook. <br />On GitHub, the HTML representation is unable to render, please try loading this page with nbviewer.org.</b></div><div class=\"sk-container\" hidden><div class=\"sk-item\"><div class=\"sk-estimator sk-toggleable\"><input class=\"sk-toggleable__control sk-hidden--visually\" id=\"sk-estimator-id-12\" type=\"checkbox\" checked><label for=\"sk-estimator-id-12\" class=\"sk-toggleable__label sk-toggleable__label-arrow\">Lasso</label><div class=\"sk-toggleable__content\"><pre>Lasso(alpha=0)</pre></div></div></div></div></div>"
      ],
      "text/plain": [
       "Lasso(alpha=0)"
      ]
     },
     "execution_count": 75,
     "metadata": {},
     "output_type": "execute_result"
    }
   ],
   "source": [
    "lasso.fit(x_train,y_train)"
   ]
  },
  {
   "cell_type": "code",
   "execution_count": 76,
   "id": "85e295fe",
   "metadata": {},
   "outputs": [],
   "source": [
    "y_pred= lasso.predict(x_test)"
   ]
  },
  {
   "cell_type": "code",
   "execution_count": 77,
   "id": "56e87a2c",
   "metadata": {},
   "outputs": [
    {
     "data": {
      "text/plain": [
       "array([0.0456949 , 0.18797457, 0.00473567])"
      ]
     },
     "execution_count": 77,
     "metadata": {},
     "output_type": "execute_result"
    }
   ],
   "source": [
    "lasso.coef_"
   ]
  },
  {
   "cell_type": "code",
   "execution_count": 78,
   "id": "be742c3c",
   "metadata": {},
   "outputs": [
    {
     "data": {
      "text/plain": [
       "array([2.65537715])"
      ]
     },
     "execution_count": 78,
     "metadata": {},
     "output_type": "execute_result"
    }
   ],
   "source": [
    "lasso.intercept_"
   ]
  },
  {
   "cell_type": "code",
   "execution_count": 79,
   "id": "70099fac",
   "metadata": {},
   "outputs": [
    {
     "data": {
      "text/plain": [
       "0.9018593061633754"
      ]
     },
     "execution_count": 79,
     "metadata": {},
     "output_type": "execute_result"
    }
   ],
   "source": [
    "lasso.score(x_test,y_test)"
   ]
  },
  {
   "cell_type": "code",
   "execution_count": 80,
   "id": "927e4c5c",
   "metadata": {},
   "outputs": [
    {
     "data": {
      "text/plain": [
       "<Axes: xlabel='sales'>"
      ]
     },
     "execution_count": 80,
     "metadata": {},
     "output_type": "execute_result"
    },
    {
     "data": {
      "image/png": "[encoded data removed]",
      "text/plain": [
       "<Figure size 640x480 with 1 Axes>"
      ]
     },
     "metadata": {},
     "output_type": "display_data"
    }
   ],
   "source": [
    "sns.regplot(data=df,x=y_test,y=y_pred)"
   ]
  },
  {
   "cell_type": "markdown",
   "id": "7210f4a4",
   "metadata": {},
   "source": [
    "## Ridge"
   ]
  },
  {
   "cell_type": "code",
   "execution_count": 55,
   "id": "7ef80203",
   "metadata": {},
   "outputs": [],
   "source": [
    "ridge= Ridge(alpha=2)"
   ]
  },
  {
   "cell_type": "code",
   "execution_count": 56,
   "id": "5470d3b1",
   "metadata": {},
   "outputs": [
    {
     "data": {
      "text/html": [
       "<style>#sk-container-id-7 {color: black;}#sk-container-id-7 pre{padding: 0;}#sk-container-id-7 div.sk-toggleable {background-color: white;}#sk-container-id-7 label.sk-toggleable__label {cursor: pointer;display: block;width: 100%;margin-bottom: 0;padding: 0.3em;box-sizing: border-box;text-align: center;}#sk-container-id-7 label.sk-toggleable__label-arrow:before {content: \"▸\";float: left;margin-right: 0.25em;color: #696969;}#sk-container-id-7 label.sk-toggleable__label-arrow:hover:before {color: black;}#sk-container-id-7 div.sk-estimator:hover label.sk-toggleable__label-arrow:before {color: black;}#sk-container-id-7 div.sk-toggleable__content {max-height: 0;max-width: 0;overflow: hidden;text-align: left;background-color: #f0f8ff;}#sk-container-id-7 div.sk-toggleable__content pre {margin: 0.2em;color: black;border-radius: 0.25em;background-color: #f0f8ff;}#sk-container-id-7 input.sk-toggleable__control:checked~div.sk-toggleable__content {max-height: 200px;max-width: 100%;overflow: auto;}#sk-container-id-7 input.sk-toggleable__control:checked~label.sk-toggleable__label-arrow:before {content: \"▾\";}#sk-container-id-7 div.sk-estimator input.sk-toggleable__control:checked~label.sk-toggleable__label {background-color: #d4ebff;}#sk-container-id-7 div.sk-label input.sk-toggleable__control:checked~label.sk-toggleable__label {background-color: #d4ebff;}#sk-container-id-7 input.sk-hidden--visually {border: 0;clip: rect(1px 1px 1px 1px);clip: rect(1px, 1px, 1px, 1px);height: 1px;margin: -1px;overflow: hidden;padding: 0;position: absolute;width: 1px;}#sk-container-id-7 div.sk-estimator {font-family: monospace;background-color: #f0f8ff;border: 1px dotted black;border-radius: 0.25em;box-sizing: border-box;margin-bottom: 0.5em;}#sk-container-id-7 div.sk-estimator:hover {background-color: #d4ebff;}#sk-container-id-7 div.sk-parallel-item::after {content: \"\";width: 100%;border-bottom: 1px solid gray;flex-grow: 1;}#sk-container-id-7 div.sk-label:hover label.sk-toggleable__label {background-color: #d4ebff;}#sk-container-id-7 div.sk-serial::before {content: \"\";position: absolute;border-left: 1px solid gray;box-sizing: border-box;top: 0;bottom: 0;left: 50%;z-index: 0;}#sk-container-id-7 div.sk-serial {display: flex;flex-direction: column;align-items: center;background-color: white;padding-right: 0.2em;padding-left: 0.2em;position: relative;}#sk-container-id-7 div.sk-item {position: relative;z-index: 1;}#sk-container-id-7 div.sk-parallel {display: flex;align-items: stretch;justify-content: center;background-color: white;position: relative;}#sk-container-id-7 div.sk-item::before, #sk-container-id-7 div.sk-parallel-item::before {content: \"\";position: absolute;border-left: 1px solid gray;box-sizing: border-box;top: 0;bottom: 0;left: 50%;z-index: -1;}#sk-container-id-7 div.sk-parallel-item {display: flex;flex-direction: column;z-index: 1;position: relative;background-color: white;}#sk-container-id-7 div.sk-parallel-item:first-child::after {align-self: flex-end;width: 50%;}#sk-container-id-7 div.sk-parallel-item:last-child::after {align-self: flex-start;width: 50%;}#sk-container-id-7 div.sk-parallel-item:only-child::after {width: 0;}#sk-container-id-7 div.sk-dashed-wrapped {border: 1px dashed gray;margin: 0 0.4em 0.5em 0.4em;box-sizing: border-box;padding-bottom: 0.4em;background-color: white;}#sk-container-id-7 div.sk-label label {font-family: monospace;font-weight: bold;display: inline-block;line-height: 1.2em;}#sk-container-id-7 div.sk-label-container {text-align: center;}#sk-container-id-7 div.sk-container {/* jupyter's `normalize.less` sets `[hidden] { display: none; }` but bootstrap.min.css set `[hidden] { display: none !important; }` so we also need the `!important` here to be able to override the default hidden behavior on the sphinx rendered scikit-learn.org. See: https://github.com/scikit-learn/scikit-learn/issues/21755 */display: inline-block !important;position: relative;}#sk-container-id-7 div.sk-text-repr-fallback {display: none;}</style><div id=\"sk-container-id-7\" class=\"sk-top-container\"><div class=\"sk-text-repr-fallback\"><pre>Ridge(alpha=2)</pre><b>In a Jupyter environment, please rerun this cell to show the HTML representation or trust the notebook. <br />On GitHub, the HTML representation is unable to render, please try loading this page with nbviewer.org.</b></div><div class=\"sk-container\" hidden><div class=\"sk-item\"><div class=\"sk-estimator sk-toggleable\"><input class=\"sk-toggleable__control sk-hidden--visually\" id=\"sk-estimator-id-7\" type=\"checkbox\" checked><label for=\"sk-estimator-id-7\" class=\"sk-toggleable__label sk-toggleable__label-arrow\">Ridge</label><div class=\"sk-toggleable__content\"><pre>Ridge(alpha=2)</pre></div></div></div></div></div>"
      ],
      "text/plain": [
       "Ridge(alpha=2)"
      ]
     },
     "execution_count": 56,
     "metadata": {},
     "output_type": "execute_result"
    }
   ],
   "source": [
    "ridge.fit(x_train,y_train)"
   ]
  },
  {
   "cell_type": "code",
   "execution_count": 57,
   "id": "c25f9d2f",
   "metadata": {},
   "outputs": [
    {
     "data": {
      "text/plain": [
       "array([[10.56351082],\n",
       "       [20.01229122],\n",
       "       [16.8890465 ],\n",
       "       [19.17966349],\n",
       "       [20.9525089 ],\n",
       "       [13.17461428],\n",
       "       [11.82547796],\n",
       "       [12.37071096],\n",
       "       [20.56960801],\n",
       "       [20.94263758],\n",
       "       [10.79964913],\n",
       "       [19.56534116],\n",
       "       [ 6.43577087],\n",
       "       [15.24808529],\n",
       "       [ 8.98086656],\n",
       "       [ 7.91944123],\n",
       "       [16.21596925],\n",
       "       [12.06576113],\n",
       "       [17.07874585],\n",
       "       [11.26799273],\n",
       "       [16.99629913],\n",
       "       [ 9.7882122 ],\n",
       "       [20.80081531],\n",
       "       [17.20488735],\n",
       "       [15.15601184],\n",
       "       [21.94743694],\n",
       "       [19.20975034],\n",
       "       [10.06604895],\n",
       "       [19.36412893],\n",
       "       [14.84285586],\n",
       "       [14.31411475],\n",
       "       [ 7.56084228],\n",
       "       [ 9.9943308 ],\n",
       "       [14.78791562],\n",
       "       [ 7.20788536],\n",
       "       [13.5860143 ],\n",
       "       [ 7.52124071],\n",
       "       [11.74578364],\n",
       "       [13.51926656],\n",
       "       [15.25367334],\n",
       "       [17.20711173],\n",
       "       [13.59015062],\n",
       "       [14.32541271],\n",
       "       [13.78474774],\n",
       "       [11.88712685],\n",
       "       [ 8.78441893],\n",
       "       [12.06542231],\n",
       "       [19.22673959],\n",
       "       [ 9.08238262],\n",
       "       [ 5.16199129]])"
      ]
     },
     "execution_count": 57,
     "metadata": {},
     "output_type": "execute_result"
    }
   ],
   "source": [
    "y_pred1= ridge.predict(x_test)\n",
    "y_pred1"
   ]
  },
  {
   "cell_type": "code",
   "execution_count": 58,
   "id": "ec7864b9",
   "metadata": {},
   "outputs": [
    {
     "data": {
      "text/plain": [
       "array([[0.04569479, 0.18796153, 0.00473901]])"
      ]
     },
     "execution_count": 58,
     "metadata": {},
     "output_type": "execute_result"
    }
   ],
   "source": [
    "ridge.coef_"
   ]
  },
  {
   "cell_type": "code",
   "execution_count": 59,
   "id": "6e63ebfa",
   "metadata": {},
   "outputs": [
    {
     "data": {
      "text/plain": [
       "array([2.65559419])"
      ]
     },
     "execution_count": 59,
     "metadata": {},
     "output_type": "execute_result"
    }
   ],
   "source": [
    "ridge.intercept_"
   ]
  },
  {
   "cell_type": "code",
   "execution_count": 60,
   "id": "8ae02a23",
   "metadata": {},
   "outputs": [
    {
     "data": {
      "text/plain": [
       "0.9018585190908972"
      ]
     },
     "execution_count": 60,
     "metadata": {},
     "output_type": "execute_result"
    }
   ],
   "source": [
    "ridge.score(x_test,y_test)"
   ]
  },
  {
   "cell_type": "markdown",
   "id": "bd30fcca",
   "metadata": {},
   "source": [
    "## ElasticNet"
   ]
  },
  {
   "cell_type": "code",
   "execution_count": 61,
   "id": "abbcb9b9",
   "metadata": {},
   "outputs": [],
   "source": [
    "elastic= ElasticNet(alpha=5)"
   ]
  },
  {
   "cell_type": "code",
   "execution_count": 62,
   "id": "883bfa23",
   "metadata": {},
   "outputs": [
    {
     "data": {
      "text/html": [
       "<style>#sk-container-id-8 {color: black;}#sk-container-id-8 pre{padding: 0;}#sk-container-id-8 div.sk-toggleable {background-color: white;}#sk-container-id-8 label.sk-toggleable__label {cursor: pointer;display: block;width: 100%;margin-bottom: 0;padding: 0.3em;box-sizing: border-box;text-align: center;}#sk-container-id-8 label.sk-toggleable__label-arrow:before {content: \"▸\";float: left;margin-right: 0.25em;color: #696969;}#sk-container-id-8 label.sk-toggleable__label-arrow:hover:before {color: black;}#sk-container-id-8 div.sk-estimator:hover label.sk-toggleable__label-arrow:before {color: black;}#sk-container-id-8 div.sk-toggleable__content {max-height: 0;max-width: 0;overflow: hidden;text-align: left;background-color: #f0f8ff;}#sk-container-id-8 div.sk-toggleable__content pre {margin: 0.2em;color: black;border-radius: 0.25em;background-color: #f0f8ff;}#sk-container-id-8 input.sk-toggleable__control:checked~div.sk-toggleable__content {max-height: 200px;max-width: 100%;overflow: auto;}#sk-container-id-8 input.sk-toggleable__control:checked~label.sk-toggleable__label-arrow:before {content: \"▾\";}#sk-container-id-8 div.sk-estimator input.sk-toggleable__control:checked~label.sk-toggleable__label {background-color: #d4ebff;}#sk-container-id-8 div.sk-label input.sk-toggleable__control:checked~label.sk-toggleable__label {background-color: #d4ebff;}#sk-container-id-8 input.sk-hidden--visually {border: 0;clip: rect(1px 1px 1px 1px);clip: rect(1px, 1px, 1px, 1px);height: 1px;margin: -1px;overflow: hidden;padding: 0;position: absolute;width: 1px;}#sk-container-id-8 div.sk-estimator {font-family: monospace;background-color: #f0f8ff;border: 1px dotted black;border-radius: 0.25em;box-sizing: border-box;margin-bottom: 0.5em;}#sk-container-id-8 div.sk-estimator:hover {background-color: #d4ebff;}#sk-container-id-8 div.sk-parallel-item::after {content: \"\";width: 100%;border-bottom: 1px solid gray;flex-grow: 1;}#sk-container-id-8 div.sk-label:hover label.sk-toggleable__label {background-color: #d4ebff;}#sk-container-id-8 div.sk-serial::before {content: \"\";position: absolute;border-left: 1px solid gray;box-sizing: border-box;top: 0;bottom: 0;left: 50%;z-index: 0;}#sk-container-id-8 div.sk-serial {display: flex;flex-direction: column;align-items: center;background-color: white;padding-right: 0.2em;padding-left: 0.2em;position: relative;}#sk-container-id-8 div.sk-item {position: relative;z-index: 1;}#sk-container-id-8 div.sk-parallel {display: flex;align-items: stretch;justify-content: center;background-color: white;position: relative;}#sk-container-id-8 div.sk-item::before, #sk-container-id-8 div.sk-parallel-item::before {content: \"\";position: absolute;border-left: 1px solid gray;box-sizing: border-box;top: 0;bottom: 0;left: 50%;z-index: -1;}#sk-container-id-8 div.sk-parallel-item {display: flex;flex-direction: column;z-index: 1;position: relative;background-color: white;}#sk-container-id-8 div.sk-parallel-item:first-child::after {align-self: flex-end;width: 50%;}#sk-container-id-8 div.sk-parallel-item:last-child::after {align-self: flex-start;width: 50%;}#sk-container-id-8 div.sk-parallel-item:only-child::after {width: 0;}#sk-container-id-8 div.sk-dashed-wrapped {border: 1px dashed gray;margin: 0 0.4em 0.5em 0.4em;box-sizing: border-box;padding-bottom: 0.4em;background-color: white;}#sk-container-id-8 div.sk-label label {font-family: monospace;font-weight: bold;display: inline-block;line-height: 1.2em;}#sk-container-id-8 div.sk-label-container {text-align: center;}#sk-container-id-8 div.sk-container {/* jupyter's `normalize.less` sets `[hidden] { display: none; }` but bootstrap.min.css set `[hidden] { display: none !important; }` so we also need the `!important` here to be able to override the default hidden behavior on the sphinx rendered scikit-learn.org. See: https://github.com/scikit-learn/scikit-learn/issues/21755 */display: inline-block !important;position: relative;}#sk-container-id-8 div.sk-text-repr-fallback {display: none;}</style><div id=\"sk-container-id-8\" class=\"sk-top-container\"><div class=\"sk-text-repr-fallback\"><pre>ElasticNet(alpha=5)</pre><b>In a Jupyter environment, please rerun this cell to show the HTML representation or trust the notebook. <br />On GitHub, the HTML representation is unable to render, please try loading this page with nbviewer.org.</b></div><div class=\"sk-container\" hidden><div class=\"sk-item\"><div class=\"sk-estimator sk-toggleable\"><input class=\"sk-toggleable__control sk-hidden--visually\" id=\"sk-estimator-id-8\" type=\"checkbox\" checked><label for=\"sk-estimator-id-8\" class=\"sk-toggleable__label sk-toggleable__label-arrow\">ElasticNet</label><div class=\"sk-toggleable__content\"><pre>ElasticNet(alpha=5)</pre></div></div></div></div></div>"
      ],
      "text/plain": [
       "ElasticNet(alpha=5)"
      ]
     },
     "execution_count": 62,
     "metadata": {},
     "output_type": "execute_result"
    }
   ],
   "source": [
    "elastic.fit(x_train,y_train)"
   ]
  },
  {
   "cell_type": "code",
   "execution_count": 63,
   "id": "448fb0f8",
   "metadata": {},
   "outputs": [],
   "source": [
    "y_pred2= elastic.predict(x_test)"
   ]
  },
  {
   "cell_type": "code",
   "execution_count": 64,
   "id": "0c261be7",
   "metadata": {},
   "outputs": [
    {
     "data": {
      "text/plain": [
       "0.9048468945095454"
      ]
     },
     "execution_count": 64,
     "metadata": {},
     "output_type": "execute_result"
    }
   ],
   "source": [
    "elastic.score(x_test,y_test)"
   ]
  },
  {
   "cell_type": "code",
   "execution_count": 68,
   "id": "478c0d4c",
   "metadata": {},
   "outputs": [],
   "source": [
    "value= range(0,100)\n",
    "params= dict(alpha=value)"
   ]
  },
  {
   "cell_type": "code",
   "execution_count": 70,
   "id": "c51267c9",
   "metadata": {},
   "outputs": [
    {
     "data": {
      "text/plain": [
       "{'alpha': range(0, 100)}"
      ]
     },
     "execution_count": 70,
     "metadata": {},
     "output_type": "execute_result"
    }
   ],
   "source": [
    "params"
   ]
  },
  {
   "cell_type": "code",
   "execution_count": 71,
   "id": "af07dba3",
   "metadata": {},
   "outputs": [],
   "source": [
    "grid_search= GridSearchCV(lasso,params,verbose=2)"
   ]
  },
  {
   "cell_type": "code",
   "execution_count": 72,
   "id": "c24ef7d3",
   "metadata": {},
   "outputs": [
    {
     "name": "stdout",
     "output_type": "stream",
     "text": [
      "Fitting 5 folds for each of 100 candidates, totalling 500 fits\n",
      "[CV] END ............................................alpha=0; total time=   0.0s\n",
      "[CV] END ............................................alpha=0; total time=   0.0s\n",
      "[CV] END ............................................alpha=0; total time=   0.0s\n",
      "[CV] END ............................................alpha=0; total time=   0.0s\n",
      "[CV] END ............................................alpha=0; total time=   0.0s\n",
      "[CV] END ............................................alpha=1; total time=   0.0s\n",
      "[CV] END ............................................alpha=1; total time=   0.0s\n",
      "[CV] END ............................................alpha=1; total time=   0.0s\n",
      "[CV] END ............................................alpha=1; total time=   0.0s\n",
      "[CV] END ............................................alpha=1; total time=   0.0s\n",
      "[CV] END ............................................alpha=2; total time=   0.0s\n",
      "[CV] END ............................................alpha=2; total time=   0.0s\n"
     ]
    },
    {
     "name": "stderr",
     "output_type": "stream",
     "text": [
      "C:\\Users\\excel\\anaconda3\\Lib\\site-packages\\sklearn\\base.py:1151: UserWarning: With alpha=0, this algorithm does not converge well. You are advised to use the LinearRegression estimator\n",
      "  return fit_method(estimator, *args, **kwargs)\n",
      "C:\\Users\\excel\\anaconda3\\Lib\\site-packages\\sklearn\\linear_model\\_coordinate_descent.py:628: UserWarning: Coordinate descent with no regularization may lead to unexpected results and is discouraged.\n",
      "  model = cd_fast.enet_coordinate_descent(\n",
      "C:\\Users\\excel\\anaconda3\\Lib\\site-packages\\sklearn\\linear_model\\_coordinate_descent.py:628: ConvergenceWarning: Objective did not converge. You might want to increase the number of iterations, check the scale of the features or consider increasing regularisation. Duality gap: 2.070e+02, tolerance: 3.931e-01 Linear regression models with null weight for the l1 regularization term are more efficiently fitted using one of the solvers implemented in sklearn.linear_model.Ridge/RidgeCV instead.\n",
      "  model = cd_fast.enet_coordinate_descent(\n",
      "C:\\Users\\excel\\anaconda3\\Lib\\site-packages\\sklearn\\base.py:1151: UserWarning: With alpha=0, this algorithm does not converge well. You are advised to use the LinearRegression estimator\n",
      "  return fit_method(estimator, *args, **kwargs)\n",
      "C:\\Users\\excel\\anaconda3\\Lib\\site-packages\\sklearn\\linear_model\\_coordinate_descent.py:628: UserWarning: Coordinate descent with no regularization may lead to unexpected results and is discouraged.\n",
      "  model = cd_fast.enet_coordinate_descent(\n",
      "C:\\Users\\excel\\anaconda3\\Lib\\site-packages\\sklearn\\linear_model\\_coordinate_descent.py:628: ConvergenceWarning: Objective did not converge. You might want to increase the number of iterations, check the scale of the features or consider increasing regularisation. Duality gap: 1.841e+02, tolerance: 3.582e-01 Linear regression models with null weight for the l1 regularization term are more efficiently fitted using one of the solvers implemented in sklearn.linear_model.Ridge/RidgeCV instead.\n",
      "  model = cd_fast.enet_coordinate_descent(\n",
      "C:\\Users\\excel\\anaconda3\\Lib\\site-packages\\sklearn\\base.py:1151: UserWarning: With alpha=0, this algorithm does not converge well. You are advised to use the LinearRegression estimator\n",
      "  return fit_method(estimator, *args, **kwargs)\n",
      "C:\\Users\\excel\\anaconda3\\Lib\\site-packages\\sklearn\\linear_model\\_coordinate_descent.py:628: UserWarning: Coordinate descent with no regularization may lead to unexpected results and is discouraged.\n",
      "  model = cd_fast.enet_coordinate_descent(\n",
      "C:\\Users\\excel\\anaconda3\\Lib\\site-packages\\sklearn\\linear_model\\_coordinate_descent.py:628: ConvergenceWarning: Objective did not converge. You might want to increase the number of iterations, check the scale of the features or consider increasing regularisation. Duality gap: 1.679e+02, tolerance: 3.515e-01 Linear regression models with null weight for the l1 regularization term are more efficiently fitted using one of the solvers implemented in sklearn.linear_model.Ridge/RidgeCV instead.\n",
      "  model = cd_fast.enet_coordinate_descent(\n",
      "C:\\Users\\excel\\anaconda3\\Lib\\site-packages\\sklearn\\base.py:1151: UserWarning: With alpha=0, this algorithm does not converge well. You are advised to use the LinearRegression estimator\n",
      "  return fit_method(estimator, *args, **kwargs)\n",
      "C:\\Users\\excel\\anaconda3\\Lib\\site-packages\\sklearn\\linear_model\\_coordinate_descent.py:628: UserWarning: Coordinate descent with no regularization may lead to unexpected results and is discouraged.\n",
      "  model = cd_fast.enet_coordinate_descent(\n",
      "C:\\Users\\excel\\anaconda3\\Lib\\site-packages\\sklearn\\linear_model\\_coordinate_descent.py:628: ConvergenceWarning: Objective did not converge. You might want to increase the number of iterations, check the scale of the features or consider increasing regularisation. Duality gap: 1.979e+02, tolerance: 3.437e-01 Linear regression models with null weight for the l1 regularization term are more efficiently fitted using one of the solvers implemented in sklearn.linear_model.Ridge/RidgeCV instead.\n",
      "  model = cd_fast.enet_coordinate_descent(\n",
      "C:\\Users\\excel\\anaconda3\\Lib\\site-packages\\sklearn\\base.py:1151: UserWarning: With alpha=0, this algorithm does not converge well. You are advised to use the LinearRegression estimator\n",
      "  return fit_method(estimator, *args, **kwargs)\n",
      "C:\\Users\\excel\\anaconda3\\Lib\\site-packages\\sklearn\\linear_model\\_coordinate_descent.py:628: UserWarning: Coordinate descent with no regularization may lead to unexpected results and is discouraged.\n",
      "  model = cd_fast.enet_coordinate_descent(\n",
      "C:\\Users\\excel\\anaconda3\\Lib\\site-packages\\sklearn\\linear_model\\_coordinate_descent.py:628: ConvergenceWarning: Objective did not converge. You might want to increase the number of iterations, check the scale of the features or consider increasing regularisation. Duality gap: 1.606e+02, tolerance: 3.098e-01 Linear regression models with null weight for the l1 regularization term are more efficiently fitted using one of the solvers implemented in sklearn.linear_model.Ridge/RidgeCV instead.\n",
      "  model = cd_fast.enet_coordinate_descent(\n"
     ]
    },
    {
     "name": "stdout",
     "output_type": "stream",
     "text": [
      "[CV] END ............................................alpha=2; total time=   0.0s\n",
      "[CV] END ............................................alpha=2; total time=   0.0s\n",
      "[CV] END ............................................alpha=2; total time=   0.0s\n",
      "[CV] END ............................................alpha=3; total time=   0.0s\n",
      "[CV] END ............................................alpha=3; total time=   0.0s\n",
      "[CV] END ............................................alpha=3; total time=   0.0s\n",
      "[CV] END ............................................alpha=3; total time=   0.0s\n",
      "[CV] END ............................................alpha=3; total time=   0.0s\n",
      "[CV] END ............................................alpha=4; total time=   0.0s\n",
      "[CV] END ............................................alpha=4; total time=   0.0s\n",
      "[CV] END ............................................alpha=4; total time=   0.0s\n",
      "[CV] END ............................................alpha=4; total time=   0.0s\n",
      "[CV] END ............................................alpha=4; total time=   0.0s\n",
      "[CV] END ............................................alpha=5; total time=   0.0s\n",
      "[CV] END ............................................alpha=5; total time=   0.0s\n",
      "[CV] END ............................................alpha=5; total time=   0.0s\n",
      "[CV] END ............................................alpha=5; total time=   0.0s\n",
      "[CV] END ............................................alpha=5; total time=   0.0s\n",
      "[CV] END ............................................alpha=6; total time=   0.0s\n",
      "[CV] END ............................................alpha=6; total time=   0.0s\n",
      "[CV] END ............................................alpha=6; total time=   0.0s\n",
      "[CV] END ............................................alpha=6; total time=   0.0s\n",
      "[CV] END ............................................alpha=6; total time=   0.0s\n",
      "[CV] END ............................................alpha=7; total time=   0.0s\n",
      "[CV] END ............................................alpha=7; total time=   0.0s\n",
      "[CV] END ............................................alpha=7; total time=   0.0s\n",
      "[CV] END ............................................alpha=7; total time=   0.0s\n",
      "[CV] END ............................................alpha=7; total time=   0.0s\n",
      "[CV] END ............................................alpha=8; total time=   0.0s\n",
      "[CV] END ............................................alpha=8; total time=   0.0s\n",
      "[CV] END ............................................alpha=8; total time=   0.0s\n",
      "[CV] END ............................................alpha=8; total time=   0.0s\n",
      "[CV] END ............................................alpha=8; total time=   0.0s\n",
      "[CV] END ............................................alpha=9; total time=   0.0s\n",
      "[CV] END ............................................alpha=9; total time=   0.0s\n",
      "[CV] END ............................................alpha=9; total time=   0.0s\n",
      "[CV] END ............................................alpha=9; total time=   0.0s\n",
      "[CV] END ............................................alpha=9; total time=   0.0s\n",
      "[CV] END ...........................................alpha=10; total time=   0.0s\n",
      "[CV] END ...........................................alpha=10; total time=   0.0s\n",
      "[CV] END ...........................................alpha=10; total time=   0.0s\n",
      "[CV] END ...........................................alpha=10; total time=   0.0s\n",
      "[CV] END ...........................................alpha=10; total time=   0.0s\n",
      "[CV] END ...........................................alpha=11; total time=   0.0s\n",
      "[CV] END ...........................................alpha=11; total time=   0.0s\n",
      "[CV] END ...........................................alpha=11; total time=   0.0s\n",
      "[CV] END ...........................................alpha=11; total time=   0.0s\n",
      "[CV] END ...........................................alpha=11; total time=   0.0s\n",
      "[CV] END ...........................................alpha=12; total time=   0.0s\n",
      "[CV] END ...........................................alpha=12; total time=   0.0s\n",
      "[CV] END ...........................................alpha=12; total time=   0.0s\n",
      "[CV] END ...........................................alpha=12; total time=   0.0s\n",
      "[CV] END ...........................................alpha=12; total time=   0.0s\n",
      "[CV] END ...........................................alpha=13; total time=   0.0s\n",
      "[CV] END ...........................................alpha=13; total time=   0.0s\n",
      "[CV] END ...........................................alpha=13; total time=   0.0s\n",
      "[CV] END ...........................................alpha=13; total time=   0.0s\n",
      "[CV] END ...........................................alpha=13; total time=   0.0s\n",
      "[CV] END ...........................................alpha=14; total time=   0.0s\n",
      "[CV] END ...........................................alpha=14; total time=   0.0s\n",
      "[CV] END ...........................................alpha=14; total time=   0.0s\n",
      "[CV] END ...........................................alpha=14; total time=   0.0s\n",
      "[CV] END ...........................................alpha=14; total time=   0.0s\n",
      "[CV] END ...........................................alpha=15; total time=   0.0s\n",
      "[CV] END ...........................................alpha=15; total time=   0.0s\n",
      "[CV] END ...........................................alpha=15; total time=   0.0s\n",
      "[CV] END ...........................................alpha=15; total time=   0.0s\n",
      "[CV] END ...........................................alpha=15; total time=   0.0s\n",
      "[CV] END ...........................................alpha=16; total time=   0.0s\n",
      "[CV] END ...........................................alpha=16; total time=   0.0s\n",
      "[CV] END ...........................................alpha=16; total time=   0.0s\n",
      "[CV] END ...........................................alpha=16; total time=   0.0s\n",
      "[CV] END ...........................................alpha=16; total time=   0.0s\n",
      "[CV] END ...........................................alpha=17; total time=   0.0s\n",
      "[CV] END ...........................................alpha=17; total time=   0.0s\n",
      "[CV] END ...........................................alpha=17; total time=   0.0s\n",
      "[CV] END ...........................................alpha=17; total time=   0.0s\n",
      "[CV] END ...........................................alpha=17; total time=   0.0s\n",
      "[CV] END ...........................................alpha=18; total time=   0.0s\n",
      "[CV] END ...........................................alpha=18; total time=   0.0s\n",
      "[CV] END ...........................................alpha=18; total time=   0.0s\n",
      "[CV] END ...........................................alpha=18; total time=   0.0s\n",
      "[CV] END ...........................................alpha=18; total time=   0.0s\n",
      "[CV] END ...........................................alpha=19; total time=   0.0s\n",
      "[CV] END ...........................................alpha=19; total time=   0.0s\n",
      "[CV] END ...........................................alpha=19; total time=   0.0s\n",
      "[CV] END ...........................................alpha=19; total time=   0.0s\n",
      "[CV] END ...........................................alpha=19; total time=   0.0s\n",
      "[CV] END ...........................................alpha=20; total time=   0.0s\n",
      "[CV] END ...........................................alpha=20; total time=   0.0s\n",
      "[CV] END ...........................................alpha=20; total time=   0.0s\n",
      "[CV] END ...........................................alpha=20; total time=   0.0s\n",
      "[CV] END ...........................................alpha=20; total time=   0.0s\n",
      "[CV] END ...........................................alpha=21; total time=   0.0s\n",
      "[CV] END ...........................................alpha=21; total time=   0.0s\n",
      "[CV] END ...........................................alpha=21; total time=   0.0s\n",
      "[CV] END ...........................................alpha=21; total time=   0.0s\n",
      "[CV] END ...........................................alpha=21; total time=   0.0s\n",
      "[CV] END ...........................................alpha=22; total time=   0.0s\n",
      "[CV] END ...........................................alpha=22; total time=   0.0s\n",
      "[CV] END ...........................................alpha=22; total time=   0.0s\n",
      "[CV] END ...........................................alpha=22; total time=   0.0s\n",
      "[CV] END ...........................................alpha=22; total time=   0.0s\n",
      "[CV] END ...........................................alpha=23; total time=   0.0s\n",
      "[CV] END ...........................................alpha=23; total time=   0.0s\n",
      "[CV] END ...........................................alpha=23; total time=   0.0s\n",
      "[CV] END ...........................................alpha=23; total time=   0.0s\n",
      "[CV] END ...........................................alpha=23; total time=   0.0s\n",
      "[CV] END ...........................................alpha=24; total time=   0.0s\n",
      "[CV] END ...........................................alpha=24; total time=   0.0s\n",
      "[CV] END ...........................................alpha=24; total time=   0.0s\n",
      "[CV] END ...........................................alpha=24; total time=   0.0s\n",
      "[CV] END ...........................................alpha=24; total time=   0.0s\n",
      "[CV] END ...........................................alpha=25; total time=   0.0s\n",
      "[CV] END ...........................................alpha=25; total time=   0.0s\n",
      "[CV] END ...........................................alpha=25; total time=   0.0s\n",
      "[CV] END ...........................................alpha=25; total time=   0.0s\n",
      "[CV] END ...........................................alpha=25; total time=   0.0s\n",
      "[CV] END ...........................................alpha=26; total time=   0.0s\n",
      "[CV] END ...........................................alpha=26; total time=   0.0s\n",
      "[CV] END ...........................................alpha=26; total time=   0.0s\n",
      "[CV] END ...........................................alpha=26; total time=   0.0s\n",
      "[CV] END ...........................................alpha=26; total time=   0.0s\n",
      "[CV] END ...........................................alpha=27; total time=   0.0s\n",
      "[CV] END ...........................................alpha=27; total time=   0.0s\n",
      "[CV] END ...........................................alpha=27; total time=   0.0s\n",
      "[CV] END ...........................................alpha=27; total time=   0.0s\n",
      "[CV] END ...........................................alpha=27; total time=   0.0s\n",
      "[CV] END ...........................................alpha=28; total time=   0.0s\n",
      "[CV] END ...........................................alpha=28; total time=   0.0s\n",
      "[CV] END ...........................................alpha=28; total time=   0.0s\n",
      "[CV] END ...........................................alpha=28; total time=   0.0s\n",
      "[CV] END ...........................................alpha=28; total time=   0.0s\n",
      "[CV] END ...........................................alpha=29; total time=   0.0s\n",
      "[CV] END ...........................................alpha=29; total time=   0.0s\n",
      "[CV] END ...........................................alpha=29; total time=   0.0s\n",
      "[CV] END ...........................................alpha=29; total time=   0.0s\n",
      "[CV] END ...........................................alpha=29; total time=   0.0s\n",
      "[CV] END ...........................................alpha=30; total time=   0.0s\n",
      "[CV] END ...........................................alpha=30; total time=   0.0s\n",
      "[CV] END ...........................................alpha=30; total time=   0.0s\n",
      "[CV] END ...........................................alpha=30; total time=   0.0s\n",
      "[CV] END ...........................................alpha=30; total time=   0.0s\n",
      "[CV] END ...........................................alpha=31; total time=   0.0s\n",
      "[CV] END ...........................................alpha=31; total time=   0.0s\n",
      "[CV] END ...........................................alpha=31; total time=   0.0s\n",
      "[CV] END ...........................................alpha=31; total time=   0.0s\n",
      "[CV] END ...........................................alpha=31; total time=   0.0s\n",
      "[CV] END ...........................................alpha=32; total time=   0.0s\n",
      "[CV] END ...........................................alpha=32; total time=   0.0s\n",
      "[CV] END ...........................................alpha=32; total time=   0.0s\n",
      "[CV] END ...........................................alpha=32; total time=   0.0s\n",
      "[CV] END ...........................................alpha=32; total time=   0.0s\n",
      "[CV] END ...........................................alpha=33; total time=   0.0s\n",
      "[CV] END ...........................................alpha=33; total time=   0.0s\n",
      "[CV] END ...........................................alpha=33; total time=   0.0s\n",
      "[CV] END ...........................................alpha=33; total time=   0.0s\n",
      "[CV] END ...........................................alpha=33; total time=   0.0s\n",
      "[CV] END ...........................................alpha=34; total time=   0.0s\n",
      "[CV] END ...........................................alpha=34; total time=   0.0s\n",
      "[CV] END ...........................................alpha=34; total time=   0.0s\n",
      "[CV] END ...........................................alpha=34; total time=   0.0s\n",
      "[CV] END ...........................................alpha=34; total time=   0.0s\n",
      "[CV] END ...........................................alpha=35; total time=   0.0s\n",
      "[CV] END ...........................................alpha=35; total time=   0.0s\n",
      "[CV] END ...........................................alpha=35; total time=   0.0s\n",
      "[CV] END ...........................................alpha=35; total time=   0.0s\n",
      "[CV] END ...........................................alpha=35; total time=   0.0s\n",
      "[CV] END ...........................................alpha=36; total time=   0.0s\n",
      "[CV] END ...........................................alpha=36; total time=   0.0s\n",
      "[CV] END ...........................................alpha=36; total time=   0.0s\n",
      "[CV] END ...........................................alpha=36; total time=   0.0s\n",
      "[CV] END ...........................................alpha=36; total time=   0.0s\n",
      "[CV] END ...........................................alpha=37; total time=   0.0s\n",
      "[CV] END ...........................................alpha=37; total time=   0.0s\n",
      "[CV] END ...........................................alpha=37; total time=   0.0s\n",
      "[CV] END ...........................................alpha=37; total time=   0.0s\n",
      "[CV] END ...........................................alpha=37; total time=   0.0s\n",
      "[CV] END ...........................................alpha=38; total time=   0.0s\n",
      "[CV] END ...........................................alpha=38; total time=   0.0s\n",
      "[CV] END ...........................................alpha=38; total time=   0.0s\n",
      "[CV] END ...........................................alpha=38; total time=   0.0s\n",
      "[CV] END ...........................................alpha=38; total time=   0.0s\n",
      "[CV] END ...........................................alpha=39; total time=   0.0s\n",
      "[CV] END ...........................................alpha=39; total time=   0.0s\n",
      "[CV] END ...........................................alpha=39; total time=   0.0s\n",
      "[CV] END ...........................................alpha=39; total time=   0.0s\n",
      "[CV] END ...........................................alpha=39; total time=   0.0s\n",
      "[CV] END ...........................................alpha=40; total time=   0.0s\n",
      "[CV] END ...........................................alpha=40; total time=   0.0s\n",
      "[CV] END ...........................................alpha=40; total time=   0.0s\n",
      "[CV] END ...........................................alpha=40; total time=   0.0s\n",
      "[CV] END ...........................................alpha=40; total time=   0.0s\n",
      "[CV] END ...........................................alpha=41; total time=   0.0s\n",
      "[CV] END ...........................................alpha=41; total time=   0.0s\n",
      "[CV] END ...........................................alpha=41; total time=   0.0s\n",
      "[CV] END ...........................................alpha=41; total time=   0.0s\n",
      "[CV] END ...........................................alpha=41; total time=   0.0s\n",
      "[CV] END ...........................................alpha=42; total time=   0.0s\n",
      "[CV] END ...........................................alpha=42; total time=   0.0s\n",
      "[CV] END ...........................................alpha=42; total time=   0.0s\n",
      "[CV] END ...........................................alpha=42; total time=   0.0s\n",
      "[CV] END ...........................................alpha=42; total time=   0.0s\n",
      "[CV] END ...........................................alpha=43; total time=   0.0s\n",
      "[CV] END ...........................................alpha=43; total time=   0.0s\n",
      "[CV] END ...........................................alpha=43; total time=   0.0s\n",
      "[CV] END ...........................................alpha=43; total time=   0.0s\n",
      "[CV] END ...........................................alpha=43; total time=   0.0s\n",
      "[CV] END ...........................................alpha=44; total time=   0.0s\n",
      "[CV] END ...........................................alpha=44; total time=   0.0s\n",
      "[CV] END ...........................................alpha=44; total time=   0.0s\n",
      "[CV] END ...........................................alpha=44; total time=   0.0s\n",
      "[CV] END ...........................................alpha=44; total time=   0.0s\n",
      "[CV] END ...........................................alpha=45; total time=   0.0s\n",
      "[CV] END ...........................................alpha=45; total time=   0.0s\n",
      "[CV] END ...........................................alpha=45; total time=   0.0s\n",
      "[CV] END ...........................................alpha=45; total time=   0.0s\n",
      "[CV] END ...........................................alpha=45; total time=   0.0s\n",
      "[CV] END ...........................................alpha=46; total time=   0.0s\n",
      "[CV] END ...........................................alpha=46; total time=   0.0s\n",
      "[CV] END ...........................................alpha=46; total time=   0.0s\n",
      "[CV] END ...........................................alpha=46; total time=   0.0s\n",
      "[CV] END ...........................................alpha=46; total time=   0.0s\n",
      "[CV] END ...........................................alpha=47; total time=   0.0s\n",
      "[CV] END ...........................................alpha=47; total time=   0.0s\n",
      "[CV] END ...........................................alpha=47; total time=   0.0s\n",
      "[CV] END ...........................................alpha=47; total time=   0.0s\n",
      "[CV] END ...........................................alpha=47; total time=   0.0s\n",
      "[CV] END ...........................................alpha=48; total time=   0.0s\n",
      "[CV] END ...........................................alpha=48; total time=   0.0s\n",
      "[CV] END ...........................................alpha=48; total time=   0.0s\n",
      "[CV] END ...........................................alpha=48; total time=   0.0s\n",
      "[CV] END ...........................................alpha=48; total time=   0.0s\n",
      "[CV] END ...........................................alpha=49; total time=   0.0s\n",
      "[CV] END ...........................................alpha=49; total time=   0.0s\n",
      "[CV] END ...........................................alpha=49; total time=   0.0s\n",
      "[CV] END ...........................................alpha=49; total time=   0.0s\n",
      "[CV] END ...........................................alpha=49; total time=   0.0s\n",
      "[CV] END ...........................................alpha=50; total time=   0.0s\n",
      "[CV] END ...........................................alpha=50; total time=   0.0s\n",
      "[CV] END ...........................................alpha=50; total time=   0.0s\n",
      "[CV] END ...........................................alpha=50; total time=   0.0s\n",
      "[CV] END ...........................................alpha=50; total time=   0.0s\n",
      "[CV] END ...........................................alpha=51; total time=   0.0s\n",
      "[CV] END ...........................................alpha=51; total time=   0.0s\n",
      "[CV] END ...........................................alpha=51; total time=   0.0s\n",
      "[CV] END ...........................................alpha=51; total time=   0.0s\n",
      "[CV] END ...........................................alpha=51; total time=   0.0s\n",
      "[CV] END ...........................................alpha=52; total time=   0.0s\n",
      "[CV] END ...........................................alpha=52; total time=   0.0s\n",
      "[CV] END ...........................................alpha=52; total time=   0.0s\n",
      "[CV] END ...........................................alpha=52; total time=   0.0s\n",
      "[CV] END ...........................................alpha=52; total time=   0.0s\n",
      "[CV] END ...........................................alpha=53; total time=   0.0s\n",
      "[CV] END ...........................................alpha=53; total time=   0.0s\n",
      "[CV] END ...........................................alpha=53; total time=   0.0s\n",
      "[CV] END ...........................................alpha=53; total time=   0.0s\n",
      "[CV] END ...........................................alpha=53; total time=   0.0s\n",
      "[CV] END ...........................................alpha=54; total time=   0.0s\n",
      "[CV] END ...........................................alpha=54; total time=   0.0s\n",
      "[CV] END ...........................................alpha=54; total time=   0.0s\n",
      "[CV] END ...........................................alpha=54; total time=   0.0s\n",
      "[CV] END ...........................................alpha=54; total time=   0.0s\n",
      "[CV] END ...........................................alpha=55; total time=   0.0s\n",
      "[CV] END ...........................................alpha=55; total time=   0.0s\n",
      "[CV] END ...........................................alpha=55; total time=   0.0s\n",
      "[CV] END ...........................................alpha=55; total time=   0.0s\n",
      "[CV] END ...........................................alpha=55; total time=   0.0s\n",
      "[CV] END ...........................................alpha=56; total time=   0.0s\n",
      "[CV] END ...........................................alpha=56; total time=   0.0s\n",
      "[CV] END ...........................................alpha=56; total time=   0.0s\n",
      "[CV] END ...........................................alpha=56; total time=   0.0s\n",
      "[CV] END ...........................................alpha=56; total time=   0.0s\n",
      "[CV] END ...........................................alpha=57; total time=   0.0s\n",
      "[CV] END ...........................................alpha=57; total time=   0.0s\n",
      "[CV] END ...........................................alpha=57; total time=   0.0s\n",
      "[CV] END ...........................................alpha=57; total time=   0.0s\n",
      "[CV] END ...........................................alpha=57; total time=   0.0s\n",
      "[CV] END ...........................................alpha=58; total time=   0.0s\n",
      "[CV] END ...........................................alpha=58; total time=   0.0s\n",
      "[CV] END ...........................................alpha=58; total time=   0.0s\n",
      "[CV] END ...........................................alpha=58; total time=   0.0s\n",
      "[CV] END ...........................................alpha=58; total time=   0.0s\n",
      "[CV] END ...........................................alpha=59; total time=   0.0s\n",
      "[CV] END ...........................................alpha=59; total time=   0.0s\n",
      "[CV] END ...........................................alpha=59; total time=   0.0s\n",
      "[CV] END ...........................................alpha=59; total time=   0.0s\n",
      "[CV] END ...........................................alpha=59; total time=   0.0s\n",
      "[CV] END ...........................................alpha=60; total time=   0.0s\n",
      "[CV] END ...........................................alpha=60; total time=   0.0s\n",
      "[CV] END ...........................................alpha=60; total time=   0.0s\n",
      "[CV] END ...........................................alpha=60; total time=   0.0s\n",
      "[CV] END ...........................................alpha=60; total time=   0.0s\n",
      "[CV] END ...........................................alpha=61; total time=   0.0s\n",
      "[CV] END ...........................................alpha=61; total time=   0.0s\n",
      "[CV] END ...........................................alpha=61; total time=   0.0s\n",
      "[CV] END ...........................................alpha=61; total time=   0.0s\n",
      "[CV] END ...........................................alpha=61; total time=   0.0s\n",
      "[CV] END ...........................................alpha=62; total time=   0.0s\n",
      "[CV] END ...........................................alpha=62; total time=   0.0s\n",
      "[CV] END ...........................................alpha=62; total time=   0.0s\n",
      "[CV] END ...........................................alpha=62; total time=   0.0s\n",
      "[CV] END ...........................................alpha=62; total time=   0.0s\n",
      "[CV] END ...........................................alpha=63; total time=   0.0s\n",
      "[CV] END ...........................................alpha=63; total time=   0.0s\n",
      "[CV] END ...........................................alpha=63; total time=   0.0s\n",
      "[CV] END ...........................................alpha=63; total time=   0.0s\n",
      "[CV] END ...........................................alpha=63; total time=   0.0s\n",
      "[CV] END ...........................................alpha=64; total time=   0.0s\n",
      "[CV] END ...........................................alpha=64; total time=   0.0s\n",
      "[CV] END ...........................................alpha=64; total time=   0.0s\n",
      "[CV] END ...........................................alpha=64; total time=   0.0s\n",
      "[CV] END ...........................................alpha=64; total time=   0.0s\n",
      "[CV] END ...........................................alpha=65; total time=   0.0s\n",
      "[CV] END ...........................................alpha=65; total time=   0.0s\n",
      "[CV] END ...........................................alpha=65; total time=   0.0s\n",
      "[CV] END ...........................................alpha=65; total time=   0.0s\n",
      "[CV] END ...........................................alpha=65; total time=   0.0s\n",
      "[CV] END ...........................................alpha=66; total time=   0.0s\n",
      "[CV] END ...........................................alpha=66; total time=   0.0s\n",
      "[CV] END ...........................................alpha=66; total time=   0.0s\n",
      "[CV] END ...........................................alpha=66; total time=   0.0s\n",
      "[CV] END ...........................................alpha=66; total time=   0.0s\n",
      "[CV] END ...........................................alpha=67; total time=   0.0s\n",
      "[CV] END ...........................................alpha=67; total time=   0.0s\n",
      "[CV] END ...........................................alpha=67; total time=   0.0s\n",
      "[CV] END ...........................................alpha=67; total time=   0.0s\n",
      "[CV] END ...........................................alpha=67; total time=   0.0s\n",
      "[CV] END ...........................................alpha=68; total time=   0.0s\n",
      "[CV] END ...........................................alpha=68; total time=   0.0s\n",
      "[CV] END ...........................................alpha=68; total time=   0.0s\n",
      "[CV] END ...........................................alpha=68; total time=   0.0s\n",
      "[CV] END ...........................................alpha=68; total time=   0.0s\n",
      "[CV] END ...........................................alpha=69; total time=   0.0s\n",
      "[CV] END ...........................................alpha=69; total time=   0.0s\n",
      "[CV] END ...........................................alpha=69; total time=   0.0s\n",
      "[CV] END ...........................................alpha=69; total time=   0.0s\n",
      "[CV] END ...........................................alpha=69; total time=   0.0s\n",
      "[CV] END ...........................................alpha=70; total time=   0.0s\n",
      "[CV] END ...........................................alpha=70; total time=   0.0s\n",
      "[CV] END ...........................................alpha=70; total time=   0.0s\n",
      "[CV] END ...........................................alpha=70; total time=   0.0s\n",
      "[CV] END ...........................................alpha=70; total time=   0.0s\n",
      "[CV] END ...........................................alpha=71; total time=   0.0s\n",
      "[CV] END ...........................................alpha=71; total time=   0.0s\n",
      "[CV] END ...........................................alpha=71; total time=   0.0s\n",
      "[CV] END ...........................................alpha=71; total time=   0.0s\n",
      "[CV] END ...........................................alpha=71; total time=   0.0s\n",
      "[CV] END ...........................................alpha=72; total time=   0.0s\n",
      "[CV] END ...........................................alpha=72; total time=   0.0s\n",
      "[CV] END ...........................................alpha=72; total time=   0.0s\n",
      "[CV] END ...........................................alpha=72; total time=   0.0s\n",
      "[CV] END ...........................................alpha=72; total time=   0.0s\n",
      "[CV] END ...........................................alpha=73; total time=   0.0s\n",
      "[CV] END ...........................................alpha=73; total time=   0.0s\n",
      "[CV] END ...........................................alpha=73; total time=   0.0s\n",
      "[CV] END ...........................................alpha=73; total time=   0.0s\n",
      "[CV] END ...........................................alpha=73; total time=   0.0s\n",
      "[CV] END ...........................................alpha=74; total time=   0.0s\n",
      "[CV] END ...........................................alpha=74; total time=   0.0s\n",
      "[CV] END ...........................................alpha=74; total time=   0.0s\n",
      "[CV] END ...........................................alpha=74; total time=   0.0s\n",
      "[CV] END ...........................................alpha=74; total time=   0.0s\n",
      "[CV] END ...........................................alpha=75; total time=   0.0s\n",
      "[CV] END ...........................................alpha=75; total time=   0.0s\n",
      "[CV] END ...........................................alpha=75; total time=   0.0s\n",
      "[CV] END ...........................................alpha=75; total time=   0.0s\n",
      "[CV] END ...........................................alpha=75; total time=   0.0s\n",
      "[CV] END ...........................................alpha=76; total time=   0.0s\n",
      "[CV] END ...........................................alpha=76; total time=   0.0s\n",
      "[CV] END ...........................................alpha=76; total time=   0.0s\n",
      "[CV] END ...........................................alpha=76; total time=   0.0s\n",
      "[CV] END ...........................................alpha=76; total time=   0.0s\n",
      "[CV] END ...........................................alpha=77; total time=   0.0s\n",
      "[CV] END ...........................................alpha=77; total time=   0.0s\n",
      "[CV] END ...........................................alpha=77; total time=   0.0s\n",
      "[CV] END ...........................................alpha=77; total time=   0.0s\n",
      "[CV] END ...........................................alpha=77; total time=   0.0s\n",
      "[CV] END ...........................................alpha=78; total time=   0.0s\n",
      "[CV] END ...........................................alpha=78; total time=   0.0s\n",
      "[CV] END ...........................................alpha=78; total time=   0.0s\n",
      "[CV] END ...........................................alpha=78; total time=   0.0s\n",
      "[CV] END ...........................................alpha=78; total time=   0.0s\n",
      "[CV] END ...........................................alpha=79; total time=   0.0s\n",
      "[CV] END ...........................................alpha=79; total time=   0.0s\n",
      "[CV] END ...........................................alpha=79; total time=   0.0s\n",
      "[CV] END ...........................................alpha=79; total time=   0.0s\n",
      "[CV] END ...........................................alpha=79; total time=   0.0s\n",
      "[CV] END ...........................................alpha=80; total time=   0.0s\n",
      "[CV] END ...........................................alpha=80; total time=   0.0s\n",
      "[CV] END ...........................................alpha=80; total time=   0.0s\n",
      "[CV] END ...........................................alpha=80; total time=   0.0s\n",
      "[CV] END ...........................................alpha=80; total time=   0.0s\n",
      "[CV] END ...........................................alpha=81; total time=   0.0s\n",
      "[CV] END ...........................................alpha=81; total time=   0.0s\n",
      "[CV] END ...........................................alpha=81; total time=   0.0s\n",
      "[CV] END ...........................................alpha=81; total time=   0.0s\n",
      "[CV] END ...........................................alpha=81; total time=   0.0s\n",
      "[CV] END ...........................................alpha=82; total time=   0.0s\n",
      "[CV] END ...........................................alpha=82; total time=   0.0s\n",
      "[CV] END ...........................................alpha=82; total time=   0.0s\n",
      "[CV] END ...........................................alpha=82; total time=   0.0s\n",
      "[CV] END ...........................................alpha=82; total time=   0.0s\n",
      "[CV] END ...........................................alpha=83; total time=   0.0s\n",
      "[CV] END ...........................................alpha=83; total time=   0.0s\n",
      "[CV] END ...........................................alpha=83; total time=   0.0s\n",
      "[CV] END ...........................................alpha=83; total time=   0.0s\n",
      "[CV] END ...........................................alpha=83; total time=   0.0s\n",
      "[CV] END ...........................................alpha=84; total time=   0.0s\n",
      "[CV] END ...........................................alpha=84; total time=   0.0s\n",
      "[CV] END ...........................................alpha=84; total time=   0.0s\n",
      "[CV] END ...........................................alpha=84; total time=   0.0s\n",
      "[CV] END ...........................................alpha=84; total time=   0.0s\n",
      "[CV] END ...........................................alpha=85; total time=   0.0s\n",
      "[CV] END ...........................................alpha=85; total time=   0.0s\n",
      "[CV] END ...........................................alpha=85; total time=   0.0s\n",
      "[CV] END ...........................................alpha=85; total time=   0.0s\n",
      "[CV] END ...........................................alpha=85; total time=   0.0s\n",
      "[CV] END ...........................................alpha=86; total time=   0.0s\n",
      "[CV] END ...........................................alpha=86; total time=   0.0s\n",
      "[CV] END ...........................................alpha=86; total time=   0.0s\n",
      "[CV] END ...........................................alpha=86; total time=   0.0s\n",
      "[CV] END ...........................................alpha=86; total time=   0.0s\n",
      "[CV] END ...........................................alpha=87; total time=   0.0s\n",
      "[CV] END ...........................................alpha=87; total time=   0.0s\n",
      "[CV] END ...........................................alpha=87; total time=   0.0s\n",
      "[CV] END ...........................................alpha=87; total time=   0.0s\n",
      "[CV] END ...........................................alpha=87; total time=   0.0s\n",
      "[CV] END ...........................................alpha=88; total time=   0.0s\n",
      "[CV] END ...........................................alpha=88; total time=   0.0s\n",
      "[CV] END ...........................................alpha=88; total time=   0.0s\n",
      "[CV] END ...........................................alpha=88; total time=   0.0s\n",
      "[CV] END ...........................................alpha=88; total time=   0.0s\n",
      "[CV] END ...........................................alpha=89; total time=   0.0s\n",
      "[CV] END ...........................................alpha=89; total time=   0.0s\n",
      "[CV] END ...........................................alpha=89; total time=   0.0s\n",
      "[CV] END ...........................................alpha=89; total time=   0.0s\n",
      "[CV] END ...........................................alpha=89; total time=   0.0s\n",
      "[CV] END ...........................................alpha=90; total time=   0.0s\n",
      "[CV] END ...........................................alpha=90; total time=   0.0s\n",
      "[CV] END ...........................................alpha=90; total time=   0.0s\n",
      "[CV] END ...........................................alpha=90; total time=   0.0s\n",
      "[CV] END ...........................................alpha=90; total time=   0.0s\n",
      "[CV] END ...........................................alpha=91; total time=   0.0s\n",
      "[CV] END ...........................................alpha=91; total time=   0.0s\n",
      "[CV] END ...........................................alpha=91; total time=   0.0s\n",
      "[CV] END ...........................................alpha=91; total time=   0.0s\n",
      "[CV] END ...........................................alpha=91; total time=   0.0s\n",
      "[CV] END ...........................................alpha=92; total time=   0.0s\n",
      "[CV] END ...........................................alpha=92; total time=   0.0s\n",
      "[CV] END ...........................................alpha=92; total time=   0.0s\n",
      "[CV] END ...........................................alpha=92; total time=   0.0s\n",
      "[CV] END ...........................................alpha=92; total time=   0.0s\n",
      "[CV] END ...........................................alpha=93; total time=   0.0s\n",
      "[CV] END ...........................................alpha=93; total time=   0.0s\n",
      "[CV] END ...........................................alpha=93; total time=   0.0s\n",
      "[CV] END ...........................................alpha=93; total time=   0.0s\n",
      "[CV] END ...........................................alpha=93; total time=   0.0s\n",
      "[CV] END ...........................................alpha=94; total time=   0.0s\n",
      "[CV] END ...........................................alpha=94; total time=   0.0s\n",
      "[CV] END ...........................................alpha=94; total time=   0.0s\n",
      "[CV] END ...........................................alpha=94; total time=   0.0s\n",
      "[CV] END ...........................................alpha=94; total time=   0.0s\n",
      "[CV] END ...........................................alpha=95; total time=   0.0s\n",
      "[CV] END ...........................................alpha=95; total time=   0.0s\n",
      "[CV] END ...........................................alpha=95; total time=   0.0s\n",
      "[CV] END ...........................................alpha=95; total time=   0.0s\n",
      "[CV] END ...........................................alpha=95; total time=   0.0s\n",
      "[CV] END ...........................................alpha=96; total time=   0.0s\n",
      "[CV] END ...........................................alpha=96; total time=   0.0s\n",
      "[CV] END ...........................................alpha=96; total time=   0.0s\n",
      "[CV] END ...........................................alpha=96; total time=   0.0s\n",
      "[CV] END ...........................................alpha=96; total time=   0.0s\n",
      "[CV] END ...........................................alpha=97; total time=   0.0s\n",
      "[CV] END ...........................................alpha=97; total time=   0.0s\n",
      "[CV] END ...........................................alpha=97; total time=   0.0s\n",
      "[CV] END ...........................................alpha=97; total time=   0.0s\n",
      "[CV] END ...........................................alpha=97; total time=   0.0s\n",
      "[CV] END ...........................................alpha=98; total time=   0.0s\n",
      "[CV] END ...........................................alpha=98; total time=   0.0s\n",
      "[CV] END ...........................................alpha=98; total time=   0.0s\n",
      "[CV] END ...........................................alpha=98; total time=   0.0s\n",
      "[CV] END ...........................................alpha=98; total time=   0.0s\n",
      "[CV] END ...........................................alpha=99; total time=   0.0s\n",
      "[CV] END ...........................................alpha=99; total time=   0.0s\n",
      "[CV] END ...........................................alpha=99; total time=   0.0s\n",
      "[CV] END ...........................................alpha=99; total time=   0.0s\n",
      "[CV] END ...........................................alpha=99; total time=   0.0s\n"
     ]
    },
    {
     "name": "stderr",
     "output_type": "stream",
     "text": [
      "C:\\Users\\excel\\anaconda3\\Lib\\site-packages\\sklearn\\base.py:1151: UserWarning: With alpha=0, this algorithm does not converge well. You are advised to use the LinearRegression estimator\n",
      "  return fit_method(estimator, *args, **kwargs)\n",
      "C:\\Users\\excel\\anaconda3\\Lib\\site-packages\\sklearn\\linear_model\\_coordinate_descent.py:628: UserWarning: Coordinate descent with no regularization may lead to unexpected results and is discouraged.\n",
      "  model = cd_fast.enet_coordinate_descent(\n",
      "C:\\Users\\excel\\anaconda3\\Lib\\site-packages\\sklearn\\linear_model\\_coordinate_descent.py:628: ConvergenceWarning: Objective did not converge. You might want to increase the number of iterations, check the scale of the features or consider increasing regularisation. Duality gap: 2.324e+02, tolerance: 4.400e-01 Linear regression models with null weight for the l1 regularization term are more efficiently fitted using one of the solvers implemented in sklearn.linear_model.Ridge/RidgeCV instead.\n",
      "  model = cd_fast.enet_coordinate_descent(\n"
     ]
    },
    {
     "data": {
      "text/html": [
       "<style>#sk-container-id-9 {color: black;}#sk-container-id-9 pre{padding: 0;}#sk-container-id-9 div.sk-toggleable {background-color: white;}#sk-container-id-9 label.sk-toggleable__label {cursor: pointer;display: block;width: 100%;margin-bottom: 0;padding: 0.3em;box-sizing: border-box;text-align: center;}#sk-container-id-9 label.sk-toggleable__label-arrow:before {content: \"▸\";float: left;margin-right: 0.25em;color: #696969;}#sk-container-id-9 label.sk-toggleable__label-arrow:hover:before {color: black;}#sk-container-id-9 div.sk-estimator:hover label.sk-toggleable__label-arrow:before {color: black;}#sk-container-id-9 div.sk-toggleable__content {max-height: 0;max-width: 0;overflow: hidden;text-align: left;background-color: #f0f8ff;}#sk-container-id-9 div.sk-toggleable__content pre {margin: 0.2em;color: black;border-radius: 0.25em;background-color: #f0f8ff;}#sk-container-id-9 input.sk-toggleable__control:checked~div.sk-toggleable__content {max-height: 200px;max-width: 100%;overflow: auto;}#sk-container-id-9 input.sk-toggleable__control:checked~label.sk-toggleable__label-arrow:before {content: \"▾\";}#sk-container-id-9 div.sk-estimator input.sk-toggleable__control:checked~label.sk-toggleable__label {background-color: #d4ebff;}#sk-container-id-9 div.sk-label input.sk-toggleable__control:checked~label.sk-toggleable__label {background-color: #d4ebff;}#sk-container-id-9 input.sk-hidden--visually {border: 0;clip: rect(1px 1px 1px 1px);clip: rect(1px, 1px, 1px, 1px);height: 1px;margin: -1px;overflow: hidden;padding: 0;position: absolute;width: 1px;}#sk-container-id-9 div.sk-estimator {font-family: monospace;background-color: #f0f8ff;border: 1px dotted black;border-radius: 0.25em;box-sizing: border-box;margin-bottom: 0.5em;}#sk-container-id-9 div.sk-estimator:hover {background-color: #d4ebff;}#sk-container-id-9 div.sk-parallel-item::after {content: \"\";width: 100%;border-bottom: 1px solid gray;flex-grow: 1;}#sk-container-id-9 div.sk-label:hover label.sk-toggleable__label {background-color: #d4ebff;}#sk-container-id-9 div.sk-serial::before {content: \"\";position: absolute;border-left: 1px solid gray;box-sizing: border-box;top: 0;bottom: 0;left: 50%;z-index: 0;}#sk-container-id-9 div.sk-serial {display: flex;flex-direction: column;align-items: center;background-color: white;padding-right: 0.2em;padding-left: 0.2em;position: relative;}#sk-container-id-9 div.sk-item {position: relative;z-index: 1;}#sk-container-id-9 div.sk-parallel {display: flex;align-items: stretch;justify-content: center;background-color: white;position: relative;}#sk-container-id-9 div.sk-item::before, #sk-container-id-9 div.sk-parallel-item::before {content: \"\";position: absolute;border-left: 1px solid gray;box-sizing: border-box;top: 0;bottom: 0;left: 50%;z-index: -1;}#sk-container-id-9 div.sk-parallel-item {display: flex;flex-direction: column;z-index: 1;position: relative;background-color: white;}#sk-container-id-9 div.sk-parallel-item:first-child::after {align-self: flex-end;width: 50%;}#sk-container-id-9 div.sk-parallel-item:last-child::after {align-self: flex-start;width: 50%;}#sk-container-id-9 div.sk-parallel-item:only-child::after {width: 0;}#sk-container-id-9 div.sk-dashed-wrapped {border: 1px dashed gray;margin: 0 0.4em 0.5em 0.4em;box-sizing: border-box;padding-bottom: 0.4em;background-color: white;}#sk-container-id-9 div.sk-label label {font-family: monospace;font-weight: bold;display: inline-block;line-height: 1.2em;}#sk-container-id-9 div.sk-label-container {text-align: center;}#sk-container-id-9 div.sk-container {/* jupyter's `normalize.less` sets `[hidden] { display: none; }` but bootstrap.min.css set `[hidden] { display: none !important; }` so we also need the `!important` here to be able to override the default hidden behavior on the sphinx rendered scikit-learn.org. See: https://github.com/scikit-learn/scikit-learn/issues/21755 */display: inline-block !important;position: relative;}#sk-container-id-9 div.sk-text-repr-fallback {display: none;}</style><div id=\"sk-container-id-9\" class=\"sk-top-container\"><div class=\"sk-text-repr-fallback\"><pre>GridSearchCV(estimator=Lasso(alpha=10), param_grid={&#x27;alpha&#x27;: range(0, 100)},\n",
       "             verbose=2)</pre><b>In a Jupyter environment, please rerun this cell to show the HTML representation or trust the notebook. <br />On GitHub, the HTML representation is unable to render, please try loading this page with nbviewer.org.</b></div><div class=\"sk-container\" hidden><div class=\"sk-item sk-dashed-wrapped\"><div class=\"sk-label-container\"><div class=\"sk-label sk-toggleable\"><input class=\"sk-toggleable__control sk-hidden--visually\" id=\"sk-estimator-id-9\" type=\"checkbox\" ><label for=\"sk-estimator-id-9\" class=\"sk-toggleable__label sk-toggleable__label-arrow\">GridSearchCV</label><div class=\"sk-toggleable__content\"><pre>GridSearchCV(estimator=Lasso(alpha=10), param_grid={&#x27;alpha&#x27;: range(0, 100)},\n",
       "             verbose=2)</pre></div></div></div><div class=\"sk-parallel\"><div class=\"sk-parallel-item\"><div class=\"sk-item\"><div class=\"sk-label-container\"><div class=\"sk-label sk-toggleable\"><input class=\"sk-toggleable__control sk-hidden--visually\" id=\"sk-estimator-id-10\" type=\"checkbox\" ><label for=\"sk-estimator-id-10\" class=\"sk-toggleable__label sk-toggleable__label-arrow\">estimator: Lasso</label><div class=\"sk-toggleable__content\"><pre>Lasso(alpha=10)</pre></div></div></div><div class=\"sk-serial\"><div class=\"sk-item\"><div class=\"sk-estimator sk-toggleable\"><input class=\"sk-toggleable__control sk-hidden--visually\" id=\"sk-estimator-id-11\" type=\"checkbox\" ><label for=\"sk-estimator-id-11\" class=\"sk-toggleable__label sk-toggleable__label-arrow\">Lasso</label><div class=\"sk-toggleable__content\"><pre>Lasso(alpha=10)</pre></div></div></div></div></div></div></div></div></div></div>"
      ],
      "text/plain": [
       "GridSearchCV(estimator=Lasso(alpha=10), param_grid={'alpha': range(0, 100)},\n",
       "             verbose=2)"
      ]
     },
     "execution_count": 72,
     "metadata": {},
     "output_type": "execute_result"
    }
   ],
   "source": [
    "grid_search.fit(x_train,y_train)"
   ]
  },
  {
   "cell_type": "code",
   "execution_count": 73,
   "id": "26ea0a62",
   "metadata": {},
   "outputs": [
    {
     "data": {
      "text/plain": [
       "{'alpha': 0}"
      ]
     },
     "execution_count": 73,
     "metadata": {},
     "output_type": "execute_result"
    }
   ],
   "source": [
    "grid_search.best_params_"
   ]
  },
  {
   "cell_type": "code",
   "execution_count": null,
   "id": "0038a062",
   "metadata": {},
   "outputs": [],
   "source": []
  }
 ],
 "metadata": {
  "kernelspec": {
   "display_name": "Python 3 (ipykernel)",
   "language": "python",
   "name": "python3"
  },
  "language_info": {
   "codemirror_mode": {
    "name": "ipython",
    "version": 3
   },
   "file_extension": ".py",
   "mimetype": "text/x-python",
   "name": "python",
   "nbconvert_exporter": "python",
   "pygments_lexer": "ipython3",
   "version": "3.11.4"
  }
 },
 "nbformat": 4,
 "nbformat_minor": 5
}
