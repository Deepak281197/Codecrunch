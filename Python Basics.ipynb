{
 "cells": [
  {
   "cell_type": "code",
   "execution_count": 7,
   "id": "83562029",
   "metadata": {},
   "outputs": [
    {
     "data": {
      "text/plain": [
       "6"
      ]
     },
     "execution_count": 7,
     "metadata": {},
     "output_type": "execute_result"
    }
   ],
   "source": [
    "a=1\n",
    "b=2\n",
    "c=3\n",
    "a+b+c"
   ]
  },
  {
   "cell_type": "code",
   "execution_count": 17,
   "id": "97c9a5a5",
   "metadata": {},
   "outputs": [
    {
     "name": "stdout",
     "output_type": "stream",
     "text": [
      "Addition on 3 numbers 133\n"
     ]
    }
   ],
   "source": [
    "a,b,c=29,49,55\n",
    "print ('Addition on 3 numbers', a+b+c)"
   ]
  },
  {
   "cell_type": "markdown",
   "id": "e295857b",
   "metadata": {},
   "source": [
    "# Super Market"
   ]
  },
  {
   "cell_type": "markdown",
   "id": "c63da7f7",
   "metadata": {},
   "source": [
    "# Details"
   ]
  },
  {
   "cell_type": "markdown",
   "id": "b14173c1",
   "metadata": {},
   "source": [
    "# Maths"
   ]
  },
  {
   "cell_type": "code",
   "execution_count": 22,
   "id": "e0e585d6",
   "metadata": {},
   "outputs": [
    {
     "data": {
      "text/plain": [
       "166"
      ]
     },
     "execution_count": 22,
     "metadata": {},
     "output_type": "execute_result"
    }
   ],
   "source": [
    "a=55\n",
    "b=66\n",
    "c=45\n",
    "a+b+c"
   ]
  },
  {
   "cell_type": "markdown",
   "id": "c9741fe6",
   "metadata": {},
   "source": [
    "# Ragupathy Family"
   ]
  },
  {
   "cell_type": "code",
   "execution_count": 1,
   "id": "b4d55d97",
   "metadata": {},
   "outputs": [
    {
     "name": "stdout",
     "output_type": "stream",
     "text": [
      "Ragupathy Family Income = $ 115\n"
     ]
    }
   ],
   "source": [
    "Ragu=62\n",
    "Kalai=20\n",
    "Praveen=58\n",
    "Kumaresan=55\n",
    "Deepak=30\n",
    "print ('Ragupathy Family Income = $',Ragu+Kalai+Praveen-Kumaresan+Deepak)"
   ]
  },
  {
   "cell_type": "markdown",
   "id": "cac45937",
   "metadata": {},
   "source": [
    "# deepak"
   ]
  },
  {
   "cell_type": "markdown",
   "id": "400a23bc",
   "metadata": {},
   "source": [
    "# Purchase"
   ]
  },
  {
   "cell_type": "code",
   "execution_count": 49,
   "id": "4005423a",
   "metadata": {},
   "outputs": [
    {
     "name": "stdout",
     "output_type": "stream",
     "text": [
      "List One =  1437\n",
      "List Two = -482625\n"
     ]
    }
   ],
   "source": [
    "a,b,c,d,e,f=49,33,45,647,746,645\n",
    "print ('List One = ',a//b+c%d+e+f)\n",
    "print('List Two =',a+b-c-d*e)"
   ]
  },
  {
   "cell_type": "code",
   "execution_count": null,
   "id": "9f28b971",
   "metadata": {},
   "outputs": [],
   "source": []
  },
  {
   "cell_type": "markdown",
   "id": "e32f105b",
   "metadata": {},
   "source": [
    "# include conio.h\n",
    "# include studio.h\n",
    "{\n",
    "}"
   ]
  },
  {
   "cell_type": "code",
   "execution_count": 53,
   "id": "7d414194",
   "metadata": {},
   "outputs": [
    {
     "name": "stdout",
     "output_type": "stream",
     "text": [
      "a+b= 3\n",
      "a-b= -1\n",
      "a+b-c= -3\n"
     ]
    }
   ],
   "source": [
    "a=1\n",
    "b=2\n",
    "c=6\n",
    "print ('a+b=', a+b)\n",
    "print ('a-b=', a-b)\n",
    "print ('a+b-c=', a+b-c)"
   ]
  },
  {
   "cell_type": "markdown",
   "id": "2f8ccd84",
   "metadata": {},
   "source": [
    "# Include Conio.h"
   ]
  },
  {
   "cell_type": "markdown",
   "id": "57872f33",
   "metadata": {},
   "source": [
    "# Deepak"
   ]
  },
  {
   "cell_type": "code",
   "execution_count": 26,
   "id": "98e64cc9",
   "metadata": {},
   "outputs": [
    {
     "name": "stdout",
     "output_type": "stream",
     "text": [
      "deepak Assets cars are = 6\n"
     ]
    }
   ],
   "source": [
    "Hyundai=1\n",
    "Bmw=2\n",
    "Rangerover=1\n",
    "Amg=1\n",
    "Supra=1\n",
    "\n",
    "print ('deepak Assets cars are =', Hyundai+Bmw+Rangerover+Amg+Supra )"
   ]
  },
  {
   "cell_type": "markdown",
   "id": "993bf047",
   "metadata": {},
   "source": [
    "# import math"
   ]
  },
  {
   "cell_type": "code",
   "execution_count": 60,
   "id": "5e8f908d",
   "metadata": {},
   "outputs": [
    {
     "data": {
      "text/plain": [
       "1.4142135623730951"
      ]
     },
     "execution_count": 60,
     "metadata": {},
     "output_type": "execute_result"
    }
   ],
   "source": [
    "math.sqrt(2)"
   ]
  },
  {
   "cell_type": "code",
   "execution_count": 61,
   "id": "8c9e756e",
   "metadata": {},
   "outputs": [
    {
     "data": {
      "text/plain": [
       "3"
      ]
     },
     "execution_count": 61,
     "metadata": {},
     "output_type": "execute_result"
    }
   ],
   "source": [
    "math.ceil(2.44)"
   ]
  },
  {
   "cell_type": "code",
   "execution_count": 67,
   "id": "82632528",
   "metadata": {},
   "outputs": [],
   "source": [
    "a=[1,3]\n",
    "b=[4,6]"
   ]
  },
  {
   "cell_type": "code",
   "execution_count": 79,
   "id": "ca595b1e",
   "metadata": {},
   "outputs": [
    {
     "data": {
      "text/plain": [
       "4.242640687119285"
      ]
     },
     "execution_count": 79,
     "metadata": {},
     "output_type": "execute_result"
    }
   ],
   "source": [
    "math.dist(a,b)"
   ]
  },
  {
   "cell_type": "code",
   "execution_count": 80,
   "id": "4908ece0",
   "metadata": {},
   "outputs": [
    {
     "data": {
      "text/plain": [
       "3151.2678732195277"
      ]
     },
     "execution_count": 80,
     "metadata": {},
     "output_type": "execute_result"
    }
   ],
   "source": [
    "math.degrees(55)"
   ]
  },
  {
   "cell_type": "code",
   "execution_count": 81,
   "id": "fc9a0945",
   "metadata": {},
   "outputs": [
    {
     "data": {
      "text/plain": [
       "3.802952460761392"
      ]
     },
     "execution_count": 81,
     "metadata": {},
     "output_type": "execute_result"
    }
   ],
   "source": [
    "math.cbrt(55)"
   ]
  },
  {
   "cell_type": "code",
   "execution_count": 82,
   "id": "de74544f",
   "metadata": {},
   "outputs": [
    {
     "data": {
      "text/plain": [
       "720"
      ]
     },
     "execution_count": 82,
     "metadata": {},
     "output_type": "execute_result"
    }
   ],
   "source": [
    "math.factorial(6)"
   ]
  },
  {
   "cell_type": "markdown",
   "id": "cdb6edda",
   "metadata": {},
   "source": [
    "# new"
   ]
  },
  {
   "cell_type": "code",
   "execution_count": 86,
   "id": "a98d644d",
   "metadata": {},
   "outputs": [],
   "source": [
    "a='deepak'"
   ]
  },
  {
   "cell_type": "code",
   "execution_count": 87,
   "id": "d7595d85",
   "metadata": {},
   "outputs": [
    {
     "name": "stdout",
     "output_type": "stream",
     "text": [
      "deepak\n"
     ]
    }
   ],
   "source": [
    "print(a)"
   ]
  },
  {
   "cell_type": "code",
   "execution_count": 88,
   "id": "f792c8b9",
   "metadata": {},
   "outputs": [
    {
     "data": {
      "text/plain": [
       "5"
      ]
     },
     "execution_count": 88,
     "metadata": {},
     "output_type": "execute_result"
    }
   ],
   "source": [
    "abs(-5)"
   ]
  },
  {
   "cell_type": "code",
   "execution_count": null,
   "id": "f8f9e2b4",
   "metadata": {},
   "outputs": [],
   "source": [
    "a='Man'"
   ]
  },
  {
   "cell_type": "code",
   "execution_count": 90,
   "id": "85323bf5",
   "metadata": {},
   "outputs": [
    {
     "data": {
      "text/plain": [
       "str"
      ]
     },
     "execution_count": 90,
     "metadata": {},
     "output_type": "execute_result"
    }
   ],
   "source": [
    "type(a)"
   ]
  },
  {
   "cell_type": "markdown",
   "id": "c265a0b2",
   "metadata": {},
   "source": [
    "# type"
   ]
  },
  {
   "cell_type": "code",
   "execution_count": 97,
   "id": "a51a4a5a",
   "metadata": {},
   "outputs": [
    {
     "data": {
      "text/plain": [
       "list"
      ]
     },
     "execution_count": 97,
     "metadata": {},
     "output_type": "execute_result"
    }
   ],
   "source": [
    "a=[4.5]\n",
    "type(a)"
   ]
  },
  {
   "cell_type": "code",
   "execution_count": 93,
   "id": "6c132f76",
   "metadata": {},
   "outputs": [
    {
     "data": {
      "text/plain": [
       "str"
      ]
     },
     "execution_count": 93,
     "metadata": {},
     "output_type": "execute_result"
    }
   ],
   "source": [
    "type(a)"
   ]
  },
  {
   "cell_type": "code",
   "execution_count": 99,
   "id": "bb10e758",
   "metadata": {},
   "outputs": [
    {
     "data": {
      "text/plain": [
       "int"
      ]
     },
     "execution_count": 99,
     "metadata": {},
     "output_type": "execute_result"
    }
   ],
   "source": [
    "a=50\n",
    "type(a)"
   ]
  },
  {
   "cell_type": "code",
   "execution_count": 101,
   "id": "6f7d686a",
   "metadata": {},
   "outputs": [],
   "source": [
    "c=4.2"
   ]
  },
  {
   "cell_type": "code",
   "execution_count": 102,
   "id": "edd591c4",
   "metadata": {},
   "outputs": [
    {
     "data": {
      "text/plain": [
       "float"
      ]
     },
     "execution_count": 102,
     "metadata": {},
     "output_type": "execute_result"
    }
   ],
   "source": [
    "type(c)"
   ]
  },
  {
   "cell_type": "markdown",
   "id": "40359603",
   "metadata": {},
   "source": [
    "# New"
   ]
  },
  {
   "cell_type": "code",
   "execution_count": 103,
   "id": "db8a8368",
   "metadata": {},
   "outputs": [],
   "source": [
    "a='deepakragupathy'"
   ]
  },
  {
   "cell_type": "code",
   "execution_count": 139,
   "id": "8ee4e530",
   "metadata": {},
   "outputs": [
    {
     "data": {
      "text/plain": [
       "str"
      ]
     },
     "execution_count": 139,
     "metadata": {},
     "output_type": "execute_result"
    }
   ],
   "source": [
    "type(a)"
   ]
  },
  {
   "cell_type": "markdown",
   "id": "842957ee",
   "metadata": {},
   "source": [
    "# String"
   ]
  },
  {
   "cell_type": "code",
   "execution_count": 108,
   "id": "d54884ab",
   "metadata": {},
   "outputs": [],
   "source": [
    "str1='My name is deepak'"
   ]
  },
  {
   "cell_type": "code",
   "execution_count": 113,
   "id": "eb84b761",
   "metadata": {},
   "outputs": [
    {
     "data": {
      "text/plain": [
       "'My Name Is Deepak'"
      ]
     },
     "execution_count": 113,
     "metadata": {},
     "output_type": "execute_result"
    }
   ],
   "source": [
    "str1.title()"
   ]
  },
  {
   "cell_type": "code",
   "execution_count": 122,
   "id": "e67828b7",
   "metadata": {},
   "outputs": [
    {
     "data": {
      "text/plain": [
       "17"
      ]
     },
     "execution_count": 122,
     "metadata": {},
     "output_type": "execute_result"
    }
   ],
   "source": [
    "len(str1)"
   ]
  },
  {
   "cell_type": "code",
   "execution_count": 123,
   "id": "45a2cde8",
   "metadata": {},
   "outputs": [
    {
     "data": {
      "text/plain": [
       "'m'"
      ]
     },
     "execution_count": 123,
     "metadata": {},
     "output_type": "execute_result"
    }
   ],
   "source": [
    "str1[5]"
   ]
  },
  {
   "cell_type": "code",
   "execution_count": 124,
   "id": "101470a3",
   "metadata": {},
   "outputs": [
    {
     "data": {
      "text/plain": [
       "' '"
      ]
     },
     "execution_count": 124,
     "metadata": {},
     "output_type": "execute_result"
    }
   ],
   "source": [
    "str1[7]"
   ]
  },
  {
   "cell_type": "code",
   "execution_count": 141,
   "id": "8bbfa6e3",
   "metadata": {},
   "outputs": [
    {
     "data": {
      "text/plain": [
       "'s'"
      ]
     },
     "execution_count": 141,
     "metadata": {},
     "output_type": "execute_result"
    }
   ],
   "source": [
    "str1[9]"
   ]
  },
  {
   "cell_type": "code",
   "execution_count": 136,
   "id": "c36005b7",
   "metadata": {},
   "outputs": [
    {
     "data": {
      "text/plain": [
       "'M aei epk'"
      ]
     },
     "execution_count": 136,
     "metadata": {},
     "output_type": "execute_result"
    }
   ],
   "source": [
    "str1[0:19:2]"
   ]
  },
  {
   "cell_type": "code",
   "execution_count": null,
   "id": "a27bbfda",
   "metadata": {},
   "outputs": [],
   "source": [
    "str1"
   ]
  },
  {
   "cell_type": "code",
   "execution_count": null,
   "id": "ddcf01a8",
   "metadata": {},
   "outputs": [],
   "source": [
    "name=input('my name is deepak')\n",
    "print('his name is :', name)"
   ]
  },
  {
   "cell_type": "code",
   "execution_count": null,
   "id": "af9407d7",
   "metadata": {},
   "outputs": [],
   "source": [
    "str1='deepak ragupathy'"
   ]
  },
  {
   "cell_type": "code",
   "execution_count": null,
   "id": "4e874e15",
   "metadata": {},
   "outputs": [],
   "source": [
    "len(str1)"
   ]
  },
  {
   "cell_type": "code",
   "execution_count": 3,
   "id": "1ba65f21",
   "metadata": {},
   "outputs": [],
   "source": [
    "a=23"
   ]
  },
  {
   "cell_type": "code",
   "execution_count": 4,
   "id": "3d06aef5",
   "metadata": {},
   "outputs": [
    {
     "data": {
      "text/plain": [
       "int"
      ]
     },
     "execution_count": 4,
     "metadata": {},
     "output_type": "execute_result"
    }
   ],
   "source": [
    "type(a)"
   ]
  },
  {
   "cell_type": "code",
   "execution_count": null,
   "id": "22fb08da",
   "metadata": {},
   "outputs": [],
   "source": [
    "a=input('enter your name')"
   ]
  },
  {
   "cell_type": "code",
   "execution_count": 8,
   "id": "c54ed2ed",
   "metadata": {},
   "outputs": [
    {
     "name": "stdout",
     "output_type": "stream",
     "text": [
      "his name is deepak\n"
     ]
    }
   ],
   "source": [
    "print('his name is',a)"
   ]
  },
  {
   "cell_type": "code",
   "execution_count": 14,
   "id": "25623f60",
   "metadata": {},
   "outputs": [],
   "source": [
    "str1='deepak ragupathy'"
   ]
  },
  {
   "cell_type": "code",
   "execution_count": 15,
   "id": "5badc562",
   "metadata": {},
   "outputs": [
    {
     "data": {
      "text/plain": [
       "'a'"
      ]
     },
     "execution_count": 15,
     "metadata": {},
     "output_type": "execute_result"
    }
   ],
   "source": [
    "str1[4]"
   ]
  },
  {
   "cell_type": "code",
   "execution_count": 17,
   "id": "b4c66ea1",
   "metadata": {},
   "outputs": [
    {
     "data": {
      "text/plain": [
       "'dea '"
      ]
     },
     "execution_count": 17,
     "metadata": {},
     "output_type": "execute_result"
    }
   ],
   "source": [
    "str1[0:8:2]"
   ]
  },
  {
   "cell_type": "code",
   "execution_count": 18,
   "id": "bc269a8b",
   "metadata": {},
   "outputs": [],
   "source": [
    "str2='good boy'"
   ]
  },
  {
   "cell_type": "code",
   "execution_count": 19,
   "id": "856039ab",
   "metadata": {},
   "outputs": [
    {
     "data": {
      "text/plain": [
       "'deepak ragupathygood boy'"
      ]
     },
     "execution_count": 19,
     "metadata": {},
     "output_type": "execute_result"
    }
   ],
   "source": [
    "str1 + str2"
   ]
  },
  {
   "cell_type": "code",
   "execution_count": 20,
   "id": "30c7308a",
   "metadata": {},
   "outputs": [
    {
     "data": {
      "text/plain": [
       "'Deepak ragupathy'"
      ]
     },
     "execution_count": 20,
     "metadata": {},
     "output_type": "execute_result"
    }
   ],
   "source": [
    "str1.capitalize()"
   ]
  },
  {
   "cell_type": "code",
   "execution_count": 25,
   "id": "98008c3d",
   "metadata": {},
   "outputs": [
    {
     "data": {
      "text/plain": [
       "'Good boy'"
      ]
     },
     "execution_count": 25,
     "metadata": {},
     "output_type": "execute_result"
    }
   ],
   "source": [
    "str2.capitalize()"
   ]
  },
  {
   "cell_type": "code",
   "execution_count": 26,
   "id": "f6e6387b",
   "metadata": {},
   "outputs": [
    {
     "data": {
      "text/plain": [
       "'deepak ragupathy'"
      ]
     },
     "execution_count": 26,
     "metadata": {},
     "output_type": "execute_result"
    }
   ],
   "source": [
    "str1"
   ]
  },
  {
   "cell_type": "code",
   "execution_count": 27,
   "id": "13dae2cb",
   "metadata": {},
   "outputs": [
    {
     "data": {
      "text/plain": [
       "'kalai ragupathy'"
      ]
     },
     "execution_count": 27,
     "metadata": {},
     "output_type": "execute_result"
    }
   ],
   "source": [
    "str1.replace('deepak','kalai')"
   ]
  },
  {
   "cell_type": "code",
   "execution_count": 28,
   "id": "1b7323b3",
   "metadata": {},
   "outputs": [
    {
     "data": {
      "text/plain": [
       "'deepak ragupathy'"
      ]
     },
     "execution_count": 28,
     "metadata": {},
     "output_type": "execute_result"
    }
   ],
   "source": [
    "str1"
   ]
  },
  {
   "cell_type": "code",
   "execution_count": 29,
   "id": "5dd58959",
   "metadata": {},
   "outputs": [],
   "source": [
    "list1=[1,2,3,4,6,7,8]"
   ]
  },
  {
   "cell_type": "code",
   "execution_count": 30,
   "id": "d5321ac7",
   "metadata": {},
   "outputs": [
    {
     "data": {
      "text/plain": [
       "[1, 2, 3, 4, 6, 7, 8]"
      ]
     },
     "execution_count": 30,
     "metadata": {},
     "output_type": "execute_result"
    }
   ],
   "source": [
    "list1"
   ]
  },
  {
   "cell_type": "code",
   "execution_count": 31,
   "id": "28fa90c4",
   "metadata": {},
   "outputs": [
    {
     "data": {
      "text/plain": [
       "8"
      ]
     },
     "execution_count": 31,
     "metadata": {},
     "output_type": "execute_result"
    }
   ],
   "source": [
    "max(list1)"
   ]
  },
  {
   "cell_type": "code",
   "execution_count": 35,
   "id": "15655308",
   "metadata": {},
   "outputs": [
    {
     "data": {
      "text/plain": [
       "8"
      ]
     },
     "execution_count": 35,
     "metadata": {},
     "output_type": "execute_result"
    }
   ],
   "source": [
    "list1[6]"
   ]
  },
  {
   "cell_type": "code",
   "execution_count": 40,
   "id": "e49b2e99",
   "metadata": {},
   "outputs": [
    {
     "ename": "TypeError",
     "evalue": "pop expected at most 1 argument, got 2",
     "output_type": "error",
     "traceback": [
      "\u001b[1;31m---------------------------------------------------------------------------\u001b[0m",
      "\u001b[1;31mTypeError\u001b[0m                                 Traceback (most recent call last)",
      "Cell \u001b[1;32mIn[40], line 1\u001b[0m\n\u001b[1;32m----> 1\u001b[0m list1\u001b[38;5;241m.\u001b[39mpop(\u001b[38;5;241m4\u001b[39m,\u001b[38;5;241m3\u001b[39m)\n",
      "\u001b[1;31mTypeError\u001b[0m: pop expected at most 1 argument, got 2"
     ]
    }
   ],
   "source": [
    "list1.pop(4,3)"
   ]
  },
  {
   "cell_type": "code",
   "execution_count": 41,
   "id": "c52d69b7",
   "metadata": {},
   "outputs": [
    {
     "data": {
      "text/plain": [
       "[1, 2, 3, 4, 6, 7, 8]"
      ]
     },
     "execution_count": 41,
     "metadata": {},
     "output_type": "execute_result"
    }
   ],
   "source": [
    "list1"
   ]
  },
  {
   "cell_type": "code",
   "execution_count": 45,
   "id": "4d92e991",
   "metadata": {},
   "outputs": [
    {
     "ename": "TypeError",
     "evalue": "pop expected at most 1 argument, got 2",
     "output_type": "error",
     "traceback": [
      "\u001b[1;31m---------------------------------------------------------------------------\u001b[0m",
      "\u001b[1;31mTypeError\u001b[0m                                 Traceback (most recent call last)",
      "Cell \u001b[1;32mIn[45], line 1\u001b[0m\n\u001b[1;32m----> 1\u001b[0m list1\u001b[38;5;241m.\u001b[39mpop(\u001b[38;5;241m3\u001b[39m,\u001b[38;5;241m6\u001b[39m)\n",
      "\u001b[1;31mTypeError\u001b[0m: pop expected at most 1 argument, got 2"
     ]
    }
   ],
   "source": [
    "list1.pop(3,6)"
   ]
  },
  {
   "cell_type": "code",
   "execution_count": 48,
   "id": "d1a6e2d7",
   "metadata": {},
   "outputs": [
    {
     "data": {
      "text/plain": [
       "[1, 2, 3, 4, 6, 7]"
      ]
     },
     "execution_count": 48,
     "metadata": {},
     "output_type": "execute_result"
    }
   ],
   "source": [
    "list1"
   ]
  },
  {
   "cell_type": "code",
   "execution_count": 49,
   "id": "2da0b8c0",
   "metadata": {},
   "outputs": [
    {
     "data": {
      "text/plain": [
       "[1, 2, 3, 4, 6, 7]"
      ]
     },
     "execution_count": 49,
     "metadata": {},
     "output_type": "execute_result"
    }
   ],
   "source": [
    "list1"
   ]
  },
  {
   "cell_type": "code",
   "execution_count": 50,
   "id": "7d08230e",
   "metadata": {},
   "outputs": [],
   "source": [
    "list1.insert(2,9)"
   ]
  },
  {
   "cell_type": "code",
   "execution_count": 51,
   "id": "fd70db29",
   "metadata": {},
   "outputs": [
    {
     "data": {
      "text/plain": [
       "[1, 2, 9, 3, 4, 6, 7]"
      ]
     },
     "execution_count": 51,
     "metadata": {},
     "output_type": "execute_result"
    }
   ],
   "source": [
    "list1"
   ]
  },
  {
   "cell_type": "code",
   "execution_count": 52,
   "id": "d9ea8711",
   "metadata": {},
   "outputs": [],
   "source": [
    "tup1=[1,2,3,4]"
   ]
  },
  {
   "cell_type": "code",
   "execution_count": 53,
   "id": "963331c9",
   "metadata": {},
   "outputs": [
    {
     "data": {
      "text/plain": [
       "list"
      ]
     },
     "execution_count": 53,
     "metadata": {},
     "output_type": "execute_result"
    }
   ],
   "source": [
    "type(tup1)"
   ]
  },
  {
   "cell_type": "code",
   "execution_count": 59,
   "id": "93889ec6",
   "metadata": {},
   "outputs": [
    {
     "data": {
      "text/plain": [
       "0"
      ]
     },
     "execution_count": 59,
     "metadata": {},
     "output_type": "execute_result"
    }
   ],
   "source": [
    "tup1.count(6)"
   ]
  },
  {
   "cell_type": "code",
   "execution_count": 58,
   "id": "7a95b0fe",
   "metadata": {},
   "outputs": [
    {
     "data": {
      "text/plain": [
       "[1, 2, 3, 4]"
      ]
     },
     "execution_count": 58,
     "metadata": {},
     "output_type": "execute_result"
    }
   ],
   "source": [
    "tup1"
   ]
  },
  {
   "cell_type": "code",
   "execution_count": 60,
   "id": "715631ca",
   "metadata": {},
   "outputs": [
    {
     "ename": "TypeError",
     "evalue": "insert expected 2 arguments, got 0",
     "output_type": "error",
     "traceback": [
      "\u001b[1;31m---------------------------------------------------------------------------\u001b[0m",
      "\u001b[1;31mTypeError\u001b[0m                                 Traceback (most recent call last)",
      "Cell \u001b[1;32mIn[60], line 1\u001b[0m\n\u001b[1;32m----> 1\u001b[0m tup1\u001b[38;5;241m.\u001b[39minsert()\n",
      "\u001b[1;31mTypeError\u001b[0m: insert expected 2 arguments, got 0"
     ]
    }
   ],
   "source": [
    "tup1.insert()"
   ]
  },
  {
   "cell_type": "code",
   "execution_count": 61,
   "id": "581ce32d",
   "metadata": {},
   "outputs": [
    {
     "data": {
      "text/plain": [
       "[1, 2, 3, 4]"
      ]
     },
     "execution_count": 61,
     "metadata": {},
     "output_type": "execute_result"
    }
   ],
   "source": [
    "tup1"
   ]
  },
  {
   "cell_type": "code",
   "execution_count": 64,
   "id": "a096a490",
   "metadata": {},
   "outputs": [],
   "source": [
    "tup1.reverse()"
   ]
  },
  {
   "cell_type": "code",
   "execution_count": 65,
   "id": "3f889a02",
   "metadata": {},
   "outputs": [
    {
     "data": {
      "text/plain": [
       "[1, 2, 3, 4]"
      ]
     },
     "execution_count": 65,
     "metadata": {},
     "output_type": "execute_result"
    }
   ],
   "source": [
    "tup1"
   ]
  },
  {
   "cell_type": "code",
   "execution_count": null,
   "id": "1db6196c",
   "metadata": {},
   "outputs": [],
   "source": []
  },
  {
   "cell_type": "code",
   "execution_count": 66,
   "id": "857c690c",
   "metadata": {},
   "outputs": [],
   "source": [
    "tup1.remove(2)"
   ]
  },
  {
   "cell_type": "code",
   "execution_count": 67,
   "id": "1e17e4c4",
   "metadata": {},
   "outputs": [
    {
     "data": {
      "text/plain": [
       "[1, 3, 4]"
      ]
     },
     "execution_count": 67,
     "metadata": {},
     "output_type": "execute_result"
    }
   ],
   "source": [
    "tup1"
   ]
  },
  {
   "cell_type": "code",
   "execution_count": 73,
   "id": "75991945",
   "metadata": {},
   "outputs": [],
   "source": [
    "dict1={'reg no':['deepak','kalai','ragu'],'city':['chennai','vellore','kanjipuram']}"
   ]
  },
  {
   "cell_type": "code",
   "execution_count": 74,
   "id": "1a409a94",
   "metadata": {},
   "outputs": [
    {
     "data": {
      "text/plain": [
       "2"
      ]
     },
     "execution_count": 74,
     "metadata": {},
     "output_type": "execute_result"
    }
   ],
   "source": [
    "len(dict1)"
   ]
  },
  {
   "cell_type": "code",
   "execution_count": 75,
   "id": "29de9745",
   "metadata": {},
   "outputs": [
    {
     "data": {
      "text/plain": [
       "'reg no'"
      ]
     },
     "execution_count": 75,
     "metadata": {},
     "output_type": "execute_result"
    }
   ],
   "source": [
    "max(dict1)"
   ]
  },
  {
   "cell_type": "code",
   "execution_count": 76,
   "id": "1761515c",
   "metadata": {},
   "outputs": [
    {
     "data": {
      "text/plain": [
       "dict_values([['deepak', 'kalai', 'ragu'], ['chennai', 'vellore', 'kanjipuram']])"
      ]
     },
     "execution_count": 76,
     "metadata": {},
     "output_type": "execute_result"
    }
   ],
   "source": [
    "dict1.values()"
   ]
  },
  {
   "cell_type": "code",
   "execution_count": 79,
   "id": "62359b0d",
   "metadata": {},
   "outputs": [
    {
     "data": {
      "text/plain": [
       "dict_keys(['reg no', 'city'])"
      ]
     },
     "execution_count": 79,
     "metadata": {},
     "output_type": "execute_result"
    }
   ],
   "source": [
    "dict1.keys()"
   ]
  },
  {
   "cell_type": "code",
   "execution_count": 86,
   "id": "ea090907",
   "metadata": {},
   "outputs": [
    {
     "ename": "TypeError",
     "evalue": "'builtin_function_or_method' object is not subscriptable",
     "output_type": "error",
     "traceback": [
      "\u001b[1;31m---------------------------------------------------------------------------\u001b[0m",
      "\u001b[1;31mTypeError\u001b[0m                                 Traceback (most recent call last)",
      "Cell \u001b[1;32mIn[86], line 1\u001b[0m\n\u001b[1;32m----> 1\u001b[0m dict1\u001b[38;5;241m.\u001b[39mupdate[\u001b[38;5;124m'\u001b[39m\u001b[38;5;124mdeepak\u001b[39m\u001b[38;5;124m'\u001b[39m][\u001b[38;5;124m'\u001b[39m\u001b[38;5;124mpraveen\u001b[39m\u001b[38;5;124m'\u001b[39m]\n",
      "\u001b[1;31mTypeError\u001b[0m: 'builtin_function_or_method' object is not subscriptable"
     ]
    }
   ],
   "source": [
    "dict1.update['deepak']['praveen']"
   ]
  },
  {
   "cell_type": "code",
   "execution_count": 100,
   "id": "c3c405a7",
   "metadata": {},
   "outputs": [
    {
     "data": {
      "text/plain": [
       "{'reg no': ['deepak', 'kalai', 'ragu'],\n",
       " 'city': ['chennai', 'vellore', 'kanjipuram']}"
      ]
     },
     "execution_count": 100,
     "metadata": {},
     "output_type": "execute_result"
    }
   ],
   "source": [
    "dict1"
   ]
  },
  {
   "cell_type": "code",
   "execution_count": 103,
   "id": "62ec6207",
   "metadata": {},
   "outputs": [],
   "source": [
    "dict1['age']=[25,45,65]"
   ]
  },
  {
   "cell_type": "code",
   "execution_count": 104,
   "id": "76c2f19c",
   "metadata": {},
   "outputs": [
    {
     "data": {
      "text/plain": [
       "{'reg no': ['deepak', 'kalai', 'ragu'],\n",
       " 'city': ['chennai', 'vellore', 'kanjipuram'],\n",
       " 'age': [25, 45, 65]}"
      ]
     },
     "execution_count": 104,
     "metadata": {},
     "output_type": "execute_result"
    }
   ],
   "source": [
    "dict1"
   ]
  },
  {
   "cell_type": "code",
   "execution_count": 108,
   "id": "6eb2f212",
   "metadata": {},
   "outputs": [
    {
     "ename": "KeyError",
     "evalue": "'chennai'",
     "output_type": "error",
     "traceback": [
      "\u001b[1;31m---------------------------------------------------------------------------\u001b[0m",
      "\u001b[1;31mKeyError\u001b[0m                                  Traceback (most recent call last)",
      "Cell \u001b[1;32mIn[108], line 1\u001b[0m\n\u001b[1;32m----> 1\u001b[0m dict1\u001b[38;5;241m.\u001b[39mpop(\u001b[38;5;124m'\u001b[39m\u001b[38;5;124mchennai\u001b[39m\u001b[38;5;124m'\u001b[39m)\n",
      "\u001b[1;31mKeyError\u001b[0m: 'chennai'"
     ]
    }
   ],
   "source": [
    "dict1.pop('chennai')"
   ]
  },
  {
   "cell_type": "code",
   "execution_count": 109,
   "id": "cbf3595b",
   "metadata": {},
   "outputs": [
    {
     "ename": "KeyError",
     "evalue": "'chennai'",
     "output_type": "error",
     "traceback": [
      "\u001b[1;31m---------------------------------------------------------------------------\u001b[0m",
      "\u001b[1;31mKeyError\u001b[0m                                  Traceback (most recent call last)",
      "Cell \u001b[1;32mIn[109], line 1\u001b[0m\n\u001b[1;32m----> 1\u001b[0m dict1\u001b[38;5;241m.\u001b[39mpop(\u001b[38;5;124m'\u001b[39m\u001b[38;5;124mchennai\u001b[39m\u001b[38;5;124m'\u001b[39m)\n",
      "\u001b[1;31mKeyError\u001b[0m: 'chennai'"
     ]
    }
   ],
   "source": [
    "dict1.pop('chennai')"
   ]
  },
  {
   "cell_type": "code",
   "execution_count": 110,
   "id": "1566dd0e",
   "metadata": {},
   "outputs": [
    {
     "data": {
      "text/plain": [
       "{'reg no': ['deepak', 'kalai', 'ragu'],\n",
       " 'city': ['chennai', 'vellore', 'kanjipuram'],\n",
       " 'age': [25, 45, 65]}"
      ]
     },
     "execution_count": 110,
     "metadata": {},
     "output_type": "execute_result"
    }
   ],
   "source": [
    "dict1"
   ]
  },
  {
   "cell_type": "code",
   "execution_count": 113,
   "id": "3fffe7f3",
   "metadata": {},
   "outputs": [
    {
     "ename": "TypeError",
     "evalue": "dict.popitem() takes no arguments (1 given)",
     "output_type": "error",
     "traceback": [
      "\u001b[1;31m---------------------------------------------------------------------------\u001b[0m",
      "\u001b[1;31mTypeError\u001b[0m                                 Traceback (most recent call last)",
      "Cell \u001b[1;32mIn[113], line 1\u001b[0m\n\u001b[1;32m----> 1\u001b[0m dict1\u001b[38;5;241m.\u001b[39mpopitem(\u001b[38;5;124m'\u001b[39m\u001b[38;5;124mchennai\u001b[39m\u001b[38;5;124m'\u001b[39m)\n",
      "\u001b[1;31mTypeError\u001b[0m: dict.popitem() takes no arguments (1 given)"
     ]
    }
   ],
   "source": [
    "dict1.popitem('chennai')"
   ]
  },
  {
   "cell_type": "code",
   "execution_count": 114,
   "id": "4c2fd1b5",
   "metadata": {},
   "outputs": [
    {
     "data": {
      "text/plain": [
       "{'reg no': ['deepak', 'kalai', 'ragu'],\n",
       " 'city': ['chennai', 'vellore', 'kanjipuram'],\n",
       " 'age': [25, 45, 65]}"
      ]
     },
     "execution_count": 114,
     "metadata": {},
     "output_type": "execute_result"
    }
   ],
   "source": [
    "dict1"
   ]
  },
  {
   "cell_type": "code",
   "execution_count": 125,
   "id": "8cd2fc06",
   "metadata": {},
   "outputs": [
    {
     "data": {
      "text/plain": [
       "['chennai', 'vellore', 'kanjipuram']"
      ]
     },
     "execution_count": 125,
     "metadata": {},
     "output_type": "execute_result"
    }
   ],
   "source": [
    "dict1.pop('city')"
   ]
  },
  {
   "cell_type": "code",
   "execution_count": 126,
   "id": "0254810a",
   "metadata": {},
   "outputs": [
    {
     "data": {
      "text/plain": [
       "{'age': [25, 45, 65]}"
      ]
     },
     "execution_count": 126,
     "metadata": {},
     "output_type": "execute_result"
    }
   ],
   "source": [
    "dict1"
   ]
  },
  {
   "cell_type": "code",
   "execution_count": 132,
   "id": "668cbbc4",
   "metadata": {},
   "outputs": [],
   "source": [
    "dict1['look']=[4,5,6]"
   ]
  },
  {
   "cell_type": "code",
   "execution_count": 133,
   "id": "c617dbd3",
   "metadata": {},
   "outputs": [
    {
     "data": {
      "text/plain": [
       "{'age': [25, 45, 65], 'look': [4, 5, 6]}"
      ]
     },
     "execution_count": 133,
     "metadata": {},
     "output_type": "execute_result"
    }
   ],
   "source": [
    "dict1"
   ]
  },
  {
   "cell_type": "code",
   "execution_count": 134,
   "id": "a9e56d83",
   "metadata": {},
   "outputs": [
    {
     "data": {
      "text/plain": [
       "{'age': [25, 45, 65], 'look': [4, 5, 6]}"
      ]
     },
     "execution_count": 134,
     "metadata": {},
     "output_type": "execute_result"
    }
   ],
   "source": [
    "dict1"
   ]
  },
  {
   "cell_type": "code",
   "execution_count": 138,
   "id": "c3019883",
   "metadata": {},
   "outputs": [
    {
     "data": {
      "text/plain": [
       "65"
      ]
     },
     "execution_count": 138,
     "metadata": {},
     "output_type": "execute_result"
    }
   ],
   "source": [
    "dict1['age'][2]"
   ]
  },
  {
   "cell_type": "code",
   "execution_count": 140,
   "id": "617206e5",
   "metadata": {},
   "outputs": [],
   "source": [
    "set1={1,4,6,7,3}"
   ]
  },
  {
   "cell_type": "code",
   "execution_count": 142,
   "id": "04f4b99f",
   "metadata": {},
   "outputs": [],
   "source": [
    "set2=set1.copy()"
   ]
  },
  {
   "cell_type": "code",
   "execution_count": 145,
   "id": "920ce79b",
   "metadata": {},
   "outputs": [
    {
     "ename": "TypeError",
     "evalue": "'set' object is not subscriptable",
     "output_type": "error",
     "traceback": [
      "\u001b[1;31m---------------------------------------------------------------------------\u001b[0m",
      "\u001b[1;31mTypeError\u001b[0m                                 Traceback (most recent call last)",
      "Cell \u001b[1;32mIn[145], line 1\u001b[0m\n\u001b[1;32m----> 1\u001b[0m set1[\u001b[38;5;241m0\u001b[39m:\u001b[38;5;241m3\u001b[39m]\n",
      "\u001b[1;31mTypeError\u001b[0m: 'set' object is not subscriptable"
     ]
    }
   ],
   "source": [
    "set1"
   ]
  },
  {
   "cell_type": "code",
   "execution_count": 155,
   "id": "f06f5078",
   "metadata": {},
   "outputs": [
    {
     "name": "stdout",
     "output_type": "stream",
     "text": [
      "enter your namedeepak\n"
     ]
    }
   ],
   "source": [
    "A=input('enter your name' )"
   ]
  },
  {
   "cell_type": "code",
   "execution_count": 156,
   "id": "d7cdf503",
   "metadata": {},
   "outputs": [
    {
     "name": "stdout",
     "output_type": "stream",
     "text": [
      "my name is : deepak\n"
     ]
    }
   ],
   "source": [
    "print('my name is :', a)"
   ]
  },
  {
   "cell_type": "code",
   "execution_count": 1,
   "id": "4412c9eb",
   "metadata": {},
   "outputs": [],
   "source": [
    "list1=[1,2,3,4,5]"
   ]
  },
  {
   "cell_type": "code",
   "execution_count": 2,
   "id": "105e4ae1",
   "metadata": {},
   "outputs": [],
   "source": [
    "list1.clear()"
   ]
  },
  {
   "cell_type": "code",
   "execution_count": 3,
   "id": "0b0567b3",
   "metadata": {},
   "outputs": [
    {
     "data": {
      "text/plain": [
       "[]"
      ]
     },
     "execution_count": 3,
     "metadata": {},
     "output_type": "execute_result"
    }
   ],
   "source": [
    "list1"
   ]
  },
  {
   "cell_type": "code",
   "execution_count": 4,
   "id": "71168f1f",
   "metadata": {},
   "outputs": [],
   "source": [
    "list1=[2,4,5,6]"
   ]
  },
  {
   "cell_type": "code",
   "execution_count": 5,
   "id": "b0699c0e",
   "metadata": {},
   "outputs": [],
   "source": [
    "list2=list1.copy()"
   ]
  },
  {
   "cell_type": "code",
   "execution_count": 6,
   "id": "537afb4e",
   "metadata": {},
   "outputs": [
    {
     "data": {
      "text/plain": [
       "[2, 4, 5, 6]"
      ]
     },
     "execution_count": 6,
     "metadata": {},
     "output_type": "execute_result"
    }
   ],
   "source": [
    "list2"
   ]
  },
  {
   "cell_type": "code",
   "execution_count": 7,
   "id": "809f6634",
   "metadata": {},
   "outputs": [],
   "source": [
    "list1.extend(list2)"
   ]
  },
  {
   "cell_type": "code",
   "execution_count": 9,
   "id": "6f785caf",
   "metadata": {},
   "outputs": [
    {
     "data": {
      "text/plain": [
       "[2, 4, 5, 6, 2, 4, 5, 6]"
      ]
     },
     "execution_count": 9,
     "metadata": {},
     "output_type": "execute_result"
    }
   ],
   "source": [
    "list1"
   ]
  },
  {
   "cell_type": "code",
   "execution_count": 10,
   "id": "3a244445",
   "metadata": {},
   "outputs": [],
   "source": [
    "list1.remove(5)"
   ]
  },
  {
   "cell_type": "code",
   "execution_count": 11,
   "id": "a3c5d29e",
   "metadata": {},
   "outputs": [
    {
     "data": {
      "text/plain": [
       "[2, 4, 6, 2, 4, 5, 6]"
      ]
     },
     "execution_count": 11,
     "metadata": {},
     "output_type": "execute_result"
    }
   ],
   "source": [
    "list1"
   ]
  },
  {
   "cell_type": "code",
   "execution_count": 12,
   "id": "bf366dfa",
   "metadata": {},
   "outputs": [
    {
     "data": {
      "text/plain": [
       "[6, 2, 4]"
      ]
     },
     "execution_count": 12,
     "metadata": {},
     "output_type": "execute_result"
    }
   ],
   "source": [
    "list1[2:5]"
   ]
  },
  {
   "cell_type": "code",
   "execution_count": 13,
   "id": "d0cbd20f",
   "metadata": {},
   "outputs": [
    {
     "ename": "TypeError",
     "evalue": "'int' object is not subscriptable",
     "output_type": "error",
     "traceback": [
      "\u001b[1;31m---------------------------------------------------------------------------\u001b[0m",
      "\u001b[1;31mTypeError\u001b[0m                                 Traceback (most recent call last)",
      "Cell \u001b[1;32mIn[13], line 1\u001b[0m\n\u001b[1;32m----> 1\u001b[0m list1[\u001b[38;5;241m1\u001b[39m][\u001b[38;5;241m7\u001b[39m]\n",
      "\u001b[1;31mTypeError\u001b[0m: 'int' object is not subscriptable"
     ]
    }
   ],
   "source": [
    "list1[1][7]"
   ]
  },
  {
   "cell_type": "code",
   "execution_count": 14,
   "id": "5bcdd3f2",
   "metadata": {},
   "outputs": [
    {
     "data": {
      "text/plain": [
       "[2, 4, 6, 2, 4, 5, 6]"
      ]
     },
     "execution_count": 14,
     "metadata": {},
     "output_type": "execute_result"
    }
   ],
   "source": [
    "list1"
   ]
  },
  {
   "cell_type": "code",
   "execution_count": 15,
   "id": "f45f4682",
   "metadata": {},
   "outputs": [],
   "source": [
    "a=[]"
   ]
  },
  {
   "cell_type": "code",
   "execution_count": 18,
   "id": "22f336f0",
   "metadata": {},
   "outputs": [
    {
     "ename": "NameError",
     "evalue": "name 'x' is not defined",
     "output_type": "error",
     "traceback": [
      "\u001b[1;31m---------------------------------------------------------------------------\u001b[0m",
      "\u001b[1;31mNameError\u001b[0m                                 Traceback (most recent call last)",
      "Cell \u001b[1;32mIn[18], line 1\u001b[0m\n\u001b[1;32m----> 1\u001b[0m \u001b[38;5;28;01mif\u001b[39;00m x \u001b[38;5;129;01min\u001b[39;00m a():\n\u001b[0;32m      2\u001b[0m     \u001b[38;5;28mprint\u001b[39m(a)\n",
      "\u001b[1;31mNameError\u001b[0m: name 'x' is not defined"
     ]
    }
   ],
   "source": [
    "if x in a():\n",
    "    print(a)"
   ]
  },
  {
   "cell_type": "markdown",
   "id": "1d8771e1",
   "metadata": {},
   "source": [
    "# LOOPS & FUNTIONS"
   ]
  },
  {
   "cell_type": "code",
   "execution_count": 3,
   "id": "de101a09",
   "metadata": {},
   "outputs": [
    {
     "name": "stdout",
     "output_type": "stream",
     "text": [
      "1\n",
      "2\n",
      "3\n"
     ]
    }
   ],
   "source": [
    "for i in (1,2,3):\n",
    "    print(i)"
   ]
  },
  {
   "cell_type": "code",
   "execution_count": 6,
   "id": "ca1a3f72",
   "metadata": {},
   "outputs": [],
   "source": [
    "a=[1,2,3]"
   ]
  },
  {
   "cell_type": "code",
   "execution_count": 8,
   "id": "3b96d8e6",
   "metadata": {},
   "outputs": [
    {
     "name": "stdout",
     "output_type": "stream",
     "text": [
      "1\n",
      "2\n",
      "3\n"
     ]
    }
   ],
   "source": [
    "for i in a:\n",
    "    print(i)"
   ]
  },
  {
   "cell_type": "code",
   "execution_count": 9,
   "id": "b4b5349e",
   "metadata": {},
   "outputs": [
    {
     "data": {
      "text/plain": [
       "range(0, 10)"
      ]
     },
     "execution_count": 9,
     "metadata": {},
     "output_type": "execute_result"
    }
   ],
   "source": [
    "range(0,10)"
   ]
  },
  {
   "cell_type": "code",
   "execution_count": 10,
   "id": "31ef50fd",
   "metadata": {},
   "outputs": [
    {
     "data": {
      "text/plain": [
       "[1, 2, 3]"
      ]
     },
     "execution_count": 10,
     "metadata": {},
     "output_type": "execute_result"
    }
   ],
   "source": [
    "a"
   ]
  },
  {
   "cell_type": "code",
   "execution_count": 17,
   "id": "dbe3d1e6",
   "metadata": {},
   "outputs": [
    {
     "name": "stdout",
     "output_type": "stream",
     "text": [
      "0 1\n",
      "1 2\n",
      "2 3\n"
     ]
    }
   ],
   "source": [
    "for i in range(len(a)):\n",
    "    print(i,a[i])"
   ]
  },
  {
   "cell_type": "code",
   "execution_count": 18,
   "id": "26468b34",
   "metadata": {},
   "outputs": [
    {
     "name": "stdout",
     "output_type": "stream",
     "text": [
      "1\n",
      "3\n",
      "6\n",
      "10\n"
     ]
    }
   ],
   "source": [
    "i=1\n",
    "c=5\n",
    "sum=0\n",
    "while(i<c):\n",
    "    sum=sum+i\n",
    "    print(sum)\n",
    "    i=i+1\n"
   ]
  },
  {
   "cell_type": "code",
   "execution_count": 25,
   "id": "32792432",
   "metadata": {},
   "outputs": [
    {
     "name": "stdout",
     "output_type": "stream",
     "text": [
      "enter the number9\n",
      "true\n"
     ]
    }
   ],
   "source": [
    "a=int(input('enter the number'))\n",
    "if a<10:\n",
    "    print('true')\n",
    "else:\n",
    "    print('false')\n"
   ]
  },
  {
   "cell_type": "code",
   "execution_count": 32,
   "id": "7426d9b5",
   "metadata": {},
   "outputs": [
    {
     "name": "stdout",
     "output_type": "stream",
     "text": [
      "enter the number2\n",
      "even\n"
     ]
    }
   ],
   "source": [
    "i=int(input('enter the number'))\n",
    "if i%2==0:\n",
    "    print('even')\n",
    "else:\n",
    "    print('odd')\n",
    "        "
   ]
  },
  {
   "cell_type": "code",
   "execution_count": 33,
   "id": "5040a1a5",
   "metadata": {},
   "outputs": [],
   "source": [
    "a=[1,2,3,4,5,6]"
   ]
  },
  {
   "cell_type": "code",
   "execution_count": 42,
   "id": "55410026",
   "metadata": {},
   "outputs": [
    {
     "name": "stdout",
     "output_type": "stream",
     "text": [
      "odd\n",
      "even\n",
      "odd\n",
      "even\n",
      "odd\n",
      "even\n"
     ]
    }
   ],
   "source": [
    "for i in a:\n",
    "    if i%2==0:\n",
    "        print('even')\n",
    "    \n",
    "    \n",
    "    else:\n",
    "        print('odd')\n",
    "        \n",
    "    \n",
    "\n",
    "    \n"
   ]
  },
  {
   "cell_type": "code",
   "execution_count": 10,
   "id": "7bc84763",
   "metadata": {},
   "outputs": [],
   "source": [
    "def func(i):\n",
    "    if i==0:\n",
    "        return 1\n",
    "    else:\n",
    "        return (i-1)*i\n",
    "        "
   ]
  },
  {
   "cell_type": "code",
   "execution_count": 11,
   "id": "ab0f4dba",
   "metadata": {},
   "outputs": [
    {
     "data": {
      "text/plain": [
       "12"
      ]
     },
     "execution_count": 11,
     "metadata": {},
     "output_type": "execute_result"
    }
   ],
   "source": [
    "func(4)"
   ]
  },
  {
   "cell_type": "code",
   "execution_count": 8,
   "id": "192a5be8",
   "metadata": {},
   "outputs": [
    {
     "ename": "SyntaxError",
     "evalue": "expected ':' (2475260938.py, line 2)",
     "output_type": "error",
     "traceback": [
      "\u001b[1;36m  Cell \u001b[1;32mIn[8], line 2\u001b[1;36m\u001b[0m\n\u001b[1;33m    for i in range(0,count)\u001b[0m\n\u001b[1;37m                           ^\u001b[0m\n\u001b[1;31mSyntaxError\u001b[0m\u001b[1;31m:\u001b[0m expected ':'\n"
     ]
    }
   ],
   "source": [
    "count=int(input('enter the number'))\n",
    "for i in range(0,count)"
   ]
  },
  {
   "cell_type": "code",
   "execution_count": 14,
   "id": "1929f0de",
   "metadata": {},
   "outputs": [
    {
     "name": "stdout",
     "output_type": "stream",
     "text": [
      "Enter the count8\n",
      "Enter the values3\n"
     ]
    },
    {
     "ename": "NameError",
     "evalue": "name 'a' is not defined",
     "output_type": "error",
     "traceback": [
      "\u001b[1;31m---------------------------------------------------------------------------\u001b[0m",
      "\u001b[1;31mNameError\u001b[0m                                 Traceback (most recent call last)",
      "Cell \u001b[1;32mIn[14], line 4\u001b[0m\n\u001b[0;32m      2\u001b[0m \u001b[38;5;28;01mfor\u001b[39;00m i \u001b[38;5;129;01min\u001b[39;00m \u001b[38;5;28mrange\u001b[39m(\u001b[38;5;241m0\u001b[39m,count):\n\u001b[0;32m      3\u001b[0m     var\u001b[38;5;241m=\u001b[39m \u001b[38;5;28mint\u001b[39m(\u001b[38;5;28minput\u001b[39m(\u001b[38;5;124m'\u001b[39m\u001b[38;5;124mEnter the values\u001b[39m\u001b[38;5;124m'\u001b[39m))\n\u001b[1;32m----> 4\u001b[0m     a\u001b[38;5;241m.\u001b[39mappend(var)\n",
      "\u001b[1;31mNameError\u001b[0m: name 'a' is not defined"
     ]
    }
   ],
   "source": [
    "count= int(input('Enter the count'))\n",
    "for i in range(0,count):\n",
    "    var= int(input('Enter the values'))\n",
    "    a.append(var)"
   ]
  },
  {
   "cell_type": "markdown",
   "id": "a39b23ce",
   "metadata": {},
   "source": [
    "a=[]\n",
    "even=[]\n",
    "odd=[]\n",
    "float1=[]\n",
    "def fun(a):\n",
    "    for i in a:\n",
    "        if i%2==0:\n",
    "            even.append(i)\n",
    "        elif i%2==1:\n",
    "            odd.append(i)\n",
    "        else:\n",
    "            float1.append(i)\n",
    "    print(even,odd,float1)"
   ]
  },
  {
   "cell_type": "code",
   "execution_count": 15,
   "id": "7a500a46",
   "metadata": {},
   "outputs": [],
   "source": [
    "a=[]\n",
    "even=[]\n",
    "odd=[]\n",
    "float1=[]\n",
    "def fun(a):\n",
    "    for i in a:\n",
    "        if i%2==0:\n",
    "            even.append(i)\n",
    "        elif i%2==1:\n",
    "            odd.append(i)\n",
    "        else:\n",
    "            float1.append(i)\n",
    "    print(even,odd,float1)"
   ]
  },
  {
   "cell_type": "code",
   "execution_count": 16,
   "id": "1e32c0e5",
   "metadata": {},
   "outputs": [
    {
     "name": "stdout",
     "output_type": "stream",
     "text": [
      "[2, 4] [1, 3, 5] []\n"
     ]
    }
   ],
   "source": [
    "fun([1,2,3,4,5])"
   ]
  },
  {
   "cell_type": "code",
   "execution_count": null,
   "id": "23b00d76",
   "metadata": {},
   "outputs": [],
   "source": []
  }
 ],
 "metadata": {
  "kernelspec": {
   "display_name": "Python 3 (ipykernel)",
   "language": "python",
   "name": "python3"
  },
  "language_info": {
   "codemirror_mode": {
    "name": "ipython",
    "version": 3
   },
   "file_extension": ".py",
   "mimetype": "text/x-python",
   "name": "python",
   "nbconvert_exporter": "python",
   "pygments_lexer": "ipython3",
   "version": "3.11.4"
  }
 },
 "nbformat": 4,
 "nbformat_minor": 5
}
