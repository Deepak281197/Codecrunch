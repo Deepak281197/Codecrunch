{
 "cells": [
  {
   "cell_type": "markdown",
   "id": "43ae3f9f",
   "metadata": {},
   "source": [
    "## 2 tail Paired Test"
   ]
  },
  {
   "cell_type": "markdown",
   "id": "01f9d9d3",
   "metadata": {},
   "source": [
    " A study has conducted to determine the effectiveness of a weight base program. The table below shows the before and after weights of 10 subject in the program. A) Is the program effective for reducing weight? B) (use a 5% significant level) construct a 95% confidence interval and determine the margin of error."
   ]
  },
  {
   "cell_type": "code",
   "execution_count": 27,
   "id": "f8e38932",
   "metadata": {},
   "outputs": [],
   "source": [
    "before= [185,192,206,177,225,168,256,239,199,218]\n",
    "After= [169,187,193,176,194,171,228,217,204,195]"
   ]
  },
  {
   "cell_type": "code",
   "execution_count": 28,
   "id": "e4b651c9",
   "metadata": {},
   "outputs": [
    {
     "data": {
      "text/plain": [
       "[-16, -5, -13, -1, -31, 3, -28, -22, 5, -23]"
      ]
     },
     "execution_count": 28,
     "metadata": {},
     "output_type": "execute_result"
    }
   ],
   "source": [
    "diff=[]\n",
    "for i in range(len(After)):\n",
    "    diff.append(After[i]-before[i])\n",
    "diff"
   ]
  },
  {
   "cell_type": "code",
   "execution_count": 29,
   "id": "beb12cd3",
   "metadata": {},
   "outputs": [],
   "source": [
    "import numpy as np\n",
    "Xd_bar= np.mean(diff)"
   ]
  },
  {
   "cell_type": "code",
   "execution_count": 30,
   "id": "0d052753",
   "metadata": {},
   "outputs": [
    {
     "data": {
      "text/plain": [
       "-13.1"
      ]
     },
     "execution_count": 30,
     "metadata": {},
     "output_type": "execute_result"
    }
   ],
   "source": [
    "Xd_bar"
   ]
  },
  {
   "cell_type": "code",
   "execution_count": 33,
   "id": "dc6e4fd2",
   "metadata": {},
   "outputs": [
    {
     "data": {
      "text/plain": [
       "13.02518927139086"
      ]
     },
     "execution_count": 33,
     "metadata": {},
     "output_type": "execute_result"
    }
   ],
   "source": [
    "import math\n",
    "Sd_bar= (sum((diff-Xd_bar)**2))/9\n",
    "Sd_bar=math.sqrt(Sd_bar)\n",
    "Sd_bar"
   ]
  },
  {
   "cell_type": "code",
   "execution_count": 34,
   "id": "3ec06652",
   "metadata": {},
   "outputs": [],
   "source": [
    "import math\n",
    "tstats= Xd_bar/(Sd_bar/math.sqrt(10))"
   ]
  },
  {
   "cell_type": "code",
   "execution_count": 35,
   "id": "b1e33bd1",
   "metadata": {},
   "outputs": [
    {
     "data": {
      "text/plain": [
       "-3.180440336417639"
      ]
     },
     "execution_count": 35,
     "metadata": {},
     "output_type": "execute_result"
    }
   ],
   "source": [
    "tstats"
   ]
  },
  {
   "cell_type": "code",
   "execution_count": 36,
   "id": "9a3186b5",
   "metadata": {},
   "outputs": [],
   "source": [
    "import pandas as pd"
   ]
  },
  {
   "cell_type": "code",
   "execution_count": 37,
   "id": "47f06dc8",
   "metadata": {},
   "outputs": [],
   "source": [
    "df= pd.DataFrame({'before':[185,192,206,177,225,168,256,239,199,218],'After':[169,187,193,176,194,171,228,217,204,195]},index=[1,2,3,4,5,6,7,8,9,10])"
   ]
  },
  {
   "cell_type": "code",
   "execution_count": 38,
   "id": "2509d5df",
   "metadata": {},
   "outputs": [
    {
     "data": {
      "text/html": [
       "<div>\n",
       "<style scoped>\n",
       "    .dataframe tbody tr th:only-of-type {\n",
       "        vertical-align: middle;\n",
       "    }\n",
       "\n",
       "    .dataframe tbody tr th {\n",
       "        vertical-align: top;\n",
       "    }\n",
       "\n",
       "    .dataframe thead th {\n",
       "        text-align: right;\n",
       "    }\n",
       "</style>\n",
       "<table border=\"1\" class=\"dataframe\">\n",
       "  <thead>\n",
       "    <tr style=\"text-align: right;\">\n",
       "      <th></th>\n",
       "      <th>before</th>\n",
       "      <th>After</th>\n",
       "    </tr>\n",
       "  </thead>\n",
       "  <tbody>\n",
       "    <tr>\n",
       "      <th>1</th>\n",
       "      <td>185</td>\n",
       "      <td>169</td>\n",
       "    </tr>\n",
       "    <tr>\n",
       "      <th>2</th>\n",
       "      <td>192</td>\n",
       "      <td>187</td>\n",
       "    </tr>\n",
       "    <tr>\n",
       "      <th>3</th>\n",
       "      <td>206</td>\n",
       "      <td>193</td>\n",
       "    </tr>\n",
       "    <tr>\n",
       "      <th>4</th>\n",
       "      <td>177</td>\n",
       "      <td>176</td>\n",
       "    </tr>\n",
       "    <tr>\n",
       "      <th>5</th>\n",
       "      <td>225</td>\n",
       "      <td>194</td>\n",
       "    </tr>\n",
       "    <tr>\n",
       "      <th>6</th>\n",
       "      <td>168</td>\n",
       "      <td>171</td>\n",
       "    </tr>\n",
       "    <tr>\n",
       "      <th>7</th>\n",
       "      <td>256</td>\n",
       "      <td>228</td>\n",
       "    </tr>\n",
       "    <tr>\n",
       "      <th>8</th>\n",
       "      <td>239</td>\n",
       "      <td>217</td>\n",
       "    </tr>\n",
       "    <tr>\n",
       "      <th>9</th>\n",
       "      <td>199</td>\n",
       "      <td>204</td>\n",
       "    </tr>\n",
       "    <tr>\n",
       "      <th>10</th>\n",
       "      <td>218</td>\n",
       "      <td>195</td>\n",
       "    </tr>\n",
       "  </tbody>\n",
       "</table>\n",
       "</div>"
      ],
      "text/plain": [
       "    before  After\n",
       "1      185    169\n",
       "2      192    187\n",
       "3      206    193\n",
       "4      177    176\n",
       "5      225    194\n",
       "6      168    171\n",
       "7      256    228\n",
       "8      239    217\n",
       "9      199    204\n",
       "10     218    195"
      ]
     },
     "execution_count": 38,
     "metadata": {},
     "output_type": "execute_result"
    }
   ],
   "source": [
    "df"
   ]
  },
  {
   "cell_type": "code",
   "execution_count": 39,
   "id": "660844b2",
   "metadata": {},
   "outputs": [],
   "source": [
    "from scipy.stats import ttest_rel"
   ]
  },
  {
   "cell_type": "code",
   "execution_count": 40,
   "id": "a8191175",
   "metadata": {},
   "outputs": [
    {
     "data": {
      "text/plain": [
       "TtestResult(statistic=-3.180440336417639, pvalue=0.011176870661470717, df=9)"
      ]
     },
     "execution_count": 40,
     "metadata": {},
     "output_type": "execute_result"
    }
   ],
   "source": [
    "ttest_rel(df['After'],df['before'])"
   ]
  },
  {
   "cell_type": "code",
   "execution_count": 41,
   "id": "221808f4",
   "metadata": {},
   "outputs": [],
   "source": [
    "Margin_of_error= 2.262*(Sd_bar/math.sqrt(10))"
   ]
  },
  {
   "cell_type": "code",
   "execution_count": 42,
   "id": "9e90540e",
   "metadata": {},
   "outputs": [
    {
     "data": {
      "text/plain": [
       "9.317011754849299"
      ]
     },
     "execution_count": 42,
     "metadata": {},
     "output_type": "execute_result"
    }
   ],
   "source": [
    "Margin_of_error"
   ]
  },
  {
   "cell_type": "code",
   "execution_count": 43,
   "id": "712c949a",
   "metadata": {},
   "outputs": [],
   "source": [
    "upperlimit= Xd_bar+Margin_of_error"
   ]
  },
  {
   "cell_type": "code",
   "execution_count": 44,
   "id": "56129ee8",
   "metadata": {},
   "outputs": [
    {
     "data": {
      "text/plain": [
       "-3.782988245150701"
      ]
     },
     "execution_count": 44,
     "metadata": {},
     "output_type": "execute_result"
    }
   ],
   "source": [
    "upperlimit"
   ]
  },
  {
   "cell_type": "code",
   "execution_count": 45,
   "id": "f23973fc",
   "metadata": {},
   "outputs": [],
   "source": [
    "lowerlimit= Xd_bar- Margin_of_error"
   ]
  },
  {
   "cell_type": "code",
   "execution_count": 46,
   "id": "0ee1143c",
   "metadata": {},
   "outputs": [
    {
     "data": {
      "text/plain": [
       "-22.417011754849298"
      ]
     },
     "execution_count": 46,
     "metadata": {},
     "output_type": "execute_result"
    }
   ],
   "source": [
    "lowerlimit"
   ]
  },
  {
   "cell_type": "markdown",
   "id": "90503998",
   "metadata": {},
   "source": [
    "## Anova"
   ]
  },
  {
   "cell_type": "code",
   "execution_count": 47,
   "id": "f2bc9742",
   "metadata": {},
   "outputs": [],
   "source": [
    "a= [2,3,7,2,6]\n",
    "b=[10,8,7,5,10]\n",
    "c=[10,13,14,13,15]"
   ]
  },
  {
   "cell_type": "markdown",
   "id": "75233f24",
   "metadata": {},
   "source": [
    "## Variance within the group"
   ]
  },
  {
   "cell_type": "code",
   "execution_count": 48,
   "id": "2ff57baa",
   "metadata": {},
   "outputs": [
    {
     "data": {
      "text/plain": [
       "4.0"
      ]
     },
     "execution_count": 48,
     "metadata": {},
     "output_type": "execute_result"
    }
   ],
   "source": [
    "mean_a= np.mean(a)\n",
    "mean_a"
   ]
  },
  {
   "cell_type": "code",
   "execution_count": 49,
   "id": "e998dd9e",
   "metadata": {},
   "outputs": [
    {
     "data": {
      "text/plain": [
       "8.0"
      ]
     },
     "execution_count": 49,
     "metadata": {},
     "output_type": "execute_result"
    }
   ],
   "source": [
    "mean_b= np.mean(b)\n",
    "mean_b"
   ]
  },
  {
   "cell_type": "code",
   "execution_count": 50,
   "id": "60cb5939",
   "metadata": {},
   "outputs": [
    {
     "data": {
      "text/plain": [
       "13.0"
      ]
     },
     "execution_count": 50,
     "metadata": {},
     "output_type": "execute_result"
    }
   ],
   "source": [
    "mean_c= np.mean(c)\n",
    "mean_c"
   ]
  },
  {
   "cell_type": "code",
   "execution_count": 51,
   "id": "769efe6d",
   "metadata": {},
   "outputs": [],
   "source": [
    "sum_of_square_a= sum((a-mean_a)**2)"
   ]
  },
  {
   "cell_type": "code",
   "execution_count": 52,
   "id": "22fc9b5f",
   "metadata": {},
   "outputs": [
    {
     "data": {
      "text/plain": [
       "22.0"
      ]
     },
     "execution_count": 52,
     "metadata": {},
     "output_type": "execute_result"
    }
   ],
   "source": [
    "sum_of_square_a"
   ]
  },
  {
   "cell_type": "code",
   "execution_count": 53,
   "id": "a1d3a33f",
   "metadata": {},
   "outputs": [],
   "source": [
    "sum_of_square_b= sum((b-mean_b)**2)"
   ]
  },
  {
   "cell_type": "code",
   "execution_count": 54,
   "id": "d8e107a6",
   "metadata": {},
   "outputs": [
    {
     "data": {
      "text/plain": [
       "18.0"
      ]
     },
     "execution_count": 54,
     "metadata": {},
     "output_type": "execute_result"
    }
   ],
   "source": [
    "sum_of_square_b"
   ]
  },
  {
   "cell_type": "code",
   "execution_count": 55,
   "id": "c5874a5a",
   "metadata": {},
   "outputs": [],
   "source": [
    "sum_of_square_c= sum((c-mean_c)**2)"
   ]
  },
  {
   "cell_type": "code",
   "execution_count": 56,
   "id": "c69fe71e",
   "metadata": {},
   "outputs": [
    {
     "data": {
      "text/plain": [
       "14.0"
      ]
     },
     "execution_count": 56,
     "metadata": {},
     "output_type": "execute_result"
    }
   ],
   "source": [
    "sum_of_square_c"
   ]
  },
  {
   "cell_type": "code",
   "execution_count": 74,
   "id": "d4a8bbb6",
   "metadata": {},
   "outputs": [],
   "source": [
    "variance_within_group= sum_of_square_a+sum_of_square_b+sum_of_square_c"
   ]
  },
  {
   "cell_type": "code",
   "execution_count": 75,
   "id": "9e34e470",
   "metadata": {},
   "outputs": [
    {
     "data": {
      "text/plain": [
       "54.0"
      ]
     },
     "execution_count": 75,
     "metadata": {},
     "output_type": "execute_result"
    }
   ],
   "source": [
    "variance_within_group"
   ]
  },
  {
   "cell_type": "code",
   "execution_count": 76,
   "id": "411fd407",
   "metadata": {},
   "outputs": [
    {
     "data": {
      "text/plain": [
       "8.333333333333334"
      ]
     },
     "execution_count": 76,
     "metadata": {},
     "output_type": "execute_result"
    }
   ],
   "source": [
    "overall_mean= (mean_a+mean_b+mean_c)/3\n",
    "overall_mean"
   ]
  },
  {
   "cell_type": "markdown",
   "id": "2004bea1",
   "metadata": {},
   "source": [
    "## Vairance between group"
   ]
  },
  {
   "cell_type": "code",
   "execution_count": 60,
   "id": "82380467",
   "metadata": {},
   "outputs": [],
   "source": [
    "variance_bet_group= 5*((overall_mean-mean_a)**2) + 5*((overall_mean-mean_b)**2) + 5*((overall_mean-mean_c)**2)"
   ]
  },
  {
   "cell_type": "code",
   "execution_count": 77,
   "id": "dbdbf89f",
   "metadata": {},
   "outputs": [
    {
     "data": {
      "text/plain": [
       "203.33333333333331"
      ]
     },
     "execution_count": 77,
     "metadata": {},
     "output_type": "execute_result"
    }
   ],
   "source": [
    "variance_bet_group\n"
   ]
  },
  {
   "cell_type": "code",
   "execution_count": 78,
   "id": "d46da39d",
   "metadata": {},
   "outputs": [],
   "source": [
    "F_Stats= (variance_bet_group/2)/(Total_sum_square/12)"
   ]
  },
  {
   "cell_type": "code",
   "execution_count": 79,
   "id": "b55a338e",
   "metadata": {},
   "outputs": [
    {
     "data": {
      "text/plain": [
       "22.59259259259259"
      ]
     },
     "execution_count": 79,
     "metadata": {},
     "output_type": "execute_result"
    }
   ],
   "source": [
    "F_Stats"
   ]
  },
  {
   "cell_type": "code",
   "execution_count": 80,
   "id": "f8d88b57",
   "metadata": {},
   "outputs": [
    {
     "data": {
      "text/plain": [
       "F_onewayResult(statistic=22.59259259259259, pvalue=8.538592454274676e-05)"
      ]
     },
     "execution_count": 80,
     "metadata": {},
     "output_type": "execute_result"
    }
   ],
   "source": [
    "stats.f_oneway(a,b,c)"
   ]
  },
  {
   "cell_type": "code",
   "execution_count": 65,
   "id": "61ccdb96",
   "metadata": {},
   "outputs": [],
   "source": [
    "Total_variance= [2,3,7,2,6,10,8,7,5,10,10,13,14,13,15]\n"
   ]
  },
  {
   "cell_type": "code",
   "execution_count": 67,
   "id": "19e2542f",
   "metadata": {},
   "outputs": [],
   "source": [
    "mean_tot= np.mean(Total_variance)"
   ]
  },
  {
   "cell_type": "code",
   "execution_count": 68,
   "id": "f04dc4d0",
   "metadata": {},
   "outputs": [
    {
     "data": {
      "text/plain": [
       "8.333333333333334"
      ]
     },
     "execution_count": 68,
     "metadata": {},
     "output_type": "execute_result"
    }
   ],
   "source": [
    "mean_tot"
   ]
  },
  {
   "cell_type": "code",
   "execution_count": 69,
   "id": "07d851f3",
   "metadata": {},
   "outputs": [],
   "source": [
    "var= (sum((Total_variance-mean_tot)**2))"
   ]
  },
  {
   "cell_type": "code",
   "execution_count": 70,
   "id": "a3bb7107",
   "metadata": {},
   "outputs": [
    {
     "data": {
      "text/plain": [
       "257.33333333333337"
      ]
     },
     "execution_count": 70,
     "metadata": {},
     "output_type": "execute_result"
    }
   ],
   "source": [
    "var"
   ]
  },
  {
   "cell_type": "code",
   "execution_count": 71,
   "id": "c051d822",
   "metadata": {},
   "outputs": [
    {
     "data": {
      "text/plain": [
       "-0.0033333333333303017"
      ]
     },
     "execution_count": 71,
     "metadata": {},
     "output_type": "execute_result"
    }
   ],
   "source": [
    "257.33-(variance_bet_group + 54)"
   ]
  },
  {
   "cell_type": "code",
   "execution_count": 81,
   "id": "1d8949df",
   "metadata": {},
   "outputs": [],
   "source": [
    "df= pd.read_csv('Plant_growth.csv')"
   ]
  },
  {
   "cell_type": "code",
   "execution_count": 82,
   "id": "f684fab0",
   "metadata": {},
   "outputs": [
    {
     "data": {
      "text/html": [
       "<div>\n",
       "<style scoped>\n",
       "    .dataframe tbody tr th:only-of-type {\n",
       "        vertical-align: middle;\n",
       "    }\n",
       "\n",
       "    .dataframe tbody tr th {\n",
       "        vertical-align: top;\n",
       "    }\n",
       "\n",
       "    .dataframe thead th {\n",
       "        text-align: right;\n",
       "    }\n",
       "</style>\n",
       "<table border=\"1\" class=\"dataframe\">\n",
       "  <thead>\n",
       "    <tr style=\"text-align: right;\">\n",
       "      <th></th>\n",
       "      <th>weight</th>\n",
       "      <th>treatment_type</th>\n",
       "    </tr>\n",
       "  </thead>\n",
       "  <tbody>\n",
       "    <tr>\n",
       "      <th>0</th>\n",
       "      <td>4.17</td>\n",
       "      <td>ctrl</td>\n",
       "    </tr>\n",
       "    <tr>\n",
       "      <th>1</th>\n",
       "      <td>5.58</td>\n",
       "      <td>ctrl</td>\n",
       "    </tr>\n",
       "    <tr>\n",
       "      <th>2</th>\n",
       "      <td>5.18</td>\n",
       "      <td>ctrl</td>\n",
       "    </tr>\n",
       "    <tr>\n",
       "      <th>3</th>\n",
       "      <td>6.11</td>\n",
       "      <td>ctrl</td>\n",
       "    </tr>\n",
       "    <tr>\n",
       "      <th>4</th>\n",
       "      <td>4.50</td>\n",
       "      <td>ctrl</td>\n",
       "    </tr>\n",
       "  </tbody>\n",
       "</table>\n",
       "</div>"
      ],
      "text/plain": [
       "   weight treatment_type\n",
       "0    4.17           ctrl\n",
       "1    5.58           ctrl\n",
       "2    5.18           ctrl\n",
       "3    6.11           ctrl\n",
       "4    4.50           ctrl"
      ]
     },
     "execution_count": 82,
     "metadata": {},
     "output_type": "execute_result"
    }
   ],
   "source": [
    "df.head()"
   ]
  },
  {
   "cell_type": "code",
   "execution_count": 84,
   "id": "44bd9f53",
   "metadata": {},
   "outputs": [
    {
     "data": {
      "text/plain": [
       "(30, 2)"
      ]
     },
     "execution_count": 84,
     "metadata": {},
     "output_type": "execute_result"
    }
   ],
   "source": [
    "df.shape"
   ]
  },
  {
   "cell_type": "code",
   "execution_count": 85,
   "id": "01f4f8ea",
   "metadata": {},
   "outputs": [
    {
     "data": {
      "text/plain": [
       "ctrl    10\n",
       "trt1    10\n",
       "trt2    10\n",
       "Name: treatment_type, dtype: int64"
      ]
     },
     "execution_count": 85,
     "metadata": {},
     "output_type": "execute_result"
    }
   ],
   "source": [
    "df.treatment_type.value_counts()"
   ]
  },
  {
   "cell_type": "code",
   "execution_count": 86,
   "id": "08c8edba",
   "metadata": {},
   "outputs": [],
   "source": [
    "ctrl_sample1= df[df.treatment_type=='ctrl']['weight']"
   ]
  },
  {
   "cell_type": "code",
   "execution_count": 87,
   "id": "04861fb7",
   "metadata": {},
   "outputs": [
    {
     "data": {
      "text/plain": [
       "0    4.17\n",
       "1    5.58\n",
       "2    5.18\n",
       "3    6.11\n",
       "4    4.50\n",
       "5    4.61\n",
       "6    5.17\n",
       "7    4.53\n",
       "8    5.33\n",
       "9    5.14\n",
       "Name: weight, dtype: float64"
      ]
     },
     "execution_count": 87,
     "metadata": {},
     "output_type": "execute_result"
    }
   ],
   "source": [
    "ctrl_sample1"
   ]
  },
  {
   "cell_type": "code",
   "execution_count": 93,
   "id": "699f92e8",
   "metadata": {},
   "outputs": [],
   "source": [
    "trtl_sample2= df[df.treatment_type=='trt1']['weight']"
   ]
  },
  {
   "cell_type": "code",
   "execution_count": 94,
   "id": "abf73c9e",
   "metadata": {},
   "outputs": [
    {
     "data": {
      "text/plain": [
       "10    4.81\n",
       "11    4.17\n",
       "12    4.41\n",
       "13    3.59\n",
       "14    5.87\n",
       "15    3.83\n",
       "16    6.03\n",
       "17    4.89\n",
       "18    4.32\n",
       "19    4.69\n",
       "Name: weight, dtype: float64"
      ]
     },
     "execution_count": 94,
     "metadata": {},
     "output_type": "execute_result"
    }
   ],
   "source": [
    "trtl_sample2"
   ]
  },
  {
   "cell_type": "code",
   "execution_count": 95,
   "id": "c0fb47d5",
   "metadata": {},
   "outputs": [],
   "source": [
    "trt2_sample3= df[df.treatment_type=='trt2']['weight']"
   ]
  },
  {
   "cell_type": "code",
   "execution_count": 96,
   "id": "ebda8596",
   "metadata": {},
   "outputs": [
    {
     "data": {
      "text/plain": [
       "20    6.31\n",
       "21    5.12\n",
       "22    5.54\n",
       "23    5.50\n",
       "24    5.37\n",
       "25    5.29\n",
       "26    4.92\n",
       "27    6.15\n",
       "28    5.80\n",
       "29    5.26\n",
       "Name: weight, dtype: float64"
      ]
     },
     "execution_count": 96,
     "metadata": {},
     "output_type": "execute_result"
    }
   ],
   "source": [
    "trt2_sample3"
   ]
  },
  {
   "cell_type": "code",
   "execution_count": 97,
   "id": "a43a2747",
   "metadata": {},
   "outputs": [
    {
     "data": {
      "text/plain": [
       "F_onewayResult(statistic=4.846087862380136, pvalue=0.0159099583256229)"
      ]
     },
     "execution_count": 97,
     "metadata": {},
     "output_type": "execute_result"
    }
   ],
   "source": [
    "stats.f_oneway(ctrl_sample1,trtl_sample2,trt2_sample3)"
   ]
  },
  {
   "cell_type": "markdown",
   "id": "495a05fb",
   "metadata": {},
   "source": [
    "## Chisquare Test"
   ]
  },
  {
   "cell_type": "code",
   "execution_count": 98,
   "id": "55a52e97",
   "metadata": {},
   "outputs": [],
   "source": [
    "expected_value= [100,100,100,100,100,100]"
   ]
  },
  {
   "cell_type": "code",
   "execution_count": 99,
   "id": "8c972f0f",
   "metadata": {},
   "outputs": [],
   "source": [
    "observed_value=[75,125,50,150,80,120]"
   ]
  },
  {
   "cell_type": "code",
   "execution_count": 100,
   "id": "9ddde938",
   "metadata": {},
   "outputs": [
    {
     "data": {
      "text/plain": [
       "Power_divergenceResult(statistic=88.33333333333333, pvalue=1.504286301021788e-17)"
      ]
     },
     "execution_count": 100,
     "metadata": {},
     "output_type": "execute_result"
    }
   ],
   "source": [
    "stats.chisquare(expected_value,observed_value)"
   ]
  },
  {
   "cell_type": "code",
   "execution_count": 101,
   "id": "7fe02c8f",
   "metadata": {},
   "outputs": [],
   "source": [
    "df= pd.read_csv('Voting_pattern.csv')"
   ]
  },
  {
   "cell_type": "code",
   "execution_count": 102,
   "id": "c440334e",
   "metadata": {},
   "outputs": [
    {
     "data": {
      "text/html": [
       "<div>\n",
       "<style scoped>\n",
       "    .dataframe tbody tr th:only-of-type {\n",
       "        vertical-align: middle;\n",
       "    }\n",
       "\n",
       "    .dataframe tbody tr th {\n",
       "        vertical-align: top;\n",
       "    }\n",
       "\n",
       "    .dataframe thead th {\n",
       "        text-align: right;\n",
       "    }\n",
       "</style>\n",
       "<table border=\"1\" class=\"dataframe\">\n",
       "  <thead>\n",
       "    <tr style=\"text-align: right;\">\n",
       "      <th></th>\n",
       "      <th>RACE</th>\n",
       "      <th>PARTY</th>\n",
       "    </tr>\n",
       "  </thead>\n",
       "  <tbody>\n",
       "    <tr>\n",
       "      <th>0</th>\n",
       "      <td>WHITE</td>\n",
       "      <td>PQR</td>\n",
       "    </tr>\n",
       "    <tr>\n",
       "      <th>1</th>\n",
       "      <td>WHITE</td>\n",
       "      <td>PQR</td>\n",
       "    </tr>\n",
       "    <tr>\n",
       "      <th>2</th>\n",
       "      <td>WHITE</td>\n",
       "      <td>ABC</td>\n",
       "    </tr>\n",
       "    <tr>\n",
       "      <th>3</th>\n",
       "      <td>HISPANIC</td>\n",
       "      <td>ABC</td>\n",
       "    </tr>\n",
       "    <tr>\n",
       "      <th>4</th>\n",
       "      <td>ASIAN</td>\n",
       "      <td>ABC</td>\n",
       "    </tr>\n",
       "    <tr>\n",
       "      <th>...</th>\n",
       "      <td>...</td>\n",
       "      <td>...</td>\n",
       "    </tr>\n",
       "    <tr>\n",
       "      <th>995</th>\n",
       "      <td>HISPANIC</td>\n",
       "      <td>PQR</td>\n",
       "    </tr>\n",
       "    <tr>\n",
       "      <th>996</th>\n",
       "      <td>WHITE</td>\n",
       "      <td>PQR</td>\n",
       "    </tr>\n",
       "    <tr>\n",
       "      <th>997</th>\n",
       "      <td>WHITE</td>\n",
       "      <td>PQR</td>\n",
       "    </tr>\n",
       "    <tr>\n",
       "      <th>998</th>\n",
       "      <td>HISPANIC</td>\n",
       "      <td>ABC</td>\n",
       "    </tr>\n",
       "    <tr>\n",
       "      <th>999</th>\n",
       "      <td>WHITE</td>\n",
       "      <td>PQR</td>\n",
       "    </tr>\n",
       "  </tbody>\n",
       "</table>\n",
       "<p>1000 rows × 2 columns</p>\n",
       "</div>"
      ],
      "text/plain": [
       "         RACE PARTY\n",
       "0       WHITE   PQR\n",
       "1       WHITE   PQR\n",
       "2       WHITE   ABC\n",
       "3    HISPANIC   ABC\n",
       "4       ASIAN   ABC\n",
       "..        ...   ...\n",
       "995  HISPANIC   PQR\n",
       "996     WHITE   PQR\n",
       "997     WHITE   PQR\n",
       "998  HISPANIC   ABC\n",
       "999     WHITE   PQR\n",
       "\n",
       "[1000 rows x 2 columns]"
      ]
     },
     "execution_count": 102,
     "metadata": {},
     "output_type": "execute_result"
    }
   ],
   "source": [
    "df"
   ]
  },
  {
   "cell_type": "code",
   "execution_count": 109,
   "id": "32e9137f",
   "metadata": {},
   "outputs": [],
   "source": [
    "vot= pd.crosstab(index=df.RACE, columns=df.PARTY)"
   ]
  },
  {
   "cell_type": "code",
   "execution_count": 110,
   "id": "706190e1",
   "metadata": {},
   "outputs": [
    {
     "data": {
      "text/html": [
       "<div>\n",
       "<style scoped>\n",
       "    .dataframe tbody tr th:only-of-type {\n",
       "        vertical-align: middle;\n",
       "    }\n",
       "\n",
       "    .dataframe tbody tr th {\n",
       "        vertical-align: top;\n",
       "    }\n",
       "\n",
       "    .dataframe thead th {\n",
       "        text-align: right;\n",
       "    }\n",
       "</style>\n",
       "<table border=\"1\" class=\"dataframe\">\n",
       "  <thead>\n",
       "    <tr style=\"text-align: right;\">\n",
       "      <th>PARTY</th>\n",
       "      <th>ABC</th>\n",
       "      <th>PQR</th>\n",
       "      <th>XYZ</th>\n",
       "    </tr>\n",
       "    <tr>\n",
       "      <th>RACE</th>\n",
       "      <th></th>\n",
       "      <th></th>\n",
       "      <th></th>\n",
       "    </tr>\n",
       "  </thead>\n",
       "  <tbody>\n",
       "    <tr>\n",
       "      <th>ASIAN</th>\n",
       "      <td>19</td>\n",
       "      <td>15</td>\n",
       "      <td>8</td>\n",
       "    </tr>\n",
       "    <tr>\n",
       "      <th>African American</th>\n",
       "      <td>60</td>\n",
       "      <td>59</td>\n",
       "      <td>32</td>\n",
       "    </tr>\n",
       "    <tr>\n",
       "      <th>HISPANIC</th>\n",
       "      <td>105</td>\n",
       "      <td>86</td>\n",
       "      <td>45</td>\n",
       "    </tr>\n",
       "    <tr>\n",
       "      <th>OTHER</th>\n",
       "      <td>12</td>\n",
       "      <td>17</td>\n",
       "      <td>8</td>\n",
       "    </tr>\n",
       "    <tr>\n",
       "      <th>WHITE</th>\n",
       "      <td>207</td>\n",
       "      <td>227</td>\n",
       "      <td>100</td>\n",
       "    </tr>\n",
       "  </tbody>\n",
       "</table>\n",
       "</div>"
      ],
      "text/plain": [
       "PARTY             ABC  PQR  XYZ\n",
       "RACE                           \n",
       "ASIAN              19   15    8\n",
       "African American   60   59   32\n",
       "HISPANIC          105   86   45\n",
       "OTHER              12   17    8\n",
       "WHITE             207  227  100"
      ]
     },
     "execution_count": 110,
     "metadata": {},
     "output_type": "execute_result"
    }
   ],
   "source": [
    "vot"
   ]
  },
  {
   "cell_type": "code",
   "execution_count": 107,
   "id": "75406be5",
   "metadata": {},
   "outputs": [
    {
     "data": {
      "text/plain": [
       "16.926"
      ]
     },
     "execution_count": 107,
     "metadata": {},
     "output_type": "execute_result"
    }
   ],
   "source": [
    "(42*403)/1000"
   ]
  },
  {
   "cell_type": "code",
   "execution_count": 108,
   "id": "8a966ce6",
   "metadata": {},
   "outputs": [
    {
     "data": {
      "text/plain": [
       "16.968"
      ]
     },
     "execution_count": 108,
     "metadata": {},
     "output_type": "execute_result"
    }
   ],
   "source": [
    "(42*404)/1000"
   ]
  },
  {
   "cell_type": "code",
   "execution_count": 111,
   "id": "35039fc9",
   "metadata": {},
   "outputs": [
    {
     "data": {
      "text/plain": [
       "Chi2ContingencyResult(statistic=4.737839473077469, pvalue=0.7851934085104637, dof=8, expected_freq=array([[ 16.926,  16.968,   8.106],\n",
       "       [ 60.853,  61.004,  29.143],\n",
       "       [ 95.108,  95.344,  45.548],\n",
       "       [ 14.911,  14.948,   7.141],\n",
       "       [215.202, 215.736, 103.062]]))"
      ]
     },
     "execution_count": 111,
     "metadata": {},
     "output_type": "execute_result"
    }
   ],
   "source": [
    "stats.chi2_contingency(vot)"
   ]
  },
  {
   "cell_type": "code",
   "execution_count": null,
   "id": "733fe91b",
   "metadata": {},
   "outputs": [],
   "source": []
  }
 ],
 "metadata": {
  "kernelspec": {
   "display_name": "Python 3 (ipykernel)",
   "language": "python",
   "name": "python3"
  },
  "language_info": {
   "codemirror_mode": {
    "name": "ipython",
    "version": 3
   },
   "file_extension": ".py",
   "mimetype": "text/x-python",
   "name": "python",
   "nbconvert_exporter": "python",
   "pygments_lexer": "ipython3",
   "version": "3.11.4"
  }
 },
 "nbformat": 4,
 "nbformat_minor": 5
}
