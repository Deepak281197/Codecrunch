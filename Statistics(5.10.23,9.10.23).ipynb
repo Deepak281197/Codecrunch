{
 "cells": [
  {
   "cell_type": "code",
   "execution_count": 1,
   "id": "c69fefc1",
   "metadata": {},
   "outputs": [],
   "source": [
    "import pandas as pd"
   ]
  },
  {
   "cell_type": "code",
   "execution_count": 2,
   "id": "02e8703a",
   "metadata": {},
   "outputs": [],
   "source": [
    "df= pd.read_csv('CARS_1.csv')"
   ]
  },
  {
   "cell_type": "code",
   "execution_count": 3,
   "id": "65eccb63",
   "metadata": {},
   "outputs": [
    {
     "data": {
      "text/html": [
       "<div>\n",
       "<style scoped>\n",
       "    .dataframe tbody tr th:only-of-type {\n",
       "        vertical-align: middle;\n",
       "    }\n",
       "\n",
       "    .dataframe tbody tr th {\n",
       "        vertical-align: top;\n",
       "    }\n",
       "\n",
       "    .dataframe thead th {\n",
       "        text-align: right;\n",
       "    }\n",
       "</style>\n",
       "<table border=\"1\" class=\"dataframe\">\n",
       "  <thead>\n",
       "    <tr style=\"text-align: right;\">\n",
       "      <th></th>\n",
       "      <th>name_of_car</th>\n",
       "      <th>Model</th>\n",
       "      <th>Type</th>\n",
       "      <th>Origin</th>\n",
       "      <th>DriveTrain</th>\n",
       "      <th>MSRP</th>\n",
       "      <th>Invoice</th>\n",
       "      <th>EngineSize</th>\n",
       "      <th>Cylinders</th>\n",
       "      <th>Horsepower</th>\n",
       "      <th>MPG_City</th>\n",
       "      <th>MPG_Highway</th>\n",
       "      <th>Weight</th>\n",
       "      <th>Wheelbase</th>\n",
       "      <th>Length</th>\n",
       "      <th>Unnamed: 15</th>\n",
       "    </tr>\n",
       "  </thead>\n",
       "  <tbody>\n",
       "    <tr>\n",
       "      <th>0</th>\n",
       "      <td>Acura</td>\n",
       "      <td>NSX coupe 2dr manual S</td>\n",
       "      <td>Sports</td>\n",
       "      <td>Asia</td>\n",
       "      <td>Rear</td>\n",
       "      <td>$89,765</td>\n",
       "      <td>$79,978</td>\n",
       "      <td>3.2</td>\n",
       "      <td>6.0</td>\n",
       "      <td>290.0</td>\n",
       "      <td>17.0</td>\n",
       "      <td>24.0</td>\n",
       "      <td>3153.0</td>\n",
       "      <td>100.0</td>\n",
       "      <td>174.0</td>\n",
       "      <td>NaN</td>\n",
       "    </tr>\n",
       "    <tr>\n",
       "      <th>1</th>\n",
       "      <td>Acura</td>\n",
       "      <td>3.5 RL w/Navigation 4dr</td>\n",
       "      <td>Sedan</td>\n",
       "      <td>Asia</td>\n",
       "      <td>Front</td>\n",
       "      <td>$46,100</td>\n",
       "      <td>$41,100</td>\n",
       "      <td>3.5</td>\n",
       "      <td>6.0</td>\n",
       "      <td>225.0</td>\n",
       "      <td>18.0</td>\n",
       "      <td>24.0</td>\n",
       "      <td>3893.0</td>\n",
       "      <td>115.0</td>\n",
       "      <td>197.0</td>\n",
       "      <td>NaN</td>\n",
       "    </tr>\n",
       "    <tr>\n",
       "      <th>2</th>\n",
       "      <td>Acura</td>\n",
       "      <td>3.5 RL 4dr</td>\n",
       "      <td>Sedan</td>\n",
       "      <td>Asia</td>\n",
       "      <td>Front</td>\n",
       "      <td>$43,755</td>\n",
       "      <td>$39,014</td>\n",
       "      <td>3.5</td>\n",
       "      <td>6.0</td>\n",
       "      <td>225.0</td>\n",
       "      <td>18.0</td>\n",
       "      <td>24.0</td>\n",
       "      <td>3880.0</td>\n",
       "      <td>115.0</td>\n",
       "      <td>197.0</td>\n",
       "      <td>NaN</td>\n",
       "    </tr>\n",
       "    <tr>\n",
       "      <th>3</th>\n",
       "      <td>Acura</td>\n",
       "      <td>MDX</td>\n",
       "      <td>NaN</td>\n",
       "      <td>Asia</td>\n",
       "      <td>All</td>\n",
       "      <td>$36,945</td>\n",
       "      <td>NaN</td>\n",
       "      <td>3.5</td>\n",
       "      <td>6.0</td>\n",
       "      <td>265.0</td>\n",
       "      <td>17.0</td>\n",
       "      <td>23.0</td>\n",
       "      <td>4451.0</td>\n",
       "      <td>106.0</td>\n",
       "      <td>189.0</td>\n",
       "      <td>NaN</td>\n",
       "    </tr>\n",
       "    <tr>\n",
       "      <th>4</th>\n",
       "      <td>Acura</td>\n",
       "      <td>TL 4dr</td>\n",
       "      <td>NaN</td>\n",
       "      <td>Asia</td>\n",
       "      <td>Front</td>\n",
       "      <td>$33,195</td>\n",
       "      <td>NaN</td>\n",
       "      <td>3.2</td>\n",
       "      <td>6.0</td>\n",
       "      <td>270.0</td>\n",
       "      <td>20.0</td>\n",
       "      <td>28.0</td>\n",
       "      <td>3575.0</td>\n",
       "      <td>108.0</td>\n",
       "      <td>186.0</td>\n",
       "      <td>NaN</td>\n",
       "    </tr>\n",
       "    <tr>\n",
       "      <th>...</th>\n",
       "      <td>...</td>\n",
       "      <td>...</td>\n",
       "      <td>...</td>\n",
       "      <td>...</td>\n",
       "      <td>...</td>\n",
       "      <td>...</td>\n",
       "      <td>...</td>\n",
       "      <td>...</td>\n",
       "      <td>...</td>\n",
       "      <td>...</td>\n",
       "      <td>...</td>\n",
       "      <td>...</td>\n",
       "      <td>...</td>\n",
       "      <td>...</td>\n",
       "      <td>...</td>\n",
       "      <td>...</td>\n",
       "    </tr>\n",
       "    <tr>\n",
       "      <th>438</th>\n",
       "      <td>NaN</td>\n",
       "      <td>NaN</td>\n",
       "      <td>NaN</td>\n",
       "      <td>NaN</td>\n",
       "      <td>NaN</td>\n",
       "      <td>NaN</td>\n",
       "      <td>NaN</td>\n",
       "      <td>NaN</td>\n",
       "      <td>NaN</td>\n",
       "      <td>NaN</td>\n",
       "      <td>NaN</td>\n",
       "      <td>NaN</td>\n",
       "      <td>NaN</td>\n",
       "      <td>NaN</td>\n",
       "      <td>NaN</td>\n",
       "      <td>NaN</td>\n",
       "    </tr>\n",
       "    <tr>\n",
       "      <th>439</th>\n",
       "      <td>NaN</td>\n",
       "      <td>NaN</td>\n",
       "      <td>NaN</td>\n",
       "      <td>NaN</td>\n",
       "      <td>NaN</td>\n",
       "      <td>NaN</td>\n",
       "      <td>NaN</td>\n",
       "      <td>NaN</td>\n",
       "      <td>NaN</td>\n",
       "      <td>NaN</td>\n",
       "      <td>NaN</td>\n",
       "      <td>NaN</td>\n",
       "      <td>NaN</td>\n",
       "      <td>NaN</td>\n",
       "      <td>NaN</td>\n",
       "      <td>NaN</td>\n",
       "    </tr>\n",
       "    <tr>\n",
       "      <th>440</th>\n",
       "      <td>NaN</td>\n",
       "      <td>group by</td>\n",
       "      <td>1) data will split</td>\n",
       "      <td>NaN</td>\n",
       "      <td>NaN</td>\n",
       "      <td>NaN</td>\n",
       "      <td>NaN</td>\n",
       "      <td>NaN</td>\n",
       "      <td>NaN</td>\n",
       "      <td>NaN</td>\n",
       "      <td>NaN</td>\n",
       "      <td>NaN</td>\n",
       "      <td>NaN</td>\n",
       "      <td>NaN</td>\n",
       "      <td>NaN</td>\n",
       "      <td>NaN</td>\n",
       "    </tr>\n",
       "    <tr>\n",
       "      <th>441</th>\n",
       "      <td>NaN</td>\n",
       "      <td>NaN</td>\n",
       "      <td>2) apply the function mean(mpg)</td>\n",
       "      <td>NaN</td>\n",
       "      <td>NaN</td>\n",
       "      <td>NaN</td>\n",
       "      <td>NaN</td>\n",
       "      <td>NaN</td>\n",
       "      <td>NaN</td>\n",
       "      <td>NaN</td>\n",
       "      <td>NaN</td>\n",
       "      <td>NaN</td>\n",
       "      <td>NaN</td>\n",
       "      <td>NaN</td>\n",
       "      <td>NaN</td>\n",
       "      <td>NaN</td>\n",
       "    </tr>\n",
       "    <tr>\n",
       "      <th>442</th>\n",
       "      <td>NaN</td>\n",
       "      <td>NaN</td>\n",
       "      <td>3) combine</td>\n",
       "      <td>NaN</td>\n",
       "      <td>NaN</td>\n",
       "      <td>NaN</td>\n",
       "      <td>NaN</td>\n",
       "      <td>NaN</td>\n",
       "      <td>NaN</td>\n",
       "      <td>NaN</td>\n",
       "      <td>NaN</td>\n",
       "      <td>NaN</td>\n",
       "      <td>NaN</td>\n",
       "      <td>NaN</td>\n",
       "      <td>NaN</td>\n",
       "      <td>NaN</td>\n",
       "    </tr>\n",
       "  </tbody>\n",
       "</table>\n",
       "<p>443 rows × 16 columns</p>\n",
       "</div>"
      ],
      "text/plain": [
       "    name_of_car                    Model                             Type  \\\n",
       "0         Acura   NSX coupe 2dr manual S                           Sports   \n",
       "1         Acura  3.5 RL w/Navigation 4dr                            Sedan   \n",
       "2         Acura               3.5 RL 4dr                            Sedan   \n",
       "3         Acura                      MDX                              NaN   \n",
       "4         Acura                   TL 4dr                              NaN   \n",
       "..          ...                      ...                              ...   \n",
       "438         NaN                      NaN                              NaN   \n",
       "439         NaN                      NaN                              NaN   \n",
       "440         NaN                group by                1) data will split   \n",
       "441         NaN                      NaN  2) apply the function mean(mpg)   \n",
       "442         NaN                      NaN                       3) combine   \n",
       "\n",
       "    Origin DriveTrain      MSRP   Invoice  EngineSize  Cylinders  Horsepower  \\\n",
       "0     Asia       Rear  $89,765   $79,978          3.2        6.0       290.0   \n",
       "1     Asia      Front  $46,100   $41,100          3.5        6.0       225.0   \n",
       "2     Asia      Front  $43,755   $39,014          3.5        6.0       225.0   \n",
       "3     Asia        All  $36,945        NaN         3.5        6.0       265.0   \n",
       "4     Asia      Front  $33,195        NaN         3.2        6.0       270.0   \n",
       "..     ...        ...       ...       ...         ...        ...         ...   \n",
       "438    NaN        NaN       NaN       NaN         NaN        NaN         NaN   \n",
       "439    NaN        NaN       NaN       NaN         NaN        NaN         NaN   \n",
       "440    NaN        NaN       NaN       NaN         NaN        NaN         NaN   \n",
       "441    NaN        NaN       NaN       NaN         NaN        NaN         NaN   \n",
       "442    NaN        NaN       NaN       NaN         NaN        NaN         NaN   \n",
       "\n",
       "     MPG_City  MPG_Highway  Weight  Wheelbase  Length  Unnamed: 15  \n",
       "0        17.0         24.0  3153.0      100.0   174.0          NaN  \n",
       "1        18.0         24.0  3893.0      115.0   197.0          NaN  \n",
       "2        18.0         24.0  3880.0      115.0   197.0          NaN  \n",
       "3        17.0         23.0  4451.0      106.0   189.0          NaN  \n",
       "4        20.0         28.0  3575.0      108.0   186.0          NaN  \n",
       "..        ...          ...     ...        ...     ...          ...  \n",
       "438       NaN          NaN     NaN        NaN     NaN          NaN  \n",
       "439       NaN          NaN     NaN        NaN     NaN          NaN  \n",
       "440       NaN          NaN     NaN        NaN     NaN          NaN  \n",
       "441       NaN          NaN     NaN        NaN     NaN          NaN  \n",
       "442       NaN          NaN     NaN        NaN     NaN          NaN  \n",
       "\n",
       "[443 rows x 16 columns]"
      ]
     },
     "execution_count": 3,
     "metadata": {},
     "output_type": "execute_result"
    }
   ],
   "source": [
    "df"
   ]
  },
  {
   "cell_type": "code",
   "execution_count": 4,
   "id": "e9597f93",
   "metadata": {},
   "outputs": [
    {
     "data": {
      "text/html": [
       "<div>\n",
       "<style scoped>\n",
       "    .dataframe tbody tr th:only-of-type {\n",
       "        vertical-align: middle;\n",
       "    }\n",
       "\n",
       "    .dataframe tbody tr th {\n",
       "        vertical-align: top;\n",
       "    }\n",
       "\n",
       "    .dataframe thead th {\n",
       "        text-align: right;\n",
       "    }\n",
       "</style>\n",
       "<table border=\"1\" class=\"dataframe\">\n",
       "  <thead>\n",
       "    <tr style=\"text-align: right;\">\n",
       "      <th></th>\n",
       "      <th>name_of_car</th>\n",
       "      <th>Model</th>\n",
       "      <th>Type</th>\n",
       "      <th>Origin</th>\n",
       "      <th>DriveTrain</th>\n",
       "      <th>MSRP</th>\n",
       "      <th>Invoice</th>\n",
       "      <th>EngineSize</th>\n",
       "      <th>Cylinders</th>\n",
       "      <th>Horsepower</th>\n",
       "      <th>MPG_City</th>\n",
       "      <th>MPG_Highway</th>\n",
       "      <th>Weight</th>\n",
       "      <th>Wheelbase</th>\n",
       "      <th>Length</th>\n",
       "      <th>Unnamed: 15</th>\n",
       "    </tr>\n",
       "  </thead>\n",
       "  <tbody>\n",
       "    <tr>\n",
       "      <th>count</th>\n",
       "      <td>428</td>\n",
       "      <td>429</td>\n",
       "      <td>409</td>\n",
       "      <td>428</td>\n",
       "      <td>428</td>\n",
       "      <td>428</td>\n",
       "      <td>406</td>\n",
       "      <td>428.000000</td>\n",
       "      <td>426.000000</td>\n",
       "      <td>343.000000</td>\n",
       "      <td>428.000000</td>\n",
       "      <td>428.000000</td>\n",
       "      <td>428.000000</td>\n",
       "      <td>428.000000</td>\n",
       "      <td>428.000000</td>\n",
       "      <td>2.000000e+00</td>\n",
       "    </tr>\n",
       "    <tr>\n",
       "      <th>unique</th>\n",
       "      <td>38</td>\n",
       "      <td>426</td>\n",
       "      <td>9</td>\n",
       "      <td>3</td>\n",
       "      <td>3</td>\n",
       "      <td>410</td>\n",
       "      <td>403</td>\n",
       "      <td>NaN</td>\n",
       "      <td>NaN</td>\n",
       "      <td>NaN</td>\n",
       "      <td>NaN</td>\n",
       "      <td>NaN</td>\n",
       "      <td>NaN</td>\n",
       "      <td>NaN</td>\n",
       "      <td>NaN</td>\n",
       "      <td>NaN</td>\n",
       "    </tr>\n",
       "    <tr>\n",
       "      <th>top</th>\n",
       "      <td>Toyota</td>\n",
       "      <td>C320 4dr</td>\n",
       "      <td>Sedan</td>\n",
       "      <td>Asia</td>\n",
       "      <td>Front</td>\n",
       "      <td>$21,595</td>\n",
       "      <td>$14,207</td>\n",
       "      <td>NaN</td>\n",
       "      <td>NaN</td>\n",
       "      <td>NaN</td>\n",
       "      <td>NaN</td>\n",
       "      <td>NaN</td>\n",
       "      <td>NaN</td>\n",
       "      <td>NaN</td>\n",
       "      <td>NaN</td>\n",
       "      <td>NaN</td>\n",
       "    </tr>\n",
       "    <tr>\n",
       "      <th>freq</th>\n",
       "      <td>28</td>\n",
       "      <td>2</td>\n",
       "      <td>247</td>\n",
       "      <td>158</td>\n",
       "      <td>226</td>\n",
       "      <td>2</td>\n",
       "      <td>2</td>\n",
       "      <td>NaN</td>\n",
       "      <td>NaN</td>\n",
       "      <td>NaN</td>\n",
       "      <td>NaN</td>\n",
       "      <td>NaN</td>\n",
       "      <td>NaN</td>\n",
       "      <td>NaN</td>\n",
       "      <td>NaN</td>\n",
       "      <td>NaN</td>\n",
       "    </tr>\n",
       "    <tr>\n",
       "      <th>mean</th>\n",
       "      <td>NaN</td>\n",
       "      <td>NaN</td>\n",
       "      <td>NaN</td>\n",
       "      <td>NaN</td>\n",
       "      <td>NaN</td>\n",
       "      <td>NaN</td>\n",
       "      <td>NaN</td>\n",
       "      <td>3.196729</td>\n",
       "      <td>5.807512</td>\n",
       "      <td>210.915452</td>\n",
       "      <td>20.060748</td>\n",
       "      <td>26.843458</td>\n",
       "      <td>3577.953271</td>\n",
       "      <td>108.154206</td>\n",
       "      <td>186.362150</td>\n",
       "      <td>2.935740e+06</td>\n",
       "    </tr>\n",
       "    <tr>\n",
       "      <th>std</th>\n",
       "      <td>NaN</td>\n",
       "      <td>NaN</td>\n",
       "      <td>NaN</td>\n",
       "      <td>NaN</td>\n",
       "      <td>NaN</td>\n",
       "      <td>NaN</td>\n",
       "      <td>NaN</td>\n",
       "      <td>1.108595</td>\n",
       "      <td>1.558443</td>\n",
       "      <td>72.530948</td>\n",
       "      <td>5.238218</td>\n",
       "      <td>5.741201</td>\n",
       "      <td>758.983215</td>\n",
       "      <td>8.311813</td>\n",
       "      <td>14.357991</td>\n",
       "      <td>4.149231e+06</td>\n",
       "    </tr>\n",
       "    <tr>\n",
       "      <th>min</th>\n",
       "      <td>NaN</td>\n",
       "      <td>NaN</td>\n",
       "      <td>NaN</td>\n",
       "      <td>NaN</td>\n",
       "      <td>NaN</td>\n",
       "      <td>NaN</td>\n",
       "      <td>NaN</td>\n",
       "      <td>1.300000</td>\n",
       "      <td>3.000000</td>\n",
       "      <td>73.000000</td>\n",
       "      <td>10.000000</td>\n",
       "      <td>12.000000</td>\n",
       "      <td>1850.000000</td>\n",
       "      <td>89.000000</td>\n",
       "      <td>143.000000</td>\n",
       "      <td>1.790000e+03</td>\n",
       "    </tr>\n",
       "    <tr>\n",
       "      <th>25%</th>\n",
       "      <td>NaN</td>\n",
       "      <td>NaN</td>\n",
       "      <td>NaN</td>\n",
       "      <td>NaN</td>\n",
       "      <td>NaN</td>\n",
       "      <td>NaN</td>\n",
       "      <td>NaN</td>\n",
       "      <td>2.375000</td>\n",
       "      <td>4.000000</td>\n",
       "      <td>158.500000</td>\n",
       "      <td>17.000000</td>\n",
       "      <td>24.000000</td>\n",
       "      <td>3104.000000</td>\n",
       "      <td>103.000000</td>\n",
       "      <td>178.000000</td>\n",
       "      <td>1.468765e+06</td>\n",
       "    </tr>\n",
       "    <tr>\n",
       "      <th>50%</th>\n",
       "      <td>NaN</td>\n",
       "      <td>NaN</td>\n",
       "      <td>NaN</td>\n",
       "      <td>NaN</td>\n",
       "      <td>NaN</td>\n",
       "      <td>NaN</td>\n",
       "      <td>NaN</td>\n",
       "      <td>3.000000</td>\n",
       "      <td>6.000000</td>\n",
       "      <td>208.000000</td>\n",
       "      <td>19.000000</td>\n",
       "      <td>26.000000</td>\n",
       "      <td>3474.500000</td>\n",
       "      <td>107.000000</td>\n",
       "      <td>187.000000</td>\n",
       "      <td>2.935740e+06</td>\n",
       "    </tr>\n",
       "    <tr>\n",
       "      <th>75%</th>\n",
       "      <td>NaN</td>\n",
       "      <td>NaN</td>\n",
       "      <td>NaN</td>\n",
       "      <td>NaN</td>\n",
       "      <td>NaN</td>\n",
       "      <td>NaN</td>\n",
       "      <td>NaN</td>\n",
       "      <td>3.900000</td>\n",
       "      <td>6.000000</td>\n",
       "      <td>245.000000</td>\n",
       "      <td>21.250000</td>\n",
       "      <td>29.000000</td>\n",
       "      <td>3977.750000</td>\n",
       "      <td>112.000000</td>\n",
       "      <td>194.000000</td>\n",
       "      <td>4.402714e+06</td>\n",
       "    </tr>\n",
       "    <tr>\n",
       "      <th>max</th>\n",
       "      <td>NaN</td>\n",
       "      <td>NaN</td>\n",
       "      <td>NaN</td>\n",
       "      <td>NaN</td>\n",
       "      <td>NaN</td>\n",
       "      <td>NaN</td>\n",
       "      <td>NaN</td>\n",
       "      <td>8.300000</td>\n",
       "      <td>12.000000</td>\n",
       "      <td>500.000000</td>\n",
       "      <td>60.000000</td>\n",
       "      <td>66.000000</td>\n",
       "      <td>7190.000000</td>\n",
       "      <td>144.000000</td>\n",
       "      <td>238.000000</td>\n",
       "      <td>5.869689e+06</td>\n",
       "    </tr>\n",
       "  </tbody>\n",
       "</table>\n",
       "</div>"
      ],
      "text/plain": [
       "       name_of_car     Model   Type Origin DriveTrain      MSRP   Invoice  \\\n",
       "count          428       429    409    428        428       428       406   \n",
       "unique          38       426      9      3          3       410       403   \n",
       "top         Toyota  C320 4dr  Sedan   Asia      Front  $21,595   $14,207    \n",
       "freq            28         2    247    158        226         2         2   \n",
       "mean           NaN       NaN    NaN    NaN        NaN       NaN       NaN   \n",
       "std            NaN       NaN    NaN    NaN        NaN       NaN       NaN   \n",
       "min            NaN       NaN    NaN    NaN        NaN       NaN       NaN   \n",
       "25%            NaN       NaN    NaN    NaN        NaN       NaN       NaN   \n",
       "50%            NaN       NaN    NaN    NaN        NaN       NaN       NaN   \n",
       "75%            NaN       NaN    NaN    NaN        NaN       NaN       NaN   \n",
       "max            NaN       NaN    NaN    NaN        NaN       NaN       NaN   \n",
       "\n",
       "        EngineSize   Cylinders  Horsepower    MPG_City  MPG_Highway  \\\n",
       "count   428.000000  426.000000  343.000000  428.000000   428.000000   \n",
       "unique         NaN         NaN         NaN         NaN          NaN   \n",
       "top            NaN         NaN         NaN         NaN          NaN   \n",
       "freq           NaN         NaN         NaN         NaN          NaN   \n",
       "mean      3.196729    5.807512  210.915452   20.060748    26.843458   \n",
       "std       1.108595    1.558443   72.530948    5.238218     5.741201   \n",
       "min       1.300000    3.000000   73.000000   10.000000    12.000000   \n",
       "25%       2.375000    4.000000  158.500000   17.000000    24.000000   \n",
       "50%       3.000000    6.000000  208.000000   19.000000    26.000000   \n",
       "75%       3.900000    6.000000  245.000000   21.250000    29.000000   \n",
       "max       8.300000   12.000000  500.000000   60.000000    66.000000   \n",
       "\n",
       "             Weight   Wheelbase      Length   Unnamed: 15  \n",
       "count    428.000000  428.000000  428.000000  2.000000e+00  \n",
       "unique          NaN         NaN         NaN           NaN  \n",
       "top             NaN         NaN         NaN           NaN  \n",
       "freq            NaN         NaN         NaN           NaN  \n",
       "mean    3577.953271  108.154206  186.362150  2.935740e+06  \n",
       "std      758.983215    8.311813   14.357991  4.149231e+06  \n",
       "min     1850.000000   89.000000  143.000000  1.790000e+03  \n",
       "25%     3104.000000  103.000000  178.000000  1.468765e+06  \n",
       "50%     3474.500000  107.000000  187.000000  2.935740e+06  \n",
       "75%     3977.750000  112.000000  194.000000  4.402714e+06  \n",
       "max     7190.000000  144.000000  238.000000  5.869689e+06  "
      ]
     },
     "execution_count": 4,
     "metadata": {},
     "output_type": "execute_result"
    }
   ],
   "source": [
    "df.describe(include='all')"
   ]
  },
  {
   "cell_type": "code",
   "execution_count": 6,
   "id": "3000695b",
   "metadata": {},
   "outputs": [],
   "source": [
    "mean1=df['EngineSize'].mean()"
   ]
  },
  {
   "cell_type": "code",
   "execution_count": 7,
   "id": "5183723f",
   "metadata": {},
   "outputs": [
    {
     "data": {
      "text/plain": [
       "3.0"
      ]
     },
     "execution_count": 7,
     "metadata": {},
     "output_type": "execute_result"
    }
   ],
   "source": [
    "df['EngineSize'].median()"
   ]
  },
  {
   "cell_type": "code",
   "execution_count": 8,
   "id": "7a46c4f3",
   "metadata": {},
   "outputs": [
    {
     "data": {
      "text/plain": [
       "0    Toyota\n",
       "Name: name_of_car, dtype: object"
      ]
     },
     "execution_count": 8,
     "metadata": {},
     "output_type": "execute_result"
    }
   ],
   "source": [
    "df['name_of_car'].mode()"
   ]
  },
  {
   "cell_type": "code",
   "execution_count": 14,
   "id": "c97fabeb",
   "metadata": {},
   "outputs": [],
   "source": [
    "a=df['EngineSize'].max()"
   ]
  },
  {
   "cell_type": "code",
   "execution_count": 15,
   "id": "5811e571",
   "metadata": {},
   "outputs": [],
   "source": [
    "b=df['EngineSize'].min()"
   ]
  },
  {
   "cell_type": "code",
   "execution_count": 12,
   "id": "d650a590",
   "metadata": {},
   "outputs": [
    {
     "data": {
      "text/plain": [
       "1.2289822495567864"
      ]
     },
     "execution_count": 12,
     "metadata": {},
     "output_type": "execute_result"
    }
   ],
   "source": [
    "df['EngineSize'].var()"
   ]
  },
  {
   "cell_type": "code",
   "execution_count": 13,
   "id": "331b5b90",
   "metadata": {},
   "outputs": [
    {
     "data": {
      "text/plain": [
       "1.108594718351475"
      ]
     },
     "execution_count": 13,
     "metadata": {},
     "output_type": "execute_result"
    }
   ],
   "source": [
    "df['EngineSize'].std()"
   ]
  },
  {
   "cell_type": "code",
   "execution_count": 17,
   "id": "88e35611",
   "metadata": {},
   "outputs": [
    {
     "data": {
      "text/plain": [
       "7.000000000000001"
      ]
     },
     "execution_count": 17,
     "metadata": {},
     "output_type": "execute_result"
    }
   ],
   "source": [
    "range=a-b\n",
    "range"
   ]
  },
  {
   "cell_type": "code",
   "execution_count": 20,
   "id": "8d2f06ea",
   "metadata": {},
   "outputs": [
    {
     "data": {
      "text/plain": [
       "2.375"
      ]
     },
     "execution_count": 20,
     "metadata": {},
     "output_type": "execute_result"
    }
   ],
   "source": [
    "Q1=df['EngineSize'].quantile(0.25)\n",
    "Q1"
   ]
  },
  {
   "cell_type": "code",
   "execution_count": 21,
   "id": "cb797eaf",
   "metadata": {},
   "outputs": [
    {
     "data": {
      "text/plain": [
       "3.9"
      ]
     },
     "execution_count": 21,
     "metadata": {},
     "output_type": "execute_result"
    }
   ],
   "source": [
    "Q3=df['EngineSize'].quantile(0.75)\n",
    "Q3"
   ]
  },
  {
   "cell_type": "code",
   "execution_count": 22,
   "id": "0c82aba1",
   "metadata": {},
   "outputs": [
    {
     "data": {
      "text/plain": [
       "1368.1999999999998"
      ]
     },
     "execution_count": 22,
     "metadata": {},
     "output_type": "execute_result"
    }
   ],
   "source": [
    "df['EngineSize'].sum()"
   ]
  },
  {
   "cell_type": "markdown",
   "id": "eec401ad",
   "metadata": {},
   "source": [
    "### Standardization"
   ]
  },
  {
   "cell_type": "code",
   "execution_count": 1,
   "id": "da811ade",
   "metadata": {},
   "outputs": [],
   "source": [
    "import numpy as np"
   ]
  },
  {
   "cell_type": "code",
   "execution_count": 2,
   "id": "67d03ea9",
   "metadata": {},
   "outputs": [],
   "source": [
    "x=[1,2,3,55,77,23]"
   ]
  },
  {
   "cell_type": "code",
   "execution_count": 4,
   "id": "31c2ecc6",
   "metadata": {},
   "outputs": [
    {
     "data": {
      "text/plain": [
       "26.833333333333332"
      ]
     },
     "execution_count": 4,
     "metadata": {},
     "output_type": "execute_result"
    }
   ],
   "source": [
    "mean= np.mean(x)\n",
    "mean"
   ]
  },
  {
   "cell_type": "code",
   "execution_count": 5,
   "id": "7d4a4dab",
   "metadata": {},
   "outputs": [
    {
     "data": {
      "text/plain": [
       "29.373551973766393"
      ]
     },
     "execution_count": 5,
     "metadata": {},
     "output_type": "execute_result"
    }
   ],
   "source": [
    "std= np.std(x)\n",
    "std"
   ]
  },
  {
   "cell_type": "code",
   "execution_count": 6,
   "id": "d7640448",
   "metadata": {},
   "outputs": [],
   "source": [
    "stand_data= (x-mean)/std"
   ]
  },
  {
   "cell_type": "code",
   "execution_count": 7,
   "id": "f74a6052",
   "metadata": {},
   "outputs": [
    {
     "data": {
      "text/plain": [
       "array([-0.87947598, -0.84543175, -0.81138751,  0.95891252,  1.70788561,\n",
       "       -0.13050289])"
      ]
     },
     "execution_count": 7,
     "metadata": {},
     "output_type": "execute_result"
    }
   ],
   "source": [
    "stand_data"
   ]
  },
  {
   "cell_type": "code",
   "execution_count": 8,
   "id": "1e7c6802",
   "metadata": {},
   "outputs": [
    {
     "data": {
      "text/plain": [
       "7.401486830834377e-17"
      ]
     },
     "execution_count": 8,
     "metadata": {},
     "output_type": "execute_result"
    }
   ],
   "source": [
    "np.mean(stand_data)"
   ]
  },
  {
   "cell_type": "code",
   "execution_count": 9,
   "id": "a4be4955",
   "metadata": {},
   "outputs": [
    {
     "data": {
      "text/plain": [
       "1.0"
      ]
     },
     "execution_count": 9,
     "metadata": {},
     "output_type": "execute_result"
    }
   ],
   "source": [
    "np.std(stand_data)"
   ]
  },
  {
   "cell_type": "code",
   "execution_count": 10,
   "id": "3fd60ec6",
   "metadata": {},
   "outputs": [],
   "source": [
    "import scipy.stats as stats"
   ]
  },
  {
   "cell_type": "code",
   "execution_count": 20,
   "id": "99cdb0fa",
   "metadata": {},
   "outputs": [
    {
     "data": {
      "text/plain": [
       "array([101.86300633, 107.29898508,  57.42514163,  16.90166787,\n",
       "        68.4107089 ,  34.14964206,  58.09772016,  74.13306255,\n",
       "        61.39768989,  46.50658637,  76.48051658,  73.68900252,\n",
       "        86.85005982,  54.59393703,  27.23626537,  66.3042429 ,\n",
       "        61.70624208,  59.0629931 ,  71.69994051,  35.43687259,\n",
       "        70.41284419,  71.54829334,  23.65257544,  49.22825913,\n",
       "       109.83026772,  11.11326478,  62.56712019,  16.94218294,\n",
       "        46.75643536,  54.41768273,  35.02737897,  78.3369808 ,\n",
       "       109.46806678,  20.74184066,  16.67723282,  74.63264781,\n",
       "        14.59500721,  78.42763656,  17.17531997, 108.40959787,\n",
       "        30.21363855,  85.34994595,  71.26249377,  10.29064886,\n",
       "        53.94459613,  49.78188995, 102.39684012,  28.08171329,\n",
       "       100.77874841, 103.86279875,  66.35775363,  10.86815937,\n",
       "        85.80878497,  13.18591089, 106.64571497,  82.02772116,\n",
       "       100.23970579,  15.53087973,  65.08467456,  77.07967393,\n",
       "        12.96182357,  95.96314218,  52.2103199 ,  59.2973513 ,\n",
       "        95.91789095,  34.09371629,  99.2350615 , 107.304853  ,\n",
       "        44.63489524,  28.9662258 ,  62.95762148,  92.87993371,\n",
       "        38.87865444,  27.81240197,  63.99670076, 104.87520848,\n",
       "        83.33036862,  19.16174517,  68.31560346, 108.32159536,\n",
       "        51.67676674,  82.99534015,  97.94135637,  36.70852942,\n",
       "        15.81058266,  12.89371828,  43.08834615,  92.57749571,\n",
       "        34.3083101 ,  69.34655672,  67.99910819,  13.54339404,\n",
       "        34.29671402,  45.83363163,  92.08414274,  20.67611494,\n",
       "       107.12979579,  30.21436316,  27.29451603, 105.98164078])"
      ]
     },
     "execution_count": 20,
     "metadata": {},
     "output_type": "execute_result"
    }
   ],
   "source": [
    "stats1=stats.uniform.rvs(size=100,loc=10,scale=100)\n",
    "stats1"
   ]
  },
  {
   "cell_type": "code",
   "execution_count": 21,
   "id": "c659588d",
   "metadata": {},
   "outputs": [],
   "source": [
    "import pandas as pd"
   ]
  },
  {
   "cell_type": "code",
   "execution_count": 22,
   "id": "f691a505",
   "metadata": {},
   "outputs": [
    {
     "data": {
      "text/plain": [
       "<Axes: ylabel='Density'>"
      ]
     },
     "execution_count": 22,
     "metadata": {},
     "output_type": "execute_result"
    },
    {
     "data": {
      "image/png": "[encoded data removed]",
      "text/plain": [
       "<Figure size 640x480 with 1 Axes>"
      ]
     },
     "metadata": {},
     "output_type": "display_data"
    }
   ],
   "source": [
    "pd.DataFrame(stats1).plot(kind='density')"
   ]
  },
  {
   "cell_type": "code",
   "execution_count": 24,
   "id": "78fc6e76",
   "metadata": {},
   "outputs": [
    {
     "data": {
      "text/plain": [
       "array([ 124.04015002,    6.43138185,    9.82907996,  129.80050562,\n",
       "        221.31663549,  -16.13799115,  213.97255346,  -98.31228677,\n",
       "        195.23881968,  142.94101103,  218.53297164,  154.35674802,\n",
       "          0.59058646,  344.63774436,  -11.03983805,  132.99688369,\n",
       "       -124.07963319,   60.80520131,  -91.37630473,    7.84011395,\n",
       "        187.80529212,   83.39105305,   -4.92293221,  -11.49868392,\n",
       "        102.11970334,  174.42022164, -114.80274908,  222.46503093,\n",
       "        -67.16913908,  204.66434687,  112.97618091,  125.23738531,\n",
       "        -84.26829224,   42.99128105,  117.87355095,  117.68304156,\n",
       "         66.38655174,  -20.8052635 ,  108.82011089,  261.52287038,\n",
       "         35.19391598, -100.62046848,  -50.24326565, -242.24151186,\n",
       "        -64.58733649,   99.66723845,   58.72645882,  105.66438278,\n",
       "         63.52157075,   -3.9034095 ,  -97.86961471,   90.7604987 ,\n",
       "        167.59563398,   60.44407197,   -7.47177798,   46.44607959,\n",
       "         51.21043046,  187.07443352,  -41.56998597,   54.89062356,\n",
       "          6.18687207,  -13.59622749,   81.63025782,  -31.25210773,\n",
       "       -173.53532899,   59.95931557,  100.39910174,  148.21139917,\n",
       "        -47.38538209,  123.81787675,   72.99868251,  129.08097187,\n",
       "         45.68645897,   85.11707007,   55.84590965,  -62.36318139,\n",
       "          5.52331715,   45.03543765,   12.05895851,  -51.34250599,\n",
       "        -91.62905086,  122.86808692,  117.32903562,   90.75903799,\n",
       "        -37.58835793,  -16.65639815, -145.8931261 ,  -97.6791198 ,\n",
       "        252.60614796, -175.00814602,  -54.9121769 ,  194.50219578,\n",
       "         73.67694549,  133.71645924,  160.05065488,  201.36651528,\n",
       "         25.40602051,   22.20912889,  184.49098941,  142.03037132])"
      ]
     },
     "execution_count": 24,
     "metadata": {},
     "output_type": "execute_result"
    }
   ],
   "source": [
    "stat2= stats.norm.rvs(size=100,loc=20,scale=100)\n",
    "stat2"
   ]
  },
  {
   "cell_type": "code",
   "execution_count": 26,
   "id": "b2032fa8",
   "metadata": {},
   "outputs": [
    {
     "data": {
      "text/plain": [
       "<Axes: ylabel='Density'>"
      ]
     },
     "execution_count": 26,
     "metadata": {},
     "output_type": "execute_result"
    },
    {
     "data": {
      "image/png": "[encoded data removed]",
      "text/plain": [
       "<Figure size 640x480 with 1 Axes>"
      ]
     },
     "metadata": {},
     "output_type": "display_data"
    }
   ],
   "source": [
    "pd.DataFrame(stat2).plot(kind='density')"
   ]
  },
  {
   "cell_type": "code",
   "execution_count": null,
   "id": "d7ff9274",
   "metadata": {},
   "outputs": [],
   "source": []
  }
 ],
 "metadata": {
  "kernelspec": {
   "display_name": "Python 3 (ipykernel)",
   "language": "python",
   "name": "python3"
  },
  "language_info": {
   "codemirror_mode": {
    "name": "ipython",
    "version": 3
   },
   "file_extension": ".py",
   "mimetype": "text/x-python",
   "name": "python",
   "nbconvert_exporter": "python",
   "pygments_lexer": "ipython3",
   "version": "3.11.4"
  }
 },
 "nbformat": 4,
 "nbformat_minor": 5
}
