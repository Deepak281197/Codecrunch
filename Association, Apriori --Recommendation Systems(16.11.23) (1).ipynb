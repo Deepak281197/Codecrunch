{
 "cells": [
  {
   "cell_type": "code",
   "execution_count": 1,
   "id": "0b6495bd",
   "metadata": {},
   "outputs": [],
   "source": [
    "import pandas as pd\n",
    "import numpy as np\n",
    "from mlxtend.frequent_patterns import apriori,association_rules"
   ]
  },
  {
   "cell_type": "code",
   "execution_count": 2,
   "id": "5c7c622e",
   "metadata": {},
   "outputs": [],
   "source": [
    "df= pd.read_csv('Titanic.csv')"
   ]
  },
  {
   "cell_type": "code",
   "execution_count": 3,
   "id": "cbab2dae",
   "metadata": {},
   "outputs": [
    {
     "data": {
      "text/html": [
       "<div>\n",
       "<style scoped>\n",
       "    .dataframe tbody tr th:only-of-type {\n",
       "        vertical-align: middle;\n",
       "    }\n",
       "\n",
       "    .dataframe tbody tr th {\n",
       "        vertical-align: top;\n",
       "    }\n",
       "\n",
       "    .dataframe thead th {\n",
       "        text-align: right;\n",
       "    }\n",
       "</style>\n",
       "<table border=\"1\" class=\"dataframe\">\n",
       "  <thead>\n",
       "    <tr style=\"text-align: right;\">\n",
       "      <th></th>\n",
       "      <th>Class</th>\n",
       "      <th>Gender</th>\n",
       "      <th>Age</th>\n",
       "      <th>Survived</th>\n",
       "    </tr>\n",
       "  </thead>\n",
       "  <tbody>\n",
       "    <tr>\n",
       "      <th>0</th>\n",
       "      <td>3rd</td>\n",
       "      <td>Male</td>\n",
       "      <td>Child</td>\n",
       "      <td>No</td>\n",
       "    </tr>\n",
       "    <tr>\n",
       "      <th>1</th>\n",
       "      <td>3rd</td>\n",
       "      <td>Male</td>\n",
       "      <td>Child</td>\n",
       "      <td>No</td>\n",
       "    </tr>\n",
       "    <tr>\n",
       "      <th>2</th>\n",
       "      <td>3rd</td>\n",
       "      <td>Male</td>\n",
       "      <td>Child</td>\n",
       "      <td>No</td>\n",
       "    </tr>\n",
       "    <tr>\n",
       "      <th>3</th>\n",
       "      <td>3rd</td>\n",
       "      <td>Male</td>\n",
       "      <td>Child</td>\n",
       "      <td>No</td>\n",
       "    </tr>\n",
       "    <tr>\n",
       "      <th>4</th>\n",
       "      <td>3rd</td>\n",
       "      <td>Male</td>\n",
       "      <td>Child</td>\n",
       "      <td>No</td>\n",
       "    </tr>\n",
       "  </tbody>\n",
       "</table>\n",
       "</div>"
      ],
      "text/plain": [
       "  Class Gender    Age Survived\n",
       "0   3rd   Male  Child       No\n",
       "1   3rd   Male  Child       No\n",
       "2   3rd   Male  Child       No\n",
       "3   3rd   Male  Child       No\n",
       "4   3rd   Male  Child       No"
      ]
     },
     "execution_count": 3,
     "metadata": {},
     "output_type": "execute_result"
    }
   ],
   "source": [
    "df.head()"
   ]
  },
  {
   "cell_type": "code",
   "execution_count": 4,
   "id": "08dd64d3",
   "metadata": {},
   "outputs": [
    {
     "data": {
      "text/plain": [
       "array(['Male', 'Female'], dtype=object)"
      ]
     },
     "execution_count": 4,
     "metadata": {},
     "output_type": "execute_result"
    }
   ],
   "source": [
    "df.Gender.unique()"
   ]
  },
  {
   "cell_type": "code",
   "execution_count": 5,
   "id": "89372511",
   "metadata": {},
   "outputs": [
    {
     "data": {
      "text/plain": [
       "array(['Child', 'Adult'], dtype=object)"
      ]
     },
     "execution_count": 5,
     "metadata": {},
     "output_type": "execute_result"
    }
   ],
   "source": [
    "df.Age.unique()"
   ]
  },
  {
   "cell_type": "code",
   "execution_count": 6,
   "id": "41e11ee9",
   "metadata": {},
   "outputs": [
    {
     "data": {
      "text/plain": [
       "array(['No', 'Yes'], dtype=object)"
      ]
     },
     "execution_count": 6,
     "metadata": {},
     "output_type": "execute_result"
    }
   ],
   "source": [
    "df.Survived.unique()"
   ]
  },
  {
   "cell_type": "code",
   "execution_count": 7,
   "id": "6a628d20",
   "metadata": {},
   "outputs": [],
   "source": [
    "df1= pd.get_dummies(df)"
   ]
  },
  {
   "cell_type": "code",
   "execution_count": 8,
   "id": "1d2e7014",
   "metadata": {},
   "outputs": [
    {
     "data": {
      "text/html": [
       "<div>\n",
       "<style scoped>\n",
       "    .dataframe tbody tr th:only-of-type {\n",
       "        vertical-align: middle;\n",
       "    }\n",
       "\n",
       "    .dataframe tbody tr th {\n",
       "        vertical-align: top;\n",
       "    }\n",
       "\n",
       "    .dataframe thead th {\n",
       "        text-align: right;\n",
       "    }\n",
       "</style>\n",
       "<table border=\"1\" class=\"dataframe\">\n",
       "  <thead>\n",
       "    <tr style=\"text-align: right;\">\n",
       "      <th></th>\n",
       "      <th>Class_1st</th>\n",
       "      <th>Class_2nd</th>\n",
       "      <th>Class_3rd</th>\n",
       "      <th>Class_Crew</th>\n",
       "      <th>Gender_Female</th>\n",
       "      <th>Gender_Male</th>\n",
       "      <th>Age_Adult</th>\n",
       "      <th>Age_Child</th>\n",
       "      <th>Survived_No</th>\n",
       "      <th>Survived_Yes</th>\n",
       "    </tr>\n",
       "  </thead>\n",
       "  <tbody>\n",
       "    <tr>\n",
       "      <th>0</th>\n",
       "      <td>0</td>\n",
       "      <td>0</td>\n",
       "      <td>1</td>\n",
       "      <td>0</td>\n",
       "      <td>0</td>\n",
       "      <td>1</td>\n",
       "      <td>0</td>\n",
       "      <td>1</td>\n",
       "      <td>1</td>\n",
       "      <td>0</td>\n",
       "    </tr>\n",
       "    <tr>\n",
       "      <th>1</th>\n",
       "      <td>0</td>\n",
       "      <td>0</td>\n",
       "      <td>1</td>\n",
       "      <td>0</td>\n",
       "      <td>0</td>\n",
       "      <td>1</td>\n",
       "      <td>0</td>\n",
       "      <td>1</td>\n",
       "      <td>1</td>\n",
       "      <td>0</td>\n",
       "    </tr>\n",
       "    <tr>\n",
       "      <th>2</th>\n",
       "      <td>0</td>\n",
       "      <td>0</td>\n",
       "      <td>1</td>\n",
       "      <td>0</td>\n",
       "      <td>0</td>\n",
       "      <td>1</td>\n",
       "      <td>0</td>\n",
       "      <td>1</td>\n",
       "      <td>1</td>\n",
       "      <td>0</td>\n",
       "    </tr>\n",
       "    <tr>\n",
       "      <th>3</th>\n",
       "      <td>0</td>\n",
       "      <td>0</td>\n",
       "      <td>1</td>\n",
       "      <td>0</td>\n",
       "      <td>0</td>\n",
       "      <td>1</td>\n",
       "      <td>0</td>\n",
       "      <td>1</td>\n",
       "      <td>1</td>\n",
       "      <td>0</td>\n",
       "    </tr>\n",
       "    <tr>\n",
       "      <th>4</th>\n",
       "      <td>0</td>\n",
       "      <td>0</td>\n",
       "      <td>1</td>\n",
       "      <td>0</td>\n",
       "      <td>0</td>\n",
       "      <td>1</td>\n",
       "      <td>0</td>\n",
       "      <td>1</td>\n",
       "      <td>1</td>\n",
       "      <td>0</td>\n",
       "    </tr>\n",
       "    <tr>\n",
       "      <th>...</th>\n",
       "      <td>...</td>\n",
       "      <td>...</td>\n",
       "      <td>...</td>\n",
       "      <td>...</td>\n",
       "      <td>...</td>\n",
       "      <td>...</td>\n",
       "      <td>...</td>\n",
       "      <td>...</td>\n",
       "      <td>...</td>\n",
       "      <td>...</td>\n",
       "    </tr>\n",
       "    <tr>\n",
       "      <th>2196</th>\n",
       "      <td>0</td>\n",
       "      <td>0</td>\n",
       "      <td>0</td>\n",
       "      <td>1</td>\n",
       "      <td>1</td>\n",
       "      <td>0</td>\n",
       "      <td>1</td>\n",
       "      <td>0</td>\n",
       "      <td>0</td>\n",
       "      <td>1</td>\n",
       "    </tr>\n",
       "    <tr>\n",
       "      <th>2197</th>\n",
       "      <td>0</td>\n",
       "      <td>0</td>\n",
       "      <td>0</td>\n",
       "      <td>1</td>\n",
       "      <td>1</td>\n",
       "      <td>0</td>\n",
       "      <td>1</td>\n",
       "      <td>0</td>\n",
       "      <td>0</td>\n",
       "      <td>1</td>\n",
       "    </tr>\n",
       "    <tr>\n",
       "      <th>2198</th>\n",
       "      <td>0</td>\n",
       "      <td>0</td>\n",
       "      <td>0</td>\n",
       "      <td>1</td>\n",
       "      <td>1</td>\n",
       "      <td>0</td>\n",
       "      <td>1</td>\n",
       "      <td>0</td>\n",
       "      <td>0</td>\n",
       "      <td>1</td>\n",
       "    </tr>\n",
       "    <tr>\n",
       "      <th>2199</th>\n",
       "      <td>0</td>\n",
       "      <td>0</td>\n",
       "      <td>0</td>\n",
       "      <td>1</td>\n",
       "      <td>1</td>\n",
       "      <td>0</td>\n",
       "      <td>1</td>\n",
       "      <td>0</td>\n",
       "      <td>0</td>\n",
       "      <td>1</td>\n",
       "    </tr>\n",
       "    <tr>\n",
       "      <th>2200</th>\n",
       "      <td>0</td>\n",
       "      <td>0</td>\n",
       "      <td>0</td>\n",
       "      <td>1</td>\n",
       "      <td>1</td>\n",
       "      <td>0</td>\n",
       "      <td>1</td>\n",
       "      <td>0</td>\n",
       "      <td>0</td>\n",
       "      <td>1</td>\n",
       "    </tr>\n",
       "  </tbody>\n",
       "</table>\n",
       "<p>2201 rows × 10 columns</p>\n",
       "</div>"
      ],
      "text/plain": [
       "      Class_1st  Class_2nd  Class_3rd  ...  Age_Child  Survived_No  Survived_Yes\n",
       "0             0          0          1  ...          1            1             0\n",
       "1             0          0          1  ...          1            1             0\n",
       "2             0          0          1  ...          1            1             0\n",
       "3             0          0          1  ...          1            1             0\n",
       "4             0          0          1  ...          1            1             0\n",
       "...         ...        ...        ...  ...        ...          ...           ...\n",
       "2196          0          0          0  ...          0            0             1\n",
       "2197          0          0          0  ...          0            0             1\n",
       "2198          0          0          0  ...          0            0             1\n",
       "2199          0          0          0  ...          0            0             1\n",
       "2200          0          0          0  ...          0            0             1\n",
       "\n",
       "[2201 rows x 10 columns]"
      ]
     },
     "execution_count": 8,
     "metadata": {},
     "output_type": "execute_result"
    }
   ],
   "source": [
    "df1"
   ]
  },
  {
   "cell_type": "code",
   "execution_count": 19,
   "id": "f897f83f",
   "metadata": {},
   "outputs": [
    {
     "data": {
      "text/html": [
       "<div>\n",
       "<style scoped>\n",
       "    .dataframe tbody tr th:only-of-type {\n",
       "        vertical-align: middle;\n",
       "    }\n",
       "\n",
       "    .dataframe tbody tr th {\n",
       "        vertical-align: top;\n",
       "    }\n",
       "\n",
       "    .dataframe thead th {\n",
       "        text-align: right;\n",
       "    }\n",
       "</style>\n",
       "<table border=\"1\" class=\"dataframe\">\n",
       "  <thead>\n",
       "    <tr style=\"text-align: right;\">\n",
       "      <th></th>\n",
       "      <th>support</th>\n",
       "      <th>itemsets</th>\n",
       "    </tr>\n",
       "  </thead>\n",
       "  <tbody>\n",
       "    <tr>\n",
       "      <th>0</th>\n",
       "      <td>0.786461</td>\n",
       "      <td>(Gender_Male)</td>\n",
       "    </tr>\n",
       "    <tr>\n",
       "      <th>1</th>\n",
       "      <td>0.950477</td>\n",
       "      <td>(Age_Adult)</td>\n",
       "    </tr>\n",
       "    <tr>\n",
       "      <th>2</th>\n",
       "      <td>0.676965</td>\n",
       "      <td>(Survived_No)</td>\n",
       "    </tr>\n",
       "    <tr>\n",
       "      <th>3</th>\n",
       "      <td>0.757383</td>\n",
       "      <td>(Gender_Male, Age_Adult)</td>\n",
       "    </tr>\n",
       "    <tr>\n",
       "      <th>4</th>\n",
       "      <td>0.619718</td>\n",
       "      <td>(Survived_No, Gender_Male)</td>\n",
       "    </tr>\n",
       "    <tr>\n",
       "      <th>5</th>\n",
       "      <td>0.653339</td>\n",
       "      <td>(Survived_No, Age_Adult)</td>\n",
       "    </tr>\n",
       "    <tr>\n",
       "      <th>6</th>\n",
       "      <td>0.603816</td>\n",
       "      <td>(Survived_No, Gender_Male, Age_Adult)</td>\n",
       "    </tr>\n",
       "  </tbody>\n",
       "</table>\n",
       "</div>"
      ],
      "text/plain": [
       "    support                               itemsets\n",
       "0  0.786461                          (Gender_Male)\n",
       "1  0.950477                            (Age_Adult)\n",
       "2  0.676965                          (Survived_No)\n",
       "3  0.757383               (Gender_Male, Age_Adult)\n",
       "4  0.619718             (Survived_No, Gender_Male)\n",
       "5  0.653339               (Survived_No, Age_Adult)\n",
       "6  0.603816  (Survived_No, Gender_Male, Age_Adult)"
      ]
     },
     "execution_count": 19,
     "metadata": {},
     "output_type": "execute_result"
    }
   ],
   "source": [
    "freq=apriori(df1,min_support=0.5,use_colnames=True)\n",
    "freq"
   ]
  },
  {
   "cell_type": "code",
   "execution_count": 13,
   "id": "597fb548",
   "metadata": {},
   "outputs": [
    {
     "data": {
      "text/plain": [
       "(2201, 4)"
      ]
     },
     "execution_count": 13,
     "metadata": {},
     "output_type": "execute_result"
    }
   ],
   "source": [
    "df.shape"
   ]
  },
  {
   "cell_type": "code",
   "execution_count": 14,
   "id": "7d48c3de",
   "metadata": {},
   "outputs": [
    {
     "data": {
      "text/plain": [
       "Male      1731\n",
       "Female     470\n",
       "Name: Gender, dtype: int64"
      ]
     },
     "execution_count": 14,
     "metadata": {},
     "output_type": "execute_result"
    }
   ],
   "source": [
    "df.Gender.value_counts()"
   ]
  },
  {
   "cell_type": "code",
   "execution_count": 15,
   "id": "db617aab",
   "metadata": {},
   "outputs": [
    {
     "data": {
      "text/plain": [
       "0.7864606996819627"
      ]
     },
     "execution_count": 15,
     "metadata": {},
     "output_type": "execute_result"
    }
   ],
   "source": [
    "1731/2201"
   ]
  },
  {
   "cell_type": "code",
   "execution_count": 16,
   "id": "f0a9de5e",
   "metadata": {},
   "outputs": [
    {
     "data": {
      "text/plain": [
       "0.21353930031803725"
      ]
     },
     "execution_count": 16,
     "metadata": {},
     "output_type": "execute_result"
    }
   ],
   "source": [
    "470/2201"
   ]
  },
  {
   "cell_type": "code",
   "execution_count": 23,
   "id": "2705d942",
   "metadata": {},
   "outputs": [
    {
     "data": {
      "text/plain": [
       "1.0132036591866942"
      ]
     },
     "execution_count": 23,
     "metadata": {},
     "output_type": "execute_result"
    }
   ],
   "source": [
    "0.757383/(0.786461*0.950477)"
   ]
  },
  {
   "cell_type": "code",
   "execution_count": 26,
   "id": "0616add3",
   "metadata": {},
   "outputs": [
    {
     "data": {
      "text/html": [
       "<div>\n",
       "<style scoped>\n",
       "    .dataframe tbody tr th:only-of-type {\n",
       "        vertical-align: middle;\n",
       "    }\n",
       "\n",
       "    .dataframe tbody tr th {\n",
       "        vertical-align: top;\n",
       "    }\n",
       "\n",
       "    .dataframe thead th {\n",
       "        text-align: right;\n",
       "    }\n",
       "</style>\n",
       "<table border=\"1\" class=\"dataframe\">\n",
       "  <thead>\n",
       "    <tr style=\"text-align: right;\">\n",
       "      <th></th>\n",
       "      <th>antecedents</th>\n",
       "      <th>consequents</th>\n",
       "      <th>antecedent support</th>\n",
       "      <th>consequent support</th>\n",
       "      <th>support</th>\n",
       "      <th>confidence</th>\n",
       "      <th>lift</th>\n",
       "      <th>leverage</th>\n",
       "      <th>conviction</th>\n",
       "      <th>zhangs_metric</th>\n",
       "    </tr>\n",
       "  </thead>\n",
       "  <tbody>\n",
       "    <tr>\n",
       "      <th>0</th>\n",
       "      <td>(Gender_Male)</td>\n",
       "      <td>(Age_Adult)</td>\n",
       "      <td>0.786461</td>\n",
       "      <td>0.950477</td>\n",
       "      <td>0.757383</td>\n",
       "      <td>0.963027</td>\n",
       "      <td>1.013204</td>\n",
       "      <td>0.009870</td>\n",
       "      <td>1.339441</td>\n",
       "      <td>0.061028</td>\n",
       "    </tr>\n",
       "    <tr>\n",
       "      <th>1</th>\n",
       "      <td>(Age_Adult)</td>\n",
       "      <td>(Gender_Male)</td>\n",
       "      <td>0.950477</td>\n",
       "      <td>0.786461</td>\n",
       "      <td>0.757383</td>\n",
       "      <td>0.796845</td>\n",
       "      <td>1.013204</td>\n",
       "      <td>0.009870</td>\n",
       "      <td>1.051116</td>\n",
       "      <td>0.263149</td>\n",
       "    </tr>\n",
       "    <tr>\n",
       "      <th>2</th>\n",
       "      <td>(Survived_No)</td>\n",
       "      <td>(Gender_Male)</td>\n",
       "      <td>0.676965</td>\n",
       "      <td>0.786461</td>\n",
       "      <td>0.619718</td>\n",
       "      <td>0.915436</td>\n",
       "      <td>1.163995</td>\n",
       "      <td>0.087312</td>\n",
       "      <td>2.525187</td>\n",
       "      <td>0.436144</td>\n",
       "    </tr>\n",
       "    <tr>\n",
       "      <th>3</th>\n",
       "      <td>(Gender_Male)</td>\n",
       "      <td>(Survived_No)</td>\n",
       "      <td>0.786461</td>\n",
       "      <td>0.676965</td>\n",
       "      <td>0.619718</td>\n",
       "      <td>0.787984</td>\n",
       "      <td>1.163995</td>\n",
       "      <td>0.087312</td>\n",
       "      <td>1.523634</td>\n",
       "      <td>0.659783</td>\n",
       "    </tr>\n",
       "    <tr>\n",
       "      <th>4</th>\n",
       "      <td>(Survived_No)</td>\n",
       "      <td>(Age_Adult)</td>\n",
       "      <td>0.676965</td>\n",
       "      <td>0.950477</td>\n",
       "      <td>0.653339</td>\n",
       "      <td>0.965101</td>\n",
       "      <td>1.015386</td>\n",
       "      <td>0.009900</td>\n",
       "      <td>1.419023</td>\n",
       "      <td>0.046906</td>\n",
       "    </tr>\n",
       "    <tr>\n",
       "      <th>5</th>\n",
       "      <td>(Age_Adult)</td>\n",
       "      <td>(Survived_No)</td>\n",
       "      <td>0.950477</td>\n",
       "      <td>0.676965</td>\n",
       "      <td>0.653339</td>\n",
       "      <td>0.687380</td>\n",
       "      <td>1.015386</td>\n",
       "      <td>0.009900</td>\n",
       "      <td>1.033317</td>\n",
       "      <td>0.305968</td>\n",
       "    </tr>\n",
       "    <tr>\n",
       "      <th>6</th>\n",
       "      <td>(Survived_No, Gender_Male)</td>\n",
       "      <td>(Age_Adult)</td>\n",
       "      <td>0.619718</td>\n",
       "      <td>0.950477</td>\n",
       "      <td>0.603816</td>\n",
       "      <td>0.974340</td>\n",
       "      <td>1.025106</td>\n",
       "      <td>0.014788</td>\n",
       "      <td>1.929980</td>\n",
       "      <td>0.064404</td>\n",
       "    </tr>\n",
       "    <tr>\n",
       "      <th>7</th>\n",
       "      <td>(Survived_No, Age_Adult)</td>\n",
       "      <td>(Gender_Male)</td>\n",
       "      <td>0.653339</td>\n",
       "      <td>0.786461</td>\n",
       "      <td>0.603816</td>\n",
       "      <td>0.924200</td>\n",
       "      <td>1.175139</td>\n",
       "      <td>0.089991</td>\n",
       "      <td>2.817152</td>\n",
       "      <td>0.429921</td>\n",
       "    </tr>\n",
       "    <tr>\n",
       "      <th>8</th>\n",
       "      <td>(Gender_Male, Age_Adult)</td>\n",
       "      <td>(Survived_No)</td>\n",
       "      <td>0.757383</td>\n",
       "      <td>0.676965</td>\n",
       "      <td>0.603816</td>\n",
       "      <td>0.797241</td>\n",
       "      <td>1.177669</td>\n",
       "      <td>0.091095</td>\n",
       "      <td>1.593193</td>\n",
       "      <td>0.621823</td>\n",
       "    </tr>\n",
       "    <tr>\n",
       "      <th>9</th>\n",
       "      <td>(Survived_No)</td>\n",
       "      <td>(Gender_Male, Age_Adult)</td>\n",
       "      <td>0.676965</td>\n",
       "      <td>0.757383</td>\n",
       "      <td>0.603816</td>\n",
       "      <td>0.891946</td>\n",
       "      <td>1.177669</td>\n",
       "      <td>0.091095</td>\n",
       "      <td>2.245337</td>\n",
       "      <td>0.467023</td>\n",
       "    </tr>\n",
       "    <tr>\n",
       "      <th>10</th>\n",
       "      <td>(Gender_Male)</td>\n",
       "      <td>(Survived_No, Age_Adult)</td>\n",
       "      <td>0.786461</td>\n",
       "      <td>0.653339</td>\n",
       "      <td>0.603816</td>\n",
       "      <td>0.767764</td>\n",
       "      <td>1.175139</td>\n",
       "      <td>0.089991</td>\n",
       "      <td>1.492710</td>\n",
       "      <td>0.697935</td>\n",
       "    </tr>\n",
       "    <tr>\n",
       "      <th>11</th>\n",
       "      <td>(Age_Adult)</td>\n",
       "      <td>(Survived_No, Gender_Male)</td>\n",
       "      <td>0.950477</td>\n",
       "      <td>0.619718</td>\n",
       "      <td>0.603816</td>\n",
       "      <td>0.635277</td>\n",
       "      <td>1.025106</td>\n",
       "      <td>0.014788</td>\n",
       "      <td>1.042660</td>\n",
       "      <td>0.494550</td>\n",
       "    </tr>\n",
       "  </tbody>\n",
       "</table>\n",
       "</div>"
      ],
      "text/plain": [
       "                   antecedents  ... zhangs_metric\n",
       "0                (Gender_Male)  ...      0.061028\n",
       "1                  (Age_Adult)  ...      0.263149\n",
       "2                (Survived_No)  ...      0.436144\n",
       "3                (Gender_Male)  ...      0.659783\n",
       "4                (Survived_No)  ...      0.046906\n",
       "5                  (Age_Adult)  ...      0.305968\n",
       "6   (Survived_No, Gender_Male)  ...      0.064404\n",
       "7     (Survived_No, Age_Adult)  ...      0.429921\n",
       "8     (Gender_Male, Age_Adult)  ...      0.621823\n",
       "9                (Survived_No)  ...      0.467023\n",
       "10               (Gender_Male)  ...      0.697935\n",
       "11                 (Age_Adult)  ...      0.494550\n",
       "\n",
       "[12 rows x 10 columns]"
      ]
     },
     "execution_count": 26,
     "metadata": {},
     "output_type": "execute_result"
    }
   ],
   "source": [
    "association_rules(freq,min_threshold=0.8,metric='lift')"
   ]
  },
  {
   "cell_type": "code",
   "execution_count": null,
   "id": "356092fe",
   "metadata": {},
   "outputs": [],
   "source": []
  }
 ],
 "metadata": {
  "kernelspec": {
   "display_name": "Python 3 (ipykernel)",
   "language": "python",
   "name": "python3"
  },
  "language_info": {
   "codemirror_mode": {
    "name": "ipython",
    "version": 3
   },
   "file_extension": ".py",
   "mimetype": "text/x-python",
   "name": "python",
   "nbconvert_exporter": "python",
   "pygments_lexer": "ipython3",
   "version": "3.11.4"
  }
 },
 "nbformat": 4,
 "nbformat_minor": 5
}
