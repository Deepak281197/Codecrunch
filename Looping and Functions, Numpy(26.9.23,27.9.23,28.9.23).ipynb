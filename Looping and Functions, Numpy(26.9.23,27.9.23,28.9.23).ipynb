{
 "cells": [
  {
   "cell_type": "markdown",
   "id": "948972ad",
   "metadata": {},
   "source": [
    "## looping "
   ]
  },
  {
   "cell_type": "markdown",
   "id": "92dbbaab",
   "metadata": {},
   "source": [
    "### for loop"
   ]
  },
  {
   "cell_type": "code",
   "execution_count": 1,
   "id": "4c50dd9a",
   "metadata": {},
   "outputs": [
    {
     "name": "stdout",
     "output_type": "stream",
     "text": [
      "1\n",
      "2\n",
      "3\n"
     ]
    }
   ],
   "source": [
    "for i in [1,2,3]:\n",
    "    print(i)"
   ]
  },
  {
   "cell_type": "code",
   "execution_count": 74,
   "id": "6c9ded24",
   "metadata": {},
   "outputs": [
    {
     "name": "stdout",
     "output_type": "stream",
     "text": [
      "36\n"
     ]
    }
   ],
   "source": [
    "func(6)"
   ]
  },
  {
   "cell_type": "code",
   "execution_count": 2,
   "id": "2c144f73",
   "metadata": {},
   "outputs": [],
   "source": [
    "a=[1,2,3,4,5,6,7,8]"
   ]
  },
  {
   "cell_type": "code",
   "execution_count": 3,
   "id": "27fe1859",
   "metadata": {},
   "outputs": [
    {
     "name": "stdout",
     "output_type": "stream",
     "text": [
      "1\n",
      "2\n",
      "3\n",
      "4\n",
      "5\n",
      "6\n",
      "7\n",
      "8\n"
     ]
    }
   ],
   "source": [
    "for i in a:\n",
    "    print(i)"
   ]
  },
  {
   "cell_type": "code",
   "execution_count": 5,
   "id": "348f6d4c",
   "metadata": {},
   "outputs": [
    {
     "name": "stdout",
     "output_type": "stream",
     "text": [
      "0\n",
      "1\n",
      "2\n",
      "3\n",
      "4\n",
      "5\n",
      "6\n",
      "7\n",
      "8\n",
      "9\n"
     ]
    }
   ],
   "source": [
    "for i in range(0,10):\n",
    "    print(i)"
   ]
  },
  {
   "cell_type": "code",
   "execution_count": 6,
   "id": "dbaa0c37",
   "metadata": {},
   "outputs": [
    {
     "data": {
      "text/plain": [
       "[1, 2, 3, 4, 5, 6, 7, 8]"
      ]
     },
     "execution_count": 6,
     "metadata": {},
     "output_type": "execute_result"
    }
   ],
   "source": [
    "a"
   ]
  },
  {
   "cell_type": "code",
   "execution_count": 7,
   "id": "693febe5",
   "metadata": {},
   "outputs": [
    {
     "name": "stdout",
     "output_type": "stream",
     "text": [
      "0 1\n",
      "1 2\n",
      "2 3\n",
      "3 4\n",
      "4 5\n",
      "5 6\n",
      "6 7\n",
      "7 8\n"
     ]
    }
   ],
   "source": [
    "for i in range(len(a)):\n",
    "    print(i,a[i])"
   ]
  },
  {
   "cell_type": "markdown",
   "id": "830e7193",
   "metadata": {},
   "source": [
    "## while loop"
   ]
  },
  {
   "cell_type": "code",
   "execution_count": 19,
   "id": "48566dc7",
   "metadata": {},
   "outputs": [
    {
     "name": "stdout",
     "output_type": "stream",
     "text": [
      "1\n",
      "3\n",
      "6\n",
      "10\n"
     ]
    }
   ],
   "source": [
    "i=1\n",
    "n=5\n",
    "sum=0\n",
    "while (i<n):\n",
    "    sum= sum+i\n",
    "    print(sum)\n",
    "    i= i+1"
   ]
  },
  {
   "cell_type": "code",
   "execution_count": 9,
   "id": "8afd4869",
   "metadata": {},
   "outputs": [
    {
     "name": "stdout",
     "output_type": "stream",
     "text": [
      "count is in the loop\n",
      "count is in the loop\n",
      "count is in the loop\n",
      "count is in the loop\n",
      "count is in the loop\n",
      "count is in the loop\n",
      "count is in the loop\n",
      "count is in the loop\n",
      "count is in the loop\n",
      "count is in the loop\n",
      "count is out of the loop\n"
     ]
    }
   ],
   "source": [
    "count=0\n",
    "while(count<10):\n",
    "    print('count is in the loop')\n",
    "    count= count+1\n",
    "else:\n",
    "    print('count is out of the loop')"
   ]
  },
  {
   "cell_type": "markdown",
   "id": "49719cf8",
   "metadata": {},
   "source": [
    "## if ,elif ,else"
   ]
  },
  {
   "cell_type": "code",
   "execution_count": 1,
   "id": "466136c3",
   "metadata": {},
   "outputs": [
    {
     "name": "stdout",
     "output_type": "stream",
     "text": [
      "Enter the number2\n"
     ]
    },
    {
     "data": {
      "text/plain": [
       "4"
      ]
     },
     "execution_count": 1,
     "metadata": {},
     "output_type": "execute_result"
    }
   ],
   "source": [
    "x= int(input('Enter the number'))\n",
    "if (x>10):\n",
    "    x= x-2\n",
    "elif (x<10):\n",
    "    x= x+2\n",
    "x\n",
    "    \n",
    "    "
   ]
  },
  {
   "cell_type": "code",
   "execution_count": 3,
   "id": "e7a86e5d",
   "metadata": {},
   "outputs": [
    {
     "name": "stdout",
     "output_type": "stream",
     "text": [
      "Enter the number21\n",
      "odd\n"
     ]
    }
   ],
   "source": [
    "x= int(input('Enter the number'))\n",
    "if x%2==0:\n",
    "    print('even')\n",
    "else:\n",
    "    print('odd')"
   ]
  },
  {
   "cell_type": "code",
   "execution_count": 4,
   "id": "66efb325",
   "metadata": {},
   "outputs": [],
   "source": [
    "b=20"
   ]
  },
  {
   "cell_type": "code",
   "execution_count": 6,
   "id": "973a8ea0",
   "metadata": {},
   "outputs": [
    {
     "data": {
      "text/plain": [
       "True"
      ]
     },
     "execution_count": 6,
     "metadata": {},
     "output_type": "execute_result"
    }
   ],
   "source": [
    "b==20"
   ]
  },
  {
   "cell_type": "code",
   "execution_count": 7,
   "id": "a0f55544",
   "metadata": {},
   "outputs": [
    {
     "data": {
      "text/plain": [
       "False"
      ]
     },
     "execution_count": 7,
     "metadata": {},
     "output_type": "execute_result"
    }
   ],
   "source": [
    "b!=20"
   ]
  },
  {
   "cell_type": "code",
   "execution_count": 8,
   "id": "e514ff63",
   "metadata": {},
   "outputs": [
    {
     "data": {
      "text/plain": [
       "False"
      ]
     },
     "execution_count": 8,
     "metadata": {},
     "output_type": "execute_result"
    }
   ],
   "source": [
    "b>20"
   ]
  },
  {
   "cell_type": "code",
   "execution_count": 9,
   "id": "a639a0c9",
   "metadata": {},
   "outputs": [
    {
     "data": {
      "text/plain": [
       "False"
      ]
     },
     "execution_count": 9,
     "metadata": {},
     "output_type": "execute_result"
    }
   ],
   "source": [
    "b<20"
   ]
  },
  {
   "cell_type": "code",
   "execution_count": 10,
   "id": "b7267f9c",
   "metadata": {},
   "outputs": [],
   "source": [
    "a=10\n",
    "b=20\n"
   ]
  },
  {
   "cell_type": "code",
   "execution_count": 12,
   "id": "cdbdf17e",
   "metadata": {},
   "outputs": [
    {
     "data": {
      "text/plain": [
       "False"
      ]
     },
     "execution_count": 12,
     "metadata": {},
     "output_type": "execute_result"
    }
   ],
   "source": [
    "(a>b) and (b==20)"
   ]
  },
  {
   "cell_type": "code",
   "execution_count": 13,
   "id": "b640b8e2",
   "metadata": {},
   "outputs": [
    {
     "data": {
      "text/plain": [
       "False"
      ]
     },
     "execution_count": 13,
     "metadata": {},
     "output_type": "execute_result"
    }
   ],
   "source": [
    "not(True)"
   ]
  },
  {
   "cell_type": "code",
   "execution_count": 14,
   "id": "cd81ab6f",
   "metadata": {},
   "outputs": [
    {
     "data": {
      "text/plain": [
       "True"
      ]
     },
     "execution_count": 14,
     "metadata": {},
     "output_type": "execute_result"
    }
   ],
   "source": [
    "not(False)"
   ]
  },
  {
   "cell_type": "code",
   "execution_count": 15,
   "id": "ac4ab824",
   "metadata": {},
   "outputs": [
    {
     "data": {
      "text/plain": [
       "False"
      ]
     },
     "execution_count": 15,
     "metadata": {},
     "output_type": "execute_result"
    }
   ],
   "source": [
    "not(a==10)"
   ]
  },
  {
   "cell_type": "code",
   "execution_count": 16,
   "id": "0326f239",
   "metadata": {},
   "outputs": [],
   "source": [
    "a=[1,2,3,4,5,6,7,8]"
   ]
  },
  {
   "cell_type": "code",
   "execution_count": 17,
   "id": "a9a4927b",
   "metadata": {},
   "outputs": [
    {
     "name": "stdout",
     "output_type": "stream",
     "text": [
      "odd\n",
      "even\n",
      "odd\n",
      "even\n",
      "odd\n",
      "even\n",
      "odd\n",
      "even\n"
     ]
    }
   ],
   "source": [
    "for x in a:\n",
    "    if x%2==0:\n",
    "        print('even')\n",
    "    else:\n",
    "        print('odd')"
   ]
  },
  {
   "cell_type": "code",
   "execution_count": 39,
   "id": "f13f0e87",
   "metadata": {},
   "outputs": [
    {
     "data": {
      "text/plain": [
       "[1,\n",
       " 2,\n",
       " 3,\n",
       " 4,\n",
       " 5,\n",
       " 6,\n",
       " 7,\n",
       " 8,\n",
       " 20.5,\n",
       " 20.5,\n",
       " 20.5,\n",
       " 20.5,\n",
       " 20.5,\n",
       " 'python',\n",
       " 20.5,\n",
       " 'python']"
      ]
     },
     "execution_count": 39,
     "metadata": {},
     "output_type": "execute_result"
    }
   ],
   "source": [
    "a.append(20.5)\n",
    "a.append('python')\n",
    "a.remove('python')\n",
    "a"
   ]
  },
  {
   "cell_type": "code",
   "execution_count": 40,
   "id": "660ff3cb",
   "metadata": {},
   "outputs": [
    {
     "ename": "TypeError",
     "evalue": "not all arguments converted during string formatting",
     "output_type": "error",
     "traceback": [
      "\u001b[1;31m---------------------------------------------------------------------------\u001b[0m",
      "\u001b[1;31mTypeError\u001b[0m                                 Traceback (most recent call last)",
      "Cell \u001b[1;32mIn[40], line 6\u001b[0m\n\u001b[0;32m      4\u001b[0m string\u001b[38;5;241m=\u001b[39m[]\n\u001b[0;32m      5\u001b[0m \u001b[38;5;28;01mfor\u001b[39;00m x \u001b[38;5;129;01min\u001b[39;00m a:\n\u001b[1;32m----> 6\u001b[0m     \u001b[38;5;28;01mif\u001b[39;00m x\u001b[38;5;241m%\u001b[39m\u001b[38;5;241m2\u001b[39m\u001b[38;5;241m==\u001b[39m\u001b[38;5;241m0\u001b[39m:\n\u001b[0;32m      7\u001b[0m         even\u001b[38;5;241m.\u001b[39mappend(x) \n\u001b[0;32m      8\u001b[0m     \u001b[38;5;28;01melif\u001b[39;00m x\u001b[38;5;241m%\u001b[39m\u001b[38;5;241m2\u001b[39m\u001b[38;5;241m==\u001b[39m\u001b[38;5;241m1\u001b[39m:\n",
      "\u001b[1;31mTypeError\u001b[0m: not all arguments converted during string formatting"
     ]
    }
   ],
   "source": [
    "even=[]\n",
    "odd=[]\n",
    "float1=[]\n",
    "string=[]\n",
    "for x in a:\n",
    "    if x%2==0:\n",
    "        even.append(x) \n",
    "    elif x%2==1:\n",
    "        odd.append(x)\n",
    "    elif x== type(str):\n",
    "        string.append(x)\n",
    "    else:\n",
    "        float1.append(x)\n",
    "print(even,odd,float1)"
   ]
  },
  {
   "cell_type": "code",
   "execution_count": 50,
   "id": "4d853a04",
   "metadata": {},
   "outputs": [],
   "source": [
    "a=['2str','45str1']"
   ]
  },
  {
   "cell_type": "code",
   "execution_count": 51,
   "id": "a3d1f684",
   "metadata": {},
   "outputs": [
    {
     "name": "stdout",
     "output_type": "stream",
     "text": [
      "2str\n"
     ]
    }
   ],
   "source": [
    "for i in a:\n",
    "    print(i)"
   ]
  },
  {
   "cell_type": "code",
   "execution_count": 55,
   "id": "065a509b",
   "metadata": {},
   "outputs": [
    {
     "data": {
      "text/plain": [
       "['2str']"
      ]
     },
     "execution_count": 55,
     "metadata": {},
     "output_type": "execute_result"
    }
   ],
   "source": [
    "a"
   ]
  },
  {
   "cell_type": "code",
   "execution_count": 53,
   "id": "47659e2d",
   "metadata": {},
   "outputs": [],
   "source": [
    "var=a[0][0]"
   ]
  },
  {
   "cell_type": "code",
   "execution_count": 57,
   "id": "b7e3b87e",
   "metadata": {},
   "outputs": [],
   "source": [
    "b=int(var)"
   ]
  },
  {
   "cell_type": "code",
   "execution_count": 56,
   "id": "5c5a229d",
   "metadata": {},
   "outputs": [
    {
     "data": {
      "text/plain": [
       "'2'"
      ]
     },
     "execution_count": 56,
     "metadata": {},
     "output_type": "execute_result"
    }
   ],
   "source": [
    "var"
   ]
  },
  {
   "cell_type": "code",
   "execution_count": 58,
   "id": "b04405e1",
   "metadata": {},
   "outputs": [
    {
     "data": {
      "text/plain": [
       "2"
      ]
     },
     "execution_count": 58,
     "metadata": {},
     "output_type": "execute_result"
    }
   ],
   "source": [
    "b"
   ]
  },
  {
   "cell_type": "code",
   "execution_count": 63,
   "id": "964d1854",
   "metadata": {},
   "outputs": [],
   "source": [
    "var1=a[0][1:4]"
   ]
  },
  {
   "cell_type": "code",
   "execution_count": 64,
   "id": "77cac747",
   "metadata": {},
   "outputs": [
    {
     "data": {
      "text/plain": [
       "'str'"
      ]
     },
     "execution_count": 64,
     "metadata": {},
     "output_type": "execute_result"
    }
   ],
   "source": [
    "var1"
   ]
  },
  {
   "cell_type": "code",
   "execution_count": 67,
   "id": "70039ffd",
   "metadata": {},
   "outputs": [],
   "source": [
    "## creating the list using input functions"
   ]
  },
  {
   "cell_type": "code",
   "execution_count": 71,
   "id": "db788491",
   "metadata": {},
   "outputs": [
    {
     "name": "stdout",
     "output_type": "stream",
     "text": [
      "Enter the count10\n",
      "Enter the values1\n",
      "Enter the values2\n",
      "Enter the values3\n",
      "Enter the values4\n",
      "Enter the values5\n",
      "Enter the values6\n",
      "Enter the values7\n",
      "Enter the values8\n",
      "Enter the values9\n",
      "Enter the values9\n",
      "[1, 2, 3, 4, 5, 6, 7, 8, 9, 9]\n"
     ]
    }
   ],
   "source": [
    "b=[]\n",
    "count= int(input('Enter the count'))\n",
    "for i in range(0,count):\n",
    "    var= int(input('Enter the values'))\n",
    "    b.append(var)\n",
    "print(b)\n",
    "    "
   ]
  },
  {
   "cell_type": "code",
   "execution_count": 72,
   "id": "025f3ffc",
   "metadata": {},
   "outputs": [],
   "source": [
    "def func(x):\n",
    "    print(x*x)"
   ]
  },
  {
   "cell_type": "code",
   "execution_count": 73,
   "id": "235b0992",
   "metadata": {},
   "outputs": [
    {
     "name": "stdout",
     "output_type": "stream",
     "text": [
      "4\n"
     ]
    }
   ],
   "source": [
    "func(2)"
   ]
  },
  {
   "cell_type": "code",
   "execution_count": 75,
   "id": "4571665f",
   "metadata": {},
   "outputs": [],
   "source": [
    "def square(x):\n",
    "    print(x**x)"
   ]
  },
  {
   "cell_type": "code",
   "execution_count": 76,
   "id": "e0143d59",
   "metadata": {},
   "outputs": [
    {
     "name": "stdout",
     "output_type": "stream",
     "text": [
      "27\n"
     ]
    }
   ],
   "source": [
    "square(3)"
   ]
  },
  {
   "cell_type": "code",
   "execution_count": 77,
   "id": "a7502199",
   "metadata": {},
   "outputs": [],
   "source": [
    "def fun(x,y):\n",
    "    print(x*y)"
   ]
  },
  {
   "cell_type": "code",
   "execution_count": 80,
   "id": "aaf4f622",
   "metadata": {},
   "outputs": [
    {
     "name": "stdout",
     "output_type": "stream",
     "text": [
      "200\n"
     ]
    }
   ],
   "source": [
    "fun(10,20)"
   ]
  },
  {
   "cell_type": "code",
   "execution_count": 78,
   "id": "5de1bde9",
   "metadata": {},
   "outputs": [],
   "source": [
    "def fun(x,y):\n",
    "    return x*y"
   ]
  },
  {
   "cell_type": "code",
   "execution_count": 82,
   "id": "e1f74155",
   "metadata": {},
   "outputs": [
    {
     "data": {
      "text/plain": [
       "6"
      ]
     },
     "execution_count": 82,
     "metadata": {},
     "output_type": "execute_result"
    }
   ],
   "source": [
    "fun(2,3)"
   ]
  },
  {
   "cell_type": "code",
   "execution_count": 83,
   "id": "54298bb3",
   "metadata": {},
   "outputs": [],
   "source": [
    "def fun(x=0,y=0):\n",
    "    return x+y"
   ]
  },
  {
   "cell_type": "code",
   "execution_count": 86,
   "id": "b30c860a",
   "metadata": {},
   "outputs": [
    {
     "data": {
      "text/plain": [
       "4"
      ]
     },
     "execution_count": 86,
     "metadata": {},
     "output_type": "execute_result"
    }
   ],
   "source": [
    "fun(4)"
   ]
  },
  {
   "cell_type": "code",
   "execution_count": 104,
   "id": "95a94b83",
   "metadata": {},
   "outputs": [],
   "source": [
    "a=[]\n",
    "even=[]\n",
    "odd=[]\n",
    "float1=[]\n",
    "def fun(a):\n",
    "    for i in a:\n",
    "        if i%2==0:\n",
    "            even.append(i)\n",
    "        elif i%2==1:\n",
    "            odd.append(i)\n",
    "        else:\n",
    "            float1.append(i)\n",
    "    print(even,odd,float1)"
   ]
  },
  {
   "cell_type": "code",
   "execution_count": 105,
   "id": "29a5b58a",
   "metadata": {},
   "outputs": [
    {
     "name": "stdout",
     "output_type": "stream",
     "text": [
      "[2, 4, 10] [1, 3, 5] [3.3, 8.8]\n"
     ]
    }
   ],
   "source": [
    "fun([1,2,3,4,5,10,3.3,8.8])"
   ]
  },
  {
   "cell_type": "code",
   "execution_count": 106,
   "id": "ebd01192",
   "metadata": {},
   "outputs": [],
   "source": [
    "def fact(x):\n",
    "    if x==1:\n",
    "        return 1\n",
    "    else:\n",
    "        return fact(x-1)*x"
   ]
  },
  {
   "cell_type": "code",
   "execution_count": 111,
   "id": "df3e4756",
   "metadata": {},
   "outputs": [
    {
     "data": {
      "text/plain": [
       "6"
      ]
     },
     "execution_count": 111,
     "metadata": {},
     "output_type": "execute_result"
    }
   ],
   "source": [
    "fact(3)"
   ]
  },
  {
   "cell_type": "markdown",
   "id": "06ce0a17",
   "metadata": {},
   "source": [
    "## filter function"
   ]
  },
  {
   "cell_type": "code",
   "execution_count": 119,
   "id": "7821f0a9",
   "metadata": {},
   "outputs": [],
   "source": [
    "def fun(x):\n",
    "    if x%2==0:\n",
    "        return True\n",
    "    else:\n",
    "        return False"
   ]
  },
  {
   "cell_type": "code",
   "execution_count": 120,
   "id": "09eaa3ec",
   "metadata": {},
   "outputs": [
    {
     "data": {
      "text/plain": [
       "False"
      ]
     },
     "execution_count": 120,
     "metadata": {},
     "output_type": "execute_result"
    }
   ],
   "source": [
    "fun(5)"
   ]
  },
  {
   "cell_type": "code",
   "execution_count": 121,
   "id": "47d59b13",
   "metadata": {},
   "outputs": [],
   "source": [
    "a=[1,2,3,4,5,6,7]"
   ]
  },
  {
   "cell_type": "code",
   "execution_count": 122,
   "id": "c1e3e9cc",
   "metadata": {},
   "outputs": [
    {
     "data": {
      "text/plain": [
       "[2, 4, 6]"
      ]
     },
     "execution_count": 122,
     "metadata": {},
     "output_type": "execute_result"
    }
   ],
   "source": [
    "list(filter(fun,a))"
   ]
  },
  {
   "cell_type": "code",
   "execution_count": 137,
   "id": "9031144f",
   "metadata": {},
   "outputs": [],
   "source": [
    "def fun(x):\n",
    "    return x+2"
   ]
  },
  {
   "cell_type": "code",
   "execution_count": 67,
   "id": "a3ee5331",
   "metadata": {},
   "outputs": [
    {
     "data": {
      "text/plain": [
       "22.4"
      ]
     },
     "execution_count": 67,
     "metadata": {},
     "output_type": "execute_result"
    }
   ],
   "source": [
    "round(22.44,1)"
   ]
  },
  {
   "cell_type": "code",
   "execution_count": 71,
   "id": "618a1831",
   "metadata": {},
   "outputs": [
    {
     "name": "stdout",
     "output_type": "stream",
     "text": [
      "Enter the first number22.44444\n",
      "Enter the second number55.444444\n",
      "77.889\n"
     ]
    }
   ],
   "source": [
    "num1= float(input('Enter the first number'))\n",
    "num2= float(input('Enter the second number'))\n",
    "sum1= num1 + num2\n",
    "print(round(sum1,3))"
   ]
  },
  {
   "cell_type": "code",
   "execution_count": 72,
   "id": "7c6bd77c",
   "metadata": {},
   "outputs": [],
   "source": [
    "a=[1,2,3,'a',4,'b','c','d']"
   ]
  },
  {
   "cell_type": "code",
   "execution_count": 79,
   "id": "c87ae129",
   "metadata": {},
   "outputs": [
    {
     "name": "stdout",
     "output_type": "stream",
     "text": [
      "[1, 2, 3, 4] ['a', 'b', 'c', 'd']\n"
     ]
    }
   ],
   "source": [
    "def filter1(x,y):\n",
    "    return [i for i in x if isinstance(i,y)]\n",
    "nums= filter1(a, int)\n",
    "strs= filter1(a, str)\n",
    "print(nums,strs)  "
   ]
  },
  {
   "cell_type": "code",
   "execution_count": 76,
   "id": "632a13a7",
   "metadata": {},
   "outputs": [
    {
     "data": {
      "text/plain": [
       "False"
      ]
     },
     "execution_count": 76,
     "metadata": {},
     "output_type": "execute_result"
    }
   ],
   "source": [
    "isinstance(a,tuple)"
   ]
  },
  {
   "cell_type": "markdown",
   "id": "89d89992",
   "metadata": {},
   "source": [
    "## Lambda Function"
   ]
  },
  {
   "cell_type": "code",
   "execution_count": 80,
   "id": "88a34b64",
   "metadata": {},
   "outputs": [],
   "source": [
    "fun= lambda x: x*x"
   ]
  },
  {
   "cell_type": "code",
   "execution_count": 81,
   "id": "e15f70c6",
   "metadata": {},
   "outputs": [
    {
     "data": {
      "text/plain": [
       "16"
      ]
     },
     "execution_count": 81,
     "metadata": {},
     "output_type": "execute_result"
    }
   ],
   "source": [
    "fun(4)"
   ]
  },
  {
   "cell_type": "code",
   "execution_count": 82,
   "id": "50561ff3",
   "metadata": {},
   "outputs": [],
   "source": [
    "fun1= lambda x,y: x**y"
   ]
  },
  {
   "cell_type": "code",
   "execution_count": 83,
   "id": "85fc03e0",
   "metadata": {},
   "outputs": [
    {
     "data": {
      "text/plain": [
       "8"
      ]
     },
     "execution_count": 83,
     "metadata": {},
     "output_type": "execute_result"
    }
   ],
   "source": [
    "fun1(2,3)"
   ]
  },
  {
   "cell_type": "code",
   "execution_count": 84,
   "id": "24c6cf1d",
   "metadata": {},
   "outputs": [],
   "source": [
    "fun2= lambda x: 'even' if x%2==0 else 'odd'"
   ]
  },
  {
   "cell_type": "code",
   "execution_count": 86,
   "id": "6766d469",
   "metadata": {},
   "outputs": [
    {
     "data": {
      "text/plain": [
       "'odd'"
      ]
     },
     "execution_count": 86,
     "metadata": {},
     "output_type": "execute_result"
    }
   ],
   "source": [
    "fun2(3)"
   ]
  },
  {
   "cell_type": "code",
   "execution_count": 87,
   "id": "ba619570",
   "metadata": {},
   "outputs": [],
   "source": [
    "fun3= lambda x,y: x if x>y else y"
   ]
  },
  {
   "cell_type": "code",
   "execution_count": 88,
   "id": "eb528b37",
   "metadata": {},
   "outputs": [
    {
     "data": {
      "text/plain": [
       "4"
      ]
     },
     "execution_count": 88,
     "metadata": {},
     "output_type": "execute_result"
    }
   ],
   "source": [
    "fun3(3,4)"
   ]
  },
  {
   "cell_type": "code",
   "execution_count": 89,
   "id": "be6ad67e",
   "metadata": {},
   "outputs": [],
   "source": [
    "a=[1,2,3,4,5,6,7]"
   ]
  },
  {
   "cell_type": "code",
   "execution_count": 90,
   "id": "d1043cc2",
   "metadata": {},
   "outputs": [],
   "source": [
    "fun4= lambda x: ['even' if x%2==0 else 'odd' for x in a]"
   ]
  },
  {
   "cell_type": "code",
   "execution_count": 91,
   "id": "4a4333b9",
   "metadata": {},
   "outputs": [
    {
     "data": {
      "text/plain": [
       "['odd', 'even', 'odd', 'even', 'odd', 'even', 'odd']"
      ]
     },
     "execution_count": 91,
     "metadata": {},
     "output_type": "execute_result"
    }
   ],
   "source": [
    "fun4(a)"
   ]
  },
  {
   "cell_type": "code",
   "execution_count": 92,
   "id": "ab85db56",
   "metadata": {},
   "outputs": [],
   "source": [
    "fact= lambda x: 1 if x==1 else fact(x-1)*x"
   ]
  },
  {
   "cell_type": "code",
   "execution_count": 94,
   "id": "2a48ec03",
   "metadata": {},
   "outputs": [
    {
     "data": {
      "text/plain": [
       "120"
      ]
     },
     "execution_count": 94,
     "metadata": {},
     "output_type": "execute_result"
    }
   ],
   "source": [
    "fact(5)"
   ]
  },
  {
   "cell_type": "markdown",
   "id": "396b71b9",
   "metadata": {},
   "source": [
    "## map function"
   ]
  },
  {
   "cell_type": "code",
   "execution_count": 95,
   "id": "197bd4d5",
   "metadata": {},
   "outputs": [],
   "source": [
    "def mult(x):\n",
    "    return x*x"
   ]
  },
  {
   "cell_type": "code",
   "execution_count": 96,
   "id": "9f779738",
   "metadata": {},
   "outputs": [
    {
     "data": {
      "text/plain": [
       "4"
      ]
     },
     "execution_count": 96,
     "metadata": {},
     "output_type": "execute_result"
    }
   ],
   "source": [
    "mult(2)"
   ]
  },
  {
   "cell_type": "code",
   "execution_count": 100,
   "id": "6884242f",
   "metadata": {},
   "outputs": [],
   "source": [
    "a=[1,2,3,4,5,6]\n",
    "b=[4,5,6,7]"
   ]
  },
  {
   "cell_type": "code",
   "execution_count": 98,
   "id": "6fc71f93",
   "metadata": {},
   "outputs": [
    {
     "data": {
      "text/plain": [
       "[1, 4, 9, 16, 25, 36]"
      ]
     },
     "execution_count": 98,
     "metadata": {},
     "output_type": "execute_result"
    }
   ],
   "source": [
    "list(map(mult,a))"
   ]
  },
  {
   "cell_type": "code",
   "execution_count": 101,
   "id": "467b64f4",
   "metadata": {},
   "outputs": [],
   "source": [
    "def mult(x,y):\n",
    "    return x*y"
   ]
  },
  {
   "cell_type": "code",
   "execution_count": 102,
   "id": "e3731851",
   "metadata": {},
   "outputs": [
    {
     "data": {
      "text/plain": [
       "[4, 10, 18, 28]"
      ]
     },
     "execution_count": 102,
     "metadata": {},
     "output_type": "execute_result"
    }
   ],
   "source": [
    "list(map(mult,a,b))"
   ]
  },
  {
   "cell_type": "code",
   "execution_count": 103,
   "id": "79f9e009",
   "metadata": {},
   "outputs": [
    {
     "data": {
      "text/plain": [
       "[16, 25, 36, 49]"
      ]
     },
     "execution_count": 103,
     "metadata": {},
     "output_type": "execute_result"
    }
   ],
   "source": [
    "list(map(lambda x: x**2,b))"
   ]
  },
  {
   "cell_type": "markdown",
   "id": "4a5be9c5",
   "metadata": {},
   "source": [
    "## Numpy"
   ]
  },
  {
   "cell_type": "code",
   "execution_count": 9,
   "id": "6ed23166",
   "metadata": {},
   "outputs": [],
   "source": [
    "import numpy as np"
   ]
  },
  {
   "cell_type": "code",
   "execution_count": 10,
   "id": "75f08de8",
   "metadata": {},
   "outputs": [],
   "source": [
    "one_dim= np.array([1,2,3,4,5,6])"
   ]
  },
  {
   "cell_type": "code",
   "execution_count": 11,
   "id": "cf8779aa",
   "metadata": {},
   "outputs": [
    {
     "data": {
      "text/plain": [
       "array([1, 2, 3, 4, 5, 6])"
      ]
     },
     "execution_count": 11,
     "metadata": {},
     "output_type": "execute_result"
    }
   ],
   "source": [
    "one_dim"
   ]
  },
  {
   "cell_type": "code",
   "execution_count": 12,
   "id": "cda501ec",
   "metadata": {},
   "outputs": [
    {
     "data": {
      "text/plain": [
       "numpy.ndarray"
      ]
     },
     "execution_count": 12,
     "metadata": {},
     "output_type": "execute_result"
    }
   ],
   "source": [
    "type(one_dim)"
   ]
  },
  {
   "cell_type": "code",
   "execution_count": 13,
   "id": "d35363a4",
   "metadata": {},
   "outputs": [
    {
     "data": {
      "text/plain": [
       "1"
      ]
     },
     "execution_count": 13,
     "metadata": {},
     "output_type": "execute_result"
    }
   ],
   "source": [
    "one_dim.ndim"
   ]
  },
  {
   "cell_type": "code",
   "execution_count": 14,
   "id": "82e4c002",
   "metadata": {},
   "outputs": [
    {
     "data": {
      "text/plain": [
       "(6,)"
      ]
     },
     "execution_count": 14,
     "metadata": {},
     "output_type": "execute_result"
    }
   ],
   "source": [
    "one_dim.shape"
   ]
  },
  {
   "cell_type": "code",
   "execution_count": 15,
   "id": "0f7fab62",
   "metadata": {},
   "outputs": [
    {
     "data": {
      "text/plain": [
       "6"
      ]
     },
     "execution_count": 15,
     "metadata": {},
     "output_type": "execute_result"
    }
   ],
   "source": [
    "one_dim.size"
   ]
  },
  {
   "cell_type": "code",
   "execution_count": 16,
   "id": "1096ba05",
   "metadata": {},
   "outputs": [
    {
     "data": {
      "text/plain": [
       "5"
      ]
     },
     "execution_count": 16,
     "metadata": {},
     "output_type": "execute_result"
    }
   ],
   "source": [
    "one_dim[4]"
   ]
  },
  {
   "cell_type": "code",
   "execution_count": 17,
   "id": "5d202164",
   "metadata": {},
   "outputs": [
    {
     "data": {
      "text/plain": [
       "array([1, 2, 3, 4, 5, 6])"
      ]
     },
     "execution_count": 17,
     "metadata": {},
     "output_type": "execute_result"
    }
   ],
   "source": [
    "one_dim"
   ]
  },
  {
   "cell_type": "code",
   "execution_count": 18,
   "id": "9ec02395",
   "metadata": {},
   "outputs": [
    {
     "data": {
      "text/plain": [
       "array([1, 2, 3, 4])"
      ]
     },
     "execution_count": 18,
     "metadata": {},
     "output_type": "execute_result"
    }
   ],
   "source": [
    "one_dim[0:4]"
   ]
  },
  {
   "cell_type": "code",
   "execution_count": 19,
   "id": "bbb04f94",
   "metadata": {},
   "outputs": [],
   "source": [
    "one_dim[4:6]=[100,200]"
   ]
  },
  {
   "cell_type": "code",
   "execution_count": 20,
   "id": "c2fb52b1",
   "metadata": {},
   "outputs": [
    {
     "data": {
      "text/plain": [
       "array([  1,   2,   3,   4, 100, 200])"
      ]
     },
     "execution_count": 20,
     "metadata": {},
     "output_type": "execute_result"
    }
   ],
   "source": [
    "one_dim"
   ]
  },
  {
   "cell_type": "code",
   "execution_count": 21,
   "id": "7f43dc24",
   "metadata": {},
   "outputs": [
    {
     "data": {
      "text/plain": [
       "array([  1,   2,   3,   4, 200])"
      ]
     },
     "execution_count": 21,
     "metadata": {},
     "output_type": "execute_result"
    }
   ],
   "source": [
    "np.delete(one_dim,4)"
   ]
  },
  {
   "cell_type": "code",
   "execution_count": 22,
   "id": "0b792cb2",
   "metadata": {},
   "outputs": [
    {
     "data": {
      "text/plain": [
       "array([  1,   2,   3,   4, 100, 200])"
      ]
     },
     "execution_count": 22,
     "metadata": {},
     "output_type": "execute_result"
    }
   ],
   "source": [
    "one_dim"
   ]
  },
  {
   "cell_type": "code",
   "execution_count": 23,
   "id": "1cebdadc",
   "metadata": {},
   "outputs": [
    {
     "data": {
      "text/plain": [
       "array([1, 2, 3, 4])"
      ]
     },
     "execution_count": 23,
     "metadata": {},
     "output_type": "execute_result"
    }
   ],
   "source": [
    "np.delete(one_dim,(4,5))"
   ]
  },
  {
   "cell_type": "code",
   "execution_count": 24,
   "id": "45b8d090",
   "metadata": {},
   "outputs": [
    {
     "data": {
      "text/plain": [
       "array([  1,   2, 100,   3,   4, 100, 200])"
      ]
     },
     "execution_count": 24,
     "metadata": {},
     "output_type": "execute_result"
    }
   ],
   "source": [
    "np.insert(one_dim,2,100)"
   ]
  },
  {
   "cell_type": "code",
   "execution_count": 25,
   "id": "665ce4b5",
   "metadata": {},
   "outputs": [],
   "source": [
    "one_dim= np.arange(0,10).r"
   ]
  },
  {
   "cell_type": "code",
   "execution_count": 26,
   "id": "94bd227f",
   "metadata": {},
   "outputs": [
    {
     "data": {
      "text/plain": [
       "array([0, 1, 2, 3, 4, 5, 6, 7, 8, 9])"
      ]
     },
     "execution_count": 26,
     "metadata": {},
     "output_type": "execute_result"
    }
   ],
   "source": [
    "one_dim"
   ]
  },
  {
   "cell_type": "code",
   "execution_count": 27,
   "id": "b601af29",
   "metadata": {},
   "outputs": [],
   "source": [
    "one_dim= np.random.randint(0,10,10)"
   ]
  },
  {
   "cell_type": "code",
   "execution_count": 28,
   "id": "1b581797",
   "metadata": {},
   "outputs": [
    {
     "data": {
      "text/plain": [
       "array([8, 2, 9, 2, 1, 3, 6, 1, 5, 6])"
      ]
     },
     "execution_count": 28,
     "metadata": {},
     "output_type": "execute_result"
    }
   ],
   "source": [
    "one_dim"
   ]
  },
  {
   "cell_type": "code",
   "execution_count": 29,
   "id": "93b69319",
   "metadata": {},
   "outputs": [],
   "source": [
    "one_dim= np.random.rand(10)"
   ]
  },
  {
   "cell_type": "code",
   "execution_count": 30,
   "id": "d003b56a",
   "metadata": {},
   "outputs": [
    {
     "data": {
      "text/plain": [
       "array([0.79728001, 0.69754448, 0.93643314, 0.06526208, 0.60793088,\n",
       "       0.19816978, 0.46141631, 0.57416098, 0.46035098, 0.88530259])"
      ]
     },
     "execution_count": 30,
     "metadata": {},
     "output_type": "execute_result"
    }
   ],
   "source": [
    "one_dim"
   ]
  },
  {
   "cell_type": "markdown",
   "id": "7dca6b65",
   "metadata": {},
   "source": [
    "## two dimensional Array"
   ]
  },
  {
   "cell_type": "code",
   "execution_count": 31,
   "id": "01bdd639",
   "metadata": {},
   "outputs": [],
   "source": [
    "two_dim= np.array([[1,2,3],[4,5,6],[7,8,9]])"
   ]
  },
  {
   "cell_type": "code",
   "execution_count": 32,
   "id": "b626d43c",
   "metadata": {},
   "outputs": [
    {
     "data": {
      "text/plain": [
       "array([[1, 2, 3],\n",
       "       [4, 5, 6],\n",
       "       [7, 8, 9]])"
      ]
     },
     "execution_count": 32,
     "metadata": {},
     "output_type": "execute_result"
    }
   ],
   "source": [
    "two_dim"
   ]
  },
  {
   "cell_type": "code",
   "execution_count": 33,
   "id": "4c49d171",
   "metadata": {},
   "outputs": [
    {
     "data": {
      "text/plain": [
       "2"
      ]
     },
     "execution_count": 33,
     "metadata": {},
     "output_type": "execute_result"
    }
   ],
   "source": [
    "two_dim.ndim"
   ]
  },
  {
   "cell_type": "code",
   "execution_count": 34,
   "id": "f0d6caf9",
   "metadata": {},
   "outputs": [
    {
     "data": {
      "text/plain": [
       "(3, 3)"
      ]
     },
     "execution_count": 34,
     "metadata": {},
     "output_type": "execute_result"
    }
   ],
   "source": [
    "two_dim.shape"
   ]
  },
  {
   "cell_type": "code",
   "execution_count": 35,
   "id": "15724383",
   "metadata": {},
   "outputs": [
    {
     "data": {
      "text/plain": [
       "9"
      ]
     },
     "execution_count": 35,
     "metadata": {},
     "output_type": "execute_result"
    }
   ],
   "source": [
    "two_dim.size"
   ]
  },
  {
   "cell_type": "code",
   "execution_count": 36,
   "id": "df644021",
   "metadata": {},
   "outputs": [
    {
     "data": {
      "text/plain": [
       "array([[1, 2, 3],\n",
       "       [4, 5, 6],\n",
       "       [7, 8, 9]])"
      ]
     },
     "execution_count": 36,
     "metadata": {},
     "output_type": "execute_result"
    }
   ],
   "source": [
    "two_dim"
   ]
  },
  {
   "cell_type": "code",
   "execution_count": 37,
   "id": "5b6470f0",
   "metadata": {},
   "outputs": [
    {
     "data": {
      "text/plain": [
       "5"
      ]
     },
     "execution_count": 37,
     "metadata": {},
     "output_type": "execute_result"
    }
   ],
   "source": [
    "two_dim[1,1]"
   ]
  },
  {
   "cell_type": "code",
   "execution_count": 38,
   "id": "c7bbd8f7",
   "metadata": {},
   "outputs": [
    {
     "data": {
      "text/plain": [
       "8"
      ]
     },
     "execution_count": 38,
     "metadata": {},
     "output_type": "execute_result"
    }
   ],
   "source": [
    "two_dim[2,1]"
   ]
  },
  {
   "cell_type": "code",
   "execution_count": 39,
   "id": "eeb756ed",
   "metadata": {},
   "outputs": [
    {
     "data": {
      "text/plain": [
       "array([[1, 2, 3],\n",
       "       [4, 5, 6]])"
      ]
     },
     "execution_count": 39,
     "metadata": {},
     "output_type": "execute_result"
    }
   ],
   "source": [
    "two_dim[0:2]"
   ]
  },
  {
   "cell_type": "code",
   "execution_count": 40,
   "id": "3b37385d",
   "metadata": {},
   "outputs": [
    {
     "data": {
      "text/plain": [
       "array([[1, 2],\n",
       "       [4, 5],\n",
       "       [7, 8]])"
      ]
     },
     "execution_count": 40,
     "metadata": {},
     "output_type": "execute_result"
    }
   ],
   "source": [
    "two_dim[:,0:2]"
   ]
  },
  {
   "cell_type": "code",
   "execution_count": 41,
   "id": "b0e11402",
   "metadata": {},
   "outputs": [
    {
     "data": {
      "text/plain": [
       "array([[1, 3],\n",
       "       [4, 6],\n",
       "       [7, 9]])"
      ]
     },
     "execution_count": 41,
     "metadata": {},
     "output_type": "execute_result"
    }
   ],
   "source": [
    "two_dim[:,[0,2]]"
   ]
  },
  {
   "cell_type": "code",
   "execution_count": 42,
   "id": "eddc05e8",
   "metadata": {},
   "outputs": [],
   "source": [
    "two_dim[0:3]=[10]"
   ]
  },
  {
   "cell_type": "code",
   "execution_count": 43,
   "id": "721c2422",
   "metadata": {},
   "outputs": [
    {
     "data": {
      "text/plain": [
       "array([[10, 10, 10],\n",
       "       [10, 10, 10],\n",
       "       [10, 10, 10]])"
      ]
     },
     "execution_count": 43,
     "metadata": {},
     "output_type": "execute_result"
    }
   ],
   "source": [
    "two_dim"
   ]
  },
  {
   "cell_type": "code",
   "execution_count": 44,
   "id": "142c4ca3",
   "metadata": {},
   "outputs": [
    {
     "data": {
      "text/plain": [
       "array([[10, 10, 10],\n",
       "       [10, 10, 10],\n",
       "       [10, 10, 10]])"
      ]
     },
     "execution_count": 44,
     "metadata": {},
     "output_type": "execute_result"
    }
   ],
   "source": [
    "two_dim"
   ]
  },
  {
   "cell_type": "code",
   "execution_count": 45,
   "id": "06bec8dd",
   "metadata": {},
   "outputs": [],
   "source": [
    "two_dim[0]=[10]"
   ]
  },
  {
   "cell_type": "code",
   "execution_count": 46,
   "id": "3f8a2082",
   "metadata": {},
   "outputs": [
    {
     "data": {
      "text/plain": [
       "array([[10, 10, 10],\n",
       "       [10, 10, 10],\n",
       "       [10, 10, 10]])"
      ]
     },
     "execution_count": 46,
     "metadata": {},
     "output_type": "execute_result"
    }
   ],
   "source": [
    "two_dim"
   ]
  },
  {
   "cell_type": "code",
   "execution_count": 47,
   "id": "a229033b",
   "metadata": {},
   "outputs": [],
   "source": [
    "two_dim[:,1]=[10,20,30]"
   ]
  },
  {
   "cell_type": "code",
   "execution_count": 48,
   "id": "b076ec3b",
   "metadata": {},
   "outputs": [
    {
     "data": {
      "text/plain": [
       "array([[10, 10, 10],\n",
       "       [10, 20, 10],\n",
       "       [10, 30, 10]])"
      ]
     },
     "execution_count": 48,
     "metadata": {},
     "output_type": "execute_result"
    }
   ],
   "source": [
    "two_dim"
   ]
  },
  {
   "cell_type": "code",
   "execution_count": 49,
   "id": "80c97833",
   "metadata": {},
   "outputs": [],
   "source": [
    "two_dim= np.arange(0,12).reshape(3,4)"
   ]
  },
  {
   "cell_type": "code",
   "execution_count": 50,
   "id": "b3a44c48",
   "metadata": {},
   "outputs": [
    {
     "data": {
      "text/plain": [
       "array([[ 0,  1,  2,  3],\n",
       "       [ 4,  5,  6,  7],\n",
       "       [ 8,  9, 10, 11]])"
      ]
     },
     "execution_count": 50,
     "metadata": {},
     "output_type": "execute_result"
    }
   ],
   "source": [
    "two_dim"
   ]
  },
  {
   "cell_type": "code",
   "execution_count": 51,
   "id": "f2722965",
   "metadata": {},
   "outputs": [],
   "source": [
    "two_dim= np.random.randint(0,20,16).reshape(4,4)"
   ]
  },
  {
   "cell_type": "code",
   "execution_count": 52,
   "id": "a3f435fa",
   "metadata": {},
   "outputs": [
    {
     "data": {
      "text/plain": [
       "array([[ 6,  3, 11,  3],\n",
       "       [ 2, 15,  3, 11],\n",
       "       [10, 15,  6, 19],\n",
       "       [ 3,  3, 13,  5]])"
      ]
     },
     "execution_count": 52,
     "metadata": {},
     "output_type": "execute_result"
    }
   ],
   "source": [
    "two_dim"
   ]
  },
  {
   "cell_type": "code",
   "execution_count": 53,
   "id": "1cfd69be",
   "metadata": {},
   "outputs": [],
   "source": [
    "two_dim= np.random.rand(12).reshape(3,4)"
   ]
  },
  {
   "cell_type": "code",
   "execution_count": 54,
   "id": "c9b93085",
   "metadata": {},
   "outputs": [
    {
     "data": {
      "text/plain": [
       "array([[0.11631707, 0.67875101, 0.1884099 , 0.92377312],\n",
       "       [0.3942336 , 0.68417545, 0.03404152, 0.84521686],\n",
       "       [0.99332571, 0.70955881, 0.81704843, 0.24384491]])"
      ]
     },
     "execution_count": 54,
     "metadata": {},
     "output_type": "execute_result"
    }
   ],
   "source": [
    "two_dim"
   ]
  },
  {
   "cell_type": "code",
   "execution_count": 55,
   "id": "59484797",
   "metadata": {},
   "outputs": [],
   "source": [
    "## one-dimensional to two-dimensional array"
   ]
  },
  {
   "cell_type": "code",
   "execution_count": 56,
   "id": "50b3e84c",
   "metadata": {},
   "outputs": [
    {
     "data": {
      "text/plain": [
       "array([0.79728001, 0.69754448, 0.93643314, 0.06526208, 0.60793088,\n",
       "       0.19816978, 0.46141631, 0.57416098, 0.46035098, 0.88530259])"
      ]
     },
     "execution_count": 56,
     "metadata": {},
     "output_type": "execute_result"
    }
   ],
   "source": [
    "one_dim"
   ]
  },
  {
   "cell_type": "code",
   "execution_count": 57,
   "id": "f0038b7b",
   "metadata": {},
   "outputs": [],
   "source": [
    "two_dim= one_dim.reshape(2,5, order='C')"
   ]
  },
  {
   "cell_type": "code",
   "execution_count": 58,
   "id": "45ecb3f2",
   "metadata": {},
   "outputs": [
    {
     "data": {
      "text/plain": [
       "array([[0.79728001, 0.69754448, 0.93643314, 0.06526208, 0.60793088],\n",
       "       [0.19816978, 0.46141631, 0.57416098, 0.46035098, 0.88530259]])"
      ]
     },
     "execution_count": 58,
     "metadata": {},
     "output_type": "execute_result"
    }
   ],
   "source": [
    "two_dim"
   ]
  },
  {
   "cell_type": "code",
   "execution_count": 59,
   "id": "5295a06c",
   "metadata": {},
   "outputs": [
    {
     "data": {
      "text/plain": [
       "2"
      ]
     },
     "execution_count": 59,
     "metadata": {},
     "output_type": "execute_result"
    }
   ],
   "source": [
    "two_dim.ndim"
   ]
  },
  {
   "cell_type": "code",
   "execution_count": 60,
   "id": "275dc5d5",
   "metadata": {},
   "outputs": [],
   "source": [
    "## two dimensional to one dimensional array"
   ]
  },
  {
   "cell_type": "code",
   "execution_count": 61,
   "id": "963c2551",
   "metadata": {},
   "outputs": [
    {
     "data": {
      "text/plain": [
       "array([[0.79728001, 0.69754448, 0.93643314, 0.06526208, 0.60793088],\n",
       "       [0.19816978, 0.46141631, 0.57416098, 0.46035098, 0.88530259]])"
      ]
     },
     "execution_count": 61,
     "metadata": {},
     "output_type": "execute_result"
    }
   ],
   "source": [
    "two_dim"
   ]
  },
  {
   "cell_type": "code",
   "execution_count": 62,
   "id": "1df8f212",
   "metadata": {},
   "outputs": [],
   "source": [
    "one_dim= np.ravel(two_dim,order='F')"
   ]
  },
  {
   "cell_type": "code",
   "execution_count": 63,
   "id": "1af8d3bb",
   "metadata": {},
   "outputs": [
    {
     "data": {
      "text/plain": [
       "array([0.79728001, 0.19816978, 0.69754448, 0.46141631, 0.93643314,\n",
       "       0.57416098, 0.06526208, 0.46035098, 0.60793088, 0.88530259])"
      ]
     },
     "execution_count": 63,
     "metadata": {},
     "output_type": "execute_result"
    }
   ],
   "source": [
    "one_dim"
   ]
  },
  {
   "cell_type": "code",
   "execution_count": 64,
   "id": "f2eb7ad4",
   "metadata": {},
   "outputs": [
    {
     "data": {
      "text/plain": [
       "array([[0.79728001, 0.69754448, 0.93643314, 0.06526208, 0.60793088],\n",
       "       [0.19816978, 0.46141631, 0.57416098, 0.46035098, 0.88530259]])"
      ]
     },
     "execution_count": 64,
     "metadata": {},
     "output_type": "execute_result"
    }
   ],
   "source": [
    "two_dim"
   ]
  },
  {
   "cell_type": "code",
   "execution_count": 67,
   "id": "683d8260",
   "metadata": {},
   "outputs": [
    {
     "data": {
      "text/plain": [
       "array([0.79728001, 0.19816978, 0.69754448, 0.46141631, 0.93643314,\n",
       "       0.57416098, 0.06526208, 0.46035098, 0.60793088, 0.88530259])"
      ]
     },
     "execution_count": 67,
     "metadata": {},
     "output_type": "execute_result"
    }
   ],
   "source": [
    "two_dim.reshape(-1,order='F')"
   ]
  },
  {
   "cell_type": "markdown",
   "id": "1614db82",
   "metadata": {},
   "source": [
    "## Artihmetic operatons with matrix"
   ]
  },
  {
   "cell_type": "code",
   "execution_count": 72,
   "id": "9a23c938",
   "metadata": {},
   "outputs": [],
   "source": [
    "a= np.random.randint(0,10,4).reshape(2,2)"
   ]
  },
  {
   "cell_type": "code",
   "execution_count": 73,
   "id": "a278d40c",
   "metadata": {},
   "outputs": [
    {
     "data": {
      "text/plain": [
       "array([[7, 6],\n",
       "       [1, 0]])"
      ]
     },
     "execution_count": 73,
     "metadata": {},
     "output_type": "execute_result"
    }
   ],
   "source": [
    "a"
   ]
  },
  {
   "cell_type": "code",
   "execution_count": 74,
   "id": "95747c7e",
   "metadata": {},
   "outputs": [
    {
     "data": {
      "text/plain": [
       "array([[10, 12],\n",
       "       [ 7,  8]])"
      ]
     },
     "execution_count": 74,
     "metadata": {},
     "output_type": "execute_result"
    }
   ],
   "source": [
    "b= np.random.randint(0,15,4).reshape(2,2)\n",
    "b"
   ]
  },
  {
   "cell_type": "code",
   "execution_count": 75,
   "id": "3fcc51ce",
   "metadata": {},
   "outputs": [
    {
     "data": {
      "text/plain": [
       "array([[17, 18],\n",
       "       [ 8,  8]])"
      ]
     },
     "execution_count": 75,
     "metadata": {},
     "output_type": "execute_result"
    }
   ],
   "source": [
    "a+b"
   ]
  },
  {
   "cell_type": "code",
   "execution_count": 76,
   "id": "0d23db04",
   "metadata": {},
   "outputs": [
    {
     "data": {
      "text/plain": [
       "array([[-3, -6],\n",
       "       [-6, -8]])"
      ]
     },
     "execution_count": 76,
     "metadata": {},
     "output_type": "execute_result"
    }
   ],
   "source": [
    "a-b"
   ]
  },
  {
   "cell_type": "code",
   "execution_count": 77,
   "id": "d0c74376",
   "metadata": {},
   "outputs": [
    {
     "data": {
      "text/plain": [
       "array([[70, 72],\n",
       "       [ 7,  0]])"
      ]
     },
     "execution_count": 77,
     "metadata": {},
     "output_type": "execute_result"
    }
   ],
   "source": [
    "a*b"
   ]
  },
  {
   "cell_type": "code",
   "execution_count": 78,
   "id": "db7442fa",
   "metadata": {},
   "outputs": [
    {
     "data": {
      "text/plain": [
       "array([[0.7       , 0.5       ],\n",
       "       [0.14285714, 0.        ]])"
      ]
     },
     "execution_count": 78,
     "metadata": {},
     "output_type": "execute_result"
    }
   ],
   "source": [
    "a/b"
   ]
  },
  {
   "cell_type": "code",
   "execution_count": 80,
   "id": "a464aaf3",
   "metadata": {},
   "outputs": [
    {
     "data": {
      "text/plain": [
       "array([[112, 132],\n",
       "       [ 10,  12]])"
      ]
     },
     "execution_count": 80,
     "metadata": {},
     "output_type": "execute_result"
    }
   ],
   "source": [
    "## matrix multiplication\n",
    "a@b"
   ]
  },
  {
   "cell_type": "code",
   "execution_count": 83,
   "id": "bfb58380",
   "metadata": {},
   "outputs": [
    {
     "data": {
      "text/plain": [
       "array([[ 1,  7, 10, 11],\n",
       "       [ 4, 11,  3,  1],\n",
       "       [10, 11,  4,  9]])"
      ]
     },
     "execution_count": 83,
     "metadata": {},
     "output_type": "execute_result"
    }
   ],
   "source": [
    "two_dim= np.random.randint(0,12,12).reshape(3,4)\n",
    "two_dim"
   ]
  },
  {
   "cell_type": "code",
   "execution_count": 84,
   "id": "d74f4347",
   "metadata": {},
   "outputs": [
    {
     "data": {
      "text/plain": [
       "array([[ 1,  4, 10],\n",
       "       [ 7, 11, 11],\n",
       "       [10,  3,  4],\n",
       "       [11,  1,  9]])"
      ]
     },
     "execution_count": 84,
     "metadata": {},
     "output_type": "execute_result"
    }
   ],
   "source": [
    "np.transpose(two_dim)"
   ]
  },
  {
   "cell_type": "code",
   "execution_count": 85,
   "id": "97ebad7e",
   "metadata": {},
   "outputs": [
    {
     "data": {
      "text/plain": [
       "array([[ 1,  7, 10, 11],\n",
       "       [ 4, 11,  3,  1],\n",
       "       [10, 11,  4,  9]])"
      ]
     },
     "execution_count": 85,
     "metadata": {},
     "output_type": "execute_result"
    }
   ],
   "source": [
    "two_dim"
   ]
  },
  {
   "cell_type": "code",
   "execution_count": 86,
   "id": "81db44cf",
   "metadata": {},
   "outputs": [
    {
     "data": {
      "text/plain": [
       "6.833333333333333"
      ]
     },
     "execution_count": 86,
     "metadata": {},
     "output_type": "execute_result"
    }
   ],
   "source": [
    "np.mean(two_dim)"
   ]
  },
  {
   "cell_type": "code",
   "execution_count": 88,
   "id": "afb70ff0",
   "metadata": {},
   "outputs": [
    {
     "data": {
      "text/plain": [
       "11"
      ]
     },
     "execution_count": 88,
     "metadata": {},
     "output_type": "execute_result"
    }
   ],
   "source": [
    "np.max(two_dim)"
   ]
  },
  {
   "cell_type": "code",
   "execution_count": 89,
   "id": "86754f2b",
   "metadata": {},
   "outputs": [
    {
     "data": {
      "text/plain": [
       "1"
      ]
     },
     "execution_count": 89,
     "metadata": {},
     "output_type": "execute_result"
    }
   ],
   "source": [
    "np.min(two_dim)"
   ]
  },
  {
   "cell_type": "code",
   "execution_count": 90,
   "id": "0e08dcc3",
   "metadata": {},
   "outputs": [
    {
     "data": {
      "text/plain": [
       "8.0"
      ]
     },
     "execution_count": 90,
     "metadata": {},
     "output_type": "execute_result"
    }
   ],
   "source": [
    "np.median(two_dim)"
   ]
  },
  {
   "cell_type": "code",
   "execution_count": 94,
   "id": "55b35e8f",
   "metadata": {},
   "outputs": [
    {
     "data": {
      "text/plain": [
       "82"
      ]
     },
     "execution_count": 94,
     "metadata": {},
     "output_type": "execute_result"
    }
   ],
   "source": [
    "np.sum(two_dim)"
   ]
  },
  {
   "cell_type": "code",
   "execution_count": 95,
   "id": "7adecc15",
   "metadata": {},
   "outputs": [
    {
     "data": {
      "text/plain": [
       "3.826080094416332"
      ]
     },
     "execution_count": 95,
     "metadata": {},
     "output_type": "execute_result"
    }
   ],
   "source": [
    "np.std(two_dim)"
   ]
  },
  {
   "cell_type": "code",
   "execution_count": 96,
   "id": "cc0ea098",
   "metadata": {},
   "outputs": [
    {
     "data": {
      "text/plain": [
       "14.638888888888888"
      ]
     },
     "execution_count": 96,
     "metadata": {},
     "output_type": "execute_result"
    }
   ],
   "source": [
    "np.var(two_dim)"
   ]
  },
  {
   "cell_type": "code",
   "execution_count": 97,
   "id": "fc64f349",
   "metadata": {},
   "outputs": [
    {
     "data": {
      "text/plain": [
       "array([[1., 0., 0., 0.],\n",
       "       [0., 1., 0., 0.],\n",
       "       [0., 0., 1., 0.],\n",
       "       [0., 0., 0., 1.]])"
      ]
     },
     "execution_count": 97,
     "metadata": {},
     "output_type": "execute_result"
    }
   ],
   "source": [
    "np.identity(4)"
   ]
  },
  {
   "cell_type": "code",
   "execution_count": 98,
   "id": "64c8ede7",
   "metadata": {},
   "outputs": [
    {
     "data": {
      "text/plain": [
       "array([[7, 6],\n",
       "       [1, 0]])"
      ]
     },
     "execution_count": 98,
     "metadata": {},
     "output_type": "execute_result"
    }
   ],
   "source": [
    "a"
   ]
  },
  {
   "cell_type": "code",
   "execution_count": 99,
   "id": "14ccee22",
   "metadata": {},
   "outputs": [
    {
     "data": {
      "text/plain": [
       "array([[ 7.93016446e-18,  1.00000000e+00],\n",
       "       [ 1.66666667e-01, -1.16666667e+00]])"
      ]
     },
     "execution_count": 99,
     "metadata": {},
     "output_type": "execute_result"
    }
   ],
   "source": [
    "np.linalg.inv(a)"
   ]
  },
  {
   "cell_type": "code",
   "execution_count": 101,
   "id": "d3849b56",
   "metadata": {},
   "outputs": [
    {
     "data": {
      "text/plain": [
       "array([[1., 1.],\n",
       "       [1., 1.]])"
      ]
     },
     "execution_count": 101,
     "metadata": {},
     "output_type": "execute_result"
    }
   ],
   "source": [
    "np.ones(shape=(2,2))"
   ]
  },
  {
   "cell_type": "code",
   "execution_count": 102,
   "id": "bbe6be61",
   "metadata": {},
   "outputs": [
    {
     "data": {
      "text/plain": [
       "array([[0., 0.],\n",
       "       [0., 0.]])"
      ]
     },
     "execution_count": 102,
     "metadata": {},
     "output_type": "execute_result"
    }
   ],
   "source": [
    "np.zeros(shape=(2,2))"
   ]
  },
  {
   "cell_type": "code",
   "execution_count": 103,
   "id": "8a15f2ea",
   "metadata": {},
   "outputs": [
    {
     "data": {
      "text/plain": [
       "array([[ 1,  7, 10, 11],\n",
       "       [ 4, 11,  3,  1],\n",
       "       [10, 11,  4,  9]])"
      ]
     },
     "execution_count": 103,
     "metadata": {},
     "output_type": "execute_result"
    }
   ],
   "source": [
    "two_dim"
   ]
  },
  {
   "cell_type": "code",
   "execution_count": 105,
   "id": "0507b6f0",
   "metadata": {},
   "outputs": [
    {
     "data": {
      "text/plain": [
       "array([5.        , 9.66666667, 5.66666667, 7.        ])"
      ]
     },
     "execution_count": 105,
     "metadata": {},
     "output_type": "execute_result"
    }
   ],
   "source": [
    "two_dim.mean(axis=0)"
   ]
  },
  {
   "cell_type": "code",
   "execution_count": 106,
   "id": "62a7a416",
   "metadata": {},
   "outputs": [
    {
     "data": {
      "text/plain": [
       "array([7.25, 4.75, 8.5 ])"
      ]
     },
     "execution_count": 106,
     "metadata": {},
     "output_type": "execute_result"
    }
   ],
   "source": [
    "two_dim.mean(axis=1)"
   ]
  },
  {
   "cell_type": "code",
   "execution_count": 107,
   "id": "395b6fe8",
   "metadata": {},
   "outputs": [
    {
     "data": {
      "text/plain": [
       "array([[7, 6],\n",
       "       [1, 0]])"
      ]
     },
     "execution_count": 107,
     "metadata": {},
     "output_type": "execute_result"
    }
   ],
   "source": [
    "a"
   ]
  },
  {
   "cell_type": "code",
   "execution_count": 108,
   "id": "6ce37126",
   "metadata": {},
   "outputs": [
    {
     "data": {
      "text/plain": [
       "array([[10, 12],\n",
       "       [ 7,  8]])"
      ]
     },
     "execution_count": 108,
     "metadata": {},
     "output_type": "execute_result"
    }
   ],
   "source": [
    "b"
   ]
  },
  {
   "cell_type": "code",
   "execution_count": 110,
   "id": "badc6b4d",
   "metadata": {},
   "outputs": [
    {
     "data": {
      "text/plain": [
       "array([[ 7,  6, 10, 12],\n",
       "       [ 1,  0,  7,  8]])"
      ]
     },
     "execution_count": 110,
     "metadata": {},
     "output_type": "execute_result"
    }
   ],
   "source": [
    "np.hstack([a,b])"
   ]
  },
  {
   "cell_type": "code",
   "execution_count": 111,
   "id": "0fb07961",
   "metadata": {},
   "outputs": [
    {
     "data": {
      "text/plain": [
       "array([[ 7,  6],\n",
       "       [ 1,  0],\n",
       "       [10, 12],\n",
       "       [ 7,  8]])"
      ]
     },
     "execution_count": 111,
     "metadata": {},
     "output_type": "execute_result"
    }
   ],
   "source": [
    "np.vstack([a,b])"
   ]
  },
  {
   "cell_type": "code",
   "execution_count": 112,
   "id": "2ab0fdfa",
   "metadata": {},
   "outputs": [
    {
     "data": {
      "text/plain": [
       "array([[ 1,  7, 10, 11],\n",
       "       [ 4, 11,  3,  1],\n",
       "       [10, 11,  4,  9]])"
      ]
     },
     "execution_count": 112,
     "metadata": {},
     "output_type": "execute_result"
    }
   ],
   "source": [
    "two_dim"
   ]
  },
  {
   "cell_type": "code",
   "execution_count": 118,
   "id": "ed9f3269",
   "metadata": {},
   "outputs": [],
   "source": [
    "x,y=np.hsplit(two_dim,2)"
   ]
  },
  {
   "cell_type": "code",
   "execution_count": 119,
   "id": "52ab4783",
   "metadata": {},
   "outputs": [
    {
     "data": {
      "text/plain": [
       "array([[ 1,  7],\n",
       "       [ 4, 11],\n",
       "       [10, 11]])"
      ]
     },
     "execution_count": 119,
     "metadata": {},
     "output_type": "execute_result"
    }
   ],
   "source": [
    "x"
   ]
  },
  {
   "cell_type": "code",
   "execution_count": 116,
   "id": "e23fdb95",
   "metadata": {},
   "outputs": [
    {
     "data": {
      "text/plain": [
       "array([[10, 11],\n",
       "       [ 3,  1],\n",
       "       [ 4,  9]])"
      ]
     },
     "execution_count": 116,
     "metadata": {},
     "output_type": "execute_result"
    }
   ],
   "source": [
    "y"
   ]
  },
  {
   "cell_type": "code",
   "execution_count": 120,
   "id": "47d603f7",
   "metadata": {},
   "outputs": [
    {
     "data": {
      "text/plain": [
       "[array([[ 1],\n",
       "        [ 4],\n",
       "        [10]]),\n",
       " array([[ 7],\n",
       "        [11],\n",
       "        [11]]),\n",
       " array([[10],\n",
       "        [ 3],\n",
       "        [ 4]]),\n",
       " array([[11],\n",
       "        [ 1],\n",
       "        [ 9]])]"
      ]
     },
     "execution_count": 120,
     "metadata": {},
     "output_type": "execute_result"
    }
   ],
   "source": [
    "np.hsplit(two_dim,[1,2,3])"
   ]
  },
  {
   "cell_type": "code",
   "execution_count": 121,
   "id": "2bdd5fdf",
   "metadata": {},
   "outputs": [
    {
     "data": {
      "text/plain": [
       "[array([[ 1,  7, 10, 11]]),\n",
       " array([[ 4, 11,  3,  1]]),\n",
       " array([[10, 11,  4,  9]])]"
      ]
     },
     "execution_count": 121,
     "metadata": {},
     "output_type": "execute_result"
    }
   ],
   "source": [
    "np.vsplit(two_dim,[1,2])"
   ]
  },
  {
   "cell_type": "code",
   "execution_count": 122,
   "id": "be07af10",
   "metadata": {},
   "outputs": [
    {
     "data": {
      "text/plain": [
       "array([[ 1,  7, 10, 11],\n",
       "       [ 4, 11,  3,  1],\n",
       "       [10, 11,  4,  9]])"
      ]
     },
     "execution_count": 122,
     "metadata": {},
     "output_type": "execute_result"
    }
   ],
   "source": [
    "two_dim"
   ]
  },
  {
   "cell_type": "code",
   "execution_count": 123,
   "id": "22da2fce",
   "metadata": {},
   "outputs": [
    {
     "data": {
      "text/plain": [
       "array([ 1,  3,  4,  7,  9, 10, 11])"
      ]
     },
     "execution_count": 123,
     "metadata": {},
     "output_type": "execute_result"
    }
   ],
   "source": [
    "np.unique(two_dim)"
   ]
  },
  {
   "cell_type": "code",
   "execution_count": 124,
   "id": "a228003b",
   "metadata": {},
   "outputs": [
    {
     "data": {
      "text/plain": [
       "array([[ 1,  7, 10, 11],\n",
       "       [ 4, 11,  3,  1],\n",
       "       [10, 11,  4,  9]])"
      ]
     },
     "execution_count": 124,
     "metadata": {},
     "output_type": "execute_result"
    }
   ],
   "source": [
    "two_dim"
   ]
  },
  {
   "cell_type": "code",
   "execution_count": 125,
   "id": "b3dfe404",
   "metadata": {},
   "outputs": [
    {
     "data": {
      "text/plain": [
       "array([[ 1,  7, 10, 11],\n",
       "       [10, 11,  4,  9]])"
      ]
     },
     "execution_count": 125,
     "metadata": {},
     "output_type": "execute_result"
    }
   ],
   "source": [
    "np.delete(two_dim,1,axis=0)"
   ]
  },
  {
   "cell_type": "code",
   "execution_count": 126,
   "id": "528db5c3",
   "metadata": {},
   "outputs": [
    {
     "data": {
      "text/plain": [
       "array([[10, 11,  4,  9]])"
      ]
     },
     "execution_count": 126,
     "metadata": {},
     "output_type": "execute_result"
    }
   ],
   "source": [
    "np.delete(two_dim,[0,1],axis=0)"
   ]
  },
  {
   "cell_type": "code",
   "execution_count": 127,
   "id": "a60fd223",
   "metadata": {},
   "outputs": [],
   "source": [
    "two_dim[:,0]=[1,2,3]"
   ]
  },
  {
   "cell_type": "code",
   "execution_count": 128,
   "id": "d2257518",
   "metadata": {},
   "outputs": [
    {
     "data": {
      "text/plain": [
       "array([[ 1,  7, 10, 11],\n",
       "       [ 2, 11,  3,  1],\n",
       "       [ 3, 11,  4,  9]])"
      ]
     },
     "execution_count": 128,
     "metadata": {},
     "output_type": "execute_result"
    }
   ],
   "source": [
    "two_dim"
   ]
  },
  {
   "cell_type": "code",
   "execution_count": 129,
   "id": "de216173",
   "metadata": {},
   "outputs": [
    {
     "data": {
      "text/plain": [
       "array([[ 1, 10],\n",
       "       [ 2,  3],\n",
       "       [ 3,  4]])"
      ]
     },
     "execution_count": 129,
     "metadata": {},
     "output_type": "execute_result"
    }
   ],
   "source": [
    "np.delete(two_dim,[1,3],axis=1)"
   ]
  },
  {
   "cell_type": "markdown",
   "id": "1deb0292",
   "metadata": {},
   "source": [
    "## Three Dimensional Array"
   ]
  },
  {
   "cell_type": "code",
   "execution_count": 140,
   "id": "423d5115",
   "metadata": {},
   "outputs": [],
   "source": [
    "three_dim= np.array([[[1,2,10],[3,4,20]],[[5,6,30],[7,8,40]]])"
   ]
  },
  {
   "cell_type": "code",
   "execution_count": 141,
   "id": "499f9489",
   "metadata": {},
   "outputs": [
    {
     "data": {
      "text/plain": [
       "array([[[ 1,  2, 10],\n",
       "        [ 3,  4, 20]],\n",
       "\n",
       "       [[ 5,  6, 30],\n",
       "        [ 7,  8, 40]]])"
      ]
     },
     "execution_count": 141,
     "metadata": {},
     "output_type": "execute_result"
    }
   ],
   "source": [
    "three_dim"
   ]
  },
  {
   "cell_type": "code",
   "execution_count": 142,
   "id": "967ce20a",
   "metadata": {},
   "outputs": [
    {
     "data": {
      "text/plain": [
       "3"
      ]
     },
     "execution_count": 142,
     "metadata": {},
     "output_type": "execute_result"
    }
   ],
   "source": [
    "three_dim.ndim"
   ]
  },
  {
   "cell_type": "code",
   "execution_count": 143,
   "id": "0c43bd81",
   "metadata": {},
   "outputs": [
    {
     "data": {
      "text/plain": [
       "(2, 2, 3)"
      ]
     },
     "execution_count": 143,
     "metadata": {},
     "output_type": "execute_result"
    }
   ],
   "source": [
    "three_dim.shape"
   ]
  },
  {
   "cell_type": "code",
   "execution_count": 144,
   "id": "2db75832",
   "metadata": {},
   "outputs": [
    {
     "data": {
      "text/plain": [
       "12"
      ]
     },
     "execution_count": 144,
     "metadata": {},
     "output_type": "execute_result"
    }
   ],
   "source": [
    "three_dim.size"
   ]
  },
  {
   "cell_type": "code",
   "execution_count": 145,
   "id": "28c9866b",
   "metadata": {},
   "outputs": [
    {
     "data": {
      "text/plain": [
       "5"
      ]
     },
     "execution_count": 145,
     "metadata": {},
     "output_type": "execute_result"
    }
   ],
   "source": [
    "three_dim[1,0,0]"
   ]
  },
  {
   "cell_type": "code",
   "execution_count": 146,
   "id": "93810e69",
   "metadata": {},
   "outputs": [
    {
     "data": {
      "text/plain": [
       "2"
      ]
     },
     "execution_count": 146,
     "metadata": {},
     "output_type": "execute_result"
    }
   ],
   "source": [
    "three_dim[0,0,1]"
   ]
  },
  {
   "cell_type": "code",
   "execution_count": 155,
   "id": "948afe51",
   "metadata": {},
   "outputs": [
    {
     "data": {
      "text/plain": [
       "array([[[ 1,  2, 10],\n",
       "        [ 3,  4, 20]],\n",
       "\n",
       "       [[ 5,  6, 30],\n",
       "        [ 7,  8, 40]]])"
      ]
     },
     "execution_count": 155,
     "metadata": {},
     "output_type": "execute_result"
    }
   ],
   "source": [
    "three_dim"
   ]
  },
  {
   "cell_type": "code",
   "execution_count": 163,
   "id": "97833f08",
   "metadata": {},
   "outputs": [
    {
     "data": {
      "text/plain": [
       "array([[2, 4],\n",
       "       [6, 8]])"
      ]
     },
     "execution_count": 163,
     "metadata": {},
     "output_type": "execute_result"
    }
   ],
   "source": [
    "three_dim[[0,1],:,1]"
   ]
  },
  {
   "cell_type": "code",
   "execution_count": 166,
   "id": "228a8197",
   "metadata": {},
   "outputs": [
    {
     "data": {
      "text/plain": [
       "array([[ 5,  7],\n",
       "       [30, 40]])"
      ]
     },
     "execution_count": 166,
     "metadata": {},
     "output_type": "execute_result"
    }
   ],
   "source": [
    "three_dim[1,:,[0,2]]"
   ]
  },
  {
   "cell_type": "code",
   "execution_count": 168,
   "id": "375d5619",
   "metadata": {},
   "outputs": [
    {
     "data": {
      "text/plain": [
       "array([[[ 1,  2, 10],\n",
       "        [ 3,  4, 20]]])"
      ]
     },
     "execution_count": 168,
     "metadata": {},
     "output_type": "execute_result"
    }
   ],
   "source": [
    "np.delete(three_dim,1,axis=0)"
   ]
  },
  {
   "cell_type": "code",
   "execution_count": 169,
   "id": "27148aea",
   "metadata": {},
   "outputs": [
    {
     "data": {
      "text/plain": [
       "array([[[ 1,  2, 10],\n",
       "        [ 3,  4, 20]],\n",
       "\n",
       "       [[ 5,  6, 30],\n",
       "        [ 7,  8, 40]]])"
      ]
     },
     "execution_count": 169,
     "metadata": {},
     "output_type": "execute_result"
    }
   ],
   "source": [
    "three_dim"
   ]
  },
  {
   "cell_type": "code",
   "execution_count": 170,
   "id": "61d88067",
   "metadata": {},
   "outputs": [
    {
     "data": {
      "text/plain": [
       "array([[[ 3,  4, 20]],\n",
       "\n",
       "       [[ 7,  8, 40]]])"
      ]
     },
     "execution_count": 170,
     "metadata": {},
     "output_type": "execute_result"
    }
   ],
   "source": [
    "np.delete(three_dim,0,axis=1)"
   ]
  },
  {
   "cell_type": "code",
   "execution_count": 171,
   "id": "a8c9a5f0",
   "metadata": {},
   "outputs": [
    {
     "data": {
      "text/plain": [
       "array([[[ 1, 10],\n",
       "        [ 3, 20]],\n",
       "\n",
       "       [[ 5, 30],\n",
       "        [ 7, 40]]])"
      ]
     },
     "execution_count": 171,
     "metadata": {},
     "output_type": "execute_result"
    }
   ],
   "source": [
    "np.delete(three_dim,1,axis=2)"
   ]
  },
  {
   "cell_type": "code",
   "execution_count": null,
   "id": "8904b88d",
   "metadata": {},
   "outputs": [],
   "source": []
  }
 ],
 "metadata": {
  "kernelspec": {
   "display_name": "Python 3 (ipykernel)",
   "language": "python",
   "name": "python3"
  },
  "language_info": {
   "codemirror_mode": {
    "name": "ipython",
    "version": 3
   },
   "file_extension": ".py",
   "mimetype": "text/x-python",
   "name": "python",
   "nbconvert_exporter": "python",
   "pygments_lexer": "ipython3",
   "version": "3.11.4"
  }
 },
 "nbformat": 4,
 "nbformat_minor": 5
}
