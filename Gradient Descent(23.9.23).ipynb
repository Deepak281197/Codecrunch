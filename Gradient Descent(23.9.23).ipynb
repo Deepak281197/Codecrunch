{
 "cells": [
  {
   "cell_type": "code",
   "execution_count": 3,
   "id": "ad6f360f",
   "metadata": {},
   "outputs": [],
   "source": [
    "import pandas as pd\n",
    "import numpy as np\n",
    "import matplotlib.pyplot as plt\n",
    "import time"
   ]
  },
  {
   "cell_type": "code",
   "execution_count": 88,
   "id": "399f06c0",
   "metadata": {},
   "outputs": [],
   "source": [
    "df= pd.read_csv('regr1.txt',sep=' ',header=None,names=['f','t'])"
   ]
  },
  {
   "cell_type": "code",
   "execution_count": 89,
   "id": "6b826494",
   "metadata": {},
   "outputs": [
    {
     "data": {
      "text/html": [
       "<div>\n",
       "<style scoped>\n",
       "    .dataframe tbody tr th:only-of-type {\n",
       "        vertical-align: middle;\n",
       "    }\n",
       "\n",
       "    .dataframe tbody tr th {\n",
       "        vertical-align: top;\n",
       "    }\n",
       "\n",
       "    .dataframe thead th {\n",
       "        text-align: right;\n",
       "    }\n",
       "</style>\n",
       "<table border=\"1\" class=\"dataframe\">\n",
       "  <thead>\n",
       "    <tr style=\"text-align: right;\">\n",
       "      <th></th>\n",
       "      <th>f</th>\n",
       "      <th>t</th>\n",
       "    </tr>\n",
       "  </thead>\n",
       "  <tbody>\n",
       "    <tr>\n",
       "      <th>0</th>\n",
       "      <td>0.10</td>\n",
       "      <td>0.69004</td>\n",
       "    </tr>\n",
       "    <tr>\n",
       "      <th>1</th>\n",
       "      <td>0.11</td>\n",
       "      <td>0.69497</td>\n",
       "    </tr>\n",
       "    <tr>\n",
       "      <th>2</th>\n",
       "      <td>0.12</td>\n",
       "      <td>0.74252</td>\n",
       "    </tr>\n",
       "    <tr>\n",
       "      <th>3</th>\n",
       "      <td>0.13</td>\n",
       "      <td>0.75360</td>\n",
       "    </tr>\n",
       "    <tr>\n",
       "      <th>4</th>\n",
       "      <td>0.14</td>\n",
       "      <td>0.83568</td>\n",
       "    </tr>\n",
       "  </tbody>\n",
       "</table>\n",
       "</div>"
      ],
      "text/plain": [
       "      f        t\n",
       "0  0.10  0.69004\n",
       "1  0.11  0.69497\n",
       "2  0.12  0.74252\n",
       "3  0.13  0.75360\n",
       "4  0.14  0.83568"
      ]
     },
     "execution_count": 89,
     "metadata": {},
     "output_type": "execute_result"
    }
   ],
   "source": [
    "df.head()"
   ]
  },
  {
   "cell_type": "code",
   "execution_count": 90,
   "id": "57997ac5",
   "metadata": {},
   "outputs": [
    {
     "data": {
      "text/plain": [
       "(90, 2)"
      ]
     },
     "execution_count": 90,
     "metadata": {},
     "output_type": "execute_result"
    }
   ],
   "source": [
    "df.shape"
   ]
  },
  {
   "cell_type": "code",
   "execution_count": 91,
   "id": "a5f6ac6c",
   "metadata": {},
   "outputs": [],
   "source": [
    "f= df['f'].values\n",
    "t= df['t'].values"
   ]
  },
  {
   "cell_type": "code",
   "execution_count": 92,
   "id": "eebad862",
   "metadata": {},
   "outputs": [
    {
     "data": {
      "text/plain": [
       "array([0.1 , 0.11, 0.12, 0.13, 0.14, 0.15, 0.16, 0.17, 0.18, 0.19, 0.2 ,\n",
       "       0.21, 0.22, 0.23, 0.24, 0.25, 0.26, 0.27, 0.28, 0.29, 0.3 , 0.31,\n",
       "       0.32, 0.33, 0.34, 0.35, 0.36, 0.37, 0.38, 0.39, 0.4 , 0.41, 0.42,\n",
       "       0.43, 0.44, 0.45, 0.46, 0.47, 0.48, 0.49, 0.5 , 0.51, 0.52, 0.53,\n",
       "       0.54, 0.55, 0.56, 0.57, 0.58, 0.59, 0.6 , 0.61, 0.62, 0.63, 0.64,\n",
       "       0.65, 0.66, 0.67, 0.68, 0.69, 0.7 , 0.71, 0.72, 0.73, 0.74, 0.75,\n",
       "       0.76, 0.77, 0.78, 0.79, 0.8 , 0.81, 0.82, 0.83, 0.84, 0.85, 0.86,\n",
       "       0.87, 0.88, 0.89, 0.9 , 0.91, 0.92, 0.93, 0.94, 0.95, 0.96, 0.97,\n",
       "       0.98, 0.99])"
      ]
     },
     "execution_count": 92,
     "metadata": {},
     "output_type": "execute_result"
    }
   ],
   "source": [
    "f"
   ]
  },
  {
   "cell_type": "code",
   "execution_count": 93,
   "id": "8a282fa9",
   "metadata": {},
   "outputs": [
    {
     "data": {
      "text/plain": [
       "array([0.4761552 , 0.4829833 , 0.55133595, 0.56791296, 0.69836106,\n",
       "       0.75323305, 0.70866091, 0.72895736, 0.73551206, 0.78127921,\n",
       "       0.80973002, 0.96896461, 1.04939536, 1.11767184, 0.98162519,\n",
       "       1.01163364, 1.15068529, 1.19749249, 1.30690624, 1.21992025,\n",
       "       1.40825689, 1.29618225, 1.49940025, 1.53908836, 1.45709041,\n",
       "       1.60224964, 1.68870025, 1.72712164, 1.60351569, 1.58206084,\n",
       "       1.68766081, 1.70511364, 1.81656484, 1.82412036, 1.97233936,\n",
       "       1.94546704, 1.9044    , 2.096704  , 2.00732224, 2.16648961,\n",
       "       2.14798336, 2.07331201, 2.30250276, 2.24640144, 2.17592001,\n",
       "       2.34886276, 2.33998209, 2.36298384, 2.59016836, 2.67387904,\n",
       "       2.51000649, 2.76989449, 2.55584169, 2.75062225, 2.66244489,\n",
       "       2.91521476, 2.77355716, 2.73935601, 2.87777296, 2.93882449,\n",
       "       3.13502436, 3.10534884, 2.979076  , 3.27211921, 3.20589025,\n",
       "       3.03735184, 3.37861161, 3.30585124, 3.19158225, 3.23820025,\n",
       "       3.34743616, 3.46890625, 3.46816129, 3.37934689, 3.45699649,\n",
       "       3.58875136, 3.84081604, 3.61      , 3.70331536, 3.76243609,\n",
       "       3.779136  , 3.88799524, 3.75700689, 3.82398025, 4.00240036,\n",
       "       3.93665281, 4.02644356, 4.19963049, 4.20373009, 4.08605796])"
      ]
     },
     "execution_count": 93,
     "metadata": {},
     "output_type": "execute_result"
    }
   ],
   "source": [
    "tsq=t*t\n",
    "tsq"
   ]
  },
  {
   "cell_type": "code",
   "execution_count": 94,
   "id": "2db12bb3",
   "metadata": {},
   "outputs": [],
   "source": [
    "m,c=0,0\n",
    "lr= 0.01"
   ]
  },
  {
   "cell_type": "code",
   "execution_count": 95,
   "id": "12ca0860",
   "metadata": {},
   "outputs": [],
   "source": [
    "def train(x,y,m,c,eta):\n",
    "    const= -2.0/len(y)\n",
    "    y_pred= m*x+c\n",
    "    delt_m= const*sum(x*(y-y_pred))\n",
    "    delt_c= const*sum(y-y_pred)\n",
    "    m=m-eta*delt_m\n",
    "    c=c-eta*delt_c\n",
    "    error= sum((y-y_pred)**2)/len(y)\n",
    "    return m,c,error\n",
    "def train_all_values(x,y,m,c,eta,iterations=100):\n",
    "    for i in range(iterations):\n",
    "        m,c,err= train(x,y,m,c,eta)\n",
    "    return m,c,err"
   ]
  },
  {
   "cell_type": "code",
   "execution_count": 82,
   "id": "949a6964",
   "metadata": {},
   "outputs": [
    {
     "name": "stdout",
     "output_type": "stream",
     "text": [
      "m=1.28677 c=1.54235 error=0.567336\n",
      "m=1.62739 c=1.50603 error=0.438432\n",
      "m=1.87741 c=1.37352 error=0.358112\n",
      "m=2.099 c=1.24699 error=0.292845\n",
      "m=2.29864 c=1.13234 error=0.239713\n",
      "m=2.47876 c=1.02887 error=0.196459\n",
      "m=2.64127 c=0.9355 error=0.161247\n",
      "m=2.78789 c=0.851259 error=0.132582\n",
      "m=2.92019 c=0.775251 error=0.109246\n",
      "m=3.03955 c=0.706672 error=0.0902493\n",
      "m=3.14725 c=0.644796 error=0.0747841\n",
      "m=3.24443 c=0.588967 error=0.0621942\n",
      "m=3.3321 c=0.538595 error=0.051945\n",
      "m=3.41121 c=0.493146 error=0.0436014\n",
      "m=3.48258 c=0.452139 error=0.036809\n",
      "m=3.54698 c=0.41514 error=0.0312795\n",
      "m=3.60509 c=0.381757 error=0.026778\n",
      "m=3.65751 c=0.351637 error=0.0231135\n",
      "m=3.70481 c=0.324461 error=0.0201302\n",
      "m=3.74749 c=0.29994 error=0.0177016\n"
     ]
    },
    {
     "data": {
      "image/png": "[encoded data removed]",
      "text/plain": [
       "<Figure size 800x600 with 1 Axes>"
      ]
     },
     "metadata": {},
     "output_type": "display_data"
    }
   ],
   "source": [
    "fig= plt.figure(figsize=(8,6))\n",
    "ax= fig.add_subplot(1,1,1)\n",
    "for j in range(20):\n",
    "    m,c,error= train_all_values(f,tsq,m,c,lr,iterations=100)\n",
    "    print('m={0:.6} c={1:.6} error={2:.6}'.format(m,c,error))\n",
    "    y= m*f+c\n",
    "    ax.clear()\n",
    "    ax.plot(f,tsq,'.k')\n",
    "    ax.plot(f,y)\n",
    "    time.sleep(1)"
   ]
  },
  {
   "cell_type": "code",
   "execution_count": 83,
   "id": "033a72cc",
   "metadata": {},
   "outputs": [
    {
     "data": {
      "text/plain": [
       "Text(0.5, 1.0, 'Gradient Descent')"
      ]
     },
     "execution_count": 83,
     "metadata": {},
     "output_type": "execute_result"
    },
    {
     "data": {
      "image/png": "[encoded data removed]",
      "text/plain": [
       "<Figure size 640x480 with 1 Axes>"
      ]
     },
     "metadata": {},
     "output_type": "display_data"
    }
   ],
   "source": [
    "ms,cs,err=[],[],[]\n",
    "m,c=0,0\n",
    "lr=0.01\n",
    "for k in range(50):\n",
    "    m,c,error= train_all_values(f,tsq,m,c,lr,iterations=100)\n",
    "    ms.append(m)\n",
    "    cs.append(c)\n",
    "    err.append(error)\n",
    "epochs=range(50)\n",
    "plt.plot(epochs,err)\n",
    "plt.xlabel('Iterations')\n",
    "plt.ylabel('Errors')\n",
    "plt.title('Gradient Descent')"
   ]
  },
  {
   "cell_type": "code",
   "execution_count": 84,
   "id": "67d8e536",
   "metadata": {},
   "outputs": [
    {
     "data": {
      "text/plain": [
       "[0.5673363619126685,\n",
       " 0.438432012220202,\n",
       " 0.3581116672846544,\n",
       " 0.29284467944383324,\n",
       " 0.23971277376730696,\n",
       " 0.19645920174625103,\n",
       " 0.1612473720228655,\n",
       " 0.13258215675801643,\n",
       " 0.10924640361377279,\n",
       " 0.09024925428913995,\n",
       " 0.07478407173292875,\n",
       " 0.062194189566407786,\n",
       " 0.0519450294035213,\n",
       " 0.043601402143543175,\n",
       " 0.036809029427431125,\n",
       " 0.03127950064132572,\n",
       " 0.026778026727233742,\n",
       " 0.023113470816038012,\n",
       " 0.02013023237401563,\n",
       " 0.01770164025599929,\n",
       " 0.015724574127925176,\n",
       " 0.014115085879247724,\n",
       " 0.012804835106222679,\n",
       " 0.01173818731328384,\n",
       " 0.010869851619381104,\n",
       " 0.010162957664040843,\n",
       " 0.009587490056748603,\n",
       " 0.009119013894884662,\n",
       " 0.008737637234489361,\n",
       " 0.008427166459379808,\n",
       " 0.00817441868478541,\n",
       " 0.007968661999506917,\n",
       " 0.007801159778746462,\n",
       " 0.007664799718699334,\n",
       " 0.00755379184136115,\n",
       " 0.007463422646547961,\n",
       " 0.007389854972190018,\n",
       " 0.007329965064776103,\n",
       " 0.007281209941804557,\n",
       " 0.007241519414324832,\n",
       " 0.007209208184743161,\n",
       " 0.0071829042874816534,\n",
       " 0.007161490834013573,\n",
       " 0.0071440585887127895,\n",
       " 0.007129867361843199,\n",
       " 0.00711831458039772,\n",
       " 0.007108909702274525,\n",
       " 0.00710125338739229,\n",
       " 0.007095020541330066,\n",
       " 0.007089946511508536]"
      ]
     },
     "execution_count": 84,
     "metadata": {},
     "output_type": "execute_result"
    }
   ],
   "source": [
    "err"
   ]
  },
  {
   "cell_type": "markdown",
   "id": "b009111c",
   "metadata": {},
   "source": [
    "## stochastic gradient descent"
   ]
  },
  {
   "cell_type": "code",
   "execution_count": 97,
   "id": "a9571ace",
   "metadata": {},
   "outputs": [
    {
     "name": "stdout",
     "output_type": "stream",
     "text": [
      "m=2.9118 c=0.963032 error=0.0934505\n",
      "m=2.91442 c=0.722586 error=0.0777027\n",
      "m=3.08092 c=0.700439 error=0.0948235\n",
      "m=3.21211 c=0.709538 error=0.0681371\n",
      "m=3.21116 c=0.465151 error=0.0500651\n",
      "m=3.39422 c=0.520994 error=0.0652068\n",
      "m=3.45958 c=0.482859 error=0.0346804\n",
      "m=3.50849 c=0.392055 error=0.0452496\n",
      "m=3.60703 c=0.37289 error=0.0367197\n",
      "m=3.62761 c=0.322004 error=0.0167492\n",
      "m=3.73177 c=0.397773 error=0.0260711\n",
      "m=3.71745 c=0.287806 error=0.0119004\n",
      "m=3.76522 c=0.290884 error=0.0146262\n",
      "m=3.80481 c=0.268908 error=0.0212872\n",
      "m=3.80931 c=0.240778 error=0.00415149\n",
      "m=3.86418 c=0.253999 error=0.0126545\n",
      "m=3.90291 c=0.250553 error=0.0119416\n",
      "m=3.90286 c=0.228141 error=0.00551896\n",
      "m=3.89702 c=0.184847 error=0.00553783\n",
      "m=3.9102 c=0.158998 error=0.0101208\n"
     ]
    },
    {
     "data": {
      "image/png": "[encoded data removed]",
      "text/plain": [
       "<Figure size 800x600 with 1 Axes>"
      ]
     },
     "metadata": {},
     "output_type": "display_data"
    }
   ],
   "source": [
    "fig= plt.figure(figsize=(8,6))\n",
    "ax= fig.add_subplot(1,1,1)\n",
    "for j in range(20):\n",
    "    index= np.random.randint(0,len(f),10)\n",
    "    fs= np.take(f,index)\n",
    "    ts= np.take(tsq,index)\n",
    "    m,c,error= train_all_values(fs,ts,m,c,lr,iterations=100)\n",
    "    print('m={0:.6} c={1:.6} error={2:.6}'.format(m,c,error))\n",
    "    y= m*fs+c\n",
    "    ax.clear()\n",
    "    ax.plot(fs,ts,'.k')\n",
    "    ax.plot(fs,y)\n",
    "    time.sleep(1)"
   ]
  },
  {
   "cell_type": "code",
   "execution_count": 73,
   "id": "5d06ba3b",
   "metadata": {},
   "outputs": [
    {
     "data": {
      "text/plain": [
       "array([ 4, 28, 25,  0, 14, 12, 23, 14, 26, 25])"
      ]
     },
     "execution_count": 73,
     "metadata": {},
     "output_type": "execute_result"
    }
   ],
   "source": [
    "np.random.randint(0,30,10)"
   ]
  },
  {
   "cell_type": "code",
   "execution_count": 74,
   "id": "ded19655",
   "metadata": {},
   "outputs": [
    {
     "data": {
      "text/plain": [
       "90"
      ]
     },
     "execution_count": 74,
     "metadata": {},
     "output_type": "execute_result"
    }
   ],
   "source": [
    "len(f)"
   ]
  },
  {
   "cell_type": "code",
   "execution_count": 77,
   "id": "257bb936",
   "metadata": {},
   "outputs": [
    {
     "data": {
      "text/plain": [
       "array([0.69, 0.68, 0.11, 0.52, 0.59, 0.87, 0.89, 0.24, 0.5 , 0.93])"
      ]
     },
     "execution_count": 77,
     "metadata": {},
     "output_type": "execute_result"
    }
   ],
   "source": [
    "index= np.random.randint(0,len(f),10)\n",
    "fs= np.take(f,index)\n",
    "fs"
   ]
  },
  {
   "cell_type": "code",
   "execution_count": null,
   "id": "f29cc71b",
   "metadata": {},
   "outputs": [],
   "source": []
  }
 ],
 "metadata": {
  "kernelspec": {
   "display_name": "Python 3 (ipykernel)",
   "language": "python",
   "name": "python3"
  },
  "language_info": {
   "codemirror_mode": {
    "name": "ipython",
    "version": 3
   },
   "file_extension": ".py",
   "mimetype": "text/x-python",
   "name": "python",
   "nbconvert_exporter": "python",
   "pygments_lexer": "ipython3",
   "version": "3.11.4"
  }
 },
 "nbformat": 4,
 "nbformat_minor": 5
}
