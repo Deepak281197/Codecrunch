{
 "cells": [
  {
   "cell_type": "markdown",
   "id": "8416fe8e",
   "metadata": {},
   "source": [
    "# Basics"
   ]
  },
  {
   "cell_type": "code",
   "execution_count": 3,
   "id": "009ceaf6",
   "metadata": {},
   "outputs": [],
   "source": [
    "a=10"
   ]
  },
  {
   "cell_type": "code",
   "execution_count": 4,
   "id": "2d3720ad",
   "metadata": {},
   "outputs": [
    {
     "data": {
      "text/plain": [
       "10"
      ]
     },
     "execution_count": 4,
     "metadata": {},
     "output_type": "execute_result"
    }
   ],
   "source": [
    "a"
   ]
  },
  {
   "cell_type": "code",
   "execution_count": 5,
   "id": "d32aa2e9",
   "metadata": {},
   "outputs": [],
   "source": [
    "a=10\n",
    "b=20\n",
    "c=30"
   ]
  },
  {
   "cell_type": "code",
   "execution_count": 6,
   "id": "adcdbaeb",
   "metadata": {},
   "outputs": [
    {
     "data": {
      "text/plain": [
       "60"
      ]
     },
     "execution_count": 6,
     "metadata": {},
     "output_type": "execute_result"
    }
   ],
   "source": [
    "a+b+c"
   ]
  },
  {
   "cell_type": "code",
   "execution_count": 7,
   "id": "e933b51c",
   "metadata": {},
   "outputs": [
    {
     "data": {
      "text/plain": [
       "-40"
      ]
     },
     "execution_count": 7,
     "metadata": {},
     "output_type": "execute_result"
    }
   ],
   "source": [
    "a-b-c"
   ]
  },
  {
   "cell_type": "code",
   "execution_count": 8,
   "id": "0c82434c",
   "metadata": {},
   "outputs": [],
   "source": [
    "a,b,c,d=20,30,40,50"
   ]
  },
  {
   "cell_type": "code",
   "execution_count": 9,
   "id": "83e04776",
   "metadata": {},
   "outputs": [
    {
     "data": {
      "text/plain": [
       "50"
      ]
     },
     "execution_count": 9,
     "metadata": {},
     "output_type": "execute_result"
    }
   ],
   "source": [
    "a+b"
   ]
  },
  {
   "cell_type": "code",
   "execution_count": 10,
   "id": "e8f10e6e",
   "metadata": {},
   "outputs": [
    {
     "data": {
      "text/plain": [
       "-10"
      ]
     },
     "execution_count": 10,
     "metadata": {},
     "output_type": "execute_result"
    }
   ],
   "source": [
    "a-b"
   ]
  },
  {
   "cell_type": "code",
   "execution_count": 11,
   "id": "d0730677",
   "metadata": {},
   "outputs": [
    {
     "data": {
      "text/plain": [
       "20"
      ]
     },
     "execution_count": 11,
     "metadata": {},
     "output_type": "execute_result"
    }
   ],
   "source": [
    "a%b"
   ]
  },
  {
   "cell_type": "code",
   "execution_count": 12,
   "id": "e848f07d",
   "metadata": {},
   "outputs": [
    {
     "data": {
      "text/plain": [
       "0.5"
      ]
     },
     "execution_count": 12,
     "metadata": {},
     "output_type": "execute_result"
    }
   ],
   "source": [
    "a/c"
   ]
  },
  {
   "cell_type": "code",
   "execution_count": 13,
   "id": "9ae4c533",
   "metadata": {},
   "outputs": [
    {
     "data": {
      "text/plain": [
       "0"
      ]
     },
     "execution_count": 13,
     "metadata": {},
     "output_type": "execute_result"
    }
   ],
   "source": [
    "a//c"
   ]
  },
  {
   "cell_type": "code",
   "execution_count": 14,
   "id": "9c12426a",
   "metadata": {},
   "outputs": [
    {
     "data": {
      "text/plain": [
       "112589990684262400000000000000000000000000000000000000000000000000"
      ]
     },
     "execution_count": 14,
     "metadata": {},
     "output_type": "execute_result"
    }
   ],
   "source": [
    "a**d"
   ]
  },
  {
   "cell_type": "code",
   "execution_count": 15,
   "id": "8fb94c4c",
   "metadata": {},
   "outputs": [],
   "source": [
    "a=25\n",
    "b==43\n",
    "c=45\n"
   ]
  },
  {
   "cell_type": "code",
   "execution_count": 16,
   "id": "5fbc91ad",
   "metadata": {},
   "outputs": [
    {
     "name": "stdout",
     "output_type": "stream",
     "text": [
      "addition number : 10\n"
     ]
    }
   ],
   "source": [
    "print('addition number :', a+b-c)"
   ]
  },
  {
   "cell_type": "code",
   "execution_count": 17,
   "id": "a0fe6547",
   "metadata": {},
   "outputs": [],
   "source": [
    "import math"
   ]
  },
  {
   "cell_type": "code",
   "execution_count": 18,
   "id": "baca068e",
   "metadata": {},
   "outputs": [
    {
     "data": {
      "text/plain": [
       "2.23606797749979"
      ]
     },
     "execution_count": 18,
     "metadata": {},
     "output_type": "execute_result"
    }
   ],
   "source": [
    "math.sqrt(5)"
   ]
  },
  {
   "cell_type": "code",
   "execution_count": 19,
   "id": "fc4e87c3",
   "metadata": {},
   "outputs": [
    {
     "data": {
      "text/plain": [
       "3.7797631496846193"
      ]
     },
     "execution_count": 19,
     "metadata": {},
     "output_type": "execute_result"
    }
   ],
   "source": [
    "math.cbrt(54)"
   ]
  },
  {
   "cell_type": "code",
   "execution_count": 20,
   "id": "8a0335e0",
   "metadata": {},
   "outputs": [
    {
     "data": {
      "text/plain": [
       "720"
      ]
     },
     "execution_count": 20,
     "metadata": {},
     "output_type": "execute_result"
    }
   ],
   "source": [
    "math.factorial(6)"
   ]
  },
  {
   "cell_type": "code",
   "execution_count": 21,
   "id": "ed52a354",
   "metadata": {},
   "outputs": [
    {
     "data": {
      "text/plain": [
       "-0.9055783620066238"
      ]
     },
     "execution_count": 21,
     "metadata": {},
     "output_type": "execute_result"
    }
   ],
   "source": [
    "math.sin(24)"
   ]
  },
  {
   "cell_type": "code",
   "execution_count": 22,
   "id": "a7d11043",
   "metadata": {},
   "outputs": [
    {
     "data": {
      "text/plain": [
       "0.5253219888177297"
      ]
     },
     "execution_count": 22,
     "metadata": {},
     "output_type": "execute_result"
    }
   ],
   "source": [
    "math.cos(45)"
   ]
  },
  {
   "cell_type": "code",
   "execution_count": 23,
   "id": "2f8dcd9a",
   "metadata": {},
   "outputs": [
    {
     "data": {
      "text/plain": [
       "24"
      ]
     },
     "execution_count": 23,
     "metadata": {},
     "output_type": "execute_result"
    }
   ],
   "source": [
    "math.ceil(23.555)"
   ]
  },
  {
   "cell_type": "code",
   "execution_count": 24,
   "id": "f7db7107",
   "metadata": {},
   "outputs": [
    {
     "data": {
      "text/plain": [
       "45"
      ]
     },
     "execution_count": 24,
     "metadata": {},
     "output_type": "execute_result"
    }
   ],
   "source": [
    "math.floor(45.777)"
   ]
  },
  {
   "cell_type": "code",
   "execution_count": 25,
   "id": "0e06f25a",
   "metadata": {},
   "outputs": [],
   "source": [
    "a=[1]\n",
    "b=[5]\n"
   ]
  },
  {
   "cell_type": "code",
   "execution_count": 26,
   "id": "785eec7b",
   "metadata": {},
   "outputs": [
    {
     "data": {
      "text/plain": [
       "4.0"
      ]
     },
     "execution_count": 26,
     "metadata": {},
     "output_type": "execute_result"
    }
   ],
   "source": [
    "math.dist(a,b)\n"
   ]
  },
  {
   "cell_type": "code",
   "execution_count": 27,
   "id": "cdf840a0",
   "metadata": {},
   "outputs": [
    {
     "data": {
      "text/plain": [
       "6"
      ]
     },
     "execution_count": 27,
     "metadata": {},
     "output_type": "execute_result"
    }
   ],
   "source": [
    "round(6.0000)"
   ]
  },
  {
   "cell_type": "code",
   "execution_count": 28,
   "id": "d996dd5f",
   "metadata": {},
   "outputs": [],
   "source": [
    "# Int & Float"
   ]
  },
  {
   "cell_type": "code",
   "execution_count": 29,
   "id": "5760199f",
   "metadata": {},
   "outputs": [],
   "source": [
    "a=6"
   ]
  },
  {
   "cell_type": "code",
   "execution_count": 30,
   "id": "29f740a3",
   "metadata": {},
   "outputs": [
    {
     "data": {
      "text/plain": [
       "6"
      ]
     },
     "execution_count": 30,
     "metadata": {},
     "output_type": "execute_result"
    }
   ],
   "source": [
    "a"
   ]
  },
  {
   "cell_type": "code",
   "execution_count": 31,
   "id": "415ccabb",
   "metadata": {},
   "outputs": [
    {
     "data": {
      "text/plain": [
       "int"
      ]
     },
     "execution_count": 31,
     "metadata": {},
     "output_type": "execute_result"
    }
   ],
   "source": [
    "type(a)"
   ]
  },
  {
   "cell_type": "code",
   "execution_count": 32,
   "id": "d34a0015",
   "metadata": {},
   "outputs": [],
   "source": [
    "a='deepak'"
   ]
  },
  {
   "cell_type": "code",
   "execution_count": 33,
   "id": "266683c9",
   "metadata": {},
   "outputs": [
    {
     "data": {
      "text/plain": [
       "str"
      ]
     },
     "execution_count": 33,
     "metadata": {},
     "output_type": "execute_result"
    }
   ],
   "source": [
    "type(a)"
   ]
  },
  {
   "cell_type": "code",
   "execution_count": 34,
   "id": "d112d292",
   "metadata": {},
   "outputs": [],
   "source": [
    "a=['deepak']"
   ]
  },
  {
   "cell_type": "code",
   "execution_count": 35,
   "id": "ee9f836c",
   "metadata": {},
   "outputs": [
    {
     "data": {
      "text/plain": [
       "list"
      ]
     },
     "execution_count": 35,
     "metadata": {},
     "output_type": "execute_result"
    }
   ],
   "source": [
    "type(a)"
   ]
  },
  {
   "cell_type": "code",
   "execution_count": 36,
   "id": "c2fdc8ba",
   "metadata": {},
   "outputs": [],
   "source": [
    "a=float(20)"
   ]
  },
  {
   "cell_type": "code",
   "execution_count": 37,
   "id": "881ff9aa",
   "metadata": {},
   "outputs": [
    {
     "data": {
      "text/plain": [
       "20.0"
      ]
     },
     "execution_count": 37,
     "metadata": {},
     "output_type": "execute_result"
    }
   ],
   "source": [
    "a"
   ]
  },
  {
   "cell_type": "code",
   "execution_count": 38,
   "id": "bffc6930",
   "metadata": {},
   "outputs": [],
   "source": [
    "a=str(20)"
   ]
  },
  {
   "cell_type": "code",
   "execution_count": 39,
   "id": "d80f7e89",
   "metadata": {},
   "outputs": [
    {
     "data": {
      "text/plain": [
       "'20'"
      ]
     },
     "execution_count": 39,
     "metadata": {},
     "output_type": "execute_result"
    }
   ],
   "source": [
    "a"
   ]
  },
  {
   "cell_type": "code",
   "execution_count": 40,
   "id": "573792f2",
   "metadata": {},
   "outputs": [],
   "source": [
    "a=int(20.00)"
   ]
  },
  {
   "cell_type": "code",
   "execution_count": 41,
   "id": "84c95c4f",
   "metadata": {},
   "outputs": [
    {
     "data": {
      "text/plain": [
       "20"
      ]
     },
     "execution_count": 41,
     "metadata": {},
     "output_type": "execute_result"
    }
   ],
   "source": [
    "a"
   ]
  },
  {
   "cell_type": "code",
   "execution_count": 42,
   "id": "0b23b048",
   "metadata": {},
   "outputs": [],
   "source": [
    "a='deepak'\n",
    "b=2.5\n",
    "c=25"
   ]
  },
  {
   "cell_type": "code",
   "execution_count": 43,
   "id": "1b9905f8",
   "metadata": {},
   "outputs": [
    {
     "data": {
      "text/plain": [
       "False"
      ]
     },
     "execution_count": 43,
     "metadata": {},
     "output_type": "execute_result"
    }
   ],
   "source": [
    "isinstance(a,int)"
   ]
  },
  {
   "cell_type": "code",
   "execution_count": 44,
   "id": "3338b0cf",
   "metadata": {},
   "outputs": [
    {
     "data": {
      "text/plain": [
       "True"
      ]
     },
     "execution_count": 44,
     "metadata": {},
     "output_type": "execute_result"
    }
   ],
   "source": [
    "isinstance(b,float)"
   ]
  },
  {
   "cell_type": "code",
   "execution_count": 45,
   "id": "b1bb8143",
   "metadata": {},
   "outputs": [
    {
     "data": {
      "text/plain": [
       "False"
      ]
     },
     "execution_count": 45,
     "metadata": {},
     "output_type": "execute_result"
    }
   ],
   "source": [
    "isinstance(c,str)"
   ]
  },
  {
   "cell_type": "code",
   "execution_count": 46,
   "id": "1b7fc1b1",
   "metadata": {},
   "outputs": [],
   "source": [
    "str='Do what you cant'"
   ]
  },
  {
   "cell_type": "code",
   "execution_count": 47,
   "id": "92b626f9",
   "metadata": {},
   "outputs": [
    {
     "name": "stdout",
     "output_type": "stream",
     "text": [
      "Do what you cant\n"
     ]
    }
   ],
   "source": [
    "print(str)"
   ]
  },
  {
   "cell_type": "code",
   "execution_count": 48,
   "id": "20d3dceb",
   "metadata": {},
   "outputs": [
    {
     "data": {
      "text/plain": [
       "16"
      ]
     },
     "execution_count": 48,
     "metadata": {},
     "output_type": "execute_result"
    }
   ],
   "source": [
    "len(str)"
   ]
  },
  {
   "cell_type": "code",
   "execution_count": 49,
   "id": "c699a511",
   "metadata": {},
   "outputs": [],
   "source": [
    "index=len(str)"
   ]
  },
  {
   "cell_type": "code",
   "execution_count": 50,
   "id": "2a1592b8",
   "metadata": {},
   "outputs": [
    {
     "data": {
      "text/plain": [
       "16"
      ]
     },
     "execution_count": 50,
     "metadata": {},
     "output_type": "execute_result"
    }
   ],
   "source": [
    "index"
   ]
  },
  {
   "cell_type": "code",
   "execution_count": 51,
   "id": "fe07ee3d",
   "metadata": {},
   "outputs": [],
   "source": [
    "index=len(str)-1"
   ]
  },
  {
   "cell_type": "code",
   "execution_count": 52,
   "id": "58f8f9d5",
   "metadata": {},
   "outputs": [
    {
     "data": {
      "text/plain": [
       "15"
      ]
     },
     "execution_count": 52,
     "metadata": {},
     "output_type": "execute_result"
    }
   ],
   "source": [
    "index"
   ]
  },
  {
   "cell_type": "code",
   "execution_count": 53,
   "id": "78808c73",
   "metadata": {},
   "outputs": [
    {
     "data": {
      "text/plain": [
       "'h'"
      ]
     },
     "execution_count": 53,
     "metadata": {},
     "output_type": "execute_result"
    }
   ],
   "source": [
    "str[4]"
   ]
  },
  {
   "cell_type": "code",
   "execution_count": 54,
   "id": "b14b8e6c",
   "metadata": {},
   "outputs": [
    {
     "data": {
      "text/plain": [
       "' what '"
      ]
     },
     "execution_count": 54,
     "metadata": {},
     "output_type": "execute_result"
    }
   ],
   "source": [
    "str[2:8]"
   ]
  },
  {
   "cell_type": "code",
   "execution_count": 55,
   "id": "1a54881c",
   "metadata": {},
   "outputs": [
    {
     "data": {
      "text/plain": [
       "' htyucn'"
      ]
     },
     "execution_count": 55,
     "metadata": {},
     "output_type": "execute_result"
    }
   ],
   "source": [
    "str[2::2]"
   ]
  },
  {
   "cell_type": "code",
   "execution_count": 56,
   "id": "31120d64",
   "metadata": {},
   "outputs": [
    {
     "data": {
      "text/plain": [
       "'D hty'"
      ]
     },
     "execution_count": 56,
     "metadata": {},
     "output_type": "execute_result"
    }
   ],
   "source": [
    "str[0:10:2]"
   ]
  },
  {
   "cell_type": "code",
   "execution_count": 57,
   "id": "a8685864",
   "metadata": {},
   "outputs": [
    {
     "data": {
      "text/plain": [
       "False"
      ]
     },
     "execution_count": 57,
     "metadata": {},
     "output_type": "execute_result"
    }
   ],
   "source": [
    "str.isspace()"
   ]
  },
  {
   "cell_type": "code",
   "execution_count": 58,
   "id": "f6d50985",
   "metadata": {},
   "outputs": [
    {
     "data": {
      "text/plain": [
       "6"
      ]
     },
     "execution_count": 58,
     "metadata": {},
     "output_type": "execute_result"
    }
   ],
   "source": [
    "str.index('t',2)"
   ]
  },
  {
   "cell_type": "code",
   "execution_count": 59,
   "id": "b3f43cfd",
   "metadata": {},
   "outputs": [
    {
     "data": {
      "text/plain": [
       "13"
      ]
     },
     "execution_count": 59,
     "metadata": {},
     "output_type": "execute_result"
    }
   ],
   "source": [
    "str.index('a',10)"
   ]
  },
  {
   "cell_type": "code",
   "execution_count": 60,
   "id": "c3c7b970",
   "metadata": {},
   "outputs": [
    {
     "data": {
      "text/plain": [
       "'Do what you cant'"
      ]
     },
     "execution_count": 60,
     "metadata": {},
     "output_type": "execute_result"
    }
   ],
   "source": [
    "str.capitalize()"
   ]
  },
  {
   "cell_type": "code",
   "execution_count": 61,
   "id": "53d776db",
   "metadata": {},
   "outputs": [
    {
     "data": {
      "text/plain": [
       "'DO WHAT YOU CANT'"
      ]
     },
     "execution_count": 61,
     "metadata": {},
     "output_type": "execute_result"
    }
   ],
   "source": [
    "str.upper()"
   ]
  },
  {
   "cell_type": "code",
   "execution_count": 62,
   "id": "80eb59e8",
   "metadata": {},
   "outputs": [
    {
     "data": {
      "text/plain": [
       "'dO WHAT YOU CANT'"
      ]
     },
     "execution_count": 62,
     "metadata": {},
     "output_type": "execute_result"
    }
   ],
   "source": [
    "str.swapcase()"
   ]
  },
  {
   "cell_type": "code",
   "execution_count": 63,
   "id": "272dd4b1",
   "metadata": {},
   "outputs": [
    {
     "data": {
      "text/plain": [
       "'Do What You Cant'"
      ]
     },
     "execution_count": 63,
     "metadata": {},
     "output_type": "execute_result"
    }
   ],
   "source": [
    "str.title()"
   ]
  },
  {
   "cell_type": "code",
   "execution_count": 64,
   "id": "d72550ad",
   "metadata": {},
   "outputs": [],
   "source": [
    "str='deepak'\n",
    "str1='ragu'"
   ]
  },
  {
   "cell_type": "code",
   "execution_count": 65,
   "id": "22245b4d",
   "metadata": {},
   "outputs": [
    {
     "data": {
      "text/plain": [
       "'deepak ragu'"
      ]
     },
     "execution_count": 65,
     "metadata": {},
     "output_type": "execute_result"
    }
   ],
   "source": [
    "str +' '+ str1"
   ]
  },
  {
   "cell_type": "code",
   "execution_count": 66,
   "id": "3a846f18",
   "metadata": {},
   "outputs": [],
   "source": [
    "str='do what you dont'"
   ]
  },
  {
   "cell_type": "code",
   "execution_count": 67,
   "id": "5a8ba6ad",
   "metadata": {},
   "outputs": [
    {
     "data": {
      "text/plain": [
       "'do what you cant'"
      ]
     },
     "execution_count": 67,
     "metadata": {},
     "output_type": "execute_result"
    }
   ],
   "source": [
    "str.replace('dont','cant')"
   ]
  },
  {
   "cell_type": "markdown",
   "id": "ca1cf57c",
   "metadata": {},
   "source": [
    "# Data Structure"
   ]
  },
  {
   "cell_type": "code",
   "execution_count": 68,
   "id": "ab0833fb",
   "metadata": {},
   "outputs": [],
   "source": [
    "# List"
   ]
  },
  {
   "cell_type": "code",
   "execution_count": 69,
   "id": "8099775c",
   "metadata": {},
   "outputs": [],
   "source": [
    "list=[1,2,3,4,5]"
   ]
  },
  {
   "cell_type": "code",
   "execution_count": 70,
   "id": "bb920e2f",
   "metadata": {},
   "outputs": [
    {
     "data": {
      "text/plain": [
       "list"
      ]
     },
     "execution_count": 70,
     "metadata": {},
     "output_type": "execute_result"
    }
   ],
   "source": [
    "type(list)"
   ]
  },
  {
   "cell_type": "code",
   "execution_count": 71,
   "id": "a783dafd",
   "metadata": {},
   "outputs": [
    {
     "data": {
      "text/plain": [
       "5"
      ]
     },
     "execution_count": 71,
     "metadata": {},
     "output_type": "execute_result"
    }
   ],
   "source": [
    "len(list)"
   ]
  },
  {
   "cell_type": "code",
   "execution_count": 72,
   "id": "09aa5d86",
   "metadata": {},
   "outputs": [
    {
     "data": {
      "text/plain": [
       "1"
      ]
     },
     "execution_count": 72,
     "metadata": {},
     "output_type": "execute_result"
    }
   ],
   "source": [
    "min(list)"
   ]
  },
  {
   "cell_type": "code",
   "execution_count": 73,
   "id": "aea1080d",
   "metadata": {},
   "outputs": [
    {
     "data": {
      "text/plain": [
       "5"
      ]
     },
     "execution_count": 73,
     "metadata": {},
     "output_type": "execute_result"
    }
   ],
   "source": [
    "max(list)"
   ]
  },
  {
   "cell_type": "code",
   "execution_count": 74,
   "id": "087fe17d",
   "metadata": {},
   "outputs": [
    {
     "data": {
      "text/plain": [
       "15"
      ]
     },
     "execution_count": 74,
     "metadata": {},
     "output_type": "execute_result"
    }
   ],
   "source": [
    "sum(list)"
   ]
  },
  {
   "cell_type": "code",
   "execution_count": 75,
   "id": "fe90be21",
   "metadata": {},
   "outputs": [
    {
     "data": {
      "text/plain": [
       "2"
      ]
     },
     "execution_count": 75,
     "metadata": {},
     "output_type": "execute_result"
    }
   ],
   "source": [
    "list.index(3,1,5)"
   ]
  },
  {
   "cell_type": "code",
   "execution_count": 76,
   "id": "99b76df6",
   "metadata": {},
   "outputs": [],
   "source": [
    "list.append(20)"
   ]
  },
  {
   "cell_type": "code",
   "execution_count": 77,
   "id": "f6fc8ae3",
   "metadata": {},
   "outputs": [
    {
     "data": {
      "text/plain": [
       "[1, 2, 3, 4, 5, 20]"
      ]
     },
     "execution_count": 77,
     "metadata": {},
     "output_type": "execute_result"
    }
   ],
   "source": [
    "list"
   ]
  },
  {
   "cell_type": "code",
   "execution_count": 78,
   "id": "50d8f382",
   "metadata": {},
   "outputs": [],
   "source": [
    "list.insert(2,25)"
   ]
  },
  {
   "cell_type": "code",
   "execution_count": 79,
   "id": "74bf020a",
   "metadata": {},
   "outputs": [
    {
     "data": {
      "text/plain": [
       "[1, 2, 25, 3, 4, 5, 20]"
      ]
     },
     "execution_count": 79,
     "metadata": {},
     "output_type": "execute_result"
    }
   ],
   "source": [
    "list"
   ]
  },
  {
   "cell_type": "code",
   "execution_count": 80,
   "id": "2584c23c",
   "metadata": {},
   "outputs": [],
   "source": [
    "list.remove(4)"
   ]
  },
  {
   "cell_type": "code",
   "execution_count": 81,
   "id": "4da0f71d",
   "metadata": {},
   "outputs": [
    {
     "data": {
      "text/plain": [
       "[1, 2, 25, 3, 5, 20]"
      ]
     },
     "execution_count": 81,
     "metadata": {},
     "output_type": "execute_result"
    }
   ],
   "source": [
    "list"
   ]
  },
  {
   "cell_type": "code",
   "execution_count": 82,
   "id": "4eeff723",
   "metadata": {},
   "outputs": [
    {
     "data": {
      "text/plain": [
       "3"
      ]
     },
     "execution_count": 82,
     "metadata": {},
     "output_type": "execute_result"
    }
   ],
   "source": [
    "list.index(3)"
   ]
  },
  {
   "cell_type": "code",
   "execution_count": 83,
   "id": "105c394d",
   "metadata": {},
   "outputs": [
    {
     "data": {
      "text/plain": [
       "20"
      ]
     },
     "execution_count": 83,
     "metadata": {},
     "output_type": "execute_result"
    }
   ],
   "source": [
    "list.pop(5)"
   ]
  },
  {
   "cell_type": "code",
   "execution_count": 84,
   "id": "f572c181",
   "metadata": {},
   "outputs": [],
   "source": [
    "list1=list.copy()"
   ]
  },
  {
   "cell_type": "code",
   "execution_count": 85,
   "id": "7c371d24",
   "metadata": {},
   "outputs": [
    {
     "data": {
      "text/plain": [
       "[1, 2, 25, 3, 5]"
      ]
     },
     "execution_count": 85,
     "metadata": {},
     "output_type": "execute_result"
    }
   ],
   "source": [
    "list1"
   ]
  },
  {
   "cell_type": "code",
   "execution_count": 86,
   "id": "6f9462f1",
   "metadata": {},
   "outputs": [
    {
     "data": {
      "text/plain": [
       "[25, 3]"
      ]
     },
     "execution_count": 86,
     "metadata": {},
     "output_type": "execute_result"
    }
   ],
   "source": [
    "list1[-3:-1]"
   ]
  },
  {
   "cell_type": "code",
   "execution_count": 87,
   "id": "64839841",
   "metadata": {},
   "outputs": [
    {
     "data": {
      "text/plain": [
       "[1, 25]"
      ]
     },
     "execution_count": 87,
     "metadata": {},
     "output_type": "execute_result"
    }
   ],
   "source": [
    "list[-5:-1:2]"
   ]
  },
  {
   "cell_type": "code",
   "execution_count": 88,
   "id": "49f61735",
   "metadata": {},
   "outputs": [
    {
     "data": {
      "text/plain": [
       "[5, 3, 25, 2, 1]"
      ]
     },
     "execution_count": 88,
     "metadata": {},
     "output_type": "execute_result"
    }
   ],
   "source": [
    "list[::-1]"
   ]
  },
  {
   "cell_type": "code",
   "execution_count": 89,
   "id": "92816dbc",
   "metadata": {},
   "outputs": [],
   "source": [
    "list.sort(reverse=True)"
   ]
  },
  {
   "cell_type": "code",
   "execution_count": 90,
   "id": "2dcf84ea",
   "metadata": {},
   "outputs": [
    {
     "data": {
      "text/plain": [
       "[25, 5, 3, 2, 1]"
      ]
     },
     "execution_count": 90,
     "metadata": {},
     "output_type": "execute_result"
    }
   ],
   "source": [
    "list"
   ]
  },
  {
   "cell_type": "code",
   "execution_count": 91,
   "id": "8e14ed2c",
   "metadata": {},
   "outputs": [],
   "source": [
    "list[1]=2"
   ]
  },
  {
   "cell_type": "code",
   "execution_count": 92,
   "id": "2c66c8d6",
   "metadata": {},
   "outputs": [
    {
     "data": {
      "text/plain": [
       "[25, 2, 3, 2, 1]"
      ]
     },
     "execution_count": 92,
     "metadata": {},
     "output_type": "execute_result"
    }
   ],
   "source": [
    "list"
   ]
  },
  {
   "cell_type": "code",
   "execution_count": 93,
   "id": "b4c5d955",
   "metadata": {},
   "outputs": [
    {
     "data": {
      "text/plain": [
       "[25.0, 2.0, 3.0, 2.0, 1.0]"
      ]
     },
     "execution_count": 93,
     "metadata": {},
     "output_type": "execute_result"
    }
   ],
   "source": [
    "[float(f) for f in list]"
   ]
  },
  {
   "cell_type": "code",
   "execution_count": 94,
   "id": "c3e74ec3",
   "metadata": {},
   "outputs": [
    {
     "data": {
      "text/plain": [
       "[625, 4, 9, 4, 1]"
      ]
     },
     "execution_count": 94,
     "metadata": {},
     "output_type": "execute_result"
    }
   ],
   "source": [
    "[a*a for a in list]"
   ]
  },
  {
   "cell_type": "code",
   "execution_count": 95,
   "id": "be52c42c",
   "metadata": {},
   "outputs": [],
   "source": [
    "# Tuple"
   ]
  },
  {
   "cell_type": "code",
   "execution_count": 96,
   "id": "2a602b1e",
   "metadata": {},
   "outputs": [],
   "source": [
    "tup=(1,2,3,4)"
   ]
  },
  {
   "cell_type": "code",
   "execution_count": 97,
   "id": "c19ed880",
   "metadata": {},
   "outputs": [
    {
     "data": {
      "text/plain": [
       "1"
      ]
     },
     "execution_count": 97,
     "metadata": {},
     "output_type": "execute_result"
    }
   ],
   "source": [
    "tup.count(4)\n"
   ]
  },
  {
   "cell_type": "code",
   "execution_count": 98,
   "id": "5b8d4f24",
   "metadata": {},
   "outputs": [],
   "source": [
    "tup1=tup[:]"
   ]
  },
  {
   "cell_type": "code",
   "execution_count": 99,
   "id": "ef6f7034",
   "metadata": {},
   "outputs": [
    {
     "data": {
      "text/plain": [
       "(1, 2, 3, 4)"
      ]
     },
     "execution_count": 99,
     "metadata": {},
     "output_type": "execute_result"
    }
   ],
   "source": [
    "tup1"
   ]
  },
  {
   "cell_type": "code",
   "execution_count": 100,
   "id": "2cfecbd8",
   "metadata": {},
   "outputs": [],
   "source": [
    "# Sets"
   ]
  },
  {
   "cell_type": "code",
   "execution_count": 101,
   "id": "3b39b57e",
   "metadata": {},
   "outputs": [],
   "source": [
    "set1={1,2,3,4,5,6}"
   ]
  },
  {
   "cell_type": "code",
   "execution_count": 102,
   "id": "5968647f",
   "metadata": {},
   "outputs": [
    {
     "data": {
      "text/plain": [
       "type"
      ]
     },
     "execution_count": 102,
     "metadata": {},
     "output_type": "execute_result"
    }
   ],
   "source": [
    "type(set)"
   ]
  },
  {
   "cell_type": "code",
   "execution_count": 103,
   "id": "f6af0a34",
   "metadata": {},
   "outputs": [],
   "source": [
    "set1.add(100)"
   ]
  },
  {
   "cell_type": "code",
   "execution_count": 104,
   "id": "1d1c8f34",
   "metadata": {},
   "outputs": [
    {
     "data": {
      "text/plain": [
       "{1, 2, 3, 4, 5, 6, 100}"
      ]
     },
     "execution_count": 104,
     "metadata": {},
     "output_type": "execute_result"
    }
   ],
   "source": [
    "set1"
   ]
  },
  {
   "cell_type": "code",
   "execution_count": 108,
   "id": "f304502c",
   "metadata": {},
   "outputs": [],
   "source": [
    "set2=set1.copy()"
   ]
  },
  {
   "cell_type": "code",
   "execution_count": 109,
   "id": "187a70f1",
   "metadata": {},
   "outputs": [
    {
     "data": {
      "text/plain": [
       "{1, 2, 3, 4, 5, 6, 100}"
      ]
     },
     "execution_count": 109,
     "metadata": {},
     "output_type": "execute_result"
    }
   ],
   "source": [
    "set2"
   ]
  },
  {
   "cell_type": "code",
   "execution_count": 110,
   "id": "e4c9299c",
   "metadata": {},
   "outputs": [
    {
     "data": {
      "text/plain": [
       "{1, 2, 3, 4, 5, 6, 100}"
      ]
     },
     "execution_count": 110,
     "metadata": {},
     "output_type": "execute_result"
    }
   ],
   "source": [
    "set1.union(set2)"
   ]
  },
  {
   "cell_type": "code",
   "execution_count": 111,
   "id": "238536bf",
   "metadata": {},
   "outputs": [
    {
     "data": {
      "text/plain": [
       "{1, 2, 3, 4, 5, 6, 100}"
      ]
     },
     "execution_count": 111,
     "metadata": {},
     "output_type": "execute_result"
    }
   ],
   "source": [
    "set1"
   ]
  },
  {
   "cell_type": "code",
   "execution_count": 112,
   "id": "08fd19f9",
   "metadata": {},
   "outputs": [],
   "source": [
    "set2={1,2,3,4,20,50}"
   ]
  },
  {
   "cell_type": "code",
   "execution_count": 113,
   "id": "e6140939",
   "metadata": {},
   "outputs": [
    {
     "data": {
      "text/plain": [
       "{1, 2, 3, 4}"
      ]
     },
     "execution_count": 113,
     "metadata": {},
     "output_type": "execute_result"
    }
   ],
   "source": [
    "set2.intersection(set1)"
   ]
  },
  {
   "cell_type": "code",
   "execution_count": 114,
   "id": "649785cb",
   "metadata": {},
   "outputs": [
    {
     "data": {
      "text/plain": [
       "{5, 6, 20, 50, 100}"
      ]
     },
     "execution_count": 114,
     "metadata": {},
     "output_type": "execute_result"
    }
   ],
   "source": [
    "set2.symmetric_difference(set1)"
   ]
  },
  {
   "cell_type": "code",
   "execution_count": 115,
   "id": "d2d393da",
   "metadata": {},
   "outputs": [],
   "source": [
    "# Dictionary"
   ]
  },
  {
   "cell_type": "code",
   "execution_count": 132,
   "id": "61d45e6b",
   "metadata": {},
   "outputs": [],
   "source": [
    "dict={'My family':['ragu','kalai','deepak']}"
   ]
  },
  {
   "cell_type": "code",
   "execution_count": 133,
   "id": "38d9a6f6",
   "metadata": {},
   "outputs": [
    {
     "data": {
      "text/plain": [
       "{'My family': ['ragu', 'kalai', 'deepak']}"
      ]
     },
     "execution_count": 133,
     "metadata": {},
     "output_type": "execute_result"
    }
   ],
   "source": [
    "dict"
   ]
  },
  {
   "cell_type": "code",
   "execution_count": 134,
   "id": "a63ce92a",
   "metadata": {},
   "outputs": [
    {
     "data": {
      "text/plain": [
       "dict"
      ]
     },
     "execution_count": 134,
     "metadata": {},
     "output_type": "execute_result"
    }
   ],
   "source": [
    "type(dict)"
   ]
  },
  {
   "cell_type": "code",
   "execution_count": 135,
   "id": "9c998339",
   "metadata": {},
   "outputs": [
    {
     "data": {
      "text/plain": [
       "dict_keys(['My family'])"
      ]
     },
     "execution_count": 135,
     "metadata": {},
     "output_type": "execute_result"
    }
   ],
   "source": [
    "dict.keys()"
   ]
  },
  {
   "cell_type": "code",
   "execution_count": 136,
   "id": "973752fe",
   "metadata": {},
   "outputs": [
    {
     "data": {
      "text/plain": [
       "dict_values([['ragu', 'kalai', 'deepak']])"
      ]
     },
     "execution_count": 136,
     "metadata": {},
     "output_type": "execute_result"
    }
   ],
   "source": [
    "dict.values()"
   ]
  },
  {
   "cell_type": "code",
   "execution_count": 137,
   "id": "2b86accf",
   "metadata": {},
   "outputs": [
    {
     "data": {
      "text/plain": [
       "dict_items([('My family', ['ragu', 'kalai', 'deepak'])])"
      ]
     },
     "execution_count": 137,
     "metadata": {},
     "output_type": "execute_result"
    }
   ],
   "source": [
    "dict.items()"
   ]
  },
  {
   "cell_type": "code",
   "execution_count": 138,
   "id": "8e355f13",
   "metadata": {},
   "outputs": [],
   "source": [
    "dict['brothers']=['praveen','kumerasen']"
   ]
  },
  {
   "cell_type": "code",
   "execution_count": 139,
   "id": "01b670d3",
   "metadata": {},
   "outputs": [
    {
     "data": {
      "text/plain": [
       "{'My family': ['ragu', 'kalai', 'deepak'],\n",
       " 'brothers': ['praveen', 'kumerasen']}"
      ]
     },
     "execution_count": 139,
     "metadata": {},
     "output_type": "execute_result"
    }
   ],
   "source": [
    "dict"
   ]
  },
  {
   "cell_type": "code",
   "execution_count": 140,
   "id": "78908e54",
   "metadata": {},
   "outputs": [
    {
     "data": {
      "text/plain": [
       "['ragu', 'kalai', 'deepak']"
      ]
     },
     "execution_count": 140,
     "metadata": {},
     "output_type": "execute_result"
    }
   ],
   "source": [
    "dict.pop('My family')"
   ]
  },
  {
   "cell_type": "code",
   "execution_count": null,
   "id": "7adbf616",
   "metadata": {},
   "outputs": [],
   "source": [
    "dict"
   ]
  },
  {
   "cell_type": "code",
   "execution_count": 374,
   "id": "1f1fa1b2",
   "metadata": {},
   "outputs": [],
   "source": [
    "dict['Brothers']=['praveen','kumerasen']"
   ]
  },
  {
   "cell_type": "code",
   "execution_count": 375,
   "id": "7f7672dc",
   "metadata": {},
   "outputs": [
    {
     "data": {
      "text/plain": [
       "{'My family': ['ragu', 'kalai', 'deepak'],\n",
       " 'Brothers': ['praveen', 'kumerasen']}"
      ]
     },
     "execution_count": 375,
     "metadata": {},
     "output_type": "execute_result"
    }
   ],
   "source": [
    "dict"
   ]
  },
  {
   "cell_type": "code",
   "execution_count": 378,
   "id": "e06913bc",
   "metadata": {},
   "outputs": [],
   "source": [
    "dict2=dict.copy()"
   ]
  },
  {
   "cell_type": "code",
   "execution_count": 379,
   "id": "7f482908",
   "metadata": {},
   "outputs": [
    {
     "data": {
      "text/plain": [
       "{'My family': ['ragu', 'kalai', 'deepak'],\n",
       " 'Brothers': ['praveen', 'kumerasen']}"
      ]
     },
     "execution_count": 379,
     "metadata": {},
     "output_type": "execute_result"
    }
   ],
   "source": [
    "dict2"
   ]
  },
  {
   "cell_type": "code",
   "execution_count": 380,
   "id": "b76ff363",
   "metadata": {},
   "outputs": [
    {
     "data": {
      "text/plain": [
       "('Brothers', ['praveen', 'kumerasen'])"
      ]
     },
     "execution_count": 380,
     "metadata": {},
     "output_type": "execute_result"
    }
   ],
   "source": [
    "dict.popitem()"
   ]
  },
  {
   "cell_type": "code",
   "execution_count": 381,
   "id": "2523a2ff",
   "metadata": {},
   "outputs": [],
   "source": [
    "dict['love']=['Shazia & Rithu']"
   ]
  },
  {
   "cell_type": "code",
   "execution_count": 382,
   "id": "a527991b",
   "metadata": {},
   "outputs": [
    {
     "data": {
      "text/plain": [
       "{'My family': ['ragu', 'kalai', 'deepak'], 'love': ['Shazia & Rithu']}"
      ]
     },
     "execution_count": 382,
     "metadata": {},
     "output_type": "execute_result"
    }
   ],
   "source": [
    "dict"
   ]
  },
  {
   "cell_type": "code",
   "execution_count": 383,
   "id": "7cd1c5cd",
   "metadata": {},
   "outputs": [],
   "source": [
    "dict2.update(dict)"
   ]
  },
  {
   "cell_type": "code",
   "execution_count": 384,
   "id": "002ebf7e",
   "metadata": {},
   "outputs": [
    {
     "data": {
      "text/plain": [
       "{'My family': ['ragu', 'kalai', 'deepak'], 'love': ['Shazia & Rithu']}"
      ]
     },
     "execution_count": 384,
     "metadata": {},
     "output_type": "execute_result"
    }
   ],
   "source": [
    "dict"
   ]
  },
  {
   "cell_type": "code",
   "execution_count": 386,
   "id": "2d8b3f31",
   "metadata": {},
   "outputs": [],
   "source": [
    "dict.clear()"
   ]
  },
  {
   "cell_type": "code",
   "execution_count": 387,
   "id": "473c4b4d",
   "metadata": {},
   "outputs": [
    {
     "data": {
      "text/plain": [
       "{}"
      ]
     },
     "execution_count": 387,
     "metadata": {},
     "output_type": "execute_result"
    }
   ],
   "source": [
    "dict"
   ]
  },
  {
   "cell_type": "code",
   "execution_count": 388,
   "id": "8da6a950",
   "metadata": {},
   "outputs": [],
   "source": [
    "dict2.clear()"
   ]
  },
  {
   "cell_type": "code",
   "execution_count": 389,
   "id": "bf5afaa8",
   "metadata": {},
   "outputs": [
    {
     "data": {
      "text/plain": [
       "{}"
      ]
     },
     "execution_count": 389,
     "metadata": {},
     "output_type": "execute_result"
    }
   ],
   "source": [
    "dict"
   ]
  },
  {
   "cell_type": "code",
   "execution_count": null,
   "id": "1d32977c",
   "metadata": {},
   "outputs": [],
   "source": []
  }
 ],
 "metadata": {
  "kernelspec": {
   "display_name": "Python 3 (ipykernel)",
   "language": "python",
   "name": "python3"
  },
  "language_info": {
   "codemirror_mode": {
    "name": "ipython",
    "version": 3
   },
   "file_extension": ".py",
   "mimetype": "text/x-python",
   "name": "python",
   "nbconvert_exporter": "python",
   "pygments_lexer": "ipython3",
   "version": "3.11.4"
  }
 },
 "nbformat": 4,
 "nbformat_minor": 5
}
