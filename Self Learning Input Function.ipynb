{
 "cells": [
  {
   "cell_type": "markdown",
   "id": "e3dc00ba",
   "metadata": {},
   "source": [
    "# Input Functions"
   ]
  },
  {
   "cell_type": "code",
   "execution_count": 11,
   "id": "f7dc8c3a",
   "metadata": {},
   "outputs": [
    {
     "name": "stdout",
     "output_type": "stream",
     "text": [
      "what is your namedeepak\n"
     ]
    },
    {
     "data": {
      "text/plain": [
       "'deepak'"
      ]
     },
     "execution_count": 11,
     "metadata": {},
     "output_type": "execute_result"
    }
   ],
   "source": [
    "input('what is your name')"
   ]
  },
  {
   "cell_type": "code",
   "execution_count": 12,
   "id": "ab5dd59c",
   "metadata": {},
   "outputs": [
    {
     "name": "stdout",
     "output_type": "stream",
     "text": [
      "my name is deepak\n"
     ]
    }
   ],
   "source": [
    "print('my name is deepak')"
   ]
  },
  {
   "cell_type": "code",
   "execution_count": 13,
   "id": "f30bfa29",
   "metadata": {},
   "outputs": [
    {
     "name": "stdout",
     "output_type": "stream",
     "text": [
      "what is your namedeepak\n",
      "my name is : deepak\n"
     ]
    }
   ],
   "source": [
    "a=input('what is your name')\n",
    "print('my name is :',a)"
   ]
  },
  {
   "cell_type": "code",
   "execution_count": 14,
   "id": "cfef0fe2",
   "metadata": {},
   "outputs": [],
   "source": [
    "# Adding two numbers"
   ]
  },
  {
   "cell_type": "code",
   "execution_count": 15,
   "id": "51beb7ab",
   "metadata": {},
   "outputs": [
    {
     "name": "stdout",
     "output_type": "stream",
     "text": [
      "enter the first number6\n",
      "enter the second number4\n",
      "addition of two number is : 10\n"
     ]
    }
   ],
   "source": [
    "a=int(input('enter the first number'))\n",
    "b=int(input('enter the second number'))\n",
    "c=a+b\n",
    "print('addition of two number is :',c)"
   ]
  },
  {
   "cell_type": "markdown",
   "id": "7f9a47cb",
   "metadata": {},
   "source": [
    "# For Loop"
   ]
  },
  {
   "cell_type": "code",
   "execution_count": 16,
   "id": "df43f6f7",
   "metadata": {},
   "outputs": [
    {
     "name": "stdout",
     "output_type": "stream",
     "text": [
      "1\n",
      "2\n",
      "3\n"
     ]
    }
   ],
   "source": [
    "for i in [1,2,3]:\n",
    "    print(i)"
   ]
  },
  {
   "cell_type": "code",
   "execution_count": 17,
   "id": "327ecc17",
   "metadata": {},
   "outputs": [],
   "source": [
    "a=[1,2,3,4]"
   ]
  },
  {
   "cell_type": "code",
   "execution_count": 18,
   "id": "436d83bb",
   "metadata": {},
   "outputs": [
    {
     "name": "stdout",
     "output_type": "stream",
     "text": [
      "1\n",
      "2\n",
      "3\n",
      "4\n"
     ]
    }
   ],
   "source": [
    "for i in a:\n",
    "    print(i)"
   ]
  },
  {
   "cell_type": "code",
   "execution_count": 19,
   "id": "326886a5",
   "metadata": {},
   "outputs": [
    {
     "name": "stdout",
     "output_type": "stream",
     "text": [
      "0\n",
      "1\n",
      "2\n",
      "3\n",
      "4\n",
      "5\n",
      "6\n",
      "7\n",
      "8\n",
      "9\n"
     ]
    }
   ],
   "source": [
    "for i in range(0,10):\n",
    "    print(i)\n"
   ]
  },
  {
   "cell_type": "markdown",
   "id": "e7a6e080",
   "metadata": {},
   "source": [
    "# While loop"
   ]
  },
  {
   "cell_type": "code",
   "execution_count": 20,
   "id": "0745ab91",
   "metadata": {},
   "outputs": [
    {
     "name": "stdout",
     "output_type": "stream",
     "text": [
      "1\n",
      "2\n",
      "3\n",
      "4\n",
      "5\n",
      "6\n",
      "7\n",
      "8\n",
      "9\n"
     ]
    }
   ],
   "source": [
    "a=1\n",
    "b=10\n",
    "c=2\n",
    "while (a<b):\n",
    "    print(a)\n",
    "    a=a+1\n",
    "    "
   ]
  },
  {
   "cell_type": "code",
   "execution_count": 21,
   "id": "af922cc4",
   "metadata": {},
   "outputs": [
    {
     "name": "stdout",
     "output_type": "stream",
     "text": [
      "3\n",
      "5\n",
      "8\n",
      "12\n",
      "17\n",
      "23\n",
      "30\n",
      "38\n",
      "47\n"
     ]
    }
   ],
   "source": [
    "a=1\n",
    "b=10\n",
    "c=2\n",
    "while (a<b):\n",
    "    c=c+a\n",
    "    print(c)\n",
    "    a=a+1"
   ]
  },
  {
   "cell_type": "code",
   "execution_count": 22,
   "id": "26a51e77",
   "metadata": {},
   "outputs": [
    {
     "name": "stdout",
     "output_type": "stream",
     "text": [
      "its in the loop\n",
      "its in the loop\n",
      "its in the loop\n",
      "its in the loop\n",
      "its in the loop\n",
      "its in the loop\n",
      "its in the loop\n",
      "its in the loop\n",
      "its in the loop\n",
      "its in the loop\n",
      "out of the loop\n"
     ]
    }
   ],
   "source": [
    "a=0\n",
    "while(a<10):\n",
    "    print('its in the loop')\n",
    "    a=a+1\n",
    "else:\n",
    "    print('out of the loop')"
   ]
  },
  {
   "cell_type": "markdown",
   "id": "cd0529a8",
   "metadata": {},
   "source": [
    "# if,elif,else"
   ]
  },
  {
   "cell_type": "code",
   "execution_count": 23,
   "id": "e2054c70",
   "metadata": {},
   "outputs": [
    {
     "name": "stdout",
     "output_type": "stream",
     "text": [
      "enter the number52\n",
      "max number\n"
     ]
    }
   ],
   "source": [
    "x=int(input('enter the number'))\n",
    "if (x<10):\n",
    "    print('min number')\n",
    "elif(x>10):\n",
    "    print('max number')"
   ]
  },
  {
   "cell_type": "code",
   "execution_count": 24,
   "id": "5778deb2",
   "metadata": {},
   "outputs": [
    {
     "name": "stdout",
     "output_type": "stream",
     "text": [
      "enter the number9\n",
      "11\n"
     ]
    }
   ],
   "source": [
    "x=int(input('enter the number'))\n",
    "if (x<10):\n",
    "    x=x+2    \n",
    "elif(x>10):\n",
    "    x=x-2\n",
    "print(x)    \n",
    "    "
   ]
  },
  {
   "cell_type": "code",
   "execution_count": 25,
   "id": "23facb18",
   "metadata": {},
   "outputs": [
    {
     "name": "stdout",
     "output_type": "stream",
     "text": [
      "enter the number 6\n",
      "even\n"
     ]
    }
   ],
   "source": [
    "x=int(input('enter the number '))\n",
    "if (x%2==0):\n",
    "    print('even')\n",
    "else:\n",
    "    print('odd')"
   ]
  },
  {
   "cell_type": "code",
   "execution_count": 26,
   "id": "04be1d7e",
   "metadata": {},
   "outputs": [],
   "source": [
    "# Finding true or false "
   ]
  },
  {
   "cell_type": "code",
   "execution_count": 27,
   "id": "b3b28d73",
   "metadata": {},
   "outputs": [],
   "source": [
    "a=10"
   ]
  },
  {
   "cell_type": "code",
   "execution_count": 28,
   "id": "369ef455",
   "metadata": {},
   "outputs": [
    {
     "data": {
      "text/plain": [
       "True"
      ]
     },
     "execution_count": 28,
     "metadata": {},
     "output_type": "execute_result"
    }
   ],
   "source": [
    "a==10"
   ]
  },
  {
   "cell_type": "code",
   "execution_count": 29,
   "id": "3679a4b4",
   "metadata": {},
   "outputs": [
    {
     "data": {
      "text/plain": [
       "True"
      ]
     },
     "execution_count": 29,
     "metadata": {},
     "output_type": "execute_result"
    }
   ],
   "source": [
    "a<20"
   ]
  },
  {
   "cell_type": "code",
   "execution_count": 30,
   "id": "72812b8d",
   "metadata": {},
   "outputs": [
    {
     "data": {
      "text/plain": [
       "False"
      ]
     },
     "execution_count": 30,
     "metadata": {},
     "output_type": "execute_result"
    }
   ],
   "source": [
    "a>20"
   ]
  },
  {
   "cell_type": "code",
   "execution_count": 31,
   "id": "e6f16eec",
   "metadata": {},
   "outputs": [],
   "source": [
    "# !=(not equalto)"
   ]
  },
  {
   "cell_type": "code",
   "execution_count": 32,
   "id": "02e09474",
   "metadata": {},
   "outputs": [
    {
     "data": {
      "text/plain": [
       "True"
      ]
     },
     "execution_count": 32,
     "metadata": {},
     "output_type": "execute_result"
    }
   ],
   "source": [
    "a!=20"
   ]
  },
  {
   "cell_type": "code",
   "execution_count": 33,
   "id": "8e3bd7cb",
   "metadata": {},
   "outputs": [],
   "source": [
    "# AND,OR,NOT"
   ]
  },
  {
   "cell_type": "code",
   "execution_count": 34,
   "id": "41a77244",
   "metadata": {},
   "outputs": [],
   "source": [
    "a=10\n",
    "b=20"
   ]
  },
  {
   "cell_type": "code",
   "execution_count": 35,
   "id": "771ee5ac",
   "metadata": {},
   "outputs": [
    {
     "data": {
      "text/plain": [
       "False"
      ]
     },
     "execution_count": 35,
     "metadata": {},
     "output_type": "execute_result"
    }
   ],
   "source": [
    "(a>20) and (b==20)"
   ]
  },
  {
   "cell_type": "code",
   "execution_count": 36,
   "id": "59fb9094",
   "metadata": {},
   "outputs": [
    {
     "data": {
      "text/plain": [
       "True"
      ]
     },
     "execution_count": 36,
     "metadata": {},
     "output_type": "execute_result"
    }
   ],
   "source": [
    "(a>20) or (b==20)"
   ]
  },
  {
   "cell_type": "code",
   "execution_count": 37,
   "id": "b5a1ca36",
   "metadata": {},
   "outputs": [
    {
     "data": {
      "text/plain": [
       "False"
      ]
     },
     "execution_count": 37,
     "metadata": {},
     "output_type": "execute_result"
    }
   ],
   "source": [
    "not(True)"
   ]
  },
  {
   "cell_type": "code",
   "execution_count": 38,
   "id": "33d8b56e",
   "metadata": {},
   "outputs": [
    {
     "data": {
      "text/plain": [
       "True"
      ]
     },
     "execution_count": 38,
     "metadata": {},
     "output_type": "execute_result"
    }
   ],
   "source": [
    "not(False)"
   ]
  },
  {
   "cell_type": "code",
   "execution_count": 39,
   "id": "b34900ac",
   "metadata": {},
   "outputs": [
    {
     "data": {
      "text/plain": [
       "False"
      ]
     },
     "execution_count": 39,
     "metadata": {},
     "output_type": "execute_result"
    }
   ],
   "source": [
    "not(a==10)"
   ]
  },
  {
   "cell_type": "code",
   "execution_count": 40,
   "id": "42dba956",
   "metadata": {},
   "outputs": [],
   "source": [
    "a=[1,2,3,4,5,6,7,8]"
   ]
  },
  {
   "cell_type": "code",
   "execution_count": 41,
   "id": "8c624642",
   "metadata": {},
   "outputs": [
    {
     "name": "stdout",
     "output_type": "stream",
     "text": [
      "odd\n",
      "even\n",
      "odd\n",
      "even\n",
      "odd\n",
      "even\n",
      "odd\n",
      "even\n"
     ]
    }
   ],
   "source": [
    "for x in a:\n",
    "    if(x%2==0):\n",
    "        print('even')\n",
    "    else:\n",
    "        print('odd')"
   ]
  },
  {
   "cell_type": "code",
   "execution_count": 42,
   "id": "612c8f46",
   "metadata": {},
   "outputs": [
    {
     "name": "stdout",
     "output_type": "stream",
     "text": [
      "[2, 4, 6, 8] [1, 3, 5, 7]\n"
     ]
    }
   ],
   "source": [
    "even=[]\n",
    "odd=[]\n",
    "for x in a:\n",
    "    if(x%2==0):\n",
    "        even.append(x)\n",
    "    else:\n",
    "        odd.append(x)\n",
    "print(even,odd)"
   ]
  },
  {
   "cell_type": "code",
   "execution_count": 43,
   "id": "a34dd980",
   "metadata": {},
   "outputs": [
    {
     "data": {
      "text/plain": [
       "[1, 2, 3, 4, 5, 6, 7, 8]"
      ]
     },
     "execution_count": 43,
     "metadata": {},
     "output_type": "execute_result"
    }
   ],
   "source": [
    "a"
   ]
  },
  {
   "cell_type": "code",
   "execution_count": 44,
   "id": "f316eaf7",
   "metadata": {},
   "outputs": [
    {
     "data": {
      "text/plain": [
       "[1, 2, 3, 4, 5, 6, 7, 8, 9]"
      ]
     },
     "execution_count": 44,
     "metadata": {},
     "output_type": "execute_result"
    }
   ],
   "source": [
    "a.append(9)\n",
    "a"
   ]
  },
  {
   "cell_type": "code",
   "execution_count": 45,
   "id": "5d61dbf0",
   "metadata": {},
   "outputs": [
    {
     "data": {
      "text/plain": [
       "[1, 2, 3, 4, 6, 7, 8, 9]"
      ]
     },
     "execution_count": 45,
     "metadata": {},
     "output_type": "execute_result"
    }
   ],
   "source": [
    "a.remove(5)\n",
    "a"
   ]
  },
  {
   "cell_type": "code",
   "execution_count": 49,
   "id": "326fc74a",
   "metadata": {},
   "outputs": [],
   "source": [
    "a=[1,2,3,4,5,20.5,'deepak']"
   ]
  },
  {
   "cell_type": "code",
   "execution_count": 50,
   "id": "d608be52",
   "metadata": {},
   "outputs": [
    {
     "name": "stdout",
     "output_type": "stream",
     "text": [
      "<class 'int'> <class 'float'> <class 'str'>\n"
     ]
    }
   ],
   "source": [
    "x=[]\n",
    "y=[]\n",
    "z=[]\n",
    "for i in a:\n",
    "    if i==int:\n",
    "        x.append(i)\n",
    "    elif i==float:\n",
    "        y.append(i)\n",
    "    else:\n",
    "        z.append(i)\n",
    "print(int,float,str)        \n",
    "        "
   ]
  },
  {
   "cell_type": "code",
   "execution_count": 96,
   "id": "cb4a9d49",
   "metadata": {},
   "outputs": [],
   "source": [
    "## creating the list using input functions"
   ]
  },
  {
   "cell_type": "code",
   "execution_count": 102,
   "id": "8f42076f",
   "metadata": {},
   "outputs": [
    {
     "name": "stdout",
     "output_type": "stream",
     "text": [
      "Enter the count10\n",
      "Enter the values2\n",
      "Enter the values2\n",
      "Enter the values2\n",
      "Enter the values2\n",
      "Enter the values2\n",
      "Enter the values2\n",
      "Enter the values2\n",
      "Enter the values2\n",
      "Enter the values2\n",
      "Enter the values2\n",
      "[2, 2, 2, 2, 2, 2, 2, 2, 2, 2]\n"
     ]
    }
   ],
   "source": [
    "x=[]\n",
    "a= int(input('Enter the count'))\n",
    "for i in range(0,a):\n",
    "    b= int(input('Enter the values'))\n",
    "    x.append(b)\n",
    "print(x)"
   ]
  },
  {
   "cell_type": "markdown",
   "id": "f66bb808",
   "metadata": {},
   "source": [
    "# Define Functions"
   ]
  },
  {
   "cell_type": "code",
   "execution_count": 103,
   "id": "0fcb5bc5",
   "metadata": {},
   "outputs": [],
   "source": [
    "def fun(a):\n",
    "    print(a*a)"
   ]
  },
  {
   "cell_type": "code",
   "execution_count": 106,
   "id": "b2cf6842",
   "metadata": {},
   "outputs": [
    {
     "data": {
      "text/plain": [
       "400"
      ]
     },
     "execution_count": 106,
     "metadata": {},
     "output_type": "execute_result"
    }
   ],
   "source": [
    "fun(20)"
   ]
  },
  {
   "cell_type": "code",
   "execution_count": 105,
   "id": "ea8381a6",
   "metadata": {},
   "outputs": [],
   "source": [
    "def fun(a):\n",
    "    return(a*a)"
   ]
  },
  {
   "cell_type": "code",
   "execution_count": 107,
   "id": "bb75eccc",
   "metadata": {},
   "outputs": [
    {
     "data": {
      "text/plain": [
       "100"
      ]
     },
     "execution_count": 107,
     "metadata": {},
     "output_type": "execute_result"
    }
   ],
   "source": [
    "fun(10)"
   ]
  },
  {
   "cell_type": "code",
   "execution_count": 108,
   "id": "324f4244",
   "metadata": {},
   "outputs": [],
   "source": [
    "def fun(a):\n",
    "    return a*a"
   ]
  },
  {
   "cell_type": "code",
   "execution_count": 109,
   "id": "8f9e6b9f",
   "metadata": {},
   "outputs": [
    {
     "data": {
      "text/plain": [
       "900"
      ]
     },
     "execution_count": 109,
     "metadata": {},
     "output_type": "execute_result"
    }
   ],
   "source": [
    "fun(30)"
   ]
  },
  {
   "cell_type": "code",
   "execution_count": 110,
   "id": "2c5afba6",
   "metadata": {},
   "outputs": [],
   "source": [
    "def mul(a):\n",
    "    return a*a"
   ]
  },
  {
   "cell_type": "code",
   "execution_count": 112,
   "id": "b7902340",
   "metadata": {},
   "outputs": [
    {
     "data": {
      "text/plain": [
       "4"
      ]
     },
     "execution_count": 112,
     "metadata": {},
     "output_type": "execute_result"
    }
   ],
   "source": [
    "mul(2)"
   ]
  },
  {
   "cell_type": "code",
   "execution_count": 113,
   "id": "afd7e358",
   "metadata": {},
   "outputs": [],
   "source": [
    "def div(x):\n",
    "    return x/2\n",
    "    "
   ]
  },
  {
   "cell_type": "code",
   "execution_count": 115,
   "id": "813112a3",
   "metadata": {},
   "outputs": [
    {
     "data": {
      "text/plain": [
       "2.5"
      ]
     },
     "execution_count": 115,
     "metadata": {},
     "output_type": "execute_result"
    }
   ],
   "source": [
    "div(5)"
   ]
  },
  {
   "cell_type": "code",
   "execution_count": 116,
   "id": "75fa4afa",
   "metadata": {},
   "outputs": [],
   "source": [
    "def mut(x,y):\n",
    "    return x+y"
   ]
  },
  {
   "cell_type": "code",
   "execution_count": 117,
   "id": "338f0620",
   "metadata": {},
   "outputs": [
    {
     "data": {
      "text/plain": [
       "50"
      ]
     },
     "execution_count": 117,
     "metadata": {},
     "output_type": "execute_result"
    }
   ],
   "source": [
    "mut(20,30)"
   ]
  },
  {
   "cell_type": "code",
   "execution_count": 171,
   "id": "399d973e",
   "metadata": {},
   "outputs": [],
   "source": [
    "a=[]\n",
    "even=[]\n",
    "odd=[]\n",
    "float1=[]\n",
    "def fun(a):\n",
    "    for i in a:\n",
    "        if i%2==0:\n",
    "            even.append(i)\n",
    "        elif i%2==1:\n",
    "            odd.append(i)\n",
    "        else:\n",
    "            float1.append(i)\n",
    "    print(even,odd,float1)     "
   ]
  },
  {
   "cell_type": "code",
   "execution_count": 173,
   "id": "5c3e03f6",
   "metadata": {},
   "outputs": [
    {
     "name": "stdout",
     "output_type": "stream",
     "text": [
      "[2, 4, 2, 4] [1, 3, 5, 1, 3, 5] [20.5]\n"
     ]
    }
   ],
   "source": [
    "fun([1,20.5,2,3,4,5])"
   ]
  },
  {
   "cell_type": "code",
   "execution_count": 2,
   "id": "d1d38cae",
   "metadata": {},
   "outputs": [],
   "source": [
    "# Filter function"
   ]
  },
  {
   "cell_type": "code",
   "execution_count": 3,
   "id": "37b17163",
   "metadata": {},
   "outputs": [],
   "source": [
    "def fun(x):\n",
    "    if x%2==0:\n",
    "        return True\n",
    "    else:\n",
    "        return False\n",
    "    "
   ]
  },
  {
   "cell_type": "code",
   "execution_count": 4,
   "id": "e70f2566",
   "metadata": {},
   "outputs": [
    {
     "data": {
      "text/plain": [
       "True"
      ]
     },
     "execution_count": 4,
     "metadata": {},
     "output_type": "execute_result"
    }
   ],
   "source": [
    "fun(2)"
   ]
  },
  {
   "cell_type": "code",
   "execution_count": 5,
   "id": "01c55658",
   "metadata": {},
   "outputs": [
    {
     "data": {
      "text/plain": [
       "False"
      ]
     },
     "execution_count": 5,
     "metadata": {},
     "output_type": "execute_result"
    }
   ],
   "source": [
    "fun(5)"
   ]
  },
  {
   "cell_type": "code",
   "execution_count": 6,
   "id": "00ff4a3a",
   "metadata": {},
   "outputs": [
    {
     "data": {
      "text/plain": [
       "22"
      ]
     },
     "execution_count": 6,
     "metadata": {},
     "output_type": "execute_result"
    }
   ],
   "source": [
    "round(22.5)"
   ]
  },
  {
   "cell_type": "code",
   "execution_count": 14,
   "id": "80b63db0",
   "metadata": {},
   "outputs": [
    {
     "name": "stdout",
     "output_type": "stream",
     "text": [
      "enter the first number56.6\n",
      "enter the second number75.6\n",
      "132\n"
     ]
    }
   ],
   "source": [
    "a=float(input('enter the first number'))\n",
    "b=float(input('enter the second number'))\n",
    "c=a+b\n",
    "print(round(c))"
   ]
  },
  {
   "cell_type": "code",
   "execution_count": 4,
   "id": "f1c7e75a",
   "metadata": {},
   "outputs": [
    {
     "name": "stdout",
     "output_type": "stream",
     "text": [
      "enter the first number44\n",
      "enter the second number55\n",
      "99.0\n"
     ]
    }
   ],
   "source": [
    "a=float(input('enter the first number'))\n",
    "b=float(input('enter the second number'))\n",
    "c=a+b\n",
    "print(round(c,2))"
   ]
  },
  {
   "cell_type": "code",
   "execution_count": 5,
   "id": "fc107c48",
   "metadata": {},
   "outputs": [],
   "source": [
    "a=[1,2,3,'a',4,'b','c','d']"
   ]
  },
  {
   "cell_type": "code",
   "execution_count": 84,
   "id": "25b1695e",
   "metadata": {},
   "outputs": [
    {
     "name": "stdout",
     "output_type": "stream",
     "text": [
      "[1, 2, 3, 4] ['a', 'b', 'c', 'd']\n"
     ]
    }
   ],
   "source": [
    "def filter1(x,y):\n",
    "    return [i for i in x if isinstance(i,y)]\n",
    "nums= filter1(a, int)\n",
    "strs= filter1(a, str)\n",
    "print(nums,strs) "
   ]
  },
  {
   "cell_type": "code",
   "execution_count": 85,
   "id": "ecf27b00",
   "metadata": {},
   "outputs": [
    {
     "data": {
      "text/plain": [
       "False"
      ]
     },
     "execution_count": 85,
     "metadata": {},
     "output_type": "execute_result"
    }
   ],
   "source": [
    "isinstance(a,tuple)"
   ]
  },
  {
   "cell_type": "markdown",
   "id": "456ff8fb",
   "metadata": {},
   "source": [
    "# Lamda "
   ]
  },
  {
   "cell_type": "code",
   "execution_count": 21,
   "id": "78dbd5ad",
   "metadata": {},
   "outputs": [],
   "source": [
    "fun= lambda x: x*x"
   ]
  },
  {
   "cell_type": "code",
   "execution_count": 22,
   "id": "5010b79e",
   "metadata": {},
   "outputs": [
    {
     "data": {
      "text/plain": [
       "36"
      ]
     },
     "execution_count": 22,
     "metadata": {},
     "output_type": "execute_result"
    }
   ],
   "source": [
    "fun(6)"
   ]
  },
  {
   "cell_type": "code",
   "execution_count": 23,
   "id": "ac5d3157",
   "metadata": {},
   "outputs": [
    {
     "data": {
      "text/plain": [
       "7"
      ]
     },
     "execution_count": 23,
     "metadata": {},
     "output_type": "execute_result"
    }
   ],
   "source": [
    "fun= lambda x,y: x+y\n",
    "fun(5,2)"
   ]
  },
  {
   "cell_type": "code",
   "execution_count": 29,
   "id": "92a48686",
   "metadata": {},
   "outputs": [],
   "source": [
    "fun=lambda x: 'even' if x%2==0 else 'odd'"
   ]
  },
  {
   "cell_type": "code",
   "execution_count": 30,
   "id": "299517ad",
   "metadata": {},
   "outputs": [
    {
     "data": {
      "text/plain": [
       "'even'"
      ]
     },
     "execution_count": 30,
     "metadata": {},
     "output_type": "execute_result"
    }
   ],
   "source": [
    "fun(2)"
   ]
  },
  {
   "cell_type": "code",
   "execution_count": 31,
   "id": "1801de04",
   "metadata": {},
   "outputs": [
    {
     "data": {
      "text/plain": [
       "'odd'"
      ]
     },
     "execution_count": 31,
     "metadata": {},
     "output_type": "execute_result"
    }
   ],
   "source": [
    "fun(5)"
   ]
  },
  {
   "cell_type": "code",
   "execution_count": 35,
   "id": "f580774d",
   "metadata": {},
   "outputs": [],
   "source": [
    "a=lambda x,y: True if x>y else False"
   ]
  },
  {
   "cell_type": "code",
   "execution_count": 36,
   "id": "f4d1de2f",
   "metadata": {},
   "outputs": [
    {
     "data": {
      "text/plain": [
       "True"
      ]
     },
     "execution_count": 36,
     "metadata": {},
     "output_type": "execute_result"
    }
   ],
   "source": [
    "a(5,4)"
   ]
  },
  {
   "cell_type": "code",
   "execution_count": 37,
   "id": "ed8038c1",
   "metadata": {},
   "outputs": [
    {
     "data": {
      "text/plain": [
       "False"
      ]
     },
     "execution_count": 37,
     "metadata": {},
     "output_type": "execute_result"
    }
   ],
   "source": [
    "a(2,6)"
   ]
  },
  {
   "cell_type": "code",
   "execution_count": 46,
   "id": "f325950c",
   "metadata": {},
   "outputs": [],
   "source": [
    "a=[1,2,3,4,5]"
   ]
  },
  {
   "cell_type": "code",
   "execution_count": 47,
   "id": "b8535934",
   "metadata": {},
   "outputs": [],
   "source": [
    "fun= lambda  x : ['even' if i%2==0 else 'odd' for i in a]"
   ]
  },
  {
   "cell_type": "code",
   "execution_count": 48,
   "id": "1495ca68",
   "metadata": {},
   "outputs": [
    {
     "data": {
      "text/plain": [
       "['odd', 'even', 'odd', 'even', 'odd']"
      ]
     },
     "execution_count": 48,
     "metadata": {},
     "output_type": "execute_result"
    }
   ],
   "source": [
    "fun(a)"
   ]
  },
  {
   "cell_type": "code",
   "execution_count": 73,
   "id": "73a2257f",
   "metadata": {},
   "outputs": [],
   "source": [
    "fun= lambda x: 1 if x==1 else fact(x-1)*x"
   ]
  },
  {
   "cell_type": "code",
   "execution_count": 74,
   "id": "b3ed7308",
   "metadata": {},
   "outputs": [
    {
     "data": {
      "text/plain": [
       "120"
      ]
     },
     "execution_count": 74,
     "metadata": {},
     "output_type": "execute_result"
    }
   ],
   "source": [
    "fun(5)"
   ]
  },
  {
   "cell_type": "markdown",
   "id": "13f5e365",
   "metadata": {},
   "source": [
    "# Mapping"
   ]
  },
  {
   "cell_type": "code",
   "execution_count": 6,
   "id": "4cd76888",
   "metadata": {},
   "outputs": [],
   "source": [
    "def fun(x):\n",
    "    return x+x"
   ]
  },
  {
   "cell_type": "code",
   "execution_count": 7,
   "id": "ac154345",
   "metadata": {},
   "outputs": [
    {
     "data": {
      "text/plain": [
       "40"
      ]
     },
     "execution_count": 7,
     "metadata": {},
     "output_type": "execute_result"
    }
   ],
   "source": [
    "fun(20)"
   ]
  },
  {
   "cell_type": "code",
   "execution_count": 8,
   "id": "7c1c7fae",
   "metadata": {},
   "outputs": [],
   "source": [
    "a=[1,2,3,4,5,6]"
   ]
  },
  {
   "cell_type": "code",
   "execution_count": 9,
   "id": "05bb3206",
   "metadata": {},
   "outputs": [
    {
     "data": {
      "text/plain": [
       "[2, 4, 6, 8, 10, 12]"
      ]
     },
     "execution_count": 9,
     "metadata": {},
     "output_type": "execute_result"
    }
   ],
   "source": [
    "list(map(fun,a))"
   ]
  },
  {
   "cell_type": "code",
   "execution_count": 97,
   "id": "7a1b006f",
   "metadata": {},
   "outputs": [],
   "source": [
    "a=[1,2,3,4,5,6]\n",
    "b=[4,5,6,7]"
   ]
  },
  {
   "cell_type": "code",
   "execution_count": 98,
   "id": "81c70073",
   "metadata": {},
   "outputs": [],
   "source": [
    "def fun(x,y):\n",
    "    return x+y"
   ]
  },
  {
   "cell_type": "code",
   "execution_count": 99,
   "id": "3586369e",
   "metadata": {},
   "outputs": [
    {
     "data": {
      "text/plain": [
       "[5, 7, 9, 11]"
      ]
     },
     "execution_count": 99,
     "metadata": {},
     "output_type": "execute_result"
    }
   ],
   "source": [
    "list(map(fun,a,b))"
   ]
  },
  {
   "cell_type": "code",
   "execution_count": 102,
   "id": "0aaa34f8",
   "metadata": {},
   "outputs": [
    {
     "data": {
      "text/plain": [
       "[1, 4, 9, 16, 25, 36]"
      ]
     },
     "execution_count": 102,
     "metadata": {},
     "output_type": "execute_result"
    }
   ],
   "source": [
    "list(map(lambda x: x*x,a))"
   ]
  },
  {
   "cell_type": "markdown",
   "id": "483e46da",
   "metadata": {},
   "source": [
    "# Numpy - One dimensional Array"
   ]
  },
  {
   "cell_type": "code",
   "execution_count": 44,
   "id": "3fcc1bfe",
   "metadata": {},
   "outputs": [],
   "source": [
    "import numpy as np"
   ]
  },
  {
   "cell_type": "code",
   "execution_count": 45,
   "id": "5c9bc152",
   "metadata": {},
   "outputs": [],
   "source": [
    "one_dim=np.array([1,2,3,4,5])"
   ]
  },
  {
   "cell_type": "code",
   "execution_count": 46,
   "id": "cddbcb74",
   "metadata": {},
   "outputs": [
    {
     "data": {
      "text/plain": [
       "numpy.ndarray"
      ]
     },
     "execution_count": 46,
     "metadata": {},
     "output_type": "execute_result"
    }
   ],
   "source": [
    "type(one_dim)"
   ]
  },
  {
   "cell_type": "code",
   "execution_count": 47,
   "id": "6eb283a7",
   "metadata": {},
   "outputs": [
    {
     "data": {
      "text/plain": [
       "(5,)"
      ]
     },
     "execution_count": 47,
     "metadata": {},
     "output_type": "execute_result"
    }
   ],
   "source": [
    "one_dim.shape"
   ]
  },
  {
   "cell_type": "code",
   "execution_count": 48,
   "id": "e2d3d505",
   "metadata": {},
   "outputs": [
    {
     "data": {
      "text/plain": [
       "1"
      ]
     },
     "execution_count": 48,
     "metadata": {},
     "output_type": "execute_result"
    }
   ],
   "source": [
    "one_dim.ndim"
   ]
  },
  {
   "cell_type": "code",
   "execution_count": 49,
   "id": "67dc6771",
   "metadata": {},
   "outputs": [
    {
     "data": {
      "text/plain": [
       "5"
      ]
     },
     "execution_count": 49,
     "metadata": {},
     "output_type": "execute_result"
    }
   ],
   "source": [
    "one_dim.size"
   ]
  },
  {
   "cell_type": "code",
   "execution_count": 50,
   "id": "1f49915d",
   "metadata": {},
   "outputs": [
    {
     "data": {
      "text/plain": [
       "5"
      ]
     },
     "execution_count": 50,
     "metadata": {},
     "output_type": "execute_result"
    }
   ],
   "source": [
    "one_dim[4]"
   ]
  },
  {
   "cell_type": "code",
   "execution_count": 51,
   "id": "c37d989b",
   "metadata": {},
   "outputs": [
    {
     "data": {
      "text/plain": [
       "array([1, 2, 3, 4, 5])"
      ]
     },
     "execution_count": 51,
     "metadata": {},
     "output_type": "execute_result"
    }
   ],
   "source": [
    "one_dim"
   ]
  },
  {
   "cell_type": "code",
   "execution_count": 52,
   "id": "308251a5",
   "metadata": {},
   "outputs": [
    {
     "data": {
      "text/plain": [
       "array([1, 2, 3])"
      ]
     },
     "execution_count": 52,
     "metadata": {},
     "output_type": "execute_result"
    }
   ],
   "source": [
    "one_dim[0:3]"
   ]
  },
  {
   "cell_type": "code",
   "execution_count": 53,
   "id": "14e80d59",
   "metadata": {},
   "outputs": [],
   "source": [
    "one_dim[1:2]=[100]"
   ]
  },
  {
   "cell_type": "code",
   "execution_count": 54,
   "id": "036cf79a",
   "metadata": {},
   "outputs": [
    {
     "data": {
      "text/plain": [
       "array([  1, 100,   3,   4,   5])"
      ]
     },
     "execution_count": 54,
     "metadata": {},
     "output_type": "execute_result"
    }
   ],
   "source": [
    "one_dim"
   ]
  },
  {
   "cell_type": "code",
   "execution_count": 55,
   "id": "bd116e9a",
   "metadata": {},
   "outputs": [
    {
     "data": {
      "text/plain": [
       "array([  1, 100,   3,   5])"
      ]
     },
     "execution_count": 55,
     "metadata": {},
     "output_type": "execute_result"
    }
   ],
   "source": [
    "np.delete(one_dim,3)"
   ]
  },
  {
   "cell_type": "code",
   "execution_count": 56,
   "id": "0c363e81",
   "metadata": {},
   "outputs": [
    {
     "data": {
      "text/plain": [
       "array([  1, 200, 100,   3,   4,   5])"
      ]
     },
     "execution_count": 56,
     "metadata": {},
     "output_type": "execute_result"
    }
   ],
   "source": [
    "np.insert(one_dim,1,200)"
   ]
  },
  {
   "cell_type": "code",
   "execution_count": 57,
   "id": "21c95ce4",
   "metadata": {},
   "outputs": [],
   "source": [
    "one_dim=np.arange(0,10)"
   ]
  },
  {
   "cell_type": "code",
   "execution_count": 58,
   "id": "28cea8ae",
   "metadata": {},
   "outputs": [
    {
     "data": {
      "text/plain": [
       "array([0, 1, 2, 3, 4, 5, 6, 7, 8, 9])"
      ]
     },
     "execution_count": 58,
     "metadata": {},
     "output_type": "execute_result"
    }
   ],
   "source": [
    "one_dim"
   ]
  },
  {
   "cell_type": "code",
   "execution_count": 59,
   "id": "d6e888d9",
   "metadata": {},
   "outputs": [],
   "source": [
    "one_dim=np.random.randint(0,10)"
   ]
  },
  {
   "cell_type": "code",
   "execution_count": 60,
   "id": "895bc54f",
   "metadata": {},
   "outputs": [
    {
     "data": {
      "text/plain": [
       "2"
      ]
     },
     "execution_count": 60,
     "metadata": {},
     "output_type": "execute_result"
    }
   ],
   "source": [
    "one_dim"
   ]
  },
  {
   "cell_type": "code",
   "execution_count": 61,
   "id": "fad41970",
   "metadata": {},
   "outputs": [],
   "source": [
    "one_dim=np.random.randint(0,10,10)"
   ]
  },
  {
   "cell_type": "code",
   "execution_count": 62,
   "id": "41cce5f6",
   "metadata": {},
   "outputs": [
    {
     "data": {
      "text/plain": [
       "array([8, 3, 1, 5, 2, 6, 2, 6, 2, 5])"
      ]
     },
     "execution_count": 62,
     "metadata": {},
     "output_type": "execute_result"
    }
   ],
   "source": [
    "one_dim"
   ]
  },
  {
   "cell_type": "code",
   "execution_count": 63,
   "id": "4696a06d",
   "metadata": {},
   "outputs": [],
   "source": [
    "one_dim=np.random.rand(15)"
   ]
  },
  {
   "cell_type": "code",
   "execution_count": 64,
   "id": "bc04ccde",
   "metadata": {},
   "outputs": [
    {
     "data": {
      "text/plain": [
       "array([0.44894451, 0.96519164, 0.84443732, 0.34998431, 0.48226651,\n",
       "       0.36486409, 0.50363736, 0.13695518, 0.3365148 , 0.87907806,\n",
       "       0.28496838, 0.89840346, 0.27705578, 0.43296615, 0.72999273])"
      ]
     },
     "execution_count": 64,
     "metadata": {},
     "output_type": "execute_result"
    }
   ],
   "source": [
    "one_dim"
   ]
  },
  {
   "cell_type": "markdown",
   "id": "2eeb9045",
   "metadata": {},
   "source": [
    "# Two Dimension Array"
   ]
  },
  {
   "cell_type": "code",
   "execution_count": 65,
   "id": "9523f6f5",
   "metadata": {},
   "outputs": [],
   "source": [
    "two_dim= np.array([[1,2,3],[4,5,6],[7,8,9]])"
   ]
  },
  {
   "cell_type": "code",
   "execution_count": 66,
   "id": "657e4335",
   "metadata": {},
   "outputs": [
    {
     "data": {
      "text/plain": [
       "array([[1, 2, 3],\n",
       "       [4, 5, 6],\n",
       "       [7, 8, 9]])"
      ]
     },
     "execution_count": 66,
     "metadata": {},
     "output_type": "execute_result"
    }
   ],
   "source": [
    "two_dim"
   ]
  },
  {
   "cell_type": "code",
   "execution_count": 67,
   "id": "f65ed60b",
   "metadata": {},
   "outputs": [
    {
     "data": {
      "text/plain": [
       "numpy.ndarray"
      ]
     },
     "execution_count": 67,
     "metadata": {},
     "output_type": "execute_result"
    }
   ],
   "source": [
    "type(two_dim)"
   ]
  },
  {
   "cell_type": "code",
   "execution_count": 68,
   "id": "d3587339",
   "metadata": {},
   "outputs": [
    {
     "data": {
      "text/plain": [
       "(3, 3)"
      ]
     },
     "execution_count": 68,
     "metadata": {},
     "output_type": "execute_result"
    }
   ],
   "source": [
    "two_dim.shape"
   ]
  },
  {
   "cell_type": "code",
   "execution_count": 69,
   "id": "74614383",
   "metadata": {},
   "outputs": [
    {
     "data": {
      "text/plain": [
       "9"
      ]
     },
     "execution_count": 69,
     "metadata": {},
     "output_type": "execute_result"
    }
   ],
   "source": [
    "two_dim.size"
   ]
  },
  {
   "cell_type": "code",
   "execution_count": 70,
   "id": "c3b3f512",
   "metadata": {},
   "outputs": [
    {
     "data": {
      "text/plain": [
       "2"
      ]
     },
     "execution_count": 70,
     "metadata": {},
     "output_type": "execute_result"
    }
   ],
   "source": [
    "two_dim.ndim"
   ]
  },
  {
   "cell_type": "code",
   "execution_count": 71,
   "id": "10d170ad",
   "metadata": {},
   "outputs": [
    {
     "data": {
      "text/plain": [
       "array([[1, 2, 3],\n",
       "       [4, 5, 6],\n",
       "       [7, 8, 9]])"
      ]
     },
     "execution_count": 71,
     "metadata": {},
     "output_type": "execute_result"
    }
   ],
   "source": [
    "two_dim"
   ]
  },
  {
   "cell_type": "code",
   "execution_count": 72,
   "id": "513ad5bd",
   "metadata": {},
   "outputs": [
    {
     "data": {
      "text/plain": [
       "9"
      ]
     },
     "execution_count": 72,
     "metadata": {},
     "output_type": "execute_result"
    }
   ],
   "source": [
    "two_dim[2,2]"
   ]
  },
  {
   "cell_type": "code",
   "execution_count": 73,
   "id": "7b6725b2",
   "metadata": {},
   "outputs": [
    {
     "data": {
      "text/plain": [
       "8"
      ]
     },
     "execution_count": 73,
     "metadata": {},
     "output_type": "execute_result"
    }
   ],
   "source": [
    "two_dim[2,1]"
   ]
  },
  {
   "cell_type": "code",
   "execution_count": 74,
   "id": "243e3189",
   "metadata": {},
   "outputs": [
    {
     "data": {
      "text/plain": [
       "array([[1, 2, 3],\n",
       "       [4, 5, 6]])"
      ]
     },
     "execution_count": 74,
     "metadata": {},
     "output_type": "execute_result"
    }
   ],
   "source": [
    "two_dim[0:2]"
   ]
  },
  {
   "cell_type": "code",
   "execution_count": 75,
   "id": "0f023a89",
   "metadata": {},
   "outputs": [
    {
     "data": {
      "text/plain": [
       "array([[1, 2],\n",
       "       [4, 5],\n",
       "       [7, 8]])"
      ]
     },
     "execution_count": 75,
     "metadata": {},
     "output_type": "execute_result"
    }
   ],
   "source": [
    "two_dim[:,0:2]"
   ]
  },
  {
   "cell_type": "code",
   "execution_count": 76,
   "id": "48b8ce1c",
   "metadata": {},
   "outputs": [
    {
     "data": {
      "text/plain": [
       "array([[1, 3],\n",
       "       [4, 6],\n",
       "       [7, 9]])"
      ]
     },
     "execution_count": 76,
     "metadata": {},
     "output_type": "execute_result"
    }
   ],
   "source": [
    "two_dim[:,[0,2]]"
   ]
  },
  {
   "cell_type": "code",
   "execution_count": 77,
   "id": "854a4937",
   "metadata": {},
   "outputs": [],
   "source": [
    "two_dim[0:3]=[10]"
   ]
  },
  {
   "cell_type": "code",
   "execution_count": 78,
   "id": "010849f4",
   "metadata": {},
   "outputs": [
    {
     "data": {
      "text/plain": [
       "array([[10, 10, 10],\n",
       "       [10, 10, 10],\n",
       "       [10, 10, 10]])"
      ]
     },
     "execution_count": 78,
     "metadata": {},
     "output_type": "execute_result"
    }
   ],
   "source": [
    "two_dim"
   ]
  },
  {
   "cell_type": "code",
   "execution_count": 79,
   "id": "b68eedc0",
   "metadata": {},
   "outputs": [],
   "source": [
    "two_dim[0]=[11]"
   ]
  },
  {
   "cell_type": "code",
   "execution_count": 80,
   "id": "55ee0c96",
   "metadata": {},
   "outputs": [
    {
     "data": {
      "text/plain": [
       "array([[11, 11, 11],\n",
       "       [10, 10, 10],\n",
       "       [10, 10, 10]])"
      ]
     },
     "execution_count": 80,
     "metadata": {},
     "output_type": "execute_result"
    }
   ],
   "source": [
    "two_dim"
   ]
  },
  {
   "cell_type": "code",
   "execution_count": 81,
   "id": "c9705cbc",
   "metadata": {},
   "outputs": [],
   "source": [
    "two_dim[:,1]=[10,20,30]"
   ]
  },
  {
   "cell_type": "code",
   "execution_count": 82,
   "id": "597643b0",
   "metadata": {},
   "outputs": [
    {
     "data": {
      "text/plain": [
       "array([[11, 10, 11],\n",
       "       [10, 20, 10],\n",
       "       [10, 30, 10]])"
      ]
     },
     "execution_count": 82,
     "metadata": {},
     "output_type": "execute_result"
    }
   ],
   "source": [
    "two_dim"
   ]
  },
  {
   "cell_type": "code",
   "execution_count": 83,
   "id": "84e48420",
   "metadata": {},
   "outputs": [],
   "source": [
    "two_dim= np.arange(0,12).reshape(3,4)"
   ]
  },
  {
   "cell_type": "code",
   "execution_count": 84,
   "id": "32adf98f",
   "metadata": {},
   "outputs": [
    {
     "data": {
      "text/plain": [
       "array([[ 0,  1,  2,  3],\n",
       "       [ 4,  5,  6,  7],\n",
       "       [ 8,  9, 10, 11]])"
      ]
     },
     "execution_count": 84,
     "metadata": {},
     "output_type": "execute_result"
    }
   ],
   "source": [
    "two_dim"
   ]
  },
  {
   "cell_type": "code",
   "execution_count": 85,
   "id": "077f2879",
   "metadata": {},
   "outputs": [],
   "source": [
    "two_dim= np.random.randint(0,20,9).reshape(3,3)"
   ]
  },
  {
   "cell_type": "code",
   "execution_count": 86,
   "id": "c4e33e5d",
   "metadata": {},
   "outputs": [
    {
     "data": {
      "text/plain": [
       "array([[15,  0, 13],\n",
       "       [ 0, 14,  9],\n",
       "       [ 4, 10,  1]])"
      ]
     },
     "execution_count": 86,
     "metadata": {},
     "output_type": "execute_result"
    }
   ],
   "source": [
    "two_dim"
   ]
  },
  {
   "cell_type": "code",
   "execution_count": 87,
   "id": "99b88f21",
   "metadata": {},
   "outputs": [],
   "source": [
    "two_dim= np.random.rand(12).reshape(3,4)"
   ]
  },
  {
   "cell_type": "code",
   "execution_count": 88,
   "id": "fc1301eb",
   "metadata": {},
   "outputs": [
    {
     "data": {
      "text/plain": [
       "array([[0.40519852, 0.27390585, 0.9891789 , 0.1117418 ],\n",
       "       [0.01577373, 0.57069561, 0.81635083, 0.06632528],\n",
       "       [0.19345016, 0.30449452, 0.13113108, 0.99723591]])"
      ]
     },
     "execution_count": 88,
     "metadata": {},
     "output_type": "execute_result"
    }
   ],
   "source": [
    "two_dim"
   ]
  },
  {
   "cell_type": "code",
   "execution_count": 89,
   "id": "a060c406",
   "metadata": {},
   "outputs": [],
   "source": [
    "# one dimension into two dimension"
   ]
  },
  {
   "cell_type": "code",
   "execution_count": 90,
   "id": "08cd5bf2",
   "metadata": {},
   "outputs": [
    {
     "data": {
      "text/plain": [
       "array([0.44894451, 0.96519164, 0.84443732, 0.34998431, 0.48226651,\n",
       "       0.36486409, 0.50363736, 0.13695518, 0.3365148 , 0.87907806,\n",
       "       0.28496838, 0.89840346, 0.27705578, 0.43296615, 0.72999273])"
      ]
     },
     "execution_count": 90,
     "metadata": {},
     "output_type": "execute_result"
    }
   ],
   "source": [
    "one_dim"
   ]
  },
  {
   "cell_type": "code",
   "execution_count": 91,
   "id": "0fe50591",
   "metadata": {},
   "outputs": [],
   "source": [
    "two_dim=one_dim.reshape(3,5, order='c')"
   ]
  },
  {
   "cell_type": "code",
   "execution_count": 92,
   "id": "642706a4",
   "metadata": {},
   "outputs": [
    {
     "data": {
      "text/plain": [
       "array([[0.44894451, 0.96519164, 0.84443732, 0.34998431, 0.48226651],\n",
       "       [0.36486409, 0.50363736, 0.13695518, 0.3365148 , 0.87907806],\n",
       "       [0.28496838, 0.89840346, 0.27705578, 0.43296615, 0.72999273]])"
      ]
     },
     "execution_count": 92,
     "metadata": {},
     "output_type": "execute_result"
    }
   ],
   "source": [
    "two_dim"
   ]
  },
  {
   "cell_type": "code",
   "execution_count": 93,
   "id": "348dbaa7",
   "metadata": {},
   "outputs": [],
   "source": [
    "# Two dimension into one dimension"
   ]
  },
  {
   "cell_type": "code",
   "execution_count": 94,
   "id": "8bb91559",
   "metadata": {},
   "outputs": [
    {
     "data": {
      "text/plain": [
       "array([[0.44894451, 0.96519164, 0.84443732, 0.34998431, 0.48226651],\n",
       "       [0.36486409, 0.50363736, 0.13695518, 0.3365148 , 0.87907806],\n",
       "       [0.28496838, 0.89840346, 0.27705578, 0.43296615, 0.72999273]])"
      ]
     },
     "execution_count": 94,
     "metadata": {},
     "output_type": "execute_result"
    }
   ],
   "source": [
    "two_dim"
   ]
  },
  {
   "cell_type": "code",
   "execution_count": 95,
   "id": "0acb6b62",
   "metadata": {},
   "outputs": [],
   "source": [
    "one_dim=two_dim.reshape(-1, order='f')"
   ]
  },
  {
   "cell_type": "code",
   "execution_count": 96,
   "id": "deff48af",
   "metadata": {},
   "outputs": [
    {
     "data": {
      "text/plain": [
       "array([0.44894451, 0.36486409, 0.28496838, 0.96519164, 0.50363736,\n",
       "       0.89840346, 0.84443732, 0.13695518, 0.27705578, 0.34998431,\n",
       "       0.3365148 , 0.43296615, 0.48226651, 0.87907806, 0.72999273])"
      ]
     },
     "execution_count": 96,
     "metadata": {},
     "output_type": "execute_result"
    }
   ],
   "source": [
    "one_dim"
   ]
  },
  {
   "cell_type": "code",
   "execution_count": 97,
   "id": "a0b121b1",
   "metadata": {},
   "outputs": [
    {
     "data": {
      "text/plain": [
       "array([[0.44894451, 0.96519164, 0.84443732, 0.34998431, 0.48226651],\n",
       "       [0.36486409, 0.50363736, 0.13695518, 0.3365148 , 0.87907806],\n",
       "       [0.28496838, 0.89840346, 0.27705578, 0.43296615, 0.72999273]])"
      ]
     },
     "execution_count": 97,
     "metadata": {},
     "output_type": "execute_result"
    }
   ],
   "source": [
    "two_dim"
   ]
  },
  {
   "cell_type": "code",
   "execution_count": 98,
   "id": "dc25bd8f",
   "metadata": {},
   "outputs": [],
   "source": [
    "one_dim=np.ravel(two_dim, order='f')"
   ]
  },
  {
   "cell_type": "code",
   "execution_count": 99,
   "id": "2c236db2",
   "metadata": {},
   "outputs": [
    {
     "data": {
      "text/plain": [
       "array([0.44894451, 0.36486409, 0.28496838, 0.96519164, 0.50363736,\n",
       "       0.89840346, 0.84443732, 0.13695518, 0.27705578, 0.34998431,\n",
       "       0.3365148 , 0.43296615, 0.48226651, 0.87907806, 0.72999273])"
      ]
     },
     "execution_count": 99,
     "metadata": {},
     "output_type": "execute_result"
    }
   ],
   "source": [
    "one_dim"
   ]
  },
  {
   "cell_type": "markdown",
   "id": "89361138",
   "metadata": {},
   "source": [
    "# Three dimension array"
   ]
  },
  {
   "cell_type": "code",
   "execution_count": 100,
   "id": "8526b54f",
   "metadata": {},
   "outputs": [],
   "source": [
    "# Block,rows,columns"
   ]
  },
  {
   "cell_type": "code",
   "execution_count": 101,
   "id": "55936674",
   "metadata": {},
   "outputs": [],
   "source": [
    "three_dim=np.array([[[1,2,3],[4,5,6]],[[7,8,9],[0,11,12]]])"
   ]
  },
  {
   "cell_type": "code",
   "execution_count": 102,
   "id": "2c37aca5",
   "metadata": {},
   "outputs": [
    {
     "data": {
      "text/plain": [
       "array([[[ 1,  2,  3],\n",
       "        [ 4,  5,  6]],\n",
       "\n",
       "       [[ 7,  8,  9],\n",
       "        [ 0, 11, 12]]])"
      ]
     },
     "execution_count": 102,
     "metadata": {},
     "output_type": "execute_result"
    }
   ],
   "source": [
    "three_dim"
   ]
  },
  {
   "cell_type": "code",
   "execution_count": 103,
   "id": "7e3b4e1e",
   "metadata": {},
   "outputs": [
    {
     "data": {
      "text/plain": [
       "3"
      ]
     },
     "execution_count": 103,
     "metadata": {},
     "output_type": "execute_result"
    }
   ],
   "source": [
    "three_dim.ndim"
   ]
  },
  {
   "cell_type": "code",
   "execution_count": 104,
   "id": "e5d01d5f",
   "metadata": {},
   "outputs": [
    {
     "data": {
      "text/plain": [
       "(2, 2, 3)"
      ]
     },
     "execution_count": 104,
     "metadata": {},
     "output_type": "execute_result"
    }
   ],
   "source": [
    "three_dim.shape"
   ]
  },
  {
   "cell_type": "code",
   "execution_count": 105,
   "id": "d71eaf20",
   "metadata": {},
   "outputs": [
    {
     "data": {
      "text/plain": [
       "12"
      ]
     },
     "execution_count": 105,
     "metadata": {},
     "output_type": "execute_result"
    }
   ],
   "source": [
    "three_dim.size"
   ]
  },
  {
   "cell_type": "code",
   "execution_count": 106,
   "id": "f32dcd11",
   "metadata": {},
   "outputs": [
    {
     "data": {
      "text/plain": [
       "6"
      ]
     },
     "execution_count": 106,
     "metadata": {},
     "output_type": "execute_result"
    }
   ],
   "source": [
    "three_dim[0,1,2]"
   ]
  },
  {
   "cell_type": "code",
   "execution_count": 107,
   "id": "4fd46723",
   "metadata": {},
   "outputs": [
    {
     "data": {
      "text/plain": [
       "7"
      ]
     },
     "execution_count": 107,
     "metadata": {},
     "output_type": "execute_result"
    }
   ],
   "source": [
    "three_dim[1,0,0]"
   ]
  },
  {
   "cell_type": "code",
   "execution_count": 108,
   "id": "c182d701",
   "metadata": {},
   "outputs": [
    {
     "data": {
      "text/plain": [
       "array([[[ 1,  2,  3],\n",
       "        [ 4,  5,  6]],\n",
       "\n",
       "       [[ 7,  8,  9],\n",
       "        [ 0, 11, 12]]])"
      ]
     },
     "execution_count": 108,
     "metadata": {},
     "output_type": "execute_result"
    }
   ],
   "source": [
    "three_dim"
   ]
  },
  {
   "cell_type": "code",
   "execution_count": 109,
   "id": "967359a1",
   "metadata": {},
   "outputs": [
    {
     "data": {
      "text/plain": [
       "array([1, 2, 3])"
      ]
     },
     "execution_count": 109,
     "metadata": {},
     "output_type": "execute_result"
    }
   ],
   "source": [
    "three_dim[0,0]"
   ]
  },
  {
   "cell_type": "code",
   "execution_count": 110,
   "id": "7d11446f",
   "metadata": {},
   "outputs": [
    {
     "data": {
      "text/plain": [
       "1"
      ]
     },
     "execution_count": 110,
     "metadata": {},
     "output_type": "execute_result"
    }
   ],
   "source": [
    "three_dim[0,0,0]"
   ]
  },
  {
   "cell_type": "code",
   "execution_count": 111,
   "id": "e4d95e60",
   "metadata": {},
   "outputs": [
    {
     "data": {
      "text/plain": [
       "array([[[ 7,  8,  9],\n",
       "        [ 0, 11, 12]],\n",
       "\n",
       "       [[ 1,  2,  3],\n",
       "        [ 4,  5,  6]]])"
      ]
     },
     "execution_count": 111,
     "metadata": {},
     "output_type": "execute_result"
    }
   ],
   "source": [
    "three_dim[[1,0]]"
   ]
  },
  {
   "cell_type": "code",
   "execution_count": 112,
   "id": "80b298b1",
   "metadata": {},
   "outputs": [
    {
     "data": {
      "text/plain": [
       "array([[1, 2, 3],\n",
       "       [7, 8, 9]])"
      ]
     },
     "execution_count": 112,
     "metadata": {},
     "output_type": "execute_result"
    }
   ],
   "source": [
    "three_dim[[0,1],0]\n",
    " "
   ]
  },
  {
   "cell_type": "code",
   "execution_count": 113,
   "id": "22e1542e",
   "metadata": {},
   "outputs": [
    {
     "data": {
      "text/plain": [
       "array([3, 9])"
      ]
     },
     "execution_count": 113,
     "metadata": {},
     "output_type": "execute_result"
    }
   ],
   "source": [
    "three_dim[[0,1],0,2]"
   ]
  },
  {
   "cell_type": "code",
   "execution_count": 114,
   "id": "c8e6e489",
   "metadata": {},
   "outputs": [
    {
     "data": {
      "text/plain": [
       "array([[ 2,  5],\n",
       "       [ 8, 11]])"
      ]
     },
     "execution_count": 114,
     "metadata": {},
     "output_type": "execute_result"
    }
   ],
   "source": [
    "three_dim[[0,1],:,1]"
   ]
  },
  {
   "cell_type": "code",
   "execution_count": 115,
   "id": "b02b5863",
   "metadata": {},
   "outputs": [
    {
     "data": {
      "text/plain": [
       "array([[[ 1,  2,  3],\n",
       "        [ 4,  5,  6]],\n",
       "\n",
       "       [[ 7,  8,  9],\n",
       "        [ 0, 11, 12]]])"
      ]
     },
     "execution_count": 115,
     "metadata": {},
     "output_type": "execute_result"
    }
   ],
   "source": [
    "three_dim"
   ]
  },
  {
   "cell_type": "code",
   "execution_count": 116,
   "id": "fb345833",
   "metadata": {},
   "outputs": [
    {
     "data": {
      "text/plain": [
       "array([[[ 7,  8,  9],\n",
       "        [ 0, 11, 12]]])"
      ]
     },
     "execution_count": 116,
     "metadata": {},
     "output_type": "execute_result"
    }
   ],
   "source": [
    "np.delete(three_dim,0,axis=0)"
   ]
  },
  {
   "cell_type": "code",
   "execution_count": 117,
   "id": "e6bd1226",
   "metadata": {},
   "outputs": [
    {
     "data": {
      "text/plain": [
       "array([[[1, 2, 3],\n",
       "        [4, 5, 6]]])"
      ]
     },
     "execution_count": 117,
     "metadata": {},
     "output_type": "execute_result"
    }
   ],
   "source": [
    "np.delete(three_dim,1,axis=0)"
   ]
  },
  {
   "cell_type": "code",
   "execution_count": 118,
   "id": "89b0ace1",
   "metadata": {},
   "outputs": [
    {
     "data": {
      "text/plain": [
       "array([[[ 4,  5,  6]],\n",
       "\n",
       "       [[ 0, 11, 12]]])"
      ]
     },
     "execution_count": 118,
     "metadata": {},
     "output_type": "execute_result"
    }
   ],
   "source": [
    "np.delete(three_dim,0,axis=1)"
   ]
  },
  {
   "cell_type": "code",
   "execution_count": 119,
   "id": "ef8615df",
   "metadata": {},
   "outputs": [
    {
     "data": {
      "text/plain": [
       "array([[[1, 2, 3]],\n",
       "\n",
       "       [[7, 8, 9]]])"
      ]
     },
     "execution_count": 119,
     "metadata": {},
     "output_type": "execute_result"
    }
   ],
   "source": [
    "np.delete(three_dim,1,axis=1)"
   ]
  },
  {
   "cell_type": "code",
   "execution_count": 120,
   "id": "7a78f285",
   "metadata": {},
   "outputs": [
    {
     "data": {
      "text/plain": [
       "array([[[ 1,  2,  3],\n",
       "        [ 4,  5,  6]],\n",
       "\n",
       "       [[ 7,  8,  9],\n",
       "        [ 0, 11, 12]]])"
      ]
     },
     "execution_count": 120,
     "metadata": {},
     "output_type": "execute_result"
    }
   ],
   "source": [
    "three_dim"
   ]
  },
  {
   "cell_type": "code",
   "execution_count": 121,
   "id": "f8065b95",
   "metadata": {},
   "outputs": [
    {
     "data": {
      "text/plain": [
       "array([[[ 2,  3],\n",
       "        [ 5,  6]],\n",
       "\n",
       "       [[ 8,  9],\n",
       "        [11, 12]]])"
      ]
     },
     "execution_count": 121,
     "metadata": {},
     "output_type": "execute_result"
    }
   ],
   "source": [
    "np.delete(three_dim,0,axis=2)"
   ]
  },
  {
   "cell_type": "code",
   "execution_count": 122,
   "id": "0bf2ca46",
   "metadata": {},
   "outputs": [
    {
     "data": {
      "text/plain": [
       "array([[[ 1,  3],\n",
       "        [ 4,  6]],\n",
       "\n",
       "       [[ 7,  9],\n",
       "        [ 0, 12]]])"
      ]
     },
     "execution_count": 122,
     "metadata": {},
     "output_type": "execute_result"
    }
   ],
   "source": [
    "np.delete(three_dim,1,axis=2)"
   ]
  },
  {
   "cell_type": "markdown",
   "id": "1688bae8",
   "metadata": {},
   "source": [
    "# Arithmetic operation with Matrix"
   ]
  },
  {
   "cell_type": "code",
   "execution_count": 123,
   "id": "9645d248",
   "metadata": {},
   "outputs": [],
   "source": [
    "a=np.random.randint(0,10,8).reshape(4,2)"
   ]
  },
  {
   "cell_type": "code",
   "execution_count": 124,
   "id": "36de4261",
   "metadata": {},
   "outputs": [
    {
     "data": {
      "text/plain": [
       "array([[6, 3],\n",
       "       [1, 2],\n",
       "       [5, 7],\n",
       "       [0, 9]])"
      ]
     },
     "execution_count": 124,
     "metadata": {},
     "output_type": "execute_result"
    }
   ],
   "source": [
    "a"
   ]
  },
  {
   "cell_type": "code",
   "execution_count": 143,
   "id": "83191380",
   "metadata": {},
   "outputs": [],
   "source": [
    "b=np.random.randint(0,10,12).reshape(3,4)"
   ]
  },
  {
   "cell_type": "code",
   "execution_count": 144,
   "id": "0fa14926",
   "metadata": {},
   "outputs": [
    {
     "data": {
      "text/plain": [
       "array([[6, 3, 3, 3],\n",
       "       [8, 2, 3, 5],\n",
       "       [3, 8, 1, 1]])"
      ]
     },
     "execution_count": 144,
     "metadata": {},
     "output_type": "execute_result"
    }
   ],
   "source": [
    "b"
   ]
  },
  {
   "cell_type": "code",
   "execution_count": 145,
   "id": "f0616041",
   "metadata": {},
   "outputs": [
    {
     "ename": "ValueError",
     "evalue": "operands could not be broadcast together with shapes (4,2) (3,4) ",
     "output_type": "error",
     "traceback": [
      "\u001b[1;31m---------------------------------------------------------------------------\u001b[0m",
      "\u001b[1;31mValueError\u001b[0m                                Traceback (most recent call last)",
      "Cell \u001b[1;32mIn[145], line 1\u001b[0m\n\u001b[1;32m----> 1\u001b[0m a\u001b[38;5;241m+\u001b[39mb\n",
      "\u001b[1;31mValueError\u001b[0m: operands could not be broadcast together with shapes (4,2) (3,4) "
     ]
    }
   ],
   "source": [
    "a+b"
   ]
  },
  {
   "cell_type": "code",
   "execution_count": 141,
   "id": "7451d6b3",
   "metadata": {},
   "outputs": [
    {
     "ename": "ValueError",
     "evalue": "operands could not be broadcast together with shapes (4,2) (3,4) ",
     "output_type": "error",
     "traceback": [
      "\u001b[1;31m---------------------------------------------------------------------------\u001b[0m",
      "\u001b[1;31mValueError\u001b[0m                                Traceback (most recent call last)",
      "Cell \u001b[1;32mIn[141], line 1\u001b[0m\n\u001b[1;32m----> 1\u001b[0m a\u001b[38;5;241m-\u001b[39mb\n",
      "\u001b[1;31mValueError\u001b[0m: operands could not be broadcast together with shapes (4,2) (3,4) "
     ]
    }
   ],
   "source": [
    "a-b"
   ]
  },
  {
   "cell_type": "code",
   "execution_count": 142,
   "id": "bb9b8db6",
   "metadata": {},
   "outputs": [
    {
     "ename": "ValueError",
     "evalue": "operands could not be broadcast together with shapes (4,2) (3,4) ",
     "output_type": "error",
     "traceback": [
      "\u001b[1;31m---------------------------------------------------------------------------\u001b[0m",
      "\u001b[1;31mValueError\u001b[0m                                Traceback (most recent call last)",
      "Cell \u001b[1;32mIn[142], line 1\u001b[0m\n\u001b[1;32m----> 1\u001b[0m a\u001b[38;5;241m*\u001b[39mb\n",
      "\u001b[1;31mValueError\u001b[0m: operands could not be broadcast together with shapes (4,2) (3,4) "
     ]
    }
   ],
   "source": [
    "a*b"
   ]
  },
  {
   "cell_type": "code",
   "execution_count": 130,
   "id": "1b170ecc",
   "metadata": {},
   "outputs": [
    {
     "ename": "ValueError",
     "evalue": "operands could not be broadcast together with shapes (4,2) (3,4) ",
     "output_type": "error",
     "traceback": [
      "\u001b[1;31m---------------------------------------------------------------------------\u001b[0m",
      "\u001b[1;31mValueError\u001b[0m                                Traceback (most recent call last)",
      "Cell \u001b[1;32mIn[130], line 1\u001b[0m\n\u001b[1;32m----> 1\u001b[0m a\u001b[38;5;241m/\u001b[39mb\n",
      "\u001b[1;31mValueError\u001b[0m: operands could not be broadcast together with shapes (4,2) (3,4) "
     ]
    }
   ],
   "source": [
    "a/b"
   ]
  },
  {
   "cell_type": "code",
   "execution_count": 131,
   "id": "9810d873",
   "metadata": {},
   "outputs": [
    {
     "data": {
      "text/plain": [
       "array([[6, 3],\n",
       "       [1, 2],\n",
       "       [5, 7],\n",
       "       [0, 9]])"
      ]
     },
     "execution_count": 131,
     "metadata": {},
     "output_type": "execute_result"
    }
   ],
   "source": [
    "a"
   ]
  },
  {
   "cell_type": "code",
   "execution_count": 132,
   "id": "d5aec8a2",
   "metadata": {},
   "outputs": [
    {
     "data": {
      "text/plain": [
       "array([[6, 1, 5, 0],\n",
       "       [3, 2, 7, 9]])"
      ]
     },
     "execution_count": 132,
     "metadata": {},
     "output_type": "execute_result"
    }
   ],
   "source": [
    "a.transpose()"
   ]
  },
  {
   "cell_type": "code",
   "execution_count": 133,
   "id": "be5f3b1b",
   "metadata": {},
   "outputs": [
    {
     "data": {
      "text/plain": [
       "array([[1, 5, 5, 5],\n",
       "       [5, 2, 4, 6],\n",
       "       [1, 9, 1, 6]])"
      ]
     },
     "execution_count": 133,
     "metadata": {},
     "output_type": "execute_result"
    }
   ],
   "source": [
    "b"
   ]
  },
  {
   "cell_type": "code",
   "execution_count": 134,
   "id": "5153e770",
   "metadata": {},
   "outputs": [
    {
     "data": {
      "text/plain": [
       "array([[1, 5, 1],\n",
       "       [5, 2, 9],\n",
       "       [5, 4, 1],\n",
       "       [5, 6, 6]])"
      ]
     },
     "execution_count": 134,
     "metadata": {},
     "output_type": "execute_result"
    }
   ],
   "source": [
    "np.transpose(b)"
   ]
  },
  {
   "cell_type": "code",
   "execution_count": 306,
   "id": "17bf944c",
   "metadata": {},
   "outputs": [
    {
     "data": {
      "text/plain": [
       "4.5"
      ]
     },
     "execution_count": 306,
     "metadata": {},
     "output_type": "execute_result"
    }
   ],
   "source": [
    "a.mean()"
   ]
  },
  {
   "cell_type": "code",
   "execution_count": 307,
   "id": "dfcf280b",
   "metadata": {},
   "outputs": [
    {
     "data": {
      "text/plain": [
       "4.5"
      ]
     },
     "execution_count": 307,
     "metadata": {},
     "output_type": "execute_result"
    }
   ],
   "source": [
    "np.mean(a)"
   ]
  },
  {
   "cell_type": "code",
   "execution_count": 308,
   "id": "25b45d47",
   "metadata": {},
   "outputs": [
    {
     "data": {
      "text/plain": [
       "0.9497303461436034"
      ]
     },
     "execution_count": 308,
     "metadata": {},
     "output_type": "execute_result"
    }
   ],
   "source": [
    "np.max(two_dim)"
   ]
  },
  {
   "cell_type": "code",
   "execution_count": 309,
   "id": "db15e359",
   "metadata": {},
   "outputs": [
    {
     "data": {
      "text/plain": [
       "9"
      ]
     },
     "execution_count": 309,
     "metadata": {},
     "output_type": "execute_result"
    }
   ],
   "source": [
    "a.max()"
   ]
  },
  {
   "cell_type": "code",
   "execution_count": 310,
   "id": "b096b1a8",
   "metadata": {},
   "outputs": [
    {
     "data": {
      "text/plain": [
       "9"
      ]
     },
     "execution_count": 310,
     "metadata": {},
     "output_type": "execute_result"
    }
   ],
   "source": [
    "np.max(a)"
   ]
  },
  {
   "cell_type": "code",
   "execution_count": 311,
   "id": "698b5a85",
   "metadata": {},
   "outputs": [
    {
     "data": {
      "text/plain": [
       "0"
      ]
     },
     "execution_count": 311,
     "metadata": {},
     "output_type": "execute_result"
    }
   ],
   "source": [
    "a.min()"
   ]
  },
  {
   "cell_type": "code",
   "execution_count": 312,
   "id": "4db42322",
   "metadata": {},
   "outputs": [
    {
     "data": {
      "text/plain": [
       "0"
      ]
     },
     "execution_count": 312,
     "metadata": {},
     "output_type": "execute_result"
    }
   ],
   "source": [
    "np.min(a)"
   ]
  },
  {
   "cell_type": "code",
   "execution_count": 313,
   "id": "440d806c",
   "metadata": {},
   "outputs": [
    {
     "data": {
      "text/plain": [
       "54"
      ]
     },
     "execution_count": 313,
     "metadata": {},
     "output_type": "execute_result"
    }
   ],
   "source": [
    "a.sum()"
   ]
  },
  {
   "cell_type": "code",
   "execution_count": 314,
   "id": "eee60cb3",
   "metadata": {},
   "outputs": [
    {
     "data": {
      "text/plain": [
       "54"
      ]
     },
     "execution_count": 314,
     "metadata": {},
     "output_type": "execute_result"
    }
   ],
   "source": [
    "np.sum(a)"
   ]
  },
  {
   "cell_type": "code",
   "execution_count": 315,
   "id": "f08be9bd",
   "metadata": {},
   "outputs": [
    {
     "data": {
      "text/plain": [
       "2.753785273643051"
      ]
     },
     "execution_count": 315,
     "metadata": {},
     "output_type": "execute_result"
    }
   ],
   "source": [
    "a.std()"
   ]
  },
  {
   "cell_type": "code",
   "execution_count": 316,
   "id": "4e0936f2",
   "metadata": {},
   "outputs": [
    {
     "data": {
      "text/plain": [
       "2.753785273643051"
      ]
     },
     "execution_count": 316,
     "metadata": {},
     "output_type": "execute_result"
    }
   ],
   "source": [
    "np.std(a)"
   ]
  },
  {
   "cell_type": "code",
   "execution_count": 324,
   "id": "736f73b6",
   "metadata": {},
   "outputs": [
    {
     "data": {
      "text/plain": [
       "array([[1., 0., 0., 0., 0., 0., 0.],\n",
       "       [0., 1., 0., 0., 0., 0., 0.],\n",
       "       [0., 0., 1., 0., 0., 0., 0.],\n",
       "       [0., 0., 0., 1., 0., 0., 0.],\n",
       "       [0., 0., 0., 0., 1., 0., 0.],\n",
       "       [0., 0., 0., 0., 0., 1., 0.],\n",
       "       [0., 0., 0., 0., 0., 0., 1.]])"
      ]
     },
     "execution_count": 324,
     "metadata": {},
     "output_type": "execute_result"
    }
   ],
   "source": [
    "np.identity(7)"
   ]
  },
  {
   "cell_type": "code",
   "execution_count": 331,
   "id": "d255564a",
   "metadata": {},
   "outputs": [
    {
     "data": {
      "text/plain": [
       "array([[1., 1., 1.],\n",
       "       [1., 1., 1.],\n",
       "       [1., 1., 1.]])"
      ]
     },
     "execution_count": 331,
     "metadata": {},
     "output_type": "execute_result"
    }
   ],
   "source": [
    "np.ones(shape=(3,3))"
   ]
  },
  {
   "cell_type": "code",
   "execution_count": 332,
   "id": "91365b5d",
   "metadata": {},
   "outputs": [
    {
     "data": {
      "text/plain": [
       "array([[1., 1., 1.],\n",
       "       [1., 1., 1.],\n",
       "       [1., 1., 1.],\n",
       "       [1., 1., 1.]])"
      ]
     },
     "execution_count": 332,
     "metadata": {},
     "output_type": "execute_result"
    }
   ],
   "source": [
    "np.ones(shape=(4,3))"
   ]
  },
  {
   "cell_type": "code",
   "execution_count": 333,
   "id": "42f28c13",
   "metadata": {},
   "outputs": [
    {
     "data": {
      "text/plain": [
       "array([[1., 1., 1., 1., 1., 1.],\n",
       "       [1., 1., 1., 1., 1., 1.]])"
      ]
     },
     "execution_count": 333,
     "metadata": {},
     "output_type": "execute_result"
    }
   ],
   "source": [
    "np.ones(shape=(2,6))"
   ]
  },
  {
   "cell_type": "code",
   "execution_count": 334,
   "id": "8d1d3874",
   "metadata": {},
   "outputs": [
    {
     "data": {
      "text/plain": [
       "array([[0., 0.],\n",
       "       [0., 0.]])"
      ]
     },
     "execution_count": 334,
     "metadata": {},
     "output_type": "execute_result"
    }
   ],
   "source": [
    "np.zeros(shape=(2,2))"
   ]
  },
  {
   "cell_type": "code",
   "execution_count": 335,
   "id": "fbda0df3",
   "metadata": {},
   "outputs": [
    {
     "data": {
      "text/plain": [
       "array([[0., 0.],\n",
       "       [0., 0.],\n",
       "       [0., 0.],\n",
       "       [0., 0.]])"
      ]
     },
     "execution_count": 335,
     "metadata": {},
     "output_type": "execute_result"
    }
   ],
   "source": [
    "np.zeros(shape=(4,2))"
   ]
  },
  {
   "cell_type": "code",
   "execution_count": 336,
   "id": "dfc0ce84",
   "metadata": {},
   "outputs": [
    {
     "data": {
      "text/plain": [
       "array([[0., 0., 0., 0., 0., 0., 0., 0.],\n",
       "       [0., 0., 0., 0., 0., 0., 0., 0.],\n",
       "       [0., 0., 0., 0., 0., 0., 0., 0.],\n",
       "       [0., 0., 0., 0., 0., 0., 0., 0.]])"
      ]
     },
     "execution_count": 336,
     "metadata": {},
     "output_type": "execute_result"
    }
   ],
   "source": [
    "np.zeros(shape=(4,8))"
   ]
  },
  {
   "cell_type": "code",
   "execution_count": 341,
   "id": "19fc16c8",
   "metadata": {},
   "outputs": [
    {
     "data": {
      "text/plain": [
       "array([[7, 5, 0, 8],\n",
       "       [7, 4, 4, 4],\n",
       "       [3, 3, 0, 9]])"
      ]
     },
     "execution_count": 341,
     "metadata": {},
     "output_type": "execute_result"
    }
   ],
   "source": [
    "a"
   ]
  },
  {
   "cell_type": "code",
   "execution_count": 342,
   "id": "e537e531",
   "metadata": {},
   "outputs": [
    {
     "data": {
      "text/plain": [
       "array([5.66666667, 4.        , 1.33333333, 7.        ])"
      ]
     },
     "execution_count": 342,
     "metadata": {},
     "output_type": "execute_result"
    }
   ],
   "source": [
    "a.mean(axis=0)"
   ]
  },
  {
   "cell_type": "code",
   "execution_count": 343,
   "id": "67fc5779",
   "metadata": {},
   "outputs": [
    {
     "data": {
      "text/plain": [
       "array([5.  , 4.75, 3.75])"
      ]
     },
     "execution_count": 343,
     "metadata": {},
     "output_type": "execute_result"
    }
   ],
   "source": [
    "a.mean(axis=1)"
   ]
  },
  {
   "cell_type": "code",
   "execution_count": 345,
   "id": "9b107b01",
   "metadata": {},
   "outputs": [
    {
     "data": {
      "text/plain": [
       "array([[7, 5, 0, 8],\n",
       "       [7, 4, 4, 4],\n",
       "       [3, 3, 0, 9]])"
      ]
     },
     "execution_count": 345,
     "metadata": {},
     "output_type": "execute_result"
    }
   ],
   "source": [
    "a"
   ]
  },
  {
   "cell_type": "code",
   "execution_count": 346,
   "id": "f18f4131",
   "metadata": {},
   "outputs": [
    {
     "data": {
      "text/plain": [
       "array([[6, 8, 8, 6],\n",
       "       [4, 9, 9, 4],\n",
       "       [7, 4, 8, 3]])"
      ]
     },
     "execution_count": 346,
     "metadata": {},
     "output_type": "execute_result"
    }
   ],
   "source": [
    "b"
   ]
  },
  {
   "cell_type": "code",
   "execution_count": 349,
   "id": "ab5e19be",
   "metadata": {},
   "outputs": [
    {
     "data": {
      "text/plain": [
       "array([[7, 5, 0, 8, 6, 8, 8, 6],\n",
       "       [7, 4, 4, 4, 4, 9, 9, 4],\n",
       "       [3, 3, 0, 9, 7, 4, 8, 3]])"
      ]
     },
     "execution_count": 349,
     "metadata": {},
     "output_type": "execute_result"
    }
   ],
   "source": [
    "np.hstack([a,b])"
   ]
  },
  {
   "cell_type": "code",
   "execution_count": 350,
   "id": "0125a705",
   "metadata": {},
   "outputs": [
    {
     "data": {
      "text/plain": [
       "array([[7, 5, 0, 8],\n",
       "       [7, 4, 4, 4],\n",
       "       [3, 3, 0, 9],\n",
       "       [6, 8, 8, 6],\n",
       "       [4, 9, 9, 4],\n",
       "       [7, 4, 8, 3]])"
      ]
     },
     "execution_count": 350,
     "metadata": {},
     "output_type": "execute_result"
    }
   ],
   "source": [
    "np.vstack([a,b])"
   ]
  },
  {
   "cell_type": "code",
   "execution_count": 352,
   "id": "0b17c3e2",
   "metadata": {},
   "outputs": [],
   "source": [
    "two_dim= np.array([[1,2,3],[4,5,6],[7,8,9]])"
   ]
  },
  {
   "cell_type": "code",
   "execution_count": 353,
   "id": "741b2cbe",
   "metadata": {},
   "outputs": [
    {
     "data": {
      "text/plain": [
       "array([[1, 2, 3],\n",
       "       [4, 5, 6],\n",
       "       [7, 8, 9]])"
      ]
     },
     "execution_count": 353,
     "metadata": {},
     "output_type": "execute_result"
    }
   ],
   "source": [
    "two_dim"
   ]
  },
  {
   "cell_type": "code",
   "execution_count": 146,
   "id": "929b79b8",
   "metadata": {},
   "outputs": [
    {
     "data": {
      "text/plain": [
       "[array([[0.44894451],\n",
       "        [0.36486409],\n",
       "        [0.28496838]]),\n",
       " array([[0.96519164],\n",
       "        [0.50363736],\n",
       "        [0.89840346]]),\n",
       " array([[0.84443732, 0.34998431, 0.48226651],\n",
       "        [0.13695518, 0.3365148 , 0.87907806],\n",
       "        [0.27705578, 0.43296615, 0.72999273]])]"
      ]
     },
     "execution_count": 146,
     "metadata": {},
     "output_type": "execute_result"
    }
   ],
   "source": [
    "np.hsplit(two_dim,[1,2])"
   ]
  },
  {
   "cell_type": "code",
   "execution_count": 369,
   "id": "a057a367",
   "metadata": {},
   "outputs": [
    {
     "data": {
      "text/plain": [
       "[array([[1, 2, 3]]), array([[4, 5, 6]]), array([[7, 8, 9]])]"
      ]
     },
     "execution_count": 369,
     "metadata": {},
     "output_type": "execute_result"
    }
   ],
   "source": [
    "np.vsplit(two_dim,[1,2])"
   ]
  },
  {
   "cell_type": "code",
   "execution_count": 370,
   "id": "cfc05fa5",
   "metadata": {},
   "outputs": [
    {
     "data": {
      "text/plain": [
       "[array([[1, 2],\n",
       "        [4, 5],\n",
       "        [7, 8]]),\n",
       " array([], shape=(3, 0), dtype=int32),\n",
       " array([[2, 3],\n",
       "        [5, 6],\n",
       "        [8, 9]])]"
      ]
     },
     "execution_count": 370,
     "metadata": {},
     "output_type": "execute_result"
    }
   ],
   "source": [
    "np.hsplit(two_dim,[2,1])"
   ]
  },
  {
   "cell_type": "code",
   "execution_count": 376,
   "id": "23302600",
   "metadata": {},
   "outputs": [
    {
     "data": {
      "text/plain": [
       "array([[7, 5, 0, 8],\n",
       "       [7, 4, 4, 4],\n",
       "       [3, 3, 0, 9]])"
      ]
     },
     "execution_count": 376,
     "metadata": {},
     "output_type": "execute_result"
    }
   ],
   "source": [
    "a"
   ]
  },
  {
   "cell_type": "code",
   "execution_count": 371,
   "id": "8949a86a",
   "metadata": {},
   "outputs": [
    {
     "data": {
      "text/plain": [
       "array([0, 3, 4, 5, 7, 8, 9])"
      ]
     },
     "execution_count": 371,
     "metadata": {},
     "output_type": "execute_result"
    }
   ],
   "source": [
    "np.unique(a)"
   ]
  },
  {
   "cell_type": "code",
   "execution_count": 372,
   "id": "34868ef9",
   "metadata": {},
   "outputs": [
    {
     "data": {
      "text/plain": [
       "array([3, 4, 6, 7, 8, 9])"
      ]
     },
     "execution_count": 372,
     "metadata": {},
     "output_type": "execute_result"
    }
   ],
   "source": [
    "np.unique(b)"
   ]
  },
  {
   "cell_type": "code",
   "execution_count": 375,
   "id": "d590ed6c",
   "metadata": {},
   "outputs": [
    {
     "data": {
      "text/plain": [
       "array([ 0,  1,  2,  3,  4,  5,  6,  7,  8,  9, 11, 12])"
      ]
     },
     "execution_count": 375,
     "metadata": {},
     "output_type": "execute_result"
    }
   ],
   "source": [
    "np.unique(three_dim)"
   ]
  },
  {
   "cell_type": "code",
   "execution_count": 378,
   "id": "80c6b21f",
   "metadata": {},
   "outputs": [
    {
     "data": {
      "text/plain": [
       "array([[4, 5, 6],\n",
       "       [7, 8, 9]])"
      ]
     },
     "execution_count": 378,
     "metadata": {},
     "output_type": "execute_result"
    }
   ],
   "source": [
    "np.delete(two_dim,0,axis=0)"
   ]
  },
  {
   "cell_type": "code",
   "execution_count": 379,
   "id": "e0a1ef3d",
   "metadata": {},
   "outputs": [
    {
     "data": {
      "text/plain": [
       "array([[1, 2, 3],\n",
       "       [7, 8, 9]])"
      ]
     },
     "execution_count": 379,
     "metadata": {},
     "output_type": "execute_result"
    }
   ],
   "source": [
    "np.delete(two_dim,1,axis=0)"
   ]
  },
  {
   "cell_type": "code",
   "execution_count": null,
   "id": "8e2ca94f",
   "metadata": {},
   "outputs": [],
   "source": []
  }
 ],
 "metadata": {
  "kernelspec": {
   "display_name": "Python 3 (ipykernel)",
   "language": "python",
   "name": "python3"
  },
  "language_info": {
   "codemirror_mode": {
    "name": "ipython",
    "version": 3
   },
   "file_extension": ".py",
   "mimetype": "text/x-python",
   "name": "python",
   "nbconvert_exporter": "python",
   "pygments_lexer": "ipython3",
   "version": "3.11.4"
  }
 },
 "nbformat": 4,
 "nbformat_minor": 5
}
