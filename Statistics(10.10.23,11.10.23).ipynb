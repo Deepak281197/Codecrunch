{
 "cells": [
  {
   "cell_type": "code",
   "execution_count": 1,
   "id": "96788517",
   "metadata": {},
   "outputs": [],
   "source": [
    "import pandas as pd\n",
    "import numpy as np\n",
    "import matplotlib.pyplot as plt\n",
    "import scipy.stats as stats"
   ]
  },
  {
   "cell_type": "markdown",
   "id": "a2867f56",
   "metadata": {},
   "source": [
    "## z- test"
   ]
  },
  {
   "cell_type": "markdown",
   "id": "15a1bf22",
   "metadata": {},
   "source": [
    "1.\tThe boys in the class are having mean weight= 9.5kg\n",
    "Standard deviation=1.1kg\n",
    "Calculate the percentage(%) of the boys in the following:\n",
    "1.\tWeight less than 8.4kg\n",
    "2.\tBetween 7.3kg and 11.7kg\n",
    "3.\tMore than 12.8\n"
   ]
  },
  {
   "cell_type": "code",
   "execution_count": 3,
   "id": "995ae27a",
   "metadata": {},
   "outputs": [
    {
     "data": {
      "text/plain": [
       "0.15865525393145719"
      ]
     },
     "execution_count": 3,
     "metadata": {},
     "output_type": "execute_result"
    }
   ],
   "source": [
    "stats.norm.cdf(8.4,loc=9.5,scale=1.1)"
   ]
  },
  {
   "cell_type": "code",
   "execution_count": 4,
   "id": "0ee522c8",
   "metadata": {},
   "outputs": [
    {
     "data": {
      "text/plain": [
       "0.022750131948179195"
      ]
     },
     "execution_count": 4,
     "metadata": {},
     "output_type": "execute_result"
    }
   ],
   "source": [
    "p1=stats.norm.cdf(7.3,loc=9.5,scale=1.1)\n",
    "p1"
   ]
  },
  {
   "cell_type": "code",
   "execution_count": 5,
   "id": "53a0a36f",
   "metadata": {},
   "outputs": [
    {
     "data": {
      "text/plain": [
       "0.9772498680518208"
      ]
     },
     "execution_count": 5,
     "metadata": {},
     "output_type": "execute_result"
    }
   ],
   "source": [
    "p2= stats.norm.cdf(11.7,loc=9.5,scale=1.1)\n",
    "p2"
   ]
  },
  {
   "cell_type": "code",
   "execution_count": 6,
   "id": "46752f1d",
   "metadata": {},
   "outputs": [
    {
     "data": {
      "text/plain": [
       "0.9544997361036416"
      ]
     },
     "execution_count": 6,
     "metadata": {},
     "output_type": "execute_result"
    }
   ],
   "source": [
    "p2-p1"
   ]
  },
  {
   "cell_type": "code",
   "execution_count": 7,
   "id": "aaf1baf5",
   "metadata": {},
   "outputs": [
    {
     "data": {
      "text/plain": [
       "0.9986501019683699"
      ]
     },
     "execution_count": 7,
     "metadata": {},
     "output_type": "execute_result"
    }
   ],
   "source": [
    "p= stats.norm.cdf(12.8,loc=9.5,scale=1.1)\n",
    "p"
   ]
  },
  {
   "cell_type": "code",
   "execution_count": 8,
   "id": "f2d7538b",
   "metadata": {},
   "outputs": [
    {
     "data": {
      "text/plain": [
       "0.0013498980316301035"
      ]
     },
     "execution_count": 8,
     "metadata": {},
     "output_type": "execute_result"
    }
   ],
   "source": [
    "1-p"
   ]
  },
  {
   "cell_type": "markdown",
   "id": "dc0552ef",
   "metadata": {},
   "source": [
    "## Central Limit Theorem"
   ]
  },
  {
   "cell_type": "markdown",
   "id": "2f64d38b",
   "metadata": {},
   "source": [
    "2.\tChild plays for 2 hours when active with a standard deviation of 0.7hrs . the school class teacher wants to plan a trip with 50 children. As a situation .what is the probability that the children will play for more than 2.2 hours."
   ]
  },
  {
   "cell_type": "code",
   "execution_count": 9,
   "id": "96a0d96b",
   "metadata": {},
   "outputs": [],
   "source": [
    "import math"
   ]
  },
  {
   "cell_type": "code",
   "execution_count": 11,
   "id": "390e4a2e",
   "metadata": {},
   "outputs": [
    {
     "data": {
      "text/plain": [
       "0.09899494936611665"
      ]
     },
     "execution_count": 11,
     "metadata": {},
     "output_type": "execute_result"
    }
   ],
   "source": [
    "s= 0.7/math.sqrt(50)\n",
    "s"
   ]
  },
  {
   "cell_type": "code",
   "execution_count": 13,
   "id": "20fa0af0",
   "metadata": {},
   "outputs": [
    {
     "data": {
      "text/plain": [
       "0.9783241243695687"
      ]
     },
     "execution_count": 13,
     "metadata": {},
     "output_type": "execute_result"
    }
   ],
   "source": [
    "p=stats.norm.cdf(2.2,loc=2,scale=s)\n",
    "p"
   ]
  },
  {
   "cell_type": "code",
   "execution_count": 14,
   "id": "cee69638",
   "metadata": {},
   "outputs": [
    {
     "data": {
      "text/plain": [
       "0.021675875630431274"
      ]
     },
     "execution_count": 14,
     "metadata": {},
     "output_type": "execute_result"
    }
   ],
   "source": [
    "1-p"
   ]
  },
  {
   "cell_type": "markdown",
   "id": "91a43304",
   "metadata": {},
   "source": [
    "## Central Limit Theorem--Task         \n",
    "         The average age of marriage is 25 for women and 27 for men in the US. If the standard deviation of women is 4 years, what is the probability that a random selection of 32 women have an average age at marriage between 26 to27?\n",
    "\n"
   ]
  },
  {
   "cell_type": "code",
   "execution_count": 3,
   "id": "e45d465f",
   "metadata": {},
   "outputs": [
    {
     "data": {
      "text/plain": [
       "0.7071067811865475"
      ]
     },
     "execution_count": 3,
     "metadata": {},
     "output_type": "execute_result"
    }
   ],
   "source": [
    "import math\n",
    "s=4/math.sqrt(32)\n",
    "s"
   ]
  },
  {
   "cell_type": "code",
   "execution_count": 4,
   "id": "fbe875de",
   "metadata": {},
   "outputs": [
    {
     "data": {
      "text/plain": [
       "0.9213503964748575"
      ]
     },
     "execution_count": 4,
     "metadata": {},
     "output_type": "execute_result"
    }
   ],
   "source": [
    "p1= stats.norm.cdf(26,loc=25,scale=s)\n",
    "p1"
   ]
  },
  {
   "cell_type": "code",
   "execution_count": 5,
   "id": "a8b97bc3",
   "metadata": {},
   "outputs": [
    {
     "data": {
      "text/plain": [
       "0.9976611325094764"
      ]
     },
     "execution_count": 5,
     "metadata": {},
     "output_type": "execute_result"
    }
   ],
   "source": [
    "p2= stats.norm.cdf(27,loc=25,scale=s)\n",
    "p2"
   ]
  },
  {
   "cell_type": "code",
   "execution_count": 7,
   "id": "f3de4d42",
   "metadata": {},
   "outputs": [
    {
     "data": {
      "text/plain": [
       "0.07631073603461891"
      ]
     },
     "execution_count": 7,
     "metadata": {},
     "output_type": "execute_result"
    }
   ],
   "source": [
    "p2-p1"
   ]
  },
  {
   "cell_type": "markdown",
   "id": "b1c46ff0",
   "metadata": {},
   "source": [
    "## Z-test with CI"
   ]
  },
  {
   "cell_type": "markdown",
   "id": "0a70c16f",
   "metadata": {},
   "source": [
    "1.\tScores on an exam are normally distributed with a population standard deviation=5.6. a random sample of 40 scores on the exam has a mean of 32.\n",
    "Estimate the population mean with\n",
    "a)\t80% confidence \n",
    "b)\t90% confidence\n",
    "c)\t98 confidence\n"
   ]
  },
  {
   "cell_type": "code",
   "execution_count": 8,
   "id": "f6f74b36",
   "metadata": {},
   "outputs": [
    {
     "data": {
      "text/plain": [
       "33.13513118889404"
      ]
     },
     "execution_count": 8,
     "metadata": {},
     "output_type": "execute_result"
    }
   ],
   "source": [
    "## confidence interval 80%\n",
    "(32+(1.282*(5.6/math.sqrt(40))))"
   ]
  },
  {
   "cell_type": "code",
   "execution_count": 9,
   "id": "ae75cb0b",
   "metadata": {},
   "outputs": [
    {
     "data": {
      "text/plain": [
       "30.864868811105957"
      ]
     },
     "execution_count": 9,
     "metadata": {},
     "output_type": "execute_result"
    }
   ],
   "source": [
    "(32-(1.282*(5.6/math.sqrt(40))))"
   ]
  },
  {
   "cell_type": "code",
   "execution_count": 10,
   "id": "6652e3d7",
   "metadata": {},
   "outputs": [],
   "source": [
    "## confidence interval 90%"
   ]
  },
  {
   "cell_type": "code",
   "execution_count": 11,
   "id": "8146aa4f",
   "metadata": {},
   "outputs": [
    {
     "data": {
      "text/plain": [
       "33.45654509027356"
      ]
     },
     "execution_count": 11,
     "metadata": {},
     "output_type": "execute_result"
    }
   ],
   "source": [
    "(32+(1.645*(5.6/math.sqrt(40))))"
   ]
  },
  {
   "cell_type": "code",
   "execution_count": 12,
   "id": "f2fc13eb",
   "metadata": {},
   "outputs": [
    {
     "data": {
      "text/plain": [
       "30.543454909726446"
      ]
     },
     "execution_count": 12,
     "metadata": {},
     "output_type": "execute_result"
    }
   ],
   "source": [
    "(32-(1.645*(5.6/math.sqrt(40))))"
   ]
  },
  {
   "cell_type": "code",
   "execution_count": 13,
   "id": "d033ca7a",
   "metadata": {},
   "outputs": [],
   "source": [
    "## confidence interval 98%"
   ]
  },
  {
   "cell_type": "code",
   "execution_count": 14,
   "id": "ea45f3fc",
   "metadata": {},
   "outputs": [
    {
     "data": {
      "text/plain": [
       "34.05952819451446"
      ]
     },
     "execution_count": 14,
     "metadata": {},
     "output_type": "execute_result"
    }
   ],
   "source": [
    "(32+(2.326*(5.6/math.sqrt(40))))"
   ]
  },
  {
   "cell_type": "code",
   "execution_count": 15,
   "id": "887c00c5",
   "metadata": {},
   "outputs": [
    {
     "data": {
      "text/plain": [
       "29.940471805485537"
      ]
     },
     "execution_count": 15,
     "metadata": {},
     "output_type": "execute_result"
    }
   ],
   "source": [
    "(32-(2.326*(5.6/math.sqrt(40))))"
   ]
  },
  {
   "cell_type": "markdown",
   "id": "1d0a11b8",
   "metadata": {},
   "source": [
    "1.\tA random sample of 15 observation has a mean of 20 and standard deviation of 3.5. To estimate population mean with 95% confidence level. Find the i) Margin of Error ii) confidence interval."
   ]
  },
  {
   "cell_type": "code",
   "execution_count": 16,
   "id": "f8aff1f4",
   "metadata": {},
   "outputs": [],
   "source": [
    "## Margin of Error"
   ]
  },
  {
   "cell_type": "code",
   "execution_count": 17,
   "id": "44db4fe4",
   "metadata": {},
   "outputs": [],
   "source": [
    "Margin_of_Error= 2.145*(3.5/math.sqrt(15))"
   ]
  },
  {
   "cell_type": "code",
   "execution_count": 18,
   "id": "3cd5fa94",
   "metadata": {},
   "outputs": [
    {
     "data": {
      "text/plain": [
       "1.938428164776812"
      ]
     },
     "execution_count": 18,
     "metadata": {},
     "output_type": "execute_result"
    }
   ],
   "source": [
    "Margin_of_Error"
   ]
  },
  {
   "cell_type": "code",
   "execution_count": 19,
   "id": "d84f533f",
   "metadata": {},
   "outputs": [],
   "source": [
    "## Confidence interal"
   ]
  },
  {
   "cell_type": "code",
   "execution_count": 20,
   "id": "4531dae1",
   "metadata": {},
   "outputs": [
    {
     "data": {
      "text/plain": [
       "21.938428164776813"
      ]
     },
     "execution_count": 20,
     "metadata": {},
     "output_type": "execute_result"
    }
   ],
   "source": [
    "upperlimit= 20+Margin_of_Error\n",
    "upperlimit"
   ]
  },
  {
   "cell_type": "code",
   "execution_count": 21,
   "id": "ecfee966",
   "metadata": {},
   "outputs": [
    {
     "data": {
      "text/plain": [
       "18.061571835223187"
      ]
     },
     "execution_count": 21,
     "metadata": {},
     "output_type": "execute_result"
    }
   ],
   "source": [
    "lowerlimit= 20-Margin_of_Error\n",
    "lowerlimit"
   ]
  },
  {
   "cell_type": "markdown",
   "id": "70b4df17",
   "metadata": {},
   "source": [
    "## Task"
   ]
  },
  {
   "cell_type": "markdown",
   "id": "b50b8f4a",
   "metadata": {},
   "source": [
    "The average weight of 20 student in a certain school was found to be 165lbs with a standard deviation of 4.5. (a) construct 95% confidence interval for the population mean (b) determine the EBM for population mean."
   ]
  },
  {
   "cell_type": "markdown",
   "id": "4fe8bd74",
   "metadata": {},
   "source": [
    "##  1 tail test"
   ]
  },
  {
   "cell_type": "code",
   "execution_count": 24,
   "id": "b7c42de9",
   "metadata": {},
   "outputs": [],
   "source": [
    "pop_data= stats.norm.rvs(size=100, loc=20, scale=80)"
   ]
  },
  {
   "cell_type": "code",
   "execution_count": 26,
   "id": "06095635",
   "metadata": {},
   "outputs": [
    {
     "data": {
      "text/plain": [
       "array([-154.4797686 ,  -99.72706844,  -63.31290894,  -47.40290723,\n",
       "        122.13077599,   59.44402723,  136.1300429 ,   86.60307271,\n",
       "        -19.38434712,  -50.78012537,   71.49790861,  114.96765656,\n",
       "         10.06793717,  -35.45268789,  -13.08553497,  -28.26476259,\n",
       "         -0.39374303,  -73.55215828,  -75.7660727 ,   58.77618346,\n",
       "         85.870059  ,  -50.01586034,  154.19820465,   42.52672946,\n",
       "         76.9257208 ,  -22.3569104 , -153.41683366,   95.93261854,\n",
       "         75.21099025,    0.84030495,  -71.70837574,   79.82720948,\n",
       "        -23.91251852,   48.22073933,   51.27205657,   27.06339224,\n",
       "         47.8615598 ,   57.15754119,   89.7792513 ,  -75.35562354,\n",
       "          5.04548857,  102.63379532,  -23.47891969,   99.38766085,\n",
       "       -170.05324884,  -14.30946153,  -19.10722913,  -51.61977319,\n",
       "        -12.16238529,   71.03716824,  -98.00883236,  -14.62344766,\n",
       "         83.08077461,  -96.26956817,   99.88579503,  -62.12103192,\n",
       "         35.13075939,  126.67459571,   79.44385278,  -64.32047227,\n",
       "         57.62897432,   51.56717787,  -57.86644063,   34.10047143,\n",
       "       -164.03002639,  -12.04831212,   26.20551812,   10.14081521,\n",
       "         99.82822273,  -38.00660639, -129.25532884,  -35.30253646,\n",
       "        -26.85627563,   57.14731924,   15.01205138,   63.56137708,\n",
       "        -69.33389867,    3.98709189,  -55.06431026,  131.54712225,\n",
       "        -96.3719563 ,   76.16701287,  212.82277997,  129.84112709,\n",
       "         59.37485943,   17.04394358,  192.72649027,  -15.85390045,\n",
       "         38.92129279,   51.58235466,   11.38881103,  -35.75405163,\n",
       "        -29.02628694,   49.12197462,  -95.04504064,  -57.20411089,\n",
       "       -204.42267586,   60.93599447,   26.36614935,   89.43786152])"
      ]
     },
     "execution_count": 26,
     "metadata": {},
     "output_type": "execute_result"
    }
   ],
   "source": [
    "pop_data"
   ]
  },
  {
   "cell_type": "code",
   "execution_count": 30,
   "id": "d7b0f882",
   "metadata": {},
   "outputs": [
    {
     "data": {
      "text/plain": [
       "10.551963303536684"
      ]
     },
     "execution_count": 30,
     "metadata": {},
     "output_type": "execute_result"
    }
   ],
   "source": [
    "pop_mean= np.mean(pop_data)\n",
    "pop_mean"
   ]
  },
  {
   "cell_type": "code",
   "execution_count": 28,
   "id": "17ed9579",
   "metadata": {},
   "outputs": [],
   "source": [
    "sample_data= stats.norm.rvs(size=50, loc=10, scale=60)"
   ]
  },
  {
   "cell_type": "code",
   "execution_count": 29,
   "id": "674405c3",
   "metadata": {},
   "outputs": [
    {
     "data": {
      "text/plain": [
       "array([   6.09025895,  -32.4312575 ,  -20.32844725,   82.89022551,\n",
       "         47.21104273,  102.79385019,  -30.22018386,   69.51326554,\n",
       "        123.80921355,   18.8047282 ,   70.76524707,   -1.16977335,\n",
       "        -78.16519484,  -28.67115273,   26.03076774,    8.41651684,\n",
       "        -10.85533878,  -15.03800687,   -2.21817385,  -59.4615713 ,\n",
       "       -102.92543986,   28.40086974,  -21.70408738,   18.33112309,\n",
       "        132.97442369,   59.49578232,   37.99997555,   -9.52656253,\n",
       "         73.40564978,  -70.10818631,  -44.21759291,  -28.29158997,\n",
       "         32.41188758,  -42.31299952,   -5.34474087,   49.49784601,\n",
       "        -18.68035033, -109.58760928,   79.66852275,   44.05801882,\n",
       "        -26.74395432,    4.25624482,   38.84219529,  -11.03728881,\n",
       "         42.34725127,   47.81396719,   51.12857096,  -19.66876544,\n",
       "         99.76157349,  -83.04397252])"
      ]
     },
     "execution_count": 29,
     "metadata": {},
     "output_type": "execute_result"
    }
   ],
   "source": [
    "sample_data"
   ]
  },
  {
   "cell_type": "code",
   "execution_count": 32,
   "id": "e9e6796c",
   "metadata": {},
   "outputs": [
    {
     "data": {
      "text/plain": [
       "TtestResult(statistic=-0.006639283963611017, pvalue=0.9947296141046253, df=49)"
      ]
     },
     "execution_count": 32,
     "metadata": {},
     "output_type": "execute_result"
    }
   ],
   "source": [
    "stats.ttest_1samp(sample_data,popmean=pop_mean)"
   ]
  },
  {
   "cell_type": "markdown",
   "id": "138c803a",
   "metadata": {},
   "source": [
    "## 2 tail test (Independent)"
   ]
  },
  {
   "cell_type": "markdown",
   "id": "e93b5f31",
   "metadata": {},
   "source": [
    "A statistics teacher wants to compare his two classes to see if they performed any differently on the tests he gave that semester. Class A had 25 students with  an average score of 70, standard deviation 15. Class B had 20 students with an average score of 74 , standard deviation 25. Using alpha 0.05 did these two classes perform differently on the tests?."
   ]
  },
  {
   "cell_type": "markdown",
   "id": "d3bc7506",
   "metadata": {},
   "source": [
    "## t-stats"
   ]
  },
  {
   "cell_type": "code",
   "execution_count": 33,
   "id": "7a0635a0",
   "metadata": {},
   "outputs": [],
   "source": [
    "## sample 1 details: s1= 15, mean= 70, n=25\n",
    "## sample 2 details: s2=25, mean=74, n=20\n",
    "total_degree_freedom= (25-1)+(20-1)"
   ]
  },
  {
   "cell_type": "code",
   "execution_count": 34,
   "id": "12794a1a",
   "metadata": {},
   "outputs": [
    {
     "data": {
      "text/plain": [
       "43"
      ]
     },
     "execution_count": 34,
     "metadata": {},
     "output_type": "execute_result"
    }
   ],
   "source": [
    "total_degree_freedom"
   ]
  },
  {
   "cell_type": "code",
   "execution_count": 35,
   "id": "727d5bb4",
   "metadata": {},
   "outputs": [
    {
     "data": {
      "text/plain": [
       "24"
      ]
     },
     "execution_count": 35,
     "metadata": {},
     "output_type": "execute_result"
    }
   ],
   "source": [
    "df1= (25-1)\n",
    "df1"
   ]
  },
  {
   "cell_type": "code",
   "execution_count": 36,
   "id": "dcad4db5",
   "metadata": {},
   "outputs": [
    {
     "data": {
      "text/plain": [
       "19"
      ]
     },
     "execution_count": 36,
     "metadata": {},
     "output_type": "execute_result"
    }
   ],
   "source": [
    "df2= (20-1)\n",
    "df2"
   ]
  },
  {
   "cell_type": "code",
   "execution_count": 38,
   "id": "c3b96db6",
   "metadata": {},
   "outputs": [
    {
     "data": {
      "text/plain": [
       "225"
      ]
     },
     "execution_count": 38,
     "metadata": {},
     "output_type": "execute_result"
    }
   ],
   "source": [
    "s1_squared = 15**2\n",
    "s1_squared"
   ]
  },
  {
   "cell_type": "code",
   "execution_count": 39,
   "id": "27b1dd55",
   "metadata": {},
   "outputs": [
    {
     "data": {
      "text/plain": [
       "625"
      ]
     },
     "execution_count": 39,
     "metadata": {},
     "output_type": "execute_result"
    }
   ],
   "source": [
    "s2_squared= 25**2\n",
    "s2_squared"
   ]
  },
  {
   "cell_type": "code",
   "execution_count": 40,
   "id": "17bed496",
   "metadata": {},
   "outputs": [],
   "source": [
    "Sp= ((s1_squared*df1)+ (s2_squared*df2))/total_degree_freedom"
   ]
  },
  {
   "cell_type": "code",
   "execution_count": 42,
   "id": "50079c72",
   "metadata": {},
   "outputs": [
    {
     "data": {
      "text/plain": [
       "401.74418604651163"
      ]
     },
     "execution_count": 42,
     "metadata": {},
     "output_type": "execute_result"
    }
   ],
   "source": [
    "Sp"
   ]
  },
  {
   "cell_type": "code",
   "execution_count": 44,
   "id": "83a03092",
   "metadata": {},
   "outputs": [],
   "source": [
    "tstats= (70-74)/(math.sqrt((Sp**2/25)+ (Sp**2/20)))"
   ]
  },
  {
   "cell_type": "code",
   "execution_count": 45,
   "id": "82f19756",
   "metadata": {},
   "outputs": [
    {
     "data": {
      "text/plain": [
       "-0.0331886155330439"
      ]
     },
     "execution_count": 45,
     "metadata": {},
     "output_type": "execute_result"
    }
   ],
   "source": [
    "tstats"
   ]
  },
  {
   "cell_type": "code",
   "execution_count": 46,
   "id": "84d3fb62",
   "metadata": {},
   "outputs": [],
   "source": [
    "sample1= stats.norm.rvs(size=25,loc=70,scale=15)"
   ]
  },
  {
   "cell_type": "code",
   "execution_count": 47,
   "id": "a4a97368",
   "metadata": {},
   "outputs": [
    {
     "data": {
      "text/plain": [
       "array([ 62.90337011, 100.89211843,  67.6289383 ,  83.45109719,\n",
       "        88.5421638 ,  75.92569802,  59.792     ,  59.77851067,\n",
       "        58.15926011,  76.57617662,  74.53255384,  63.84874582,\n",
       "        71.54001532,  85.41309033,  65.88620578, 101.87989767,\n",
       "        52.13916154,  84.39690382,  66.12794422,  68.62814521,\n",
       "        62.83208771,  86.8570145 ,  60.04560029,  81.03502812,\n",
       "        50.71753816])"
      ]
     },
     "execution_count": 47,
     "metadata": {},
     "output_type": "execute_result"
    }
   ],
   "source": [
    "sample1"
   ]
  },
  {
   "cell_type": "code",
   "execution_count": 48,
   "id": "3cf43499",
   "metadata": {},
   "outputs": [],
   "source": [
    "sample2= stats.norm.rvs(size=20,loc=74,scale=25)"
   ]
  },
  {
   "cell_type": "code",
   "execution_count": 49,
   "id": "a492d759",
   "metadata": {},
   "outputs": [
    {
     "data": {
      "text/plain": [
       "array([102.92852936,  80.88054341, 138.74417221, 103.03140233,\n",
       "        79.46089887,  89.98386798,  75.90192616,  27.25889693,\n",
       "        70.66796693,  78.56247053,  33.38484097,  40.36787   ,\n",
       "        17.6975517 ,  73.0579194 ,  66.0075357 , 116.42193474,\n",
       "        54.2659676 , 131.37559419,  79.4053789 ,  33.19946982])"
      ]
     },
     "execution_count": 49,
     "metadata": {},
     "output_type": "execute_result"
    }
   ],
   "source": [
    "sample2"
   ]
  },
  {
   "cell_type": "code",
   "execution_count": 50,
   "id": "4e27e1a8",
   "metadata": {},
   "outputs": [
    {
     "data": {
      "text/plain": [
       "Ttest_indResult(statistic=-0.2798986579129886, pvalue=0.7819389440634832)"
      ]
     },
     "execution_count": 50,
     "metadata": {},
     "output_type": "execute_result"
    }
   ],
   "source": [
    "stats.ttest_ind(sample1,sample2,equal_var=False)"
   ]
  },
  {
   "cell_type": "markdown",
   "id": "a4da162e",
   "metadata": {},
   "source": [
    "## 2 tail Paired test"
   ]
  },
  {
   "cell_type": "markdown",
   "id": "8614fb9a",
   "metadata": {},
   "source": [
    "A study has conducted to determine the effectiveness of a weight base program. The table below shows the before and after weights of 10 subject in the program. A) Is the program effective for reducing weight? B) (use a 5% significant level) construct a 95% confidence interval and determine the margin of error."
   ]
  },
  {
   "cell_type": "code",
   "execution_count": 53,
   "id": "8ef1aa82",
   "metadata": {},
   "outputs": [
    {
     "ename": "SyntaxError",
     "evalue": "invalid syntax (4199083546.py, line 1)",
     "output_type": "error",
     "traceback": [
      "\u001b[1;36m  Cell \u001b[1;32mIn[53], line 1\u001b[1;36m\u001b[0m\n\u001b[1;33m    S.NO\tBefore\tAfter\u001b[0m\n\u001b[1;37m        \t^\u001b[0m\n\u001b[1;31mSyntaxError\u001b[0m\u001b[1;31m:\u001b[0m invalid syntax\n"
     ]
    }
   ],
   "source": [
    "S.NO\tBefore\tAfter\n",
    "1\t185\t169\n",
    "2\t192\t187\n",
    "3\t206\t193\n",
    "4\t177\t176\n",
    "5\t225\t194\n",
    "6\t168\t171\n",
    "7\t256\t228\n",
    "8\t239\t217\n",
    "9\t199\t204\n",
    "10\t218\t195\n"
   ]
  },
  {
   "cell_type": "code",
   "execution_count": null,
   "id": "c27b0ad7",
   "metadata": {},
   "outputs": [],
   "source": []
  }
 ],
 "metadata": {
  "kernelspec": {
   "display_name": "Python 3 (ipykernel)",
   "language": "python",
   "name": "python3"
  },
  "language_info": {
   "codemirror_mode": {
    "name": "ipython",
    "version": 3
   },
   "file_extension": ".py",
   "mimetype": "text/x-python",
   "name": "python",
   "nbconvert_exporter": "python",
   "pygments_lexer": "ipython3",
   "version": "3.11.4"
  }
 },
 "nbformat": 4,
 "nbformat_minor": 5
}
